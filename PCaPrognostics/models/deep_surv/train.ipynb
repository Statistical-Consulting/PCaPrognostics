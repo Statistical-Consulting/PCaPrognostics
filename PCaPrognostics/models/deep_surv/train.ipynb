{
 "cells": [
  {
   "cell_type": "code",
   "id": "initial_id",
   "metadata": {
    "collapsed": true,
    "ExecuteTime": {
     "end_time": "2024-11-10T06:09:54.649776Z",
     "start_time": "2024-11-10T06:09:54.575644Z"
    }
   },
   "source": [
    "import os\n",
    "import sys\n",
    "import pandas as pd\n",
    "import numpy as np\n",
    "from pathlib import Path\n",
    "import logging\n",
    "import torch\n",
    "\n",
    "# Get project root directory\n",
    "notebook_path = os.getcwd()\n",
    "PROJECT_ROOT = os.path.dirname(os.path.dirname(notebook_path))\n",
    "\n",
    "# Add project root to Python path\n",
    "if PROJECT_ROOT not in sys.path:\n",
    "    sys.path.append(PROJECT_ROOT)\n",
    "    print(f\"Added {PROJECT_ROOT} to Python path\")\n",
    "# Setup directories\n",
    "MODEL_DIR = os.path.join(notebook_path, 'model')\n",
    "RESULTS_DIR = os.path.join(notebook_path, 'results')\n",
    "os.makedirs(MODEL_DIR, exist_ok=True)\n",
    "os.makedirs(RESULTS_DIR, exist_ok=True)\n",
    "\n",
    "# Now import our modules\n",
    "from preprocessing.data_loader import DataLoader\n",
    "from models.deep_surv_model import DeepSurvModel\n",
    "from utils.evaluation import cindex_score\n",
    "from utils.visualization import plot_survival_curves\n"
   ],
   "outputs": [
    {
     "name": "stdout",
     "output_type": "stream",
     "text": [
      "Added /Users/jonasschernich/Library/Mobile Documents/com~apple~CloudDocs/Uni/Master/9. Semester/Consulting/Organization/PCaPrognostics to Python path\n"
     ]
    }
   ],
   "execution_count": 3
  },
  {
   "metadata": {
    "ExecuteTime": {
     "end_time": "2024-11-10T06:10:21.009482Z",
     "start_time": "2024-11-10T06:10:20.985136Z"
    }
   },
   "cell_type": "code",
   "source": [
    "# Configuration\n",
    "CONFIG = {\n",
    "    # Data options\n",
    "    'USE_COHORTS': True,\n",
    "    'USE_PCA': False,\n",
    "    'GENE_TYPE': 'intersection',\n",
    "    'USE_IMPUTED': True,\n",
    "    \n",
    "    # Model parameters\n",
    "    'HIDDEN_LAYERS': [64, 32],\n",
    "    'DROPOUT': 0.4,\n",
    "    'BATCH_SIZE': 64,\n",
    "    'LEARNING_RATE': 0.01,\n",
    "    'N_EPOCHS': 10,\n",
    "    \n",
    "    # Training options\n",
    "    'USE_EARLY_STOPPING': True,\n",
    "    'PATIENCE': 10,\n",
    "    'VALIDATION_SPLIT': 0.2,\n",
    "}"
   ],
   "id": "3c856546df77e684",
   "outputs": [],
   "execution_count": 5
  },
  {
   "metadata": {
    "ExecuteTime": {
     "end_time": "2024-11-10T06:10:22.868475Z",
     "start_time": "2024-11-10T06:10:22.840252Z"
    }
   },
   "cell_type": "code",
   "source": "deep_surv = DeepSurvModel()",
   "id": "25f8ff7a649909e8",
   "outputs": [],
   "execution_count": 6
  },
  {
   "metadata": {
    "ExecuteTime": {
     "end_time": "2024-11-10T06:10:25.189384Z",
     "start_time": "2024-11-10T06:10:24.795854Z"
    }
   },
   "cell_type": "code",
   "source": [
    "# Split data for validation\n",
    "if CONFIG['USE_COHORTS']:\n",
    "    # Use one cohort as validation\n",
    "    unique_cohorts = np.unique(groups)\n",
    "    val_cohort = np.random.choice(unique_cohorts)\n",
    "    val_mask = groups == val_cohort\n",
    "    train_mask = ~val_mask\n",
    "    \n",
    "    X_train, X_val = X[train_mask], X[val_mask]\n",
    "    y_train, y_val = y[train_mask], y[val_mask]\n",
    "    validation_data = (X_val, y_val)\n",
    "else:\n",
    "    # Random split\n",
    "    indices = np.random.permutation(len(X))\n",
    "    split = int(len(X) * (1 - CONFIG['VALIDATION_SPLIT']))\n",
    "    train_idx, val_idx = indices[:split], indices[split:]\n",
    "    \n",
    "    X_train, X_val = X.iloc[train_idx], X.iloc[val_idx]\n",
    "    y_train, y_val = y[train_idx], y[val_idx]\n",
    "    validation_data = (X_val, y_val)\n"
   ],
   "id": "65e859b93a1eee65",
   "outputs": [
    {
     "ename": "NameError",
     "evalue": "name 'groups' is not defined",
     "output_type": "error",
     "traceback": [
      "\u001B[0;31m---------------------------------------------------------------------------\u001B[0m",
      "\u001B[0;31mNameError\u001B[0m                                 Traceback (most recent call last)",
      "Cell \u001B[0;32mIn[7], line 4\u001B[0m\n\u001B[1;32m      1\u001B[0m \u001B[38;5;66;03m# Split data for validation\u001B[39;00m\n\u001B[1;32m      2\u001B[0m \u001B[38;5;28;01mif\u001B[39;00m CONFIG[\u001B[38;5;124m'\u001B[39m\u001B[38;5;124mUSE_COHORTS\u001B[39m\u001B[38;5;124m'\u001B[39m]:\n\u001B[1;32m      3\u001B[0m     \u001B[38;5;66;03m# Use one cohort as validation\u001B[39;00m\n\u001B[0;32m----> 4\u001B[0m     unique_cohorts \u001B[38;5;241m=\u001B[39m np\u001B[38;5;241m.\u001B[39munique(\u001B[43mgroups\u001B[49m)\n\u001B[1;32m      5\u001B[0m     val_cohort \u001B[38;5;241m=\u001B[39m np\u001B[38;5;241m.\u001B[39mrandom\u001B[38;5;241m.\u001B[39mchoice(unique_cohorts)\n\u001B[1;32m      6\u001B[0m     val_mask \u001B[38;5;241m=\u001B[39m groups \u001B[38;5;241m==\u001B[39m val_cohort\n",
      "\u001B[0;31mNameError\u001B[0m: name 'groups' is not defined"
     ]
    }
   ],
   "execution_count": 7
  },
  {
   "metadata": {},
   "cell_type": "code",
   "outputs": [],
   "execution_count": null,
   "source": [
    "# Train model\n",
    "try:\n",
    "    logger.info(\"Starting model training...\")\n",
    "    deep_surv.fit_model(\n",
    "        X=X_train,\n",
    "        y=y_train,\n",
    "        validation_data=validation_data,\n",
    "        hidden_layers=CONFIG['HIDDEN_LAYERS'],\n",
    "        batch_size=CONFIG['BATCH_SIZE'],\n",
    "        learning_rate=CONFIG['LEARNING_RATE'],\n",
    "        n_epochs=CONFIG['N_EPOCHS'],\n",
    "        early_stopping=CONFIG['USE_EARLY_STOPPING'],\n",
    "        patience=CONFIG['PATIENCE'],\n",
    "        dropout=CONFIG['DROPOUT']\n",
    "    )\n",
    "    logger.info(\"Model training completed successfully.\")\n",
    "\n",
    "    # Evaluate on validation set\n",
    "    val_pred = deep_surv.predict(X_val)\n",
    "    val_score = cindex_score(y_val, val_pred)\n",
    "    logger.info(f\"\\nValidation C-index: {val_score:.3f}\")\n",
    "\n",
    "except Exception as e:\n",
    "    logger.error(f\"\\nError during model training: {str(e)}\")\n",
    "    raise"
   ],
   "id": "e51403d4af7664a"
  },
  {
   "metadata": {},
   "cell_type": "code",
   "outputs": [],
   "execution_count": null,
   "source": [
    "# Plot survival curves\n",
    "if hasattr(deep_surv, 'model'):\n",
    "    plot_survival_curves(deep_surv, X_val.iloc[:5], y_val[:5])\n",
    "\n",
    "logger.info(\"\\nTraining completed!\")"
   ],
   "id": "5343eb2046c8aa9b"
  }
 ],
 "metadata": {
  "kernelspec": {
   "display_name": "Python 3",
   "language": "python",
   "name": "python3"
  },
  "language_info": {
   "codemirror_mode": {
    "name": "ipython",
    "version": 2
   },
   "file_extension": ".py",
   "mimetype": "text/x-python",
   "name": "python",
   "nbconvert_exporter": "python",
   "pygments_lexer": "ipython2",
   "version": "2.7.6"
  }
 },
 "nbformat": 4,
 "nbformat_minor": 5
}
