{
 "cells": [
  {
   "metadata": {
    "ExecuteTime": {
     "end_time": "2025-01-20T12:33:27.988821Z",
     "start_time": "2025-01-20T12:33:24.555266Z"
    }
   },
   "cell_type": "code",
   "source": [
    "import pandas as pd\n",
    "import os\n",
    "import numpy as np\n",
    "from lifelines.utils import concordance_index\n",
    "# Setup paths\n",
    "\n",
    "\n"
   ],
   "id": "45151caa401ad63b",
   "outputs": [],
   "execution_count": 1
  },
  {
   "metadata": {},
   "cell_type": "markdown",
   "source": "### Merged Test Data",
   "id": "c322d82df0f42694"
  },
  {
   "metadata": {
    "ExecuteTime": {
     "end_time": "2025-01-20T12:33:55.971800Z",
     "start_time": "2025-01-20T12:33:55.939613Z"
    }
   },
   "cell_type": "code",
   "source": [
    "PROJECT_ROOT = os.path.dirname(os.path.dirname(os.getcwd()))\n",
    "PROJECT_ROOT\n",
    "\n",
    "# Define paths\n",
    "SCORES_DIR = os.path.join(PROJECT_ROOT, 'PCaPrognostics','data', 'scores')\n",
    "PDATA_DIR = os.path.join(PROJECT_ROOT, 'PCaPrognostics', 'data', 'merged_data', 'pData', 'imputed')\n",
    "\n",
    "# Load data\n",
    "scores = pd.read_csv(SCORES_DIR + '/test_scores.csv', index_col=0)\n",
    "pdata = pd.read_csv(PDATA_DIR + '/test_pData_imputed.csv', index_col=0)\n",
    "\n",
    "# Match indices\n",
    "pdata.index = scores.index\n",
    "\n",
    "# Extract survival data\n",
    "times = pdata['MONTH_TO_BCR'].values\n",
    "events = pdata['BCR_STATUS'].astype(bool).values\n",
    "risk_scores = scores.values.flatten()\n",
    "\n",
    "# Calculate C-index\n",
    "cindex = concordance_index(times, -risk_scores, events)\n",
    "\n",
    "print(f\"C-Index der Scores: {cindex:.3f}\")"
   ],
   "id": "d42a4edf380af509",
   "outputs": [
    {
     "name": "stdout",
     "output_type": "stream",
     "text": [
      "C-Index der Scores: 0.777\n"
     ]
    }
   ],
   "execution_count": 2
  },
  {
   "metadata": {},
   "cell_type": "markdown",
   "source": "### Test Cohort 1",
   "id": "38ac5553bc807b15"
  },
  {
   "metadata": {
    "ExecuteTime": {
     "end_time": "2025-01-20T12:33:57.383521Z",
     "start_time": "2025-01-20T12:33:57.364969Z"
    }
   },
   "cell_type": "code",
   "source": [
    "PROJECT_ROOT = os.path.dirname(os.path.dirname(os.getcwd()))\n",
    "PROJECT_ROOT\n",
    "\n",
    "# Define paths\n",
    "SCORES_DIR = os.path.join(PROJECT_ROOT, 'PCaPrognostics','data', 'scores')\n",
    "PDATA_DIR = os.path.join(PROJECT_ROOT, 'PCaPrognostics', 'data', 'cohort_data', 'pData', 'imputed')\n",
    "\n",
    "# Load data\n",
    "scores = pd.read_csv(SCORES_DIR + '/test_scores_cohort1.csv', index_col=0)\n",
    "pdata = pd.read_csv(PDATA_DIR + '/test_pData_cohort1_imputed.csv', index_col=0)\n",
    "\n",
    "# Match indices\n",
    "pdata.index = scores.index\n",
    "\n",
    "# Extract survival data\n",
    "times = pdata['MONTH_TO_BCR'].values\n",
    "events = pdata['BCR_STATUS'].astype(bool).values\n",
    "risk_scores = scores.values.flatten()\n",
    "\n",
    "# Calculate C-index\n",
    "cindex = concordance_index(times, -risk_scores, events)\n",
    "\n",
    "print(f\"C-Index der Scores: {cindex:.3f}\")"
   ],
   "id": "42633e65c4d7a83d",
   "outputs": [
    {
     "name": "stdout",
     "output_type": "stream",
     "text": [
      "C-Index der Scores: 0.754\n"
     ]
    }
   ],
   "execution_count": 3
  },
  {
   "metadata": {},
   "cell_type": "markdown",
   "source": "### Test Cohort 2",
   "id": "a12e7f1512c77e6a"
  },
  {
   "metadata": {
    "ExecuteTime": {
     "end_time": "2025-01-20T12:33:58.660131Z",
     "start_time": "2025-01-20T12:33:58.645103Z"
    }
   },
   "cell_type": "code",
   "source": [
    "PROJECT_ROOT = os.path.dirname(os.path.dirname(os.getcwd()))\n",
    "PROJECT_ROOT\n",
    "\n",
    "# Define paths\n",
    "SCORES_DIR = os.path.join(PROJECT_ROOT, 'PCaPrognostics','data', 'scores')\n",
    "PDATA_DIR = os.path.join(PROJECT_ROOT, 'PCaPrognostics', 'data', 'cohort_data', 'pData', 'imputed')\n",
    "\n",
    "# Load data\n",
    "scores = pd.read_csv(SCORES_DIR + '/test_scores_cohort2.csv', index_col=0)\n",
    "pdata = pd.read_csv(PDATA_DIR + '/test_pData_cohort2_imputed.csv', index_col=0)\n",
    "\n",
    "# Match indices\n",
    "pdata.index = scores.index\n",
    "\n",
    "# Extract survival data\n",
    "times = pdata['MONTH_TO_BCR'].values\n",
    "events = pdata['BCR_STATUS'].astype(bool).values\n",
    "risk_scores = scores.values.flatten()\n",
    "\n",
    "# Calculate C-index\n",
    "cindex = concordance_index(times, -risk_scores, events)\n",
    "\n",
    "print(f\"C-Index der Scores: {cindex:.3f}\")"
   ],
   "id": "9680e270e4dfda44",
   "outputs": [
    {
     "name": "stdout",
     "output_type": "stream",
     "text": [
      "C-Index der Scores: 0.870\n"
     ]
    }
   ],
   "execution_count": 4
  },
  {
   "metadata": {},
   "cell_type": "markdown",
   "source": "### All Train Cohorts",
   "id": "ac6aed113b33ad8b"
  },
  {
   "metadata": {
    "ExecuteTime": {
     "end_time": "2025-01-20T12:34:00.335175Z",
     "start_time": "2025-01-20T12:34:00.271247Z"
    }
   },
   "cell_type": "code",
   "source": [
    "# Import required libraries\n",
    "import pandas as pd\n",
    "import numpy as np\n",
    "from lifelines.utils import concordance_index\n",
    "import os\n",
    "\n",
    "# Initialize results storage\n",
    "results = []\n",
    "\n",
    "# Define the directories\n",
    "scores_dir = os.path.join(PROJECT_ROOT, 'PCaPrognostics', 'data', 'scores', 'cohort_specific')\n",
    "pdata_dir = os.path.join(PROJECT_ROOT, 'PCaPrognostics', 'data', 'cohort_data', 'pData', 'imputed')\n",
    "\n",
    "# Loop through each pdata file\n",
    "for pdata_filename in os.listdir(pdata_dir):\n",
    "    if pdata_filename.endswith('.csv'):\n",
    "        # Get cohort name and construct score filename\n",
    "        cohort_name = pdata_filename.replace('.csv', '')\n",
    "        score_filename = cohort_name + '_scores.csv'\n",
    "        score_path = os.path.join(scores_dir, score_filename)\n",
    "\n",
    "        # Check if corresponding score file exists\n",
    "        if os.path.exists(score_path):\n",
    "            print(f\"\\nProcessing cohort: {cohort_name}\")\n",
    "\n",
    "            # Read both files\n",
    "            pdata = pd.read_csv(os.path.join(pdata_dir, pdata_filename))\n",
    "            scores_df = pd.read_csv(score_path)\n",
    "\n",
    "            print(f\"Number of samples in pdata file: {len(pdata)}\")\n",
    "            print(f\"Number of samples in scores file: {len(scores_df)}\")\n",
    "\n",
    "            try:\n",
    "                # Extract survival data\n",
    "                times = pdata['MONTH_TO_BCR'].values\n",
    "                events = pdata['BCR_STATUS'].astype(bool).values\n",
    "                risk_scores = scores_df['risk_score'].values\n",
    "\n",
    "                # Calculate c-index\n",
    "                c_index = concordance_index(times, -risk_scores, events)\n",
    "\n",
    "                # Store results\n",
    "                results.append({\n",
    "                    'cohort': cohort_name,\n",
    "                    'c_index': c_index,\n",
    "                    'n_patients': len(pdata)\n",
    "                })\n",
    "                print(f\"Successfully calculated c-index: {c_index:.3f}\")\n",
    "\n",
    "            except Exception as e:\n",
    "                print(f\"Error calculating c-index: {str(e)}\")\n",
    "        else:\n",
    "            print(f\"\\nNo score file found for cohort: {cohort_name}\")\n",
    "\n",
    "# Convert results to DataFrame\n",
    "results_df = pd.DataFrame(results)\n",
    "\n",
    "# Display results\n",
    "print(\"\\nC-indices by cohort:\")\n",
    "print(results_df)\n",
    "\n",
    "# Save results\n",
    "save_dir = os.path.join(PROJECT_ROOT, 'PCaPrognostics', 'results_modelling_splits')\n",
    "file_path = os.path.join(save_dir, 'splits_score_cindices.csv')\n",
    "results_df.to_csv(results_df.to_csv(file_path, index=False), index=False)\n"
   ],
   "id": "9f253d9ec89d4919",
   "outputs": [
    {
     "name": "stdout",
     "output_type": "stream",
     "text": [
      "\n",
      "No score file found for cohort: high_risk_pData_test_cohort1\n",
      "\n",
      "No score file found for cohort: high_risk_pData_test_cohort2\n",
      "\n",
      "Processing cohort: Belfast_2018_Jain\n",
      "Number of samples in pdata file: 248\n",
      "Number of samples in scores file: 248\n",
      "Successfully calculated c-index: 0.687\n",
      "\n",
      "Processing cohort: CPC_GENE_2017_Fraser\n",
      "Number of samples in pdata file: 73\n",
      "Number of samples in scores file: 73\n",
      "Successfully calculated c-index: 0.699\n",
      "\n",
      "Processing cohort: DKFZ_2018_Gerhauser\n",
      "Number of samples in pdata file: 82\n",
      "Number of samples in scores file: 82\n",
      "Successfully calculated c-index: 0.783\n",
      "\n",
      "Processing cohort: CancerMap_2017_Luca\n",
      "Number of samples in pdata file: 133\n",
      "Number of samples in scores file: 133\n",
      "Successfully calculated c-index: 0.689\n",
      "\n",
      "No score file found for cohort: test_pData_cohort2_imputed_1_example\n",
      "\n",
      "Processing cohort: MSKCC_2010_Taylor\n",
      "Number of samples in pdata file: 131\n",
      "Number of samples in scores file: 131\n",
      "Successfully calculated c-index: 0.695\n",
      "\n",
      "No score file found for cohort: low_risk_pData_test_cohort2\n",
      "\n",
      "No score file found for cohort: test_pData_cohort2_imputed\n",
      "\n",
      "Processing cohort: Atlanta_2014_Long\n",
      "Number of samples in pdata file: 100\n",
      "Number of samples in scores file: 100\n",
      "Successfully calculated c-index: 0.650\n",
      "\n",
      "No score file found for cohort: low_risk_pData_test_cohort1\n",
      "\n",
      "Processing cohort: CamCap_2016_Ross_Adams\n",
      "Number of samples in pdata file: 112\n",
      "Number of samples in scores file: 112\n",
      "Successfully calculated c-index: 0.750\n",
      "\n",
      "Processing cohort: Stockholm_2016_Ross_Adams\n",
      "Number of samples in pdata file: 92\n",
      "Number of samples in scores file: 92\n",
      "Successfully calculated c-index: 0.683\n",
      "\n",
      "No score file found for cohort: test_pData_cohort1_imputed\n",
      "\n",
      "Processing cohort: CPGEA_2020_Li\n",
      "Number of samples in pdata file: 120\n",
      "Number of samples in scores file: 120\n",
      "Successfully calculated c-index: 0.675\n",
      "\n",
      "C-indices by cohort:\n",
      "                      cohort   c_index  n_patients\n",
      "0          Belfast_2018_Jain  0.687273         248\n",
      "1       CPC_GENE_2017_Fraser  0.698545          73\n",
      "2        DKFZ_2018_Gerhauser  0.782862          82\n",
      "3        CancerMap_2017_Luca  0.688883         133\n",
      "4          MSKCC_2010_Taylor  0.695264         131\n",
      "5          Atlanta_2014_Long  0.650289         100\n",
      "6     CamCap_2016_Ross_Adams  0.749662         112\n",
      "7  Stockholm_2016_Ross_Adams  0.683429          92\n",
      "8              CPGEA_2020_Li  0.675168         120\n"
     ]
    },
    {
     "data": {
      "text/plain": [
       "'cohort,c_index,n_patients\\nBelfast_2018_Jain,0.6872734595247684,248\\nCPC_GENE_2017_Fraser,0.6985446985446986,73\\nDKFZ_2018_Gerhauser,0.7828618968386023,82\\nCancerMap_2017_Luca,0.6888829645427886,133\\nMSKCC_2010_Taylor,0.6952639751552795,131\\nAtlanta_2014_Long,0.6502890173410405,100\\nCamCap_2016_Ross_Adams,0.7496617050067659,112\\nStockholm_2016_Ross_Adams,0.6834289571380358,92\\nCPGEA_2020_Li,0.6751684311838306,120\\n'"
      ]
     },
     "execution_count": 5,
     "metadata": {},
     "output_type": "execute_result"
    }
   ],
   "execution_count": 5
  },
  {
   "metadata": {
    "ExecuteTime": {
     "end_time": "2025-01-20T12:35:19.223277Z",
     "start_time": "2025-01-20T12:35:19.214230Z"
    }
   },
   "cell_type": "code",
   "source": [
    "# Berechne den gewichteten Durchschnitt des c-Index, gewichtet nach n_patients\n",
    "weighted_average = (results_df['c_index'] * results_df['n_patients']).sum() / results_df['n_patients'].sum()\n",
    "\n",
    "print(f\"Gewichteter Durchschnitt des c-Index: {weighted_average:.3f}\")\n"
   ],
   "id": "5fb8b9ff23e00f0d",
   "outputs": [
    {
     "name": "stdout",
     "output_type": "stream",
     "text": [
      "Gewichteter Durchschnitt des c-Index: 0.698\n"
     ]
    }
   ],
   "execution_count": 6
  }
 ],
 "metadata": {
  "kernelspec": {
   "name": "python3",
   "language": "python",
   "display_name": "Python 3 (ipykernel)"
  }
 },
 "nbformat": 5,
 "nbformat_minor": 9
}
