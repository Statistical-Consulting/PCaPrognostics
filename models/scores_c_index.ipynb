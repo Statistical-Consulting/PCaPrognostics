{
 "cells": [
  {
   "metadata": {
    "ExecuteTime": {
     "end_time": "2025-01-16T10:57:14.360752Z",
     "start_time": "2025-01-16T10:55:07.033135Z"
    }
   },
   "cell_type": "code",
   "source": [
    "import pandas as pd\n",
    "import os\n",
    "import numpy as np\n",
    "from lifelines.utils import concordance_index\n",
    "# Setup paths\n",
    "\n",
    "\n"
   ],
   "id": "45151caa401ad63b",
   "outputs": [],
   "execution_count": 1
  },
  {
   "metadata": {},
   "cell_type": "markdown",
   "source": "### Merged Test Data",
   "id": "c322d82df0f42694"
  },
  {
   "metadata": {
    "ExecuteTime": {
     "end_time": "2025-01-16T11:03:34.546074Z",
     "start_time": "2025-01-16T11:03:34.520016Z"
    }
   },
   "cell_type": "code",
   "source": [
    "PROJECT_ROOT = os.path.dirname(os.path.dirname(os.getcwd()))\n",
    "PROJECT_ROOT\n",
    "\n",
    "# Define paths\n",
    "SCORES_DIR = os.path.join(PROJECT_ROOT, 'PCaPrognostics','data', 'scores')\n",
    "PDATA_DIR = os.path.join(PROJECT_ROOT, 'PCaPrognostics', 'data', 'merged_data', 'pData', 'imputed')\n",
    "\n",
    "# Load data\n",
    "scores = pd.read_csv(SCORES_DIR + '/test_scores.csv', index_col=0)\n",
    "pdata = pd.read_csv(PDATA_DIR + '/test_pData_imputed.csv', index_col=0)\n",
    "\n",
    "# Match indices\n",
    "pdata.index = scores.index\n",
    "\n",
    "# Extract survival data\n",
    "times = pdata['MONTH_TO_BCR'].values\n",
    "events = pdata['BCR_STATUS'].astype(bool).values\n",
    "risk_scores = scores.values.flatten()\n",
    "\n",
    "# Calculate C-index\n",
    "cindex = concordance_index(times, -risk_scores, events)\n",
    "\n",
    "print(f\"C-Index der Scores: {cindex:.3f}\")"
   ],
   "id": "d42a4edf380af509",
   "outputs": [
    {
     "name": "stdout",
     "output_type": "stream",
     "text": [
      "C-Index der Scores: 0.777\n"
     ]
    }
   ],
   "execution_count": 11
  },
  {
   "metadata": {},
   "cell_type": "markdown",
   "source": "### Test Cohort 1",
   "id": "38ac5553bc807b15"
  },
  {
   "metadata": {
    "ExecuteTime": {
     "end_time": "2025-01-16T11:12:45.512636Z",
     "start_time": "2025-01-16T11:12:45.495188Z"
    }
   },
   "cell_type": "code",
   "source": [
    "PROJECT_ROOT = os.path.dirname(os.path.dirname(os.getcwd()))\n",
    "PROJECT_ROOT\n",
    "\n",
    "# Define paths\n",
    "SCORES_DIR = os.path.join(PROJECT_ROOT, 'PCaPrognostics','data', 'scores')\n",
    "PDATA_DIR = os.path.join(PROJECT_ROOT, 'PCaPrognostics', 'data', 'cohort_data', 'pData', 'imputed')\n",
    "\n",
    "# Load data\n",
    "scores = pd.read_csv(SCORES_DIR + '/test_scores_cohort1.csv', index_col=0)\n",
    "pdata = pd.read_csv(PDATA_DIR + '/test_pData_cohort1_imputed.csv', index_col=0)\n",
    "\n",
    "# Match indices\n",
    "pdata.index = scores.index\n",
    "\n",
    "# Extract survival data\n",
    "times = pdata['MONTH_TO_BCR'].values\n",
    "events = pdata['BCR_STATUS'].astype(bool).values\n",
    "risk_scores = scores.values.flatten()\n",
    "\n",
    "# Calculate C-index\n",
    "cindex = concordance_index(times, -risk_scores, events)\n",
    "\n",
    "print(f\"C-Index der Scores: {cindex:.3f}\")"
   ],
   "id": "42633e65c4d7a83d",
   "outputs": [
    {
     "name": "stdout",
     "output_type": "stream",
     "text": [
      "C-Index der Scores: 0.754\n"
     ]
    }
   ],
   "execution_count": 15
  },
  {
   "metadata": {},
   "cell_type": "code",
   "outputs": [],
   "execution_count": null,
   "source": "",
   "id": "6b58a04e9e573fe5"
  },
  {
   "metadata": {},
   "cell_type": "markdown",
   "source": "### Test Cohort 2",
   "id": "a12e7f1512c77e6a"
  },
  {
   "metadata": {
    "ExecuteTime": {
     "end_time": "2025-01-16T11:13:15.587269Z",
     "start_time": "2025-01-16T11:13:15.568926Z"
    }
   },
   "cell_type": "code",
   "source": [
    "PROJECT_ROOT = os.path.dirname(os.path.dirname(os.getcwd()))\n",
    "PROJECT_ROOT\n",
    "\n",
    "# Define paths\n",
    "SCORES_DIR = os.path.join(PROJECT_ROOT, 'PCaPrognostics','data', 'scores')\n",
    "PDATA_DIR = os.path.join(PROJECT_ROOT, 'PCaPrognostics', 'data', 'cohort_data', 'pData', 'imputed')\n",
    "\n",
    "# Load data\n",
    "scores = pd.read_csv(SCORES_DIR + '/test_scores_cohort2.csv', index_col=0)\n",
    "pdata = pd.read_csv(PDATA_DIR + '/test_pData_cohort2_imputed.csv', index_col=0)\n",
    "\n",
    "# Match indices\n",
    "pdata.index = scores.index\n",
    "\n",
    "# Extract survival data\n",
    "times = pdata['MONTH_TO_BCR'].values\n",
    "events = pdata['BCR_STATUS'].astype(bool).values\n",
    "risk_scores = scores.values.flatten()\n",
    "\n",
    "# Calculate C-index\n",
    "cindex = concordance_index(times, -risk_scores, events)\n",
    "\n",
    "print(f\"C-Index der Scores: {cindex:.3f}\")"
   ],
   "id": "9680e270e4dfda44",
   "outputs": [
    {
     "name": "stdout",
     "output_type": "stream",
     "text": [
      "C-Index der Scores: 0.870\n"
     ]
    }
   ],
   "execution_count": 16
  },
  {
   "metadata": {},
   "cell_type": "markdown",
   "source": "### All Train Cohorts",
   "id": "ac6aed113b33ad8b"
  },
  {
   "metadata": {
    "ExecuteTime": {
     "end_time": "2025-01-16T11:26:20.823857Z",
     "start_time": "2025-01-16T11:26:20.791259Z"
    }
   },
   "cell_type": "code",
   "source": [
    "PROJECT_ROOT = os.path.dirname(os.path.dirname(os.getcwd()))\n",
    "PROJECT_ROOT\n",
    "\n",
    "# Define paths\n",
    "SCORES_DIR = os.path.join(PROJECT_ROOT, 'PCaPrognostics','data', 'scores')\n",
    "PDATA_DIR = os.path.join(PROJECT_ROOT, 'PCaPrognostics', 'data', 'merged_data', 'pData', 'imputed')\n",
    "\n",
    "# Load data\n",
    "scores = pd.read_csv(SCORES_DIR + '/train_scores.csv', index_col=0)\n",
    "pdata = pd.read_csv(PDATA_DIR + '/merged_imputed_pData.csv', index_col=0)\n",
    "\n",
    "# Match indices\n",
    "pdata.index = scores.index\n",
    "\n",
    "\n",
    "\n",
    "# Extract survival data\n",
    "times = pdata['MONTH_TO_BCR'].values\n",
    "events = pdata['BCR_STATUS'].astype(bool).values\n",
    "risk_scores = scores.values.flatten()\n",
    "\n",
    "# Calculate C-index\n",
    "cindex = concordance_index(times, -risk_scores, events)\n",
    "\n",
    "print(f\"C-Index der Scores: {cindex:.3f}\")"
   ],
   "id": "a9d87679e9377c10",
   "outputs": [
    {
     "name": "stdout",
     "output_type": "stream",
     "text": [
      "C-Index der Scores: 0.684\n"
     ]
    }
   ],
   "execution_count": 20
  }
 ],
 "metadata": {
  "kernelspec": {
   "name": "python3",
   "language": "python",
   "display_name": "Python 3 (ipykernel)"
  }
 },
 "nbformat": 5,
 "nbformat_minor": 9
}
