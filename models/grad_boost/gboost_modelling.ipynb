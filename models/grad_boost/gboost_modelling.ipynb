{
 "cells": [
  {
   "cell_type": "code",
   "execution_count": 1,
   "metadata": {},
   "outputs": [],
   "source": [
    "import os\n",
    "import sys\n",
    "import pandas as pd\n",
    "import numpy as np\n",
    "from pathlib import Path\n",
    "import logging\n",
    "\n",
    "# Setup paths\n",
    "PROJECT_ROOT = os.path.dirname(os.path.dirname(os.getcwd()))\n",
    "if PROJECT_ROOT not in sys.path:\n",
    "    sys.path.append(PROJECT_ROOT)\n",
    "\n",
    "# Setup directories\n",
    "MODEL_DIR = os.path.join(os.getcwd(), 'model')\n",
    "RESULTS_DIR = os.path.join(os.getcwd(), 'results')\n",
    "os.makedirs(MODEL_DIR, exist_ok=True)\n",
    "os.makedirs(RESULTS_DIR, exist_ok=True)\n",
    "\n",
    "# Imports\n",
    "from preprocessing.data_container import DataContainer\n",
    "from utils.evaluation import cindex_score\n",
    "from models.modelling_process import ModellingProcess\n",
    "from sksurv.ensemble import GradientBoostingSurvivalAnalysis\n",
    "from utils.evaluation import EarlyStoppingMonitor\n",
    "\n",
    "# Setup logging\n",
    "logging.basicConfig(\n",
    "    level=logging.INFO,\n",
    "    format='%(asctime)s - %(levelname)s - %(message)s'\n",
    ")\n",
    "logger = logging.getLogger(__name__)"
   ]
  },
  {
   "cell_type": "code",
   "execution_count": null,
   "metadata": {},
   "outputs": [],
   "source": [
    "# set early stopping monitor \n",
    "monitor = EarlyStoppingMonitor(10, 5)\n",
    "\n",
    "# Data configuration\n",
    "DATA_CONFIG = {\n",
    "    'use_pca': False,\n",
    "    'pca_threshold': 0.95,\n",
    "    'gene_type': 'intersection',\n",
    "    'use_imputed': True,\n",
    "    'use_cohorts': False\n",
    "}\n",
    "\n",
    "# Model configuration\n",
    "MODEL_CONFIG = {\n",
    "    'params_cv': {\n",
    "        'model__n_estimators': [1000],\n",
    "        'model__learning_rate': [0.1, 0.01, 0.005],\n",
    "        'model__max_depth': [3, 5],\n",
    "        'model__min_samples_split': [5, 10],\n",
    "        'model__min_samples_leaf': [3, 5],\n",
    "        'model__subsample': [0.9],\n",
    "        'model__max_features': ['sqrt']\n",
    "    },\n",
    "    'refit': True, \n",
    "    'do_nested_resampling': True, \n",
    "    'monitor' : monitor, \n",
    "    'path' : RESULTS_DIR, \n",
    "    'fname_cv' : 'results'}\n",
    "\n",
    "# validation_fraction=0.1 as a mean to inclued early stopping\n",
    "gb_pipeline_steps = [('model', GradientBoostingSurvivalAnalysis())]\n"
   ]
  },
  {
   "cell_type": "code",
   "execution_count": 3,
   "metadata": {},
   "outputs": [],
   "source": [
    "mp = ModellingProcess()"
   ]
  },
  {
   "cell_type": "code",
   "execution_count": 4,
   "metadata": {},
   "outputs": [
    {
     "name": "stderr",
     "output_type": "stream",
     "text": [
      "2024-11-23 10:23:11,090 - INFO - Loading data...\n",
      "2024-11-23 10:25:36,462 - INFO - Loaded data: 1091 samples, 13214 features\n"
     ]
    }
   ],
   "source": [
    "mp.prepare_data(DATA_CONFIG, PROJECT_ROOT)"
   ]
  },
  {
   "cell_type": "code",
   "execution_count": 5,
   "metadata": {},
   "outputs": [
    {
     "name": "stderr",
     "output_type": "stream",
     "text": [
      "2024-11-23 10:25:49,907 - INFO - Start model training...\n",
      "2024-11-23 10:25:49,907 - INFO - Input data shape: X=(1091, 13214)\n",
      "2024-11-23 10:25:49,922 - INFO - Nested resampling...\n",
      "2024-11-23 10:25:49,922 - INFO - Starting nested resampling...\n",
      "2024-11-23 10:25:49,922 - INFO - Data shape: X=(1091, 13214), groups=9 unique\n",
      "2024-11-23 10:25:49,956 - INFO - \n",
      "Outer fold 1\n",
      "2024-11-23 10:25:50,017 - INFO - Test cohort: Atlanta_2014_Long\n"
     ]
    },
    {
     "name": "stdout",
     "output_type": "stream",
     "text": [
      "Fitting 8 folds for each of 2 candidates, totalling 16 fits\n"
     ]
    },
    {
     "name": "stderr",
     "output_type": "stream",
     "text": [
      "2024-11-23 10:26:20,181 - INFO - number of iterations early stopping: 79\n",
      "2024-11-23 10:26:20,266 - INFO - Best parameters: {'model__learning_rate': 0.005, 'model__max_depth': 5, 'model__max_features': 'sqrt', 'model__min_samples_leaf': 5, 'model__min_samples_split': 10, 'model__n_estimators': 1000, 'model__subsample': 0.8}\n",
      "2024-11-23 10:26:20,267 - INFO - Test score: 0.664\n",
      "2024-11-23 10:26:20,268 - INFO - \n",
      "Outer fold 2\n",
      "2024-11-23 10:26:20,302 - INFO - Test cohort: Belfast_2018_Jain\n"
     ]
    },
    {
     "name": "stdout",
     "output_type": "stream",
     "text": [
      "Fitting 8 folds for each of 2 candidates, totalling 16 fits\n"
     ]
    },
    {
     "name": "stderr",
     "output_type": "stream",
     "text": [
      "2024-11-23 10:26:43,053 - INFO - number of iterations early stopping: 138\n",
      "2024-11-23 10:26:43,134 - INFO - Best parameters: {'model__learning_rate': 0.005, 'model__max_depth': 5, 'model__max_features': 'sqrt', 'model__min_samples_leaf': 5, 'model__min_samples_split': 10, 'model__n_estimators': 1000, 'model__subsample': 0.8}\n",
      "2024-11-23 10:26:43,134 - INFO - Test score: 0.654\n",
      "2024-11-23 10:26:43,134 - INFO - \n",
      "Outer fold 3\n",
      "2024-11-23 10:26:43,187 - INFO - Test cohort: CPC_GENE_2017_Fraser\n"
     ]
    },
    {
     "name": "stdout",
     "output_type": "stream",
     "text": [
      "Fitting 8 folds for each of 2 candidates, totalling 16 fits\n"
     ]
    },
    {
     "name": "stderr",
     "output_type": "stream",
     "text": [
      "2024-11-23 10:26:58,067 - INFO - number of iterations early stopping: 17\n",
      "2024-11-23 10:26:58,133 - INFO - Best parameters: {'model__learning_rate': 0.005, 'model__max_depth': 5, 'model__max_features': 'sqrt', 'model__min_samples_leaf': 5, 'model__min_samples_split': 10, 'model__n_estimators': 1000, 'model__subsample': 0.8}\n",
      "2024-11-23 10:26:58,134 - INFO - Test score: 0.709\n",
      "2024-11-23 10:26:58,136 - INFO - \n",
      "Outer fold 4\n",
      "2024-11-23 10:26:58,180 - INFO - Test cohort: CPGEA_2020_Li\n"
     ]
    },
    {
     "name": "stdout",
     "output_type": "stream",
     "text": [
      "Fitting 8 folds for each of 2 candidates, totalling 16 fits\n"
     ]
    },
    {
     "name": "stderr",
     "output_type": "stream",
     "text": [
      "2024-11-23 10:27:34,255 - INFO - number of iterations early stopping: 207\n",
      "2024-11-23 10:27:34,322 - INFO - Best parameters: {'model__learning_rate': 0.005, 'model__max_depth': 5, 'model__max_features': 'sqrt', 'model__min_samples_leaf': 5, 'model__min_samples_split': 10, 'model__n_estimators': 1000, 'model__subsample': 0.8}\n",
      "2024-11-23 10:27:34,322 - INFO - Test score: 0.681\n",
      "2024-11-23 10:27:34,322 - INFO - \n",
      "Outer fold 5\n",
      "2024-11-23 10:27:34,365 - INFO - Test cohort: CamCap_2016_Ross_Adams\n"
     ]
    },
    {
     "name": "stdout",
     "output_type": "stream",
     "text": [
      "Fitting 8 folds for each of 2 candidates, totalling 16 fits\n"
     ]
    },
    {
     "name": "stderr",
     "output_type": "stream",
     "text": [
      "2024-11-23 10:28:04,137 - INFO - number of iterations early stopping: 209\n",
      "2024-11-23 10:28:04,211 - INFO - Best parameters: {'model__learning_rate': 0.005, 'model__max_depth': 5, 'model__max_features': 'sqrt', 'model__min_samples_leaf': 5, 'model__min_samples_split': 10, 'model__n_estimators': 1000, 'model__subsample': 0.8}\n",
      "2024-11-23 10:28:04,212 - INFO - Test score: 0.832\n",
      "2024-11-23 10:28:04,212 - INFO - \n",
      "Outer fold 6\n",
      "2024-11-23 10:28:04,259 - INFO - Test cohort: CancerMap_2017_Luca\n"
     ]
    },
    {
     "name": "stdout",
     "output_type": "stream",
     "text": [
      "Fitting 8 folds for each of 2 candidates, totalling 16 fits\n"
     ]
    },
    {
     "name": "stderr",
     "output_type": "stream",
     "text": [
      "2024-11-23 10:28:28,089 - INFO - number of iterations early stopping: 114\n",
      "2024-11-23 10:28:28,149 - INFO - Best parameters: {'model__learning_rate': 0.005, 'model__max_depth': 5, 'model__max_features': 'sqrt', 'model__min_samples_leaf': 5, 'model__min_samples_split': 10, 'model__n_estimators': 1000, 'model__subsample': 0.8}\n",
      "2024-11-23 10:28:28,149 - INFO - Test score: 0.692\n",
      "2024-11-23 10:28:28,149 - INFO - \n",
      "Outer fold 7\n",
      "2024-11-23 10:28:28,186 - INFO - Test cohort: DKFZ_2018_Gerhauser\n"
     ]
    },
    {
     "name": "stdout",
     "output_type": "stream",
     "text": [
      "Fitting 8 folds for each of 2 candidates, totalling 16 fits\n"
     ]
    },
    {
     "name": "stderr",
     "output_type": "stream",
     "text": [
      "2024-11-23 10:28:56,444 - INFO - number of iterations early stopping: 72\n",
      "2024-11-23 10:28:56,511 - INFO - Best parameters: {'model__learning_rate': 0.005, 'model__max_depth': 5, 'model__max_features': 'sqrt', 'model__min_samples_leaf': 5, 'model__min_samples_split': 10, 'model__n_estimators': 1000, 'model__subsample': 0.8}\n",
      "2024-11-23 10:28:56,511 - INFO - Test score: 0.837\n",
      "2024-11-23 10:28:56,511 - INFO - \n",
      "Outer fold 8\n",
      "2024-11-23 10:28:56,546 - INFO - Test cohort: MSKCC_2010_Taylor\n"
     ]
    },
    {
     "name": "stdout",
     "output_type": "stream",
     "text": [
      "Fitting 8 folds for each of 2 candidates, totalling 16 fits\n"
     ]
    },
    {
     "name": "stderr",
     "output_type": "stream",
     "text": [
      "2024-11-23 10:29:32,749 - INFO - number of iterations early stopping: 36\n",
      "2024-11-23 10:29:32,813 - INFO - Best parameters: {'model__learning_rate': 0.01, 'model__max_depth': 5, 'model__max_features': 'sqrt', 'model__min_samples_leaf': 5, 'model__min_samples_split': 10, 'model__n_estimators': 1000, 'model__subsample': 0.8}\n",
      "2024-11-23 10:29:32,813 - INFO - Test score: 0.731\n",
      "2024-11-23 10:29:32,813 - INFO - \n",
      "Outer fold 9\n",
      "2024-11-23 10:29:32,859 - INFO - Test cohort: Stockholm_2016_Ross_Adams\n"
     ]
    },
    {
     "name": "stdout",
     "output_type": "stream",
     "text": [
      "Fitting 8 folds for each of 2 candidates, totalling 16 fits\n"
     ]
    },
    {
     "name": "stderr",
     "output_type": "stream",
     "text": [
      "2024-11-23 10:30:17,836 - INFO - number of iterations early stopping: 195\n",
      "2024-11-23 10:30:17,909 - INFO - Best parameters: {'model__learning_rate': 0.005, 'model__max_depth': 5, 'model__max_features': 'sqrt', 'model__min_samples_leaf': 5, 'model__min_samples_split': 10, 'model__n_estimators': 1000, 'model__subsample': 0.8}\n",
      "2024-11-23 10:30:17,912 - INFO - Test score: 0.723\n",
      "2024-11-23 10:30:17,914 - INFO - Aggregated results:\n",
      "2024-11-23 10:30:17,915 - INFO - Mean score: 0.725 ± 0.063\n",
      "2024-11-23 10:30:17,916 - INFO - Individual scores: [np.float64(0.6644508670520232), np.float64(0.6537454691904954), np.float64(0.7089397089397089), np.float64(0.6811036252807187), np.float64(0.8322056833558863), np.float64(0.6918155158624367), np.float64(0.8369384359400999), np.float64(0.7309782608695652), np.float64(0.7232534593317583)]\n",
      "2024-11-23 10:30:17,917 - WARNING - Won't save any model, since its not provided\n",
      "2024-11-23 10:30:17,995 - INFO - Saved CV results to c:\\Users\\laeti\\PCaPrognostics\\models\\grad_boost\\results\\results\\results_cv.csv\n",
      "2024-11-23 10:30:17,996 - WARNING - Won't save any pipe, since its not provided\n",
      "2024-11-23 10:30:17,998 - INFO - Do HP Tuning for complete model; refit + set complete model\n",
      "2024-11-23 10:30:17,999 - INFO - Do HP Tuning for complete model\n"
     ]
    },
    {
     "name": "stdout",
     "output_type": "stream",
     "text": [
      "Fitting 9 folds for each of 2 candidates, totalling 18 fits\n"
     ]
    }
   ],
   "source": [
    "nstd_res_result = mp.do_modelling(gb_pipeline_steps, MODEL_CONFIG)"
   ]
  }
 ],
 "metadata": {
  "kernelspec": {
   "display_name": ".venv",
   "language": "python",
   "name": "python3"
  },
  "language_info": {
   "codemirror_mode": {
    "name": "ipython",
    "version": 3
   },
   "file_extension": ".py",
   "mimetype": "text/x-python",
   "name": "python",
   "nbconvert_exporter": "python",
   "pygments_lexer": "ipython3",
   "version": "3.12.0"
  }
 },
 "nbformat": 4,
 "nbformat_minor": 2
}
