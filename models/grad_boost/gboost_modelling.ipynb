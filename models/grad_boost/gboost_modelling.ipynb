{
 "cells": [
  {
   "cell_type": "code",
   "execution_count": 1,
   "metadata": {},
   "outputs": [],
   "source": [
    "import os\n",
    "import sys\n",
    "import pandas as pd\n",
    "import numpy as np\n",
    "from pathlib import Path\n",
    "import logging\n",
    "\n",
    "# Setup paths\n",
    "PROJECT_ROOT = os.path.dirname(os.path.dirname(os.getcwd()))\n",
    "if PROJECT_ROOT not in sys.path:\n",
    "    sys.path.append(PROJECT_ROOT)\n",
    "\n",
    "# Setup directories\n",
    "RESULTS_DIR = os.path.join(os.getcwd(), 'results')\n",
    "os.makedirs(RESULTS_DIR, exist_ok=True)\n",
    "\n",
    "# Imports\n",
    "from preprocessing.data_container import DataContainer\n",
    "from utils.evaluation import cindex_score\n",
    "from models.modelling_process import ModellingProcess\n",
    "from sksurv.ensemble import GradientBoostingSurvivalAnalysis\n",
    "from utils.evaluation import EarlyStoppingMonitor\n",
    "\n",
    "# Setup logging\n",
    "logging.basicConfig(\n",
    "    level=logging.INFO,\n",
    "    format='%(asctime)s - %(levelname)s - %(message)s'\n",
    ")\n",
    "logger = logging.getLogger(__name__)"
   ]
  },
  {
   "cell_type": "markdown",
   "metadata": {},
   "source": [
    "## Intersection and imputed data "
   ]
  },
  {
   "cell_type": "markdown",
   "metadata": {},
   "source": [
    "### 1.1 Model with only exprs. data; Intersection + imputed"
   ]
  },
  {
   "cell_type": "code",
   "execution_count": 2,
   "metadata": {},
   "outputs": [],
   "source": [
    "# set early stopping monitor \n",
    "monitor = EarlyStoppingMonitor(10, 5)\n",
    "\n",
    "# Data configuration\n",
    "DATA_CONFIG = {\n",
    "    'use_pca': False,\n",
    "    'pca_threshold': 0.85,\n",
    "    'gene_type': 'intersection',\n",
    "    'use_imputed': True,\n",
    "    'select_random' : False, \n",
    "    'use_cohorts': False\n",
    "}\n",
    "\n",
    "# Model configuration\n",
    "MODEL_CONFIG = {\n",
    "    'params_cv': {\n",
    "        'model__n_estimators': [500],\n",
    "        'model__learning_rate': [0.1],\n",
    "        'model__max_depth': [3, 5],\n",
    "        'model__min_samples_split': [5, 10],\n",
    "        'model__min_samples_leaf': [3, 5],\n",
    "        'model__subsample': [0.9],\n",
    "        'model__max_features': ['sqrt', None]\n",
    "    },\n",
    "    'refit': True, \n",
    "    'do_nested_resampling': False, \n",
    "    'monitor' : monitor, \n",
    "    'path' : RESULTS_DIR, \n",
    "    'fname_cv' : 'results_PCA'}\n",
    "\n",
    "# validation_fraction=0.1 as a mean to inclued early stopping\n",
    "gb_pipeline_steps = [('model', GradientBoostingSurvivalAnalysis())]\n"
   ]
  },
  {
   "cell_type": "code",
   "execution_count": 3,
   "metadata": {},
   "outputs": [],
   "source": [
    "mp = ModellingProcess()"
   ]
  },
  {
   "cell_type": "code",
   "execution_count": 4,
   "metadata": {},
   "outputs": [
    {
     "name": "stderr",
     "output_type": "stream",
     "text": [
      "2024-12-27 20:48:22,725 - INFO - Loading data...\n",
      "2024-12-27 20:51:58,027 - INFO - Loaded data: 1091 samples, 13214 features\n"
     ]
    }
   ],
   "source": [
    "mp.prepare_data(DATA_CONFIG, PROJECT_ROOT)"
   ]
  },
  {
   "cell_type": "code",
   "execution_count": null,
   "metadata": {},
   "outputs": [
    {
     "name": "stderr",
     "output_type": "stream",
     "text": [
      "2024-12-27 20:52:24,054 - INFO - Start model training...\n",
      "2024-12-27 20:52:24,054 - INFO - Input data shape: X=(1091, 13214)\n",
      "2024-12-27 20:52:24,054 - INFO - Do HP Tuning for complete model; refit + set complete model\n",
      "2024-12-27 20:52:24,067 - INFO - Do HP Tuning for complete model\n"
     ]
    },
    {
     "name": "stdout",
     "output_type": "stream",
     "text": [
      "Fitting 9 folds for each of 16 candidates, totalling 144 fits\n"
     ]
    }
   ],
   "source": [
    "nstd_res_result = mp.do_modelling(gb_pipeline_steps, MODEL_CONFIG)"
   ]
  },
  {
   "cell_type": "code",
   "execution_count": null,
   "metadata": {},
   "outputs": [],
   "source": [
    "mp.save_results(RESULTS_DIR, 'gb_intersect_imp', model = mp.cmplt_model, cv_results = mp.resampling_cmplt, pipe = mp.cmplt_pipeline)"
   ]
  },
  {
   "cell_type": "markdown",
   "metadata": {},
   "source": [
    "### 1.2 Model with only pData"
   ]
  },
  {
   "cell_type": "code",
   "execution_count": null,
   "metadata": {},
   "outputs": [],
   "source": [
    "# set early stopping monitor \n",
    "monitor = EarlyStoppingMonitor(10, 5)\n",
    "\n",
    "# Data configuration\n",
    "DATA_CONFIG = {\n",
    "    'use_pca': False,\n",
    "    'pca_threshold': 0.85,\n",
    "    'gene_type': 'intersection',\n",
    "    'use_imputed': True,\n",
    "    'select_random' : False, \n",
    "    'use_cohorts': False,\n",
    "    'only_pData' : True\n",
    "}\n",
    "\n",
    "# Model configuration\n",
    "MODEL_CONFIG = {\n",
    "    'params_cv': {\n",
    "        'model__n_estimators': [500],\n",
    "        'model__learning_rate': [0.1],\n",
    "        'model__max_depth': [3, 5],\n",
    "        'model__min_samples_split': [5, 10],\n",
    "        'model__min_samples_leaf': [3, 5],\n",
    "        'model__subsample': [0.9],\n",
    "        'model__max_features': ['sqrt', None]\n",
    "    },\n",
    "    'refit': True, \n",
    "    'do_nested_resampling': True, \n",
    "    'monitor' : monitor, \n",
    "    'path' : RESULTS_DIR, \n",
    "    'fname_cv' : 'results_PCA'}\n",
    "\n",
    "# validation_fraction=0.1 as a mean to inclued early stopping\n",
    "gb_pipeline_steps = [('model', GradientBoostingSurvivalAnalysis())]\n"
   ]
  },
  {
   "cell_type": "markdown",
   "metadata": {},
   "source": [
    "### 1.3 Model with both exprs. and pData"
   ]
  }
 ],
 "metadata": {
  "kernelspec": {
   "display_name": ".venv",
   "language": "python",
   "name": "python3"
  },
  "language_info": {
   "codemirror_mode": {
    "name": "ipython",
    "version": 3
   },
   "file_extension": ".py",
   "mimetype": "text/x-python",
   "name": "python",
   "nbconvert_exporter": "python",
   "pygments_lexer": "ipython3",
   "version": "3.12.0"
  }
 },
 "nbformat": 4,
 "nbformat_minor": 2
}
