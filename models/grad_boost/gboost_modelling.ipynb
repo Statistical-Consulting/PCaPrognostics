{
 "cells": [
  {
   "cell_type": "code",
   "execution_count": 1,
   "metadata": {},
   "outputs": [],
   "source": [
    "import os\n",
    "import sys\n",
    "import pandas as pd\n",
    "import numpy as np\n",
    "from pathlib import Path\n",
    "import logging\n",
    "\n",
    "# Setup paths\n",
    "PROJECT_ROOT = os.path.dirname(os.path.dirname(os.getcwd()))\n",
    "if PROJECT_ROOT not in sys.path:\n",
    "    sys.path.append(PROJECT_ROOT)\n",
    "\n",
    "# Setup directories\n",
    "RESULTS_DIR = os.path.join(os.getcwd(), 'results')\n",
    "os.makedirs(RESULTS_DIR, exist_ok=True)\n",
    "\n",
    "# Imports\n",
    "from preprocessing.data_container import DataContainer\n",
    "from utils.evaluation import cindex_score\n",
    "from models.modelling_process import ModellingProcess\n",
    "from sksurv.ensemble import GradientBoostingSurvivalAnalysis\n",
    "from utils.evaluation import EarlyStoppingMonitor\n",
    "\n",
    "# Setup logging\n",
    "logging.basicConfig(\n",
    "    level=logging.INFO,\n",
    "    format='%(asctime)s - %(levelname)s - %(message)s'\n",
    ")\n",
    "logger = logging.getLogger(__name__)"
   ]
  },
  {
   "cell_type": "code",
   "execution_count": 11,
   "metadata": {},
   "outputs": [],
   "source": [
    "import pickle\n",
    "\n",
    "with open('../../results/pipe/test.pkl', 'rb') as f:\n",
    "    data = pickle.load(f)"
   ]
  },
  {
   "cell_type": "markdown",
   "metadata": {},
   "source": [
    "## Intersection and imputed data "
   ]
  },
  {
   "cell_type": "markdown",
   "metadata": {},
   "source": [
    "### 1.1 Model with only exprs. data; Intersection + imputed"
   ]
  },
  {
   "cell_type": "code",
   "execution_count": 18,
   "metadata": {},
   "outputs": [],
   "source": [
    "# set early stopping monitor \n",
    "monitor = EarlyStoppingMonitor(10, 5)\n",
    "\n",
    "# Data configuration\n",
    "DATA_CONFIG = {\n",
    "    'use_pca': False,\n",
    "    'pca_threshold': 0.85,\n",
    "    'gene_type': 'common_genes',\n",
    "    'use_imputed': True,\n",
    "    'select_random' : False, \n",
    "    'use_cohorts': False, \n",
    "    'requires_ohenc' : True, \n",
    "    'only_pData': True, \n",
    "    'clinical_covs' : [\"AGE\", \"TISSUE\", \"GLEASON_SCORE\", 'PRE_OPERATIVE_PSA']\n",
    "}\n",
    "\n",
    "# Model configuration\n",
    "# MODEL_CONFIG = {\n",
    "#     'params_cv': {\n",
    "#         'model__n_estimators': [500],\n",
    "#         'model__learning_rate': [0.1],\n",
    "#         'model__max_depth': [3, 5],\n",
    "#         'model__min_samples_split': [5, 10],\n",
    "#         'model__min_samples_leaf': [3, 5],\n",
    "#         'model__subsample': [0.9],\n",
    "#         'model__max_features': ['sqrt', None]\n",
    "#     },\n",
    "#     'refit': True, \n",
    "#     'do_nested_resampling': False, \n",
    "#     'monitor' : monitor, \n",
    "#     'path' : RESULTS_DIR, \n",
    "#     'fname_cv' : 'results_PCA'}\n",
    "\n",
    "# Model configuration\n",
    "MODEL_CONFIG = {\n",
    "    'params_cv': {\n",
    "        'model__n_estimators': [200],\n",
    "        'model__learning_rate': [0.1],\n",
    "        #'model__max_depth': [3, 5],\n",
    "        'model__min_samples_split': [10],\n",
    "        #'model__min_samples_leaf': [3, 5],\n",
    "        'model__subsample': [0.8],\n",
    "        'model__max_features': ['log2'], \n",
    "        'model__n_iter_no_change' : [10], \n",
    "        'model__validation_fraction' : [0.1]\n",
    "    },\n",
    "    'refit': True, \n",
    "    'do_nested_resampling': True, \n",
    "    #'monitor' : monitor, \n",
    "    'path' : RESULTS_DIR, \n",
    "    'fname_cv' : 'results_PCA'}\n",
    "\n",
    "# validation_fraction=0.1 as a mean to inclued early stopping\n",
    "gb_pipeline_steps = [('model', GradientBoostingSurvivalAnalysis())]\n"
   ]
  },
  {
   "cell_type": "code",
   "execution_count": 9,
   "metadata": {},
   "outputs": [],
   "source": [
    "mp = ModellingProcess()"
   ]
  },
  {
   "cell_type": "code",
   "execution_count": 19,
   "metadata": {},
   "outputs": [
    {
     "name": "stderr",
     "output_type": "stream",
     "text": [
      "2025-01-05 16:24:37,706 - INFO - Loading data...\n",
      "2025-01-05 16:25:16,448 - INFO - Found clinical data specification\n",
      "2025-01-05 16:25:16,505 - INFO - Only uses pData\n",
      "2025-01-05 16:25:16,531 - INFO - Loaded data: 1091 samples, 6 features\n"
     ]
    },
    {
     "name": "stdout",
     "output_type": "stream",
     "text": [
      "<class 'pandas.core.frame.DataFrame'>\n",
      "Index: 1091 entries, Atlanta_2014_Long.PT081 to Stockholm_2016_Ross_Adams.STKHLM9246\n",
      "Data columns (total 8 columns):\n",
      " #   Column             Non-Null Count  Dtype  \n",
      "---  ------             --------------  -----  \n",
      " 0   AGE                1091 non-null   float64\n",
      " 1   TISSUE             1091 non-null   object \n",
      " 2   CLIN_T_STAGE       1091 non-null   object \n",
      " 3   PATH_T_STAGE       1091 non-null   object \n",
      " 4   GLEASON_SCORE      1091 non-null   float64\n",
      " 5   PRE_OPERATIVE_PSA  1091 non-null   float64\n",
      " 6   MONTH_TO_BCR       1091 non-null   float64\n",
      " 7   BCR_STATUS         1091 non-null   int64  \n",
      "dtypes: float64(4), int64(1), object(3)\n",
      "memory usage: 76.7+ KB\n",
      "None\n"
     ]
    }
   ],
   "source": [
    "mp.prepare_data(DATA_CONFIG, PROJECT_ROOT)"
   ]
  },
  {
   "cell_type": "code",
   "execution_count": 20,
   "metadata": {},
   "outputs": [
    {
     "data": {
      "text/html": [
       "<div>\n",
       "<style scoped>\n",
       "    .dataframe tbody tr th:only-of-type {\n",
       "        vertical-align: middle;\n",
       "    }\n",
       "\n",
       "    .dataframe tbody tr th {\n",
       "        vertical-align: top;\n",
       "    }\n",
       "\n",
       "    .dataframe thead th {\n",
       "        text-align: right;\n",
       "    }\n",
       "</style>\n",
       "<table border=\"1\" class=\"dataframe\">\n",
       "  <thead>\n",
       "    <tr style=\"text-align: right;\">\n",
       "      <th></th>\n",
       "      <th>TISSUE_FFPE</th>\n",
       "      <th>TISSUE_Fresh_frozen</th>\n",
       "      <th>TISSUE_Snap_frozen</th>\n",
       "      <th>AGE</th>\n",
       "      <th>GLEASON_SCORE</th>\n",
       "      <th>PRE_OPERATIVE_PSA</th>\n",
       "    </tr>\n",
       "  </thead>\n",
       "  <tbody>\n",
       "    <tr>\n",
       "      <th>Atlanta_2014_Long.PT081</th>\n",
       "      <td>1.0</td>\n",
       "      <td>0</td>\n",
       "      <td>0</td>\n",
       "      <td>2.540970</td>\n",
       "      <td>-0.094820</td>\n",
       "      <td>-0.341467</td>\n",
       "    </tr>\n",
       "    <tr>\n",
       "      <th>Atlanta_2014_Long.PT127</th>\n",
       "      <td>1.0</td>\n",
       "      <td>0</td>\n",
       "      <td>0</td>\n",
       "      <td>-0.018317</td>\n",
       "      <td>-1.675161</td>\n",
       "      <td>-0.361595</td>\n",
       "    </tr>\n",
       "    <tr>\n",
       "      <th>Atlanta_2014_Long.PT168</th>\n",
       "      <td>1.0</td>\n",
       "      <td>0</td>\n",
       "      <td>0</td>\n",
       "      <td>0.282775</td>\n",
       "      <td>-1.675161</td>\n",
       "      <td>-0.837332</td>\n",
       "    </tr>\n",
       "    <tr>\n",
       "      <th>Atlanta_2014_Long.PT184</th>\n",
       "      <td>1.0</td>\n",
       "      <td>0</td>\n",
       "      <td>0</td>\n",
       "      <td>-0.469956</td>\n",
       "      <td>-0.094820</td>\n",
       "      <td>-0.251809</td>\n",
       "    </tr>\n",
       "    <tr>\n",
       "      <th>Atlanta_2014_Long.PT199</th>\n",
       "      <td>1.0</td>\n",
       "      <td>0</td>\n",
       "      <td>0</td>\n",
       "      <td>-0.620502</td>\n",
       "      <td>-0.094820</td>\n",
       "      <td>-0.542741</td>\n",
       "    </tr>\n",
       "    <tr>\n",
       "      <th>...</th>\n",
       "      <td>...</td>\n",
       "      <td>...</td>\n",
       "      <td>...</td>\n",
       "      <td>...</td>\n",
       "      <td>...</td>\n",
       "      <td>...</td>\n",
       "    </tr>\n",
       "    <tr>\n",
       "      <th>Stockholm_2016_Ross_Adams.STKHLM8462</th>\n",
       "      <td>0</td>\n",
       "      <td>1.0</td>\n",
       "      <td>0</td>\n",
       "      <td>0.073871</td>\n",
       "      <td>-0.048152</td>\n",
       "      <td>-0.488924</td>\n",
       "    </tr>\n",
       "    <tr>\n",
       "      <th>Stockholm_2016_Ross_Adams.STKHLM8659</th>\n",
       "      <td>0</td>\n",
       "      <td>1.0</td>\n",
       "      <td>0</td>\n",
       "      <td>0.073871</td>\n",
       "      <td>-0.048152</td>\n",
       "      <td>-0.003539</td>\n",
       "    </tr>\n",
       "    <tr>\n",
       "      <th>Stockholm_2016_Ross_Adams.STKHLM9157</th>\n",
       "      <td>0</td>\n",
       "      <td>1.0</td>\n",
       "      <td>0</td>\n",
       "      <td>0.073871</td>\n",
       "      <td>-0.048152</td>\n",
       "      <td>0.072302</td>\n",
       "    </tr>\n",
       "    <tr>\n",
       "      <th>Stockholm_2016_Ross_Adams.STKHLM9161</th>\n",
       "      <td>0</td>\n",
       "      <td>1.0</td>\n",
       "      <td>0</td>\n",
       "      <td>0.073871</td>\n",
       "      <td>-0.048152</td>\n",
       "      <td>-0.215895</td>\n",
       "    </tr>\n",
       "    <tr>\n",
       "      <th>Stockholm_2016_Ross_Adams.STKHLM9246</th>\n",
       "      <td>0</td>\n",
       "      <td>1.0</td>\n",
       "      <td>0</td>\n",
       "      <td>0.073871</td>\n",
       "      <td>-0.048152</td>\n",
       "      <td>-0.003539</td>\n",
       "    </tr>\n",
       "  </tbody>\n",
       "</table>\n",
       "<p>1091 rows × 6 columns</p>\n",
       "</div>"
      ],
      "text/plain": [
       "                                      TISSUE_FFPE  TISSUE_Fresh_frozen  \\\n",
       "Atlanta_2014_Long.PT081                       1.0                    0   \n",
       "Atlanta_2014_Long.PT127                       1.0                    0   \n",
       "Atlanta_2014_Long.PT168                       1.0                    0   \n",
       "Atlanta_2014_Long.PT184                       1.0                    0   \n",
       "Atlanta_2014_Long.PT199                       1.0                    0   \n",
       "...                                           ...                  ...   \n",
       "Stockholm_2016_Ross_Adams.STKHLM8462            0                  1.0   \n",
       "Stockholm_2016_Ross_Adams.STKHLM8659            0                  1.0   \n",
       "Stockholm_2016_Ross_Adams.STKHLM9157            0                  1.0   \n",
       "Stockholm_2016_Ross_Adams.STKHLM9161            0                  1.0   \n",
       "Stockholm_2016_Ross_Adams.STKHLM9246            0                  1.0   \n",
       "\n",
       "                                      TISSUE_Snap_frozen       AGE  \\\n",
       "Atlanta_2014_Long.PT081                                0  2.540970   \n",
       "Atlanta_2014_Long.PT127                                0 -0.018317   \n",
       "Atlanta_2014_Long.PT168                                0  0.282775   \n",
       "Atlanta_2014_Long.PT184                                0 -0.469956   \n",
       "Atlanta_2014_Long.PT199                                0 -0.620502   \n",
       "...                                                  ...       ...   \n",
       "Stockholm_2016_Ross_Adams.STKHLM8462                   0  0.073871   \n",
       "Stockholm_2016_Ross_Adams.STKHLM8659                   0  0.073871   \n",
       "Stockholm_2016_Ross_Adams.STKHLM9157                   0  0.073871   \n",
       "Stockholm_2016_Ross_Adams.STKHLM9161                   0  0.073871   \n",
       "Stockholm_2016_Ross_Adams.STKHLM9246                   0  0.073871   \n",
       "\n",
       "                                      GLEASON_SCORE  PRE_OPERATIVE_PSA  \n",
       "Atlanta_2014_Long.PT081                   -0.094820          -0.341467  \n",
       "Atlanta_2014_Long.PT127                   -1.675161          -0.361595  \n",
       "Atlanta_2014_Long.PT168                   -1.675161          -0.837332  \n",
       "Atlanta_2014_Long.PT184                   -0.094820          -0.251809  \n",
       "Atlanta_2014_Long.PT199                   -0.094820          -0.542741  \n",
       "...                                             ...                ...  \n",
       "Stockholm_2016_Ross_Adams.STKHLM8462      -0.048152          -0.488924  \n",
       "Stockholm_2016_Ross_Adams.STKHLM8659      -0.048152          -0.003539  \n",
       "Stockholm_2016_Ross_Adams.STKHLM9157      -0.048152           0.072302  \n",
       "Stockholm_2016_Ross_Adams.STKHLM9161      -0.048152          -0.215895  \n",
       "Stockholm_2016_Ross_Adams.STKHLM9246      -0.048152          -0.003539  \n",
       "\n",
       "[1091 rows x 6 columns]"
      ]
     },
     "execution_count": 20,
     "metadata": {},
     "output_type": "execute_result"
    }
   ],
   "source": [
    "mp.X"
   ]
  },
  {
   "cell_type": "code",
   "execution_count": 19,
   "metadata": {},
   "outputs": [
    {
     "data": {
      "text/plain": [
       "1091"
      ]
     },
     "execution_count": 19,
     "metadata": {},
     "output_type": "execute_result"
    }
   ],
   "source": [
    "len(data.predict(mp.X))"
   ]
  },
  {
   "cell_type": "code",
   "execution_count": 12,
   "metadata": {},
   "outputs": [
    {
     "name": "stderr",
     "output_type": "stream",
     "text": [
      "2024-12-29 10:26:12,155 - INFO - No additional monitoring detected\n",
      "2024-12-29 10:26:12,156 - INFO - Start model training...\n",
      "2024-12-29 10:26:12,157 - INFO - Input data shape: X=(1091, 13219)\n",
      "2024-12-29 10:26:12,158 - INFO - Nested resampling...\n",
      "2024-12-29 10:26:12,159 - INFO - Starting nested resampling...\n",
      "2024-12-29 10:26:12,161 - INFO - Data shape: X=(1091, 13219), groups=9 unique\n",
      "2024-12-29 10:26:12,165 - INFO - \n",
      "Outer fold 1\n",
      "2024-12-29 10:26:12,257 - INFO - Test cohort: Atlanta_2014_Long\n"
     ]
    },
    {
     "name": "stdout",
     "output_type": "stream",
     "text": [
      "Fitting 8 folds for each of 1 candidates, totalling 8 fits\n"
     ]
    },
    {
     "name": "stderr",
     "output_type": "stream",
     "text": [
      "c:\\Users\\laeti\\PCaPrognostics\\.venv\\Lib\\site-packages\\sklearn\\utils\\validation.py:877: UserWarning: pandas.DataFrame with sparse columns found.It will be converted to a dense numpy array.\n",
      "  warnings.warn(\n",
      "c:\\Users\\laeti\\PCaPrognostics\\.venv\\Lib\\site-packages\\sklearn\\utils\\validation.py:877: UserWarning: pandas.DataFrame with sparse columns found.It will be converted to a dense numpy array.\n",
      "  warnings.warn(\n",
      "2024-12-29 10:26:26,335 - INFO - Best parameters: {'model__learning_rate': 0.1, 'model__max_features': 'log2', 'model__min_samples_split': 10, 'model__n_estimators': 200, 'model__n_iter_no_change': 10, 'model__subsample': 0.8, 'model__validation_fraction': 0.1}\n",
      "2024-12-29 10:26:26,336 - INFO - Test score: 0.676\n",
      "2024-12-29 10:26:26,337 - INFO - \n",
      "Outer fold 2\n",
      "2024-12-29 10:26:26,426 - INFO - Test cohort: Belfast_2018_Jain\n"
     ]
    },
    {
     "name": "stdout",
     "output_type": "stream",
     "text": [
      "Fitting 8 folds for each of 1 candidates, totalling 8 fits\n"
     ]
    },
    {
     "name": "stderr",
     "output_type": "stream",
     "text": [
      "c:\\Users\\laeti\\PCaPrognostics\\.venv\\Lib\\site-packages\\sklearn\\utils\\validation.py:877: UserWarning: pandas.DataFrame with sparse columns found.It will be converted to a dense numpy array.\n",
      "  warnings.warn(\n",
      "c:\\Users\\laeti\\PCaPrognostics\\.venv\\Lib\\site-packages\\sklearn\\utils\\validation.py:877: UserWarning: pandas.DataFrame with sparse columns found.It will be converted to a dense numpy array.\n",
      "  warnings.warn(\n",
      "2024-12-29 10:26:37,100 - INFO - Best parameters: {'model__learning_rate': 0.1, 'model__max_features': 'log2', 'model__min_samples_split': 10, 'model__n_estimators': 200, 'model__n_iter_no_change': 10, 'model__subsample': 0.8, 'model__validation_fraction': 0.1}\n",
      "2024-12-29 10:26:37,102 - INFO - Test score: 0.622\n",
      "2024-12-29 10:26:37,104 - INFO - \n",
      "Outer fold 3\n",
      "2024-12-29 10:26:37,202 - INFO - Test cohort: CPC_GENE_2017_Fraser\n"
     ]
    },
    {
     "name": "stdout",
     "output_type": "stream",
     "text": [
      "Fitting 8 folds for each of 1 candidates, totalling 8 fits\n"
     ]
    },
    {
     "name": "stderr",
     "output_type": "stream",
     "text": [
      "c:\\Users\\laeti\\PCaPrognostics\\.venv\\Lib\\site-packages\\sklearn\\utils\\validation.py:877: UserWarning: pandas.DataFrame with sparse columns found.It will be converted to a dense numpy array.\n",
      "  warnings.warn(\n",
      "c:\\Users\\laeti\\PCaPrognostics\\.venv\\Lib\\site-packages\\sklearn\\utils\\validation.py:877: UserWarning: pandas.DataFrame with sparse columns found.It will be converted to a dense numpy array.\n",
      "  warnings.warn(\n",
      "2024-12-29 10:26:52,550 - INFO - Best parameters: {'model__learning_rate': 0.1, 'model__max_features': 'log2', 'model__min_samples_split': 10, 'model__n_estimators': 200, 'model__n_iter_no_change': 10, 'model__subsample': 0.8, 'model__validation_fraction': 0.1}\n",
      "2024-12-29 10:26:52,550 - INFO - Test score: 0.654\n",
      "2024-12-29 10:26:52,553 - INFO - \n",
      "Outer fold 4\n",
      "2024-12-29 10:26:52,646 - INFO - Test cohort: CPGEA_2020_Li\n"
     ]
    },
    {
     "name": "stdout",
     "output_type": "stream",
     "text": [
      "Fitting 8 folds for each of 1 candidates, totalling 8 fits\n"
     ]
    },
    {
     "name": "stderr",
     "output_type": "stream",
     "text": [
      "c:\\Users\\laeti\\PCaPrognostics\\.venv\\Lib\\site-packages\\sklearn\\utils\\validation.py:877: UserWarning: pandas.DataFrame with sparse columns found.It will be converted to a dense numpy array.\n",
      "  warnings.warn(\n",
      "c:\\Users\\laeti\\PCaPrognostics\\.venv\\Lib\\site-packages\\sklearn\\utils\\validation.py:877: UserWarning: pandas.DataFrame with sparse columns found.It will be converted to a dense numpy array.\n",
      "  warnings.warn(\n",
      "2024-12-29 10:27:05,575 - INFO - Best parameters: {'model__learning_rate': 0.1, 'model__max_features': 'log2', 'model__min_samples_split': 10, 'model__n_estimators': 200, 'model__n_iter_no_change': 10, 'model__subsample': 0.8, 'model__validation_fraction': 0.1}\n",
      "2024-12-29 10:27:05,575 - INFO - Test score: 0.682\n",
      "2024-12-29 10:27:05,575 - INFO - \n",
      "Outer fold 5\n",
      "2024-12-29 10:27:05,670 - INFO - Test cohort: CamCap_2016_Ross_Adams\n"
     ]
    },
    {
     "name": "stdout",
     "output_type": "stream",
     "text": [
      "Fitting 8 folds for each of 1 candidates, totalling 8 fits\n"
     ]
    },
    {
     "name": "stderr",
     "output_type": "stream",
     "text": [
      "c:\\Users\\laeti\\PCaPrognostics\\.venv\\Lib\\site-packages\\sklearn\\utils\\validation.py:877: UserWarning: pandas.DataFrame with sparse columns found.It will be converted to a dense numpy array.\n",
      "  warnings.warn(\n",
      "c:\\Users\\laeti\\PCaPrognostics\\.venv\\Lib\\site-packages\\sklearn\\utils\\validation.py:877: UserWarning: pandas.DataFrame with sparse columns found.It will be converted to a dense numpy array.\n",
      "  warnings.warn(\n",
      "2024-12-29 10:27:16,586 - INFO - Best parameters: {'model__learning_rate': 0.1, 'model__max_features': 'log2', 'model__min_samples_split': 10, 'model__n_estimators': 200, 'model__n_iter_no_change': 10, 'model__subsample': 0.8, 'model__validation_fraction': 0.1}\n",
      "2024-12-29 10:27:16,586 - INFO - Test score: 0.821\n",
      "2024-12-29 10:27:16,586 - INFO - \n",
      "Outer fold 6\n",
      "2024-12-29 10:27:16,702 - INFO - Test cohort: CancerMap_2017_Luca\n"
     ]
    },
    {
     "name": "stdout",
     "output_type": "stream",
     "text": [
      "Fitting 8 folds for each of 1 candidates, totalling 8 fits\n"
     ]
    },
    {
     "name": "stderr",
     "output_type": "stream",
     "text": [
      "c:\\Users\\laeti\\PCaPrognostics\\.venv\\Lib\\site-packages\\sklearn\\utils\\validation.py:877: UserWarning: pandas.DataFrame with sparse columns found.It will be converted to a dense numpy array.\n",
      "  warnings.warn(\n",
      "c:\\Users\\laeti\\PCaPrognostics\\.venv\\Lib\\site-packages\\sklearn\\utils\\validation.py:877: UserWarning: pandas.DataFrame with sparse columns found.It will be converted to a dense numpy array.\n",
      "  warnings.warn(\n",
      "2024-12-29 10:27:25,618 - INFO - Best parameters: {'model__learning_rate': 0.1, 'model__max_features': 'log2', 'model__min_samples_split': 10, 'model__n_estimators': 200, 'model__n_iter_no_change': 10, 'model__subsample': 0.8, 'model__validation_fraction': 0.1}\n",
      "2024-12-29 10:27:25,618 - INFO - Test score: 0.701\n",
      "2024-12-29 10:27:25,618 - INFO - \n",
      "Outer fold 7\n",
      "2024-12-29 10:27:25,700 - INFO - Test cohort: DKFZ_2018_Gerhauser\n"
     ]
    },
    {
     "name": "stdout",
     "output_type": "stream",
     "text": [
      "Fitting 8 folds for each of 1 candidates, totalling 8 fits\n"
     ]
    },
    {
     "name": "stderr",
     "output_type": "stream",
     "text": [
      "c:\\Users\\laeti\\PCaPrognostics\\.venv\\Lib\\site-packages\\sklearn\\utils\\validation.py:877: UserWarning: pandas.DataFrame with sparse columns found.It will be converted to a dense numpy array.\n",
      "  warnings.warn(\n",
      "c:\\Users\\laeti\\PCaPrognostics\\.venv\\Lib\\site-packages\\sklearn\\utils\\validation.py:877: UserWarning: pandas.DataFrame with sparse columns found.It will be converted to a dense numpy array.\n",
      "  warnings.warn(\n",
      "2024-12-29 10:27:35,328 - INFO - Best parameters: {'model__learning_rate': 0.1, 'model__max_features': 'log2', 'model__min_samples_split': 10, 'model__n_estimators': 200, 'model__n_iter_no_change': 10, 'model__subsample': 0.8, 'model__validation_fraction': 0.1}\n",
      "2024-12-29 10:27:35,328 - INFO - Test score: 0.814\n",
      "2024-12-29 10:27:35,333 - INFO - \n",
      "Outer fold 8\n",
      "2024-12-29 10:27:35,432 - INFO - Test cohort: MSKCC_2010_Taylor\n"
     ]
    },
    {
     "name": "stdout",
     "output_type": "stream",
     "text": [
      "Fitting 8 folds for each of 1 candidates, totalling 8 fits\n"
     ]
    },
    {
     "name": "stderr",
     "output_type": "stream",
     "text": [
      "c:\\Users\\laeti\\PCaPrognostics\\.venv\\Lib\\site-packages\\sklearn\\utils\\validation.py:877: UserWarning: pandas.DataFrame with sparse columns found.It will be converted to a dense numpy array.\n",
      "  warnings.warn(\n",
      "c:\\Users\\laeti\\PCaPrognostics\\.venv\\Lib\\site-packages\\sklearn\\utils\\validation.py:877: UserWarning: pandas.DataFrame with sparse columns found.It will be converted to a dense numpy array.\n",
      "  warnings.warn(\n",
      "2024-12-29 10:27:46,129 - INFO - Best parameters: {'model__learning_rate': 0.1, 'model__max_features': 'log2', 'model__min_samples_split': 10, 'model__n_estimators': 200, 'model__n_iter_no_change': 10, 'model__subsample': 0.8, 'model__validation_fraction': 0.1}\n",
      "2024-12-29 10:27:46,129 - INFO - Test score: 0.692\n",
      "2024-12-29 10:27:46,139 - INFO - \n",
      "Outer fold 9\n",
      "2024-12-29 10:27:46,223 - INFO - Test cohort: Stockholm_2016_Ross_Adams\n"
     ]
    },
    {
     "name": "stdout",
     "output_type": "stream",
     "text": [
      "Fitting 8 folds for each of 1 candidates, totalling 8 fits\n"
     ]
    },
    {
     "name": "stderr",
     "output_type": "stream",
     "text": [
      "c:\\Users\\laeti\\PCaPrognostics\\.venv\\Lib\\site-packages\\sklearn\\utils\\validation.py:877: UserWarning: pandas.DataFrame with sparse columns found.It will be converted to a dense numpy array.\n",
      "  warnings.warn(\n",
      "c:\\Users\\laeti\\PCaPrognostics\\.venv\\Lib\\site-packages\\sklearn\\utils\\validation.py:877: UserWarning: pandas.DataFrame with sparse columns found.It will be converted to a dense numpy array.\n",
      "  warnings.warn(\n",
      "2024-12-29 10:27:56,501 - INFO - Best parameters: {'model__learning_rate': 0.1, 'model__max_features': 'log2', 'model__min_samples_split': 10, 'model__n_estimators': 200, 'model__n_iter_no_change': 10, 'model__subsample': 0.8, 'model__validation_fraction': 0.1}\n",
      "2024-12-29 10:27:56,511 - INFO - Test score: 0.713\n",
      "2024-12-29 10:27:56,511 - INFO - Aggregated results:\n",
      "2024-12-29 10:27:56,511 - INFO - Mean score: 0.708 ± 0.064\n",
      "2024-12-29 10:27:56,511 - INFO - Individual scores: [np.float64(0.6763005780346821), np.float64(0.6221304873137334), np.float64(0.6538461538461539), np.float64(0.6820660891883221), np.float64(0.8207036535859269), np.float64(0.7008797653958945), np.float64(0.8144758735440932), np.float64(0.6917701863354038), np.float64(0.7127910901113736)]\n",
      "2024-12-29 10:27:56,522 - WARNING - Won't save any model, since its not provided\n",
      "2024-12-29 10:27:56,589 - INFO - Saved CV results to c:\\Users\\laeti\\PCaPrognostics\\models\\grad_boost\\results\\results\\results_PCA_cv.csv\n",
      "2024-12-29 10:27:56,589 - WARNING - Won't save any pipe, since its not provided\n",
      "2024-12-29 10:27:56,589 - INFO - Do HP Tuning for complete model; refit + set complete model\n",
      "2024-12-29 10:27:56,589 - INFO - Do HP Tuning for complete model\n"
     ]
    },
    {
     "name": "stdout",
     "output_type": "stream",
     "text": [
      "Fitting 9 folds for each of 1 candidates, totalling 9 fits\n"
     ]
    },
    {
     "name": "stderr",
     "output_type": "stream",
     "text": [
      "c:\\Users\\laeti\\PCaPrognostics\\.venv\\Lib\\site-packages\\sklearn\\utils\\validation.py:877: UserWarning: pandas.DataFrame with sparse columns found.It will be converted to a dense numpy array.\n",
      "  warnings.warn(\n",
      "2024-12-29 10:28:12,286 - INFO - Saved model to c:\\Users\\laeti\\PCaPrognostics\\models\\grad_boost\\results\\model\n",
      "2024-12-29 10:28:12,286 - WARNING - Won't save any cv results, since its not provided\n",
      "2024-12-29 10:28:12,301 - INFO - Saved pipe to c:\\Users\\laeti\\PCaPrognostics\\models\\grad_boost\\results\\pipe\n"
     ]
    }
   ],
   "source": [
    "nstd_res_result = mp.do_modelling(gb_pipeline_steps, MODEL_CONFIG)"
   ]
  },
  {
   "cell_type": "code",
   "execution_count": null,
   "metadata": {},
   "outputs": [],
   "source": [
    "mp.save_results(RESULTS_DIR, 'gb_intersect_imp', model = mp.cmplt_model, cv_results = mp.resampling_cmplt, pipe = mp.cmplt_pipeline)"
   ]
  },
  {
   "cell_type": "code",
   "execution_count": 24,
   "metadata": {},
   "outputs": [
    {
     "name": "stderr",
     "output_type": "stream",
     "text": [
      "C:\\Users\\laeti\\AppData\\Local\\Temp\\ipykernel_2220\\3881194196.py:5: UserWarning: Boolean Series key will be reindexed to match DataFrame index.\n",
      "  df_features.sort_values(by = 'imps', ascending=False)[df_features['imps'] > 0]\n"
     ]
    },
    {
     "data": {
      "text/html": [
       "<div>\n",
       "<style scoped>\n",
       "    .dataframe tbody tr th:only-of-type {\n",
       "        vertical-align: middle;\n",
       "    }\n",
       "\n",
       "    .dataframe tbody tr th {\n",
       "        vertical-align: top;\n",
       "    }\n",
       "\n",
       "    .dataframe thead th {\n",
       "        text-align: right;\n",
       "    }\n",
       "</style>\n",
       "<table border=\"1\" class=\"dataframe\">\n",
       "  <thead>\n",
       "    <tr style=\"text-align: right;\">\n",
       "      <th></th>\n",
       "      <th>feat</th>\n",
       "      <th>imps</th>\n",
       "    </tr>\n",
       "  </thead>\n",
       "  <tbody>\n",
       "    <tr>\n",
       "      <th>2387</th>\n",
       "      <td>ENSG00000104313</td>\n",
       "      <td>0.006392</td>\n",
       "    </tr>\n",
       "    <tr>\n",
       "      <th>4361</th>\n",
       "      <td>ENSG00000123485</td>\n",
       "      <td>0.005313</td>\n",
       "    </tr>\n",
       "    <tr>\n",
       "      <th>5208</th>\n",
       "      <td>ENSG00000132122</td>\n",
       "      <td>0.004998</td>\n",
       "    </tr>\n",
       "    <tr>\n",
       "      <th>3186</th>\n",
       "      <td>ENSG00000111670</td>\n",
       "      <td>0.004415</td>\n",
       "    </tr>\n",
       "    <tr>\n",
       "      <th>2639</th>\n",
       "      <td>ENSG00000106025</td>\n",
       "      <td>0.003916</td>\n",
       "    </tr>\n",
       "    <tr>\n",
       "      <th>...</th>\n",
       "      <td>...</td>\n",
       "      <td>...</td>\n",
       "    </tr>\n",
       "    <tr>\n",
       "      <th>4564</th>\n",
       "      <td>ENSG00000125508</td>\n",
       "      <td>0.000064</td>\n",
       "    </tr>\n",
       "    <tr>\n",
       "      <th>9371</th>\n",
       "      <td>ENSG00000167487</td>\n",
       "      <td>0.000059</td>\n",
       "    </tr>\n",
       "    <tr>\n",
       "      <th>1493</th>\n",
       "      <td>ENSG00000088543</td>\n",
       "      <td>0.000050</td>\n",
       "    </tr>\n",
       "    <tr>\n",
       "      <th>8409</th>\n",
       "      <td>ENSG00000162620</td>\n",
       "      <td>0.000028</td>\n",
       "    </tr>\n",
       "    <tr>\n",
       "      <th>4708</th>\n",
       "      <td>ENSG00000126768</td>\n",
       "      <td>0.000028</td>\n",
       "    </tr>\n",
       "  </tbody>\n",
       "</table>\n",
       "<p>883 rows × 2 columns</p>\n",
       "</div>"
      ],
      "text/plain": [
       "                 feat      imps\n",
       "2387  ENSG00000104313  0.006392\n",
       "4361  ENSG00000123485  0.005313\n",
       "5208  ENSG00000132122  0.004998\n",
       "3186  ENSG00000111670  0.004415\n",
       "2639  ENSG00000106025  0.003916\n",
       "...               ...       ...\n",
       "4564  ENSG00000125508  0.000064\n",
       "9371  ENSG00000167487  0.000059\n",
       "1493  ENSG00000088543  0.000050\n",
       "8409  ENSG00000162620  0.000028\n",
       "4708  ENSG00000126768  0.000028\n",
       "\n",
       "[883 rows x 2 columns]"
      ]
     },
     "execution_count": 24,
     "metadata": {},
     "output_type": "execute_result"
    }
   ],
   "source": [
    "df_features = pd.DataFrame()\n",
    "df_features['feat'] = mp.X.columns\n",
    "df_features['imps'] = mp.cmplt_model.feature_importances_\n",
    "\n",
    "df_features.sort_values(by = 'imps', ascending=False)[df_features['imps'] > 0]"
   ]
  },
  {
   "cell_type": "markdown",
   "metadata": {},
   "source": [
    "### 1.2 Model with only pData"
   ]
  },
  {
   "cell_type": "code",
   "execution_count": null,
   "metadata": {},
   "outputs": [],
   "source": [
    "# set early stopping monitor \n",
    "monitor = EarlyStoppingMonitor(10, 5)\n",
    "\n",
    "# Data configuration\n",
    "DATA_CONFIG = {\n",
    "    'use_pca': False,\n",
    "    'pca_threshold': 0.85,\n",
    "    'gene_type': 'intersection',\n",
    "    'use_imputed': True,\n",
    "    'select_random' : False, \n",
    "    'use_cohorts': False,\n",
    "    'only_pData' : True\n",
    "}\n",
    "\n",
    "# Model configuration\n",
    "MODEL_CONFIG = {\n",
    "    'params_cv': {\n",
    "        'model__n_estimators': [500],\n",
    "        'model__learning_rate': [0.1],\n",
    "        'model__max_depth': [3, 5],\n",
    "        'model__min_samples_split': [5, 10],\n",
    "        'model__min_samples_leaf': [3, 5],\n",
    "        'model__subsample': [0.9],\n",
    "        'model__max_features': ['sqrt', None]\n",
    "    },\n",
    "    'refit': True, \n",
    "    'do_nested_resampling': True, \n",
    "    'monitor' : monitor, \n",
    "    'path' : RESULTS_DIR, \n",
    "    'fname_cv' : 'results_PCA'}\n",
    "\n",
    "# validation_fraction=0.1 as a mean to inclued early stopping\n",
    "gb_pipeline_steps = [('model', GradientBoostingSurvivalAnalysis())]\n"
   ]
  },
  {
   "cell_type": "markdown",
   "metadata": {},
   "source": [
    "### 1.3 Model with both exprs. and pData"
   ]
  }
 ],
 "metadata": {
  "kernelspec": {
   "display_name": ".venv",
   "language": "python",
   "name": "python3"
  },
  "language_info": {
   "codemirror_mode": {
    "name": "ipython",
    "version": 3
   },
   "file_extension": ".py",
   "mimetype": "text/x-python",
   "name": "python",
   "nbconvert_exporter": "python",
   "pygments_lexer": "ipython3",
   "version": "3.12.0"
  }
 },
 "nbformat": 4,
 "nbformat_minor": 2
}
