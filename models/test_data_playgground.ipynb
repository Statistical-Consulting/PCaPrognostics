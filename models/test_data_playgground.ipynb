{
 "cells": [
  {
   "metadata": {},
   "cell_type": "code",
   "outputs": [],
   "execution_count": null,
   "source": "",
   "id": "e5fd4d809b50f009"
  },
  {
   "metadata": {},
   "cell_type": "markdown",
   "source": "### Müssen noch anschauen wie wir das mit den unterschiedlichen verfügbaren Genen machen. GGF nur die FÜr training nutzen?\n",
   "id": "1f0daf246f0717db"
  },
  {
   "metadata": {
    "ExecuteTime": {
     "end_time": "2024-12-23T17:11:45.724602Z",
     "start_time": "2024-12-23T17:11:40.132443Z"
    }
   },
   "cell_type": "code",
   "source": [
    "import pandas as pd\n",
    "import os\n",
    "import sys\n",
    "import numpy as np\n",
    "\n",
    "# Setup paths wie bisher\n",
    "PROJECT_ROOT = os.path.dirname(os.path.dirname(os.getcwd()))\n",
    "if PROJECT_ROOT not in sys.path:\n",
    "    sys.path.append(PROJECT_ROOT)\n",
    "\n",
    "# Pfade für Training Daten\n",
    "exprs_path = os.path.join(PROJECT_ROOT, 'PCaPrognostics', 'data', 'merged_data', 'exprs', 'common_genes', 'common_genes_knn_imputed.csv')\n",
    "pdata_path = os.path.join(PROJECT_ROOT, 'PCaPrognostics', 'data', 'merged_data', 'pData', 'imputed', 'merged_imputed_pData.csv')\n",
    "\n",
    "# Neue Pfade für Test Daten\n",
    "test_exprs_path = os.path.join(PROJECT_ROOT, 'PCaPrognostics', 'data', 'merged_data', 'exprs', 'all_genes', 'test_exprs.csv')\n",
    "test_pdata_path = os.path.join(PROJECT_ROOT, 'PCaPrognostics', 'data', 'merged_data', 'pData', 'original', 'test_pData.csv')\n",
    "\n",
    "# Load all data\n",
    "exprs = pd.read_csv(exprs_path, index_col=0)\n",
    "pdata = pd.read_csv(pdata_path, index_col=0)\n",
    "test_exprs = pd.read_csv(test_exprs_path, index_col=0)\n",
    "test_pdata = pd.read_csv(test_pdata_path, index_col=0)\n",
    "\n",
    "# Vergleiche der Gene\n",
    "n_train_genes = len(exprs.columns)\n",
    "n_test_genes = len(test_exprs.columns)\n",
    "common_genes = set(exprs.columns).intersection(set(test_exprs.columns))\n",
    "n_common_genes = len(common_genes)\n",
    "\n",
    "print(f\"Anzahl Gene in Training Daten: {n_train_genes}\")\n",
    "print(f\"Anzahl Gene in Test Daten: {n_test_genes}\")\n",
    "print(f\"Anzahl gemeinsamer Gene: {n_common_genes}\")\n",
    "\n",
    "# Optional: Detailliertere Analyse\n",
    "genes_only_in_train = set(exprs.columns) - set(test_exprs.columns)\n",
    "genes_only_in_test = set(test_exprs.columns) - set(exprs.columns)\n",
    "\n",
    "print(f\"\\nAnzahl Gene nur in Training: {len(genes_only_in_train)}\")\n",
    "print(f\"Anzahl Gene nur in Test: {len(genes_only_in_test)}\")\n",
    "\n",
    "# Optional: Speichere die Listen der unterschiedlichen Gene\n",
    "if len(genes_only_in_train) > 0 or len(genes_only_in_test) > 0:\n",
    "    with open('survival_svm/gene_comparison.txt', 'w') as f:\n",
    "        f.write(\"Genes only in training:\\n\")\n",
    "        f.write(\"\\n\".join(sorted(genes_only_in_train)))\n",
    "        f.write(\"\\n\\nGenes only in test:\\n\")\n",
    "        f.write(\"\\n\".join(sorted(genes_only_in_test)))"
   ],
   "id": "75f0f9c4edaa7b26",
   "outputs": [
    {
     "name": "stdout",
     "output_type": "stream",
     "text": [
      "Anzahl Gene in Training Daten: 15495\n",
      "Anzahl Gene in Test Daten: 13051\n",
      "Anzahl gemeinsamer Gene: 13051\n",
      "\n",
      "Anzahl Gene nur in Training: 2444\n",
      "Anzahl Gene nur in Test: 0\n"
     ]
    }
   ],
   "execution_count": 6
  }
 ],
 "metadata": {
  "kernelspec": {
   "name": "python3",
   "language": "python",
   "display_name": "Python 3 (ipykernel)"
  }
 },
 "nbformat": 5,
 "nbformat_minor": 9
}
