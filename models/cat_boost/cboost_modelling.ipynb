{
 "cells": [
  {
   "cell_type": "code",
   "execution_count": 1,
   "metadata": {},
   "outputs": [],
   "source": [
    "import os\n",
    "import sys\n",
    "import pandas as pd\n",
    "import numpy as np\n",
    "from pathlib import Path\n",
    "import logging\n",
    "from catboost import CatBoostRegressor, Pool\n",
    "\n",
    "# Setup paths\n",
    "PROJECT_ROOT = os.path.dirname(os.path.dirname(os.getcwd()))\n",
    "if PROJECT_ROOT not in sys.path:\n",
    "    sys.path.append(PROJECT_ROOT)\n",
    "\n",
    "# Setup directories\n",
    "RESULTS_DIR = os.path.join(os.getcwd(), 'results')\n",
    "os.makedirs(RESULTS_DIR, exist_ok=True)\n",
    "\n",
    "# Imports\n",
    "from preprocessing.data_container import DataContainer\n",
    "from utils.evaluation import cindex_score\n",
    "from models.modelling_process import ModellingProcess\n",
    "from sksurv.ensemble import GradientBoostingSurvivalAnalysis\n",
    "from utils.evaluation import EarlyStoppingMonitor\n",
    "from sklearn.model_selection import train_test_split\n",
    "from lifelines.utils import concordance_index\n",
    "from sklearn.utils.validation import check_X_y, check_is_fitted\n",
    "from sklearn.base import BaseEstimator, RegressorMixin\n",
    "\n",
    "\n",
    "# Setup logging\n",
    "logging.basicConfig(\n",
    "    level=logging.INFO,\n",
    "    format='%(asctime)s - %(levelname)s - %(message)s'\n",
    ")\n",
    "logger = logging.getLogger(__name__)"
   ]
  },
  {
   "cell_type": "code",
   "execution_count": 20,
   "metadata": {},
   "outputs": [],
   "source": [
    "class CatBoostModel(BaseEstimator, RegressorMixin): \n",
    "    def __init__(self, cat_features = ['TISSUE'], \n",
    "                 iterations = None, loss_function = \"Cox\", eval_metric = \"Cox\", early_stopping_rounds = 5, \n",
    "                 rsm = 0.1, depth = None, min_data_in_leaf = None, learning_rate = 0.1): \n",
    "        super(CatBoostModel, self).__init__()\n",
    "        self.cat_features = cat_features\n",
    "        self.is_fitted_ = False\n",
    "        self.iterations=iterations\n",
    "        self.loss_function=loss_function\n",
    "        self.eval_metric=eval_metric\n",
    "        self.early_stopping_rounds = early_stopping_rounds\n",
    "        self.bootstrap_type='Bernoulli'\n",
    "        self.boosting_type = 'Plain'\n",
    "        self.rsm = rsm \n",
    "        self.depth = depth\n",
    "        self.min_data_in_leaf = min_data_in_leaf\n",
    "        self.learning_rate = learning_rate\n",
    "        \n",
    "        \n",
    "    def _prepare_data(self, X, y):\n",
    "        y = pd.DataFrame(y)\n",
    "        if self.loss_function == 'Cox': \n",
    "            y['label'] = np.where(y['status'], y['time'], - y['time'])\n",
    "        # TODO: Include other loss\n",
    "        \n",
    "        for col in self.cat_features:\n",
    "            X.loc[:, col] = X.loc[:,col].astype('category')\n",
    "        \n",
    "        #data = pd.concat([X, y], dim = 1)\n",
    "        #print(data.info())\n",
    "        return X, y['label']\n",
    "    \n",
    "    def fit(self, X, y): \n",
    "        # early stopping mit 0.1 des training sets\n",
    "        X, y = self._prepare_data(X, y)\n",
    "\n",
    "        train_X, val_X, train_y, val_y = train_test_split(X, y, test_size=0.1)\n",
    "\n",
    "        #train_pool = Pool(train[features], label=train['label'], cat_features=cat_features)\n",
    "        #val_pool = Pool(val[features], label=test['label'], cat_features=cat_features)\n",
    "\n",
    "        self.model = CatBoostRegressor(iterations=self.iterations,\n",
    "                        loss_function=self.loss_function,\n",
    "                        depth = self.depth, \n",
    "                        eval_metric=self.eval_metric,\n",
    "                        learning_rate=self.learning_rate, \n",
    "                        early_stopping_rounds = self.early_stopping_rounds,\n",
    "                        bootstrap_type=self.bootstrap_type, \n",
    "                        boosting_type=self.boosting_type,\n",
    "                        min_data_in_leaf = self.min_data_in_leaf,\n",
    "                        rsm = self.rsm, \n",
    "                        cat_features=self.cat_features)\n",
    "        \n",
    "        self.model.fit(X = train_X, y = train_y, eval_set= (val_X, val_y))\n",
    "        self.is_fitted_ = True\n",
    "        return self\n",
    "\n",
    "    def predict(self, X): \n",
    "        check_is_fitted(self, 'is_fitted_')\n",
    "        train_y_pred = self.model.predict(X)\n",
    "        return train_y_pred\n",
    "    \n",
    "    def score(self, X, y):\n",
    "        check_is_fitted(self, 'is_fitted_')\n",
    "        preds = self.predict(X)\n",
    "        ci = concordance_index(y['time'], -preds, y['status'])\n",
    "        return ci\n",
    "    \n",
    "    def set_params(self, **parameters):\n",
    "        for parameter, value in parameters.items():\n",
    "            setattr(self, parameter, value)\n",
    "        return self\n",
    "    \n",
    "    def clone(self): \n",
    "        super(self).clone()\n",
    "    \n",
    "    def get_feature_importance(self, X, y): \n",
    "        X, y = self._prepare_data(X, y)\n",
    "        check_is_fitted(self, 'is_fitted_')\n",
    "        data = Pool(X, label=y, cat_features=self.cat_features)\n",
    "        imp = self.model.get_feature_importance(data=data)\n",
    "        return imp\n",
    "\n"
   ]
  },
  {
   "cell_type": "code",
   "execution_count": 21,
   "metadata": {},
   "outputs": [],
   "source": [
    "cat_features = ['TISSUE']"
   ]
  },
  {
   "cell_type": "code",
   "execution_count": 22,
   "metadata": {},
   "outputs": [],
   "source": [
    "DATA_CONFIG = {\n",
    "    'use_pca': False,\n",
    "    'pca_threshold': 0.85,\n",
    "    'gene_type': 'intersection',\n",
    "    'use_imputed': True,\n",
    "    'select_random' : False, \n",
    "    'use_cohorts': False, \n",
    "    'requires_ohenc' : False, \n",
    "    'only_pData': True, \n",
    "    'clinical_covs' : [\"AGE\", \"TISSUE\", \"GLEASON_SCORE\", 'PRE_OPERATIVE_PSA']\n",
    "}\n",
    "\n",
    "# Model configuration\n",
    "# MODEL_CONFIG = {\n",
    "#     'params_cv': {\n",
    "#         'model__n_estimators': [500],\n",
    "#         'model__learning_rate': [0.1],\n",
    "#         'model__max_depth': [3, 5],\n",
    "#         'model__min_samples_split': [5, 10],\n",
    "#         'model__min_samples_leaf': [3, 5],\n",
    "#         'model__subsample': [0.9],\n",
    "#         'model__max_features': ['sqrt'], \n",
    "#         'model__n_iter_no_change' : [10], \n",
    "#         'model__validation_fraction' : [0.1]\n",
    "#     },\n",
    "#     'refit': True, \n",
    "#     'do_nested_resampling': False, \n",
    "#     #'monitor' : monitor, \n",
    "#     'path' : RESULTS_DIR, \n",
    "#     'fname_cv' : 'test'}\n",
    "\n",
    "# # Model configuration\n",
    "MODEL_CONFIG = {\n",
    "    'params_cv': {\n",
    "        'model__iterations': [500],\n",
    "        'model__learning_rate': [0.1],\n",
    "        'model__depth': [3, 5, 10],\n",
    "        'model__min_data_in_leaf': [3, 5, 10],\n",
    "        'model__max_features': ['sqrt', 'log2'],  \n",
    "        'model__nan_mode' : [\"Forbidden\", \"Min\"]\n",
    "        },\n",
    "    'refit': True, \n",
    "    'do_nested_resampling': True, \n",
    "    'path' : RESULTS_DIR, \n",
    "    'fname_cv' : 'gb_inter_genes_pData'}\n",
    "\n",
    "# validation_fraction=0.1 as a mean to inclued early stopping\n",
    "gb_pipeline_steps = [('model', CatBoostModel())]"
   ]
  },
  {
   "cell_type": "code",
   "execution_count": null,
   "metadata": {},
   "outputs": [],
   "source": []
  },
  {
   "cell_type": "code",
   "execution_count": 23,
   "metadata": {},
   "outputs": [
    {
     "name": "stderr",
     "output_type": "stream",
     "text": [
      "2025-01-08 13:33:40,056 - INFO - Loading data...\n",
      "2025-01-08 13:33:56,012 - INFO - Found clinical data specification\n",
      "2025-01-08 13:33:56,019 - INFO - Only uses pData\n",
      "2025-01-08 13:33:56,151 - INFO - Loaded data: 1091 samples, 4 features\n"
     ]
    },
    {
     "name": "stdout",
     "output_type": "stream",
     "text": [
      "<class 'pandas.core.frame.DataFrame'>\n",
      "Index: 1091 entries, Atlanta_2014_Long.PT081 to Stockholm_2016_Ross_Adams.STKHLM9246\n",
      "Data columns (total 8 columns):\n",
      " #   Column             Non-Null Count  Dtype  \n",
      "---  ------             --------------  -----  \n",
      " 0   AGE                1091 non-null   float64\n",
      " 1   TISSUE             1091 non-null   object \n",
      " 2   CLIN_T_STAGE       1091 non-null   object \n",
      " 3   PATH_T_STAGE       1091 non-null   object \n",
      " 4   GLEASON_SCORE      1091 non-null   float64\n",
      " 5   PRE_OPERATIVE_PSA  1091 non-null   float64\n",
      " 6   MONTH_TO_BCR       1091 non-null   float64\n",
      " 7   BCR_STATUS         1091 non-null   int64  \n",
      "dtypes: float64(4), int64(1), object(3)\n",
      "memory usage: 76.7+ KB\n",
      "None\n"
     ]
    }
   ],
   "source": [
    "mp = ModellingProcess()\n",
    "mp.prepare_data(DATA_CONFIG, PROJECT_ROOT)\n",
    "\n",
    "#mp.save_results(RESULTS_DIR, 'gb_intersect_imp_done', model = mp.cmplt_model, cv_results = mp.resampling_cmplt, pipe = mp.cmplt_pipeline)"
   ]
  },
  {
   "cell_type": "code",
   "execution_count": 24,
   "metadata": {},
   "outputs": [
    {
     "name": "stderr",
     "output_type": "stream",
     "text": [
      "2025-01-08 13:33:56,162 - INFO - No additional monitoring detected\n",
      "2025-01-08 13:33:56,162 - INFO - Start model training...\n",
      "2025-01-08 13:33:56,163 - INFO - Input data shape: X=(1091, 4)\n",
      "2025-01-08 13:33:56,164 - INFO - Nested resampling...\n",
      "2025-01-08 13:33:56,165 - INFO - Starting nested resampling...\n",
      "2025-01-08 13:33:56,166 - INFO - Data shape: X=(1091, 4), groups=9 unique\n",
      "2025-01-08 13:33:56,167 - INFO - \n",
      "Outer fold 1\n",
      "2025-01-08 13:33:56,169 - INFO - Test cohort: Atlanta_2014_Long\n"
     ]
    },
    {
     "name": "stdout",
     "output_type": "stream",
     "text": [
      "Fitting 8 folds for each of 36 candidates, totalling 288 fits\n"
     ]
    },
    {
     "name": "stderr",
     "output_type": "stream",
     "text": [
      "2025-01-08 13:34:14,558 - INFO - Best parameters: {'model__depth': 10, 'model__iterations': 500, 'model__learning_rate': 0.1, 'model__max_features': 'sqrt', 'model__min_data_in_leaf': 10, 'model__nan_mode': 'Min'}\n",
      "2025-01-08 13:34:14,560 - INFO - Test score: 0.646\n",
      "2025-01-08 13:34:14,560 - INFO - \n",
      "Outer fold 2\n",
      "2025-01-08 13:34:14,561 - INFO - Test cohort: Belfast_2018_Jain\n"
     ]
    },
    {
     "name": "stdout",
     "output_type": "stream",
     "text": [
      "0:\tlearn: -1468.7839692\ttest: -83.2561586\tbest: -83.2561586 (0)\ttotal: 530us\tremaining: 265ms\n",
      "1:\tlearn: -1468.7839692\ttest: -83.2561586\tbest: -83.2561586 (1)\ttotal: 1.01ms\tremaining: 251ms\n",
      "2:\tlearn: -1468.7839692\ttest: -83.2561586\tbest: -83.2561586 (1)\ttotal: 1.45ms\tremaining: 240ms\n",
      "3:\tlearn: -1468.7839692\ttest: -83.2561586\tbest: -83.2561586 (1)\ttotal: 1.85ms\tremaining: 229ms\n",
      "4:\tlearn: -1468.7839692\ttest: -83.2561586\tbest: -83.2561586 (1)\ttotal: 2.23ms\tremaining: 221ms\n",
      "5:\tlearn: -1467.0326879\ttest: -83.2988814\tbest: -83.2561586 (1)\ttotal: 2.75ms\tremaining: 227ms\n",
      "6:\tlearn: -1458.9191627\ttest: -83.0150799\tbest: -83.0150799 (6)\ttotal: 3.48ms\tremaining: 245ms\n",
      "7:\tlearn: -1458.9191627\ttest: -83.0150799\tbest: -83.0150799 (6)\ttotal: 3.89ms\tremaining: 239ms\n",
      "8:\tlearn: -1458.9191627\ttest: -83.0150799\tbest: -83.0150799 (8)\ttotal: 4.36ms\tremaining: 238ms\n",
      "9:\tlearn: -1458.9191627\ttest: -83.0150799\tbest: -83.0150799 (8)\ttotal: 4.83ms\tremaining: 237ms\n",
      "10:\tlearn: -1458.2194193\ttest: -83.0018871\tbest: -83.0018871 (10)\ttotal: 5.33ms\tremaining: 237ms\n",
      "11:\tlearn: -1458.2194193\ttest: -83.0018871\tbest: -83.0018871 (11)\ttotal: 5.76ms\tremaining: 234ms\n",
      "12:\tlearn: -1458.2194193\ttest: -83.0018871\tbest: -83.0018871 (11)\ttotal: 6.22ms\tremaining: 233ms\n",
      "13:\tlearn: -1458.2194193\ttest: -83.0018871\tbest: -83.0018871 (11)\ttotal: 6.64ms\tremaining: 230ms\n",
      "14:\tlearn: -1451.9485265\ttest: -82.4545387\tbest: -82.4545387 (14)\ttotal: 7.49ms\tremaining: 242ms\n",
      "15:\tlearn: -1451.9485265\ttest: -82.4545387\tbest: -82.4545387 (14)\ttotal: 8.05ms\tremaining: 243ms\n",
      "16:\tlearn: -1446.3522620\ttest: -82.2139392\tbest: -82.2139392 (16)\ttotal: 9.47ms\tremaining: 269ms\n",
      "17:\tlearn: -1446.3522620\ttest: -82.2139392\tbest: -82.2139392 (16)\ttotal: 11.2ms\tremaining: 300ms\n",
      "18:\tlearn: -1445.2233702\ttest: -82.1218137\tbest: -82.1218137 (18)\ttotal: 16.6ms\tremaining: 419ms\n",
      "19:\tlearn: -1442.0674124\ttest: -81.9849620\tbest: -81.9849620 (19)\ttotal: 17.1ms\tremaining: 411ms\n",
      "20:\tlearn: -1442.0674124\ttest: -81.9849620\tbest: -81.9849620 (19)\ttotal: 17.6ms\tremaining: 402ms\n",
      "21:\tlearn: -1442.0674124\ttest: -81.9849620\tbest: -81.9849620 (21)\ttotal: 18.2ms\tremaining: 395ms\n",
      "22:\tlearn: -1440.7600280\ttest: -82.1261318\tbest: -81.9849620 (21)\ttotal: 23.9ms\tremaining: 496ms\n",
      "23:\tlearn: -1438.8028548\ttest: -82.1077819\tbest: -81.9849620 (21)\ttotal: 34.1ms\tremaining: 677ms\n",
      "24:\tlearn: -1438.8028548\ttest: -82.1077819\tbest: -81.9849620 (21)\ttotal: 34.7ms\tremaining: 658ms\n",
      "25:\tlearn: -1438.8028548\ttest: -82.1077819\tbest: -81.9849620 (21)\ttotal: 35.1ms\tremaining: 640ms\n",
      "26:\tlearn: -1438.8028548\ttest: -82.1077819\tbest: -81.9849620 (21)\ttotal: 35.6ms\tremaining: 624ms\n",
      "Stopped by overfitting detector  (5 iterations wait)\n",
      "\n",
      "bestTest = -81.98496198\n",
      "bestIteration = 21\n",
      "\n",
      "Shrink model to first 22 iterations.\n",
      "Fitting 8 folds for each of 36 candidates, totalling 288 fits\n"
     ]
    },
    {
     "name": "stderr",
     "output_type": "stream",
     "text": [
      "2025-01-08 13:34:25,451 - INFO - Best parameters: {'model__depth': 3, 'model__iterations': 500, 'model__learning_rate': 0.1, 'model__max_features': 'sqrt', 'model__min_data_in_leaf': 10, 'model__nan_mode': 'Min'}\n",
      "2025-01-08 13:34:25,452 - INFO - Test score: 0.509\n",
      "2025-01-08 13:34:25,453 - INFO - \n",
      "Outer fold 3\n",
      "2025-01-08 13:34:25,455 - INFO - Test cohort: CPC_GENE_2017_Fraser\n"
     ]
    },
    {
     "name": "stdout",
     "output_type": "stream",
     "text": [
      "0:\tlearn: -1362.6687619\ttest: -103.1497923\tbest: -103.1497923 (0)\ttotal: 817us\tremaining: 408ms\n",
      "1:\tlearn: -1362.6687619\ttest: -103.1497923\tbest: -103.1497923 (0)\ttotal: 1.38ms\tremaining: 343ms\n",
      "2:\tlearn: -1362.6687619\ttest: -103.1497923\tbest: -103.1497923 (2)\ttotal: 1.81ms\tremaining: 300ms\n",
      "3:\tlearn: -1362.6687619\ttest: -103.1497923\tbest: -103.1497923 (2)\ttotal: 2.23ms\tremaining: 277ms\n",
      "4:\tlearn: -1362.6687619\ttest: -103.1497923\tbest: -103.1497923 (2)\ttotal: 2.84ms\tremaining: 282ms\n",
      "5:\tlearn: -1360.3791004\ttest: -103.0786012\tbest: -103.0786012 (5)\ttotal: 3.98ms\tremaining: 328ms\n",
      "6:\tlearn: -1358.7308511\ttest: -103.0571355\tbest: -103.0571355 (6)\ttotal: 4.75ms\tremaining: 334ms\n",
      "7:\tlearn: -1358.7308511\ttest: -103.0571355\tbest: -103.0571355 (7)\ttotal: 5.21ms\tremaining: 321ms\n",
      "8:\tlearn: -1358.7308511\ttest: -103.0571355\tbest: -103.0571355 (7)\ttotal: 5.65ms\tremaining: 308ms\n",
      "9:\tlearn: -1357.4841028\ttest: -102.9807993\tbest: -102.9807993 (9)\ttotal: 6.22ms\tremaining: 305ms\n",
      "10:\tlearn: -1357.4841028\ttest: -102.9807993\tbest: -102.9807993 (10)\ttotal: 6.67ms\tremaining: 296ms\n",
      "11:\tlearn: -1357.4841028\ttest: -102.9807993\tbest: -102.9807993 (10)\ttotal: 7.12ms\tremaining: 290ms\n",
      "12:\tlearn: -1357.4841028\ttest: -102.9807993\tbest: -102.9807993 (10)\ttotal: 7.66ms\tremaining: 287ms\n",
      "13:\tlearn: -1357.1916521\ttest: -103.0004233\tbest: -102.9807993 (10)\ttotal: 8.44ms\tremaining: 293ms\n",
      "14:\tlearn: -1357.1916521\ttest: -103.0004233\tbest: -102.9807993 (10)\ttotal: 9ms\tremaining: 291ms\n",
      "15:\tlearn: -1357.1916521\ttest: -103.0004233\tbest: -102.9807993 (10)\ttotal: 9.58ms\tremaining: 290ms\n",
      "Stopped by overfitting detector  (5 iterations wait)\n",
      "\n",
      "bestTest = -102.9807993\n",
      "bestIteration = 10\n",
      "\n",
      "Shrink model to first 11 iterations.\n",
      "Fitting 8 folds for each of 36 candidates, totalling 288 fits\n"
     ]
    },
    {
     "name": "stderr",
     "output_type": "stream",
     "text": [
      "2025-01-08 13:34:36,650 - INFO - Best parameters: {'model__depth': 5, 'model__iterations': 500, 'model__learning_rate': 0.1, 'model__max_features': 'log2', 'model__min_data_in_leaf': 5, 'model__nan_mode': 'Forbidden'}\n",
      "2025-01-08 13:34:36,651 - INFO - Test score: 0.591\n",
      "2025-01-08 13:34:36,652 - INFO - \n",
      "Outer fold 4\n",
      "2025-01-08 13:34:36,653 - INFO - Test cohort: CPGEA_2020_Li\n"
     ]
    },
    {
     "name": "stdout",
     "output_type": "stream",
     "text": [
      "0:\tlearn: -1680.8268222\ttest: -85.8240784\tbest: -85.8240784 (0)\ttotal: 687us\tremaining: 343ms\n",
      "1:\tlearn: -1676.9281354\ttest: -85.3797876\tbest: -85.3797876 (1)\ttotal: 1.58ms\tremaining: 393ms\n",
      "2:\tlearn: -1676.9281354\ttest: -85.3797876\tbest: -85.3797876 (1)\ttotal: 2.07ms\tremaining: 342ms\n",
      "3:\tlearn: -1676.9281354\ttest: -85.3797876\tbest: -85.3797876 (3)\ttotal: 2.54ms\tremaining: 314ms\n",
      "4:\tlearn: -1676.9281354\ttest: -85.3797876\tbest: -85.3797876 (3)\ttotal: 2.94ms\tremaining: 291ms\n",
      "5:\tlearn: -1676.9281354\ttest: -85.3797876\tbest: -85.3797876 (3)\ttotal: 3.37ms\tremaining: 277ms\n",
      "6:\tlearn: -1676.9281354\ttest: -85.3797876\tbest: -85.3797876 (3)\ttotal: 3.8ms\tremaining: 267ms\n",
      "7:\tlearn: -1676.9281354\ttest: -85.3797876\tbest: -85.3797876 (3)\ttotal: 4.43ms\tremaining: 272ms\n",
      "8:\tlearn: -1676.9281354\ttest: -85.3797876\tbest: -85.3797876 (3)\ttotal: 5.05ms\tremaining: 275ms\n",
      "Stopped by overfitting detector  (5 iterations wait)\n",
      "\n",
      "bestTest = -85.37978756\n",
      "bestIteration = 3\n",
      "\n",
      "Shrink model to first 4 iterations.\n",
      "Fitting 8 folds for each of 36 candidates, totalling 288 fits\n"
     ]
    },
    {
     "name": "stderr",
     "output_type": "stream",
     "text": [
      "2025-01-08 13:34:44,328 - INFO - Best parameters: {'model__depth': 10, 'model__iterations': 500, 'model__learning_rate': 0.1, 'model__max_features': 'sqrt', 'model__min_data_in_leaf': 3, 'model__nan_mode': 'Forbidden'}\n",
      "2025-01-08 13:34:44,330 - INFO - Test score: 0.483\n",
      "2025-01-08 13:34:44,331 - INFO - \n",
      "Outer fold 5\n",
      "2025-01-08 13:34:44,334 - INFO - Test cohort: CamCap_2016_Ross_Adams\n"
     ]
    },
    {
     "name": "stdout",
     "output_type": "stream",
     "text": [
      "0:\tlearn: -1503.1586173\ttest: -120.5730351\tbest: -120.5730351 (0)\ttotal: 805us\tremaining: 402ms\n",
      "1:\tlearn: -1496.1492170\ttest: -120.2481990\tbest: -120.2481990 (1)\ttotal: 1.47ms\tremaining: 367ms\n",
      "2:\tlearn: -1496.1492170\ttest: -120.2481990\tbest: -120.2481990 (1)\ttotal: 1.97ms\tremaining: 327ms\n",
      "3:\tlearn: -1496.1492170\ttest: -120.2481990\tbest: -120.2481990 (1)\ttotal: 2.45ms\tremaining: 304ms\n",
      "4:\tlearn: -1496.1492170\ttest: -120.2481990\tbest: -120.2481990 (1)\ttotal: 2.89ms\tremaining: 286ms\n",
      "5:\tlearn: -1496.1650560\ttest: -120.2476283\tbest: -120.2476283 (5)\ttotal: 3.45ms\tremaining: 284ms\n",
      "6:\tlearn: -1490.4192408\ttest: -120.1021973\tbest: -120.1021973 (6)\ttotal: 4.19ms\tremaining: 295ms\n",
      "7:\tlearn: -1490.4192408\ttest: -120.1021973\tbest: -120.1021973 (6)\ttotal: 4.58ms\tremaining: 282ms\n",
      "8:\tlearn: -1489.9614848\ttest: -120.1376867\tbest: -120.1021973 (6)\ttotal: 5.15ms\tremaining: 281ms\n",
      "9:\tlearn: -1487.0922557\ttest: -120.0412822\tbest: -120.0412822 (9)\ttotal: 5.64ms\tremaining: 277ms\n",
      "10:\tlearn: -1486.5474718\ttest: -120.0083471\tbest: -120.0083471 (10)\ttotal: 6.08ms\tremaining: 270ms\n",
      "11:\tlearn: -1486.5474718\ttest: -120.0083471\tbest: -120.0083471 (10)\ttotal: 6.44ms\tremaining: 262ms\n",
      "12:\tlearn: -1486.5474718\ttest: -120.0083471\tbest: -120.0083471 (10)\ttotal: 6.8ms\tremaining: 255ms\n",
      "13:\tlearn: -1486.5474718\ttest: -120.0083471\tbest: -120.0083471 (10)\ttotal: 7.23ms\tremaining: 251ms\n",
      "14:\tlearn: -1486.5474718\ttest: -120.0083471\tbest: -120.0083471 (10)\ttotal: 7.71ms\tremaining: 249ms\n",
      "15:\tlearn: -1482.7943575\ttest: -119.9182624\tbest: -119.9182624 (15)\ttotal: 8.15ms\tremaining: 246ms\n",
      "16:\tlearn: -1479.9720384\ttest: -119.7147617\tbest: -119.7147617 (16)\ttotal: 8.6ms\tremaining: 244ms\n",
      "17:\tlearn: -1479.8547537\ttest: -119.6981755\tbest: -119.6981755 (17)\ttotal: 9.06ms\tremaining: 243ms\n",
      "18:\tlearn: -1479.8547537\ttest: -119.6981755\tbest: -119.6981755 (18)\ttotal: 9.38ms\tremaining: 237ms\n",
      "19:\tlearn: -1478.8956410\ttest: -119.7217398\tbest: -119.6981755 (18)\ttotal: 10ms\tremaining: 241ms\n",
      "20:\tlearn: -1478.8956410\ttest: -119.7217398\tbest: -119.6981755 (18)\ttotal: 10.3ms\tremaining: 236ms\n",
      "21:\tlearn: -1478.9050246\ttest: -119.7253600\tbest: -119.6981755 (18)\ttotal: 10.7ms\tremaining: 233ms\n",
      "22:\tlearn: -1478.9050246\ttest: -119.7253600\tbest: -119.6981755 (18)\ttotal: 11ms\tremaining: 229ms\n",
      "23:\tlearn: -1474.7807556\ttest: -119.5870510\tbest: -119.5870510 (23)\ttotal: 11.4ms\tremaining: 226ms\n",
      "24:\tlearn: -1474.3686841\ttest: -119.5793659\tbest: -119.5793659 (24)\ttotal: 11.8ms\tremaining: 223ms\n",
      "25:\tlearn: -1474.3686841\ttest: -119.5793659\tbest: -119.5793659 (24)\ttotal: 12ms\tremaining: 219ms\n",
      "26:\tlearn: -1472.5249584\ttest: -119.5663315\tbest: -119.5663315 (26)\ttotal: 12.5ms\tremaining: 219ms\n",
      "27:\tlearn: -1472.5249584\ttest: -119.5663315\tbest: -119.5663315 (26)\ttotal: 12.8ms\tremaining: 216ms\n",
      "28:\tlearn: -1472.5249584\ttest: -119.5663315\tbest: -119.5663315 (26)\ttotal: 13.1ms\tremaining: 213ms\n",
      "29:\tlearn: -1470.7925729\ttest: -119.5542335\tbest: -119.5542335 (29)\ttotal: 13.6ms\tremaining: 213ms\n",
      "30:\tlearn: -1470.7925729\ttest: -119.5542335\tbest: -119.5542335 (29)\ttotal: 13.9ms\tremaining: 210ms\n",
      "31:\tlearn: -1468.1461372\ttest: -119.6301736\tbest: -119.5542335 (29)\ttotal: 14.3ms\tremaining: 209ms\n",
      "32:\tlearn: -1467.8878014\ttest: -119.6496258\tbest: -119.5542335 (29)\ttotal: 14.7ms\tremaining: 208ms\n",
      "33:\tlearn: -1464.7922847\ttest: -119.6463484\tbest: -119.5542335 (29)\ttotal: 15.3ms\tremaining: 210ms\n",
      "34:\tlearn: -1464.7922847\ttest: -119.6463484\tbest: -119.5542335 (29)\ttotal: 15.6ms\tremaining: 207ms\n",
      "Stopped by overfitting detector  (5 iterations wait)\n",
      "\n",
      "bestTest = -119.5542335\n",
      "bestIteration = 29\n",
      "\n",
      "Shrink model to first 30 iterations.\n",
      "Fitting 8 folds for each of 36 candidates, totalling 288 fits\n"
     ]
    },
    {
     "name": "stderr",
     "output_type": "stream",
     "text": [
      "2025-01-08 13:34:56,330 - INFO - Best parameters: {'model__depth': 5, 'model__iterations': 500, 'model__learning_rate': 0.1, 'model__max_features': 'sqrt', 'model__min_data_in_leaf': 5, 'model__nan_mode': 'Min'}\n",
      "2025-01-08 13:34:56,332 - INFO - Test score: 0.585\n",
      "2025-01-08 13:34:56,335 - INFO - \n",
      "Outer fold 6\n",
      "2025-01-08 13:34:56,337 - INFO - Test cohort: CancerMap_2017_Luca\n"
     ]
    },
    {
     "name": "stdout",
     "output_type": "stream",
     "text": [
      "0:\tlearn: -1627.0896638\ttest: -107.9273735\tbest: -107.9273735 (0)\ttotal: 672us\tremaining: 336ms\n",
      "1:\tlearn: -1627.0896638\ttest: -107.9273735\tbest: -107.9273735 (0)\ttotal: 1.28ms\tremaining: 320ms\n",
      "2:\tlearn: -1627.0896638\ttest: -107.9273735\tbest: -107.9273735 (0)\ttotal: 1.88ms\tremaining: 311ms\n",
      "3:\tlearn: -1627.0054024\ttest: -107.9834733\tbest: -107.9273735 (0)\ttotal: 2.89ms\tremaining: 358ms\n",
      "4:\tlearn: -1627.0054024\ttest: -107.9834733\tbest: -107.9273735 (0)\ttotal: 3.93ms\tremaining: 389ms\n",
      "5:\tlearn: -1626.1029534\ttest: -107.8224931\tbest: -107.8224931 (5)\ttotal: 5.72ms\tremaining: 471ms\n",
      "6:\tlearn: -1626.0821338\ttest: -107.8006400\tbest: -107.8006400 (6)\ttotal: 6.91ms\tremaining: 487ms\n",
      "7:\tlearn: -1626.0821338\ttest: -107.8006400\tbest: -107.8006400 (7)\ttotal: 7.73ms\tremaining: 476ms\n",
      "8:\tlearn: -1623.2031970\ttest: -107.5136879\tbest: -107.5136879 (8)\ttotal: 8.62ms\tremaining: 470ms\n",
      "9:\tlearn: -1623.2031970\ttest: -107.5136879\tbest: -107.5136879 (8)\ttotal: 9.62ms\tremaining: 471ms\n",
      "10:\tlearn: -1623.2031970\ttest: -107.5136879\tbest: -107.5136879 (8)\ttotal: 10.2ms\tremaining: 453ms\n",
      "11:\tlearn: -1623.2031970\ttest: -107.5136879\tbest: -107.5136879 (8)\ttotal: 10.8ms\tremaining: 439ms\n",
      "12:\tlearn: -1623.2031970\ttest: -107.5136879\tbest: -107.5136879 (8)\ttotal: 11.5ms\tremaining: 430ms\n",
      "13:\tlearn: -1623.2031970\ttest: -107.5136879\tbest: -107.5136879 (8)\ttotal: 12.1ms\tremaining: 421ms\n",
      "Stopped by overfitting detector  (5 iterations wait)\n",
      "\n",
      "bestTest = -107.5136879\n",
      "bestIteration = 8\n",
      "\n",
      "Shrink model to first 9 iterations.\n",
      "Fitting 8 folds for each of 36 candidates, totalling 288 fits\n"
     ]
    },
    {
     "name": "stderr",
     "output_type": "stream",
     "text": [
      "2025-01-08 13:35:09,147 - INFO - Best parameters: {'model__depth': 5, 'model__iterations': 500, 'model__learning_rate': 0.1, 'model__max_features': 'log2', 'model__min_data_in_leaf': 10, 'model__nan_mode': 'Min'}\n",
      "2025-01-08 13:35:09,148 - INFO - Test score: 0.638\n",
      "2025-01-08 13:35:09,148 - INFO - \n",
      "Outer fold 7\n",
      "2025-01-08 13:35:09,151 - INFO - Test cohort: DKFZ_2018_Gerhauser\n"
     ]
    },
    {
     "name": "stdout",
     "output_type": "stream",
     "text": [
      "0:\tlearn: -1555.3121239\ttest: -73.3992091\tbest: -73.3992091 (0)\ttotal: 921us\tremaining: 460ms\n",
      "1:\tlearn: -1553.3084769\ttest: -73.3687749\tbest: -73.3687749 (1)\ttotal: 2.52ms\tremaining: 628ms\n",
      "2:\tlearn: -1553.3084769\ttest: -73.3687749\tbest: -73.3687749 (2)\ttotal: 3.08ms\tremaining: 511ms\n",
      "3:\tlearn: -1549.9307070\ttest: -73.1916152\tbest: -73.1916152 (3)\ttotal: 8.52ms\tremaining: 1.06s\n",
      "4:\tlearn: -1548.1814684\ttest: -73.0952160\tbest: -73.0952160 (4)\ttotal: 9.09ms\tremaining: 900ms\n",
      "5:\tlearn: -1548.1814684\ttest: -73.0952160\tbest: -73.0952160 (4)\ttotal: 9.61ms\tremaining: 791ms\n",
      "6:\tlearn: -1548.1814684\ttest: -73.0952160\tbest: -73.0952160 (4)\ttotal: 10.1ms\tremaining: 711ms\n",
      "7:\tlearn: -1548.1814684\ttest: -73.0952160\tbest: -73.0952160 (4)\ttotal: 10.5ms\tremaining: 648ms\n",
      "8:\tlearn: -1548.1839728\ttest: -73.0951962\tbest: -73.0951962 (8)\ttotal: 15.7ms\tremaining: 856ms\n",
      "9:\tlearn: -1548.1839728\ttest: -73.0951962\tbest: -73.0951962 (8)\ttotal: 16.2ms\tremaining: 791ms\n",
      "10:\tlearn: -1548.1839728\ttest: -73.0951962\tbest: -73.0951962 (8)\ttotal: 16.6ms\tremaining: 737ms\n",
      "11:\tlearn: -1546.2336576\ttest: -73.0785823\tbest: -73.0785823 (11)\ttotal: 17.9ms\tremaining: 726ms\n",
      "12:\tlearn: -1544.7221040\ttest: -72.9736664\tbest: -72.9736664 (12)\ttotal: 19.2ms\tremaining: 719ms\n",
      "13:\tlearn: -1544.7221040\ttest: -72.9736664\tbest: -72.9736664 (12)\ttotal: 19.7ms\tremaining: 684ms\n",
      "14:\tlearn: -1544.4898125\ttest: -73.0171705\tbest: -72.9736664 (12)\ttotal: 20.2ms\tremaining: 654ms\n",
      "15:\tlearn: -1543.1005826\ttest: -72.9207461\tbest: -72.9207461 (15)\ttotal: 20.8ms\tremaining: 628ms\n",
      "16:\tlearn: -1543.1005826\ttest: -72.9207461\tbest: -72.9207461 (15)\ttotal: 21.2ms\tremaining: 602ms\n",
      "17:\tlearn: -1543.1005826\ttest: -72.9207461\tbest: -72.9207461 (15)\ttotal: 21.6ms\tremaining: 578ms\n",
      "18:\tlearn: -1543.1005826\ttest: -72.9207461\tbest: -72.9207461 (15)\ttotal: 22ms\tremaining: 557ms\n",
      "19:\tlearn: -1543.1005826\ttest: -72.9207461\tbest: -72.9207461 (15)\ttotal: 22.5ms\tremaining: 539ms\n",
      "20:\tlearn: -1543.1005826\ttest: -72.9207461\tbest: -72.9207461 (15)\ttotal: 22.9ms\tremaining: 523ms\n",
      "Stopped by overfitting detector  (5 iterations wait)\n",
      "\n",
      "bestTest = -72.92074605\n",
      "bestIteration = 15\n",
      "\n",
      "Shrink model to first 16 iterations.\n",
      "Fitting 8 folds for each of 36 candidates, totalling 288 fits\n"
     ]
    },
    {
     "name": "stderr",
     "output_type": "stream",
     "text": [
      "2025-01-08 13:35:20,183 - INFO - Best parameters: {'model__depth': 10, 'model__iterations': 500, 'model__learning_rate': 0.1, 'model__max_features': 'sqrt', 'model__min_data_in_leaf': 10, 'model__nan_mode': 'Min'}\n",
      "2025-01-08 13:35:20,183 - INFO - Test score: 0.790\n",
      "2025-01-08 13:35:20,184 - INFO - \n",
      "Outer fold 8\n",
      "2025-01-08 13:35:20,186 - INFO - Test cohort: MSKCC_2010_Taylor\n"
     ]
    },
    {
     "name": "stdout",
     "output_type": "stream",
     "text": [
      "0:\tlearn: -1626.1802088\ttest: -114.2296641\tbest: -114.2296641 (0)\ttotal: 580us\tremaining: 290ms\n",
      "1:\tlearn: -1625.3741364\ttest: -114.1779770\tbest: -114.1779770 (1)\ttotal: 1.19ms\tremaining: 296ms\n",
      "2:\tlearn: -1625.3741364\ttest: -114.1779770\tbest: -114.1779770 (2)\ttotal: 1.68ms\tremaining: 278ms\n",
      "3:\tlearn: -1620.2237845\ttest: -113.5724809\tbest: -113.5724809 (3)\ttotal: 2.3ms\tremaining: 285ms\n",
      "4:\tlearn: -1620.2237845\ttest: -113.5724809\tbest: -113.5724809 (3)\ttotal: 3.15ms\tremaining: 312ms\n",
      "5:\tlearn: -1620.2237845\ttest: -113.5724809\tbest: -113.5724809 (3)\ttotal: 3.71ms\tremaining: 306ms\n",
      "6:\tlearn: -1620.2237845\ttest: -113.5724809\tbest: -113.5724809 (3)\ttotal: 4.29ms\tremaining: 302ms\n",
      "7:\tlearn: -1620.2237845\ttest: -113.5724809\tbest: -113.5724809 (3)\ttotal: 4.8ms\tremaining: 296ms\n",
      "8:\tlearn: -1620.2237845\ttest: -113.5724809\tbest: -113.5724809 (8)\ttotal: 5.36ms\tremaining: 292ms\n",
      "9:\tlearn: -1620.2237845\ttest: -113.5724809\tbest: -113.5724809 (8)\ttotal: 5.88ms\tremaining: 288ms\n",
      "10:\tlearn: -1620.2237845\ttest: -113.5724809\tbest: -113.5724809 (8)\ttotal: 6.42ms\tremaining: 286ms\n",
      "11:\tlearn: -1620.2237845\ttest: -113.5724809\tbest: -113.5724809 (8)\ttotal: 6.96ms\tremaining: 283ms\n",
      "12:\tlearn: -1619.1259084\ttest: -113.5474464\tbest: -113.5474464 (12)\ttotal: 7.96ms\tremaining: 298ms\n",
      "13:\tlearn: -1618.9851412\ttest: -113.5167880\tbest: -113.5167880 (13)\ttotal: 17.3ms\tremaining: 601ms\n",
      "14:\tlearn: -1618.0216000\ttest: -113.4066057\tbest: -113.4066057 (14)\ttotal: 18.4ms\tremaining: 595ms\n",
      "15:\tlearn: -1614.2346809\ttest: -112.5995105\tbest: -112.5995105 (15)\ttotal: 27.5ms\tremaining: 833ms\n",
      "16:\tlearn: -1614.2346809\ttest: -112.5995105\tbest: -112.5995105 (15)\ttotal: 28ms\tremaining: 797ms\n",
      "17:\tlearn: -1614.2346809\ttest: -112.5995105\tbest: -112.5995105 (17)\ttotal: 28.5ms\tremaining: 763ms\n",
      "18:\tlearn: -1614.2346809\ttest: -112.5995105\tbest: -112.5995105 (17)\ttotal: 28.9ms\tremaining: 733ms\n",
      "19:\tlearn: -1611.3691577\ttest: -112.4655088\tbest: -112.4655088 (19)\ttotal: 33ms\tremaining: 792ms\n",
      "20:\tlearn: -1611.3691577\ttest: -112.4655088\tbest: -112.4655088 (19)\ttotal: 33.5ms\tremaining: 765ms\n",
      "21:\tlearn: -1611.3691577\ttest: -112.4655088\tbest: -112.4655088 (19)\ttotal: 34.1ms\tremaining: 742ms\n",
      "22:\tlearn: -1611.3691577\ttest: -112.4655088\tbest: -112.4655088 (19)\ttotal: 34.6ms\tremaining: 719ms\n",
      "23:\tlearn: -1611.3691577\ttest: -112.4655088\tbest: -112.4655088 (19)\ttotal: 35.2ms\tremaining: 698ms\n",
      "24:\tlearn: -1611.3691577\ttest: -112.4655088\tbest: -112.4655088 (19)\ttotal: 35.7ms\tremaining: 678ms\n",
      "Stopped by overfitting detector  (5 iterations wait)\n",
      "\n",
      "bestTest = -112.4655088\n",
      "bestIteration = 19\n",
      "\n",
      "Shrink model to first 20 iterations.\n",
      "Fitting 8 folds for each of 36 candidates, totalling 288 fits\n"
     ]
    },
    {
     "name": "stderr",
     "output_type": "stream",
     "text": [
      "2025-01-08 13:35:32,697 - INFO - Best parameters: {'model__depth': 3, 'model__iterations': 500, 'model__learning_rate': 0.1, 'model__max_features': 'log2', 'model__min_data_in_leaf': 10, 'model__nan_mode': 'Forbidden'}\n",
      "2025-01-08 13:35:32,698 - INFO - Test score: 0.712\n",
      "2025-01-08 13:35:32,700 - INFO - \n",
      "Outer fold 9\n",
      "2025-01-08 13:35:32,702 - INFO - Test cohort: Stockholm_2016_Ross_Adams\n"
     ]
    },
    {
     "name": "stdout",
     "output_type": "stream",
     "text": [
      "0:\tlearn: -1554.3852995\ttest: -114.6517042\tbest: -114.6517042 (0)\ttotal: 751us\tremaining: 375ms\n",
      "1:\tlearn: -1554.3852995\ttest: -114.6517042\tbest: -114.6517042 (0)\ttotal: 1.26ms\tremaining: 314ms\n",
      "2:\tlearn: -1551.6272773\ttest: -114.1219475\tbest: -114.1219475 (2)\ttotal: 1.7ms\tremaining: 282ms\n",
      "3:\tlearn: -1551.6272773\ttest: -114.1219475\tbest: -114.1219475 (2)\ttotal: 2.14ms\tremaining: 266ms\n",
      "4:\tlearn: -1551.6272773\ttest: -114.1219475\tbest: -114.1219475 (4)\ttotal: 2.52ms\tremaining: 250ms\n",
      "5:\tlearn: -1551.6272773\ttest: -114.1219475\tbest: -114.1219475 (4)\ttotal: 2.92ms\tremaining: 240ms\n",
      "6:\tlearn: -1551.6272773\ttest: -114.1219475\tbest: -114.1219475 (4)\ttotal: 3.3ms\tremaining: 232ms\n",
      "7:\tlearn: -1551.5462951\ttest: -114.1219475\tbest: -114.1219475 (4)\ttotal: 7.99ms\tremaining: 491ms\n",
      "8:\tlearn: -1551.5462951\ttest: -114.1219475\tbest: -114.1219475 (4)\ttotal: 8.57ms\tremaining: 468ms\n",
      "9:\tlearn: -1551.5462951\ttest: -114.1219475\tbest: -114.1219475 (4)\ttotal: 9.1ms\tremaining: 446ms\n",
      "Stopped by overfitting detector  (5 iterations wait)\n",
      "\n",
      "bestTest = -114.1219475\n",
      "bestIteration = 4\n",
      "\n",
      "Shrink model to first 5 iterations.\n",
      "Fitting 8 folds for each of 36 candidates, totalling 288 fits\n"
     ]
    },
    {
     "name": "stderr",
     "output_type": "stream",
     "text": [
      "2025-01-08 13:35:45,095 - INFO - Best parameters: {'model__depth': 10, 'model__iterations': 500, 'model__learning_rate': 0.1, 'model__max_features': 'log2', 'model__min_data_in_leaf': 5, 'model__nan_mode': 'Forbidden'}\n",
      "2025-01-08 13:35:45,097 - INFO - Test score: 0.500\n",
      "2025-01-08 13:35:45,098 - INFO - Aggregated results:\n",
      "2025-01-08 13:35:45,099 - INFO - Mean score: 0.606 ± 0.097\n",
      "2025-01-08 13:35:45,100 - INFO - Individual scores: [0.6458092485549133, 0.5085581957309706, 0.5914760914760915, 0.48347770291947384, 0.5852503382949933, 0.6376966142362037, 0.7899334442595674, 0.7123447204968945, 0.5]\n",
      "2025-01-08 13:35:45,102 - WARNING - Won't save any model, since its not provided\n",
      "2025-01-08 13:35:45,168 - INFO - Saved CV results to c:\\Users\\laeti\\PCaPrognostics\\models\\cat_boost\\results\\results\\gb_inter_genes_pData_cv.csv\n",
      "2025-01-08 13:35:45,170 - WARNING - Won't save any pipe, since its not provided\n",
      "2025-01-08 13:35:45,171 - INFO - Do HP Tuning for complete model; refit + set complete model\n",
      "2025-01-08 13:35:45,174 - INFO - Do HP Tuning for complete model\n"
     ]
    },
    {
     "name": "stdout",
     "output_type": "stream",
     "text": [
      "0:\tlearn: -1440.5889713\ttest: -119.0067129\tbest: -119.0067129 (0)\ttotal: 564us\tremaining: 282ms\n",
      "1:\tlearn: -1440.1853940\ttest: -118.9886021\tbest: -118.9886021 (1)\ttotal: 1.4ms\tremaining: 349ms\n",
      "2:\tlearn: -1440.1853940\ttest: -118.9886021\tbest: -118.9886021 (1)\ttotal: 1.82ms\tremaining: 302ms\n",
      "3:\tlearn: -1440.1853940\ttest: -118.9886021\tbest: -118.9886021 (1)\ttotal: 2.36ms\tremaining: 293ms\n",
      "4:\tlearn: -1440.1853940\ttest: -118.9886021\tbest: -118.9886021 (1)\ttotal: 2.88ms\tremaining: 286ms\n",
      "5:\tlearn: -1440.1853940\ttest: -118.9886021\tbest: -118.9886021 (1)\ttotal: 3.96ms\tremaining: 326ms\n",
      "6:\tlearn: -1440.1853940\ttest: -118.9886021\tbest: -118.9886021 (1)\ttotal: 4.74ms\tremaining: 334ms\n",
      "Stopped by overfitting detector  (5 iterations wait)\n",
      "\n",
      "bestTest = -118.9886021\n",
      "bestIteration = 1\n",
      "\n",
      "Shrink model to first 2 iterations.\n",
      "Fitting 9 folds for each of 36 candidates, totalling 324 fits\n"
     ]
    },
    {
     "name": "stderr",
     "output_type": "stream",
     "text": [
      "2025-01-08 13:35:57,356 - INFO - Saved model to c:\\Users\\laeti\\PCaPrognostics\\models\\cat_boost\\results\\model\n",
      "2025-01-08 13:35:57,357 - WARNING - Won't save any cv results, since its not provided\n",
      "2025-01-08 13:35:57,359 - INFO - Saved pipe to c:\\Users\\laeti\\PCaPrognostics\\models\\cat_boost\\results\\pipe\n"
     ]
    },
    {
     "name": "stdout",
     "output_type": "stream",
     "text": [
      "0:\tlearn: -1743.1150468\ttest: -126.9843105\tbest: -126.9843105 (0)\ttotal: 894us\tremaining: 446ms\n",
      "1:\tlearn: -1743.1150468\ttest: -126.9843105\tbest: -126.9843105 (1)\ttotal: 1.64ms\tremaining: 409ms\n",
      "2:\tlearn: -1743.1150468\ttest: -126.9843105\tbest: -126.9843105 (1)\ttotal: 2.27ms\tremaining: 376ms\n",
      "3:\tlearn: -1743.1150468\ttest: -126.9843105\tbest: -126.9843105 (1)\ttotal: 2.9ms\tremaining: 360ms\n",
      "4:\tlearn: -1743.1150468\ttest: -126.9843105\tbest: -126.9843105 (4)\ttotal: 3.59ms\tremaining: 355ms\n",
      "5:\tlearn: -1739.9357642\ttest: -126.8581624\tbest: -126.8581624 (5)\ttotal: 4.65ms\tremaining: 383ms\n",
      "6:\tlearn: -1739.9357642\ttest: -126.8581624\tbest: -126.8581624 (5)\ttotal: 5.28ms\tremaining: 372ms\n",
      "7:\tlearn: -1737.5946922\ttest: -126.5168780\tbest: -126.5168780 (7)\ttotal: 6.4ms\tremaining: 394ms\n",
      "8:\tlearn: -1737.5946922\ttest: -126.5168780\tbest: -126.5168780 (8)\ttotal: 7.15ms\tremaining: 390ms\n",
      "9:\tlearn: -1737.5946922\ttest: -126.5168780\tbest: -126.5168780 (8)\ttotal: 7.74ms\tremaining: 380ms\n",
      "10:\tlearn: -1737.5946922\ttest: -126.5168780\tbest: -126.5168780 (8)\ttotal: 8.4ms\tremaining: 373ms\n",
      "11:\tlearn: -1737.4667902\ttest: -126.5264134\tbest: -126.5168780 (8)\ttotal: 9.22ms\tremaining: 375ms\n",
      "12:\tlearn: -1737.4667902\ttest: -126.5264134\tbest: -126.5168780 (8)\ttotal: 9.88ms\tremaining: 370ms\n",
      "13:\tlearn: -1737.4667902\ttest: -126.5264134\tbest: -126.5168780 (8)\ttotal: 10.5ms\tremaining: 364ms\n",
      "Stopped by overfitting detector  (5 iterations wait)\n",
      "\n",
      "bestTest = -126.516878\n",
      "bestIteration = 8\n",
      "\n",
      "Shrink model to first 9 iterations.\n"
     ]
    }
   ],
   "source": [
    "nstd_res_result = mp.do_modelling(gb_pipeline_steps, MODEL_CONFIG)"
   ]
  },
  {
   "cell_type": "code",
   "execution_count": 30,
   "metadata": {},
   "outputs": [],
   "source": [
    "import pickle\n",
    "\n",
    "with open('./results/model/gb_inter_genes_pData.pkl', 'rb') as f:\n",
    "    model = pickle.load(f)"
   ]
  },
  {
   "cell_type": "code",
   "execution_count": 31,
   "metadata": {},
   "outputs": [
    {
     "data": {
      "text/plain": [
       "array([10.38278504,  4.83160724, 57.33889703, 27.44671069])"
      ]
     },
     "execution_count": 31,
     "metadata": {},
     "output_type": "execute_result"
    }
   ],
   "source": [
    "#model.get_feature_importance(mp.X, mp.y)\n",
    "model.model.feature_importances_"
   ]
  }
 ],
 "metadata": {
  "kernelspec": {
   "display_name": ".venv",
   "language": "python",
   "name": "python3"
  },
  "language_info": {
   "codemirror_mode": {
    "name": "ipython",
    "version": 3
   },
   "file_extension": ".py",
   "mimetype": "text/x-python",
   "name": "python",
   "nbconvert_exporter": "python",
   "pygments_lexer": "ipython3",
   "version": "3.12.0"
  }
 },
 "nbformat": 4,
 "nbformat_minor": 2
}
