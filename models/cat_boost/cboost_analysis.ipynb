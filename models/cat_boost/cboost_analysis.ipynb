{
 "cells": [
  {
   "cell_type": "code",
   "execution_count": 1,
   "metadata": {},
   "outputs": [],
   "source": [
    "import os\n",
    "import sys\n",
    "import logging\n",
    "\n",
    "# Setup paths\n",
    "PROJECT_ROOT = os.path.dirname(os.path.dirname(os.getcwd()))\n",
    "if PROJECT_ROOT not in sys.path:\n",
    "    sys.path.append(PROJECT_ROOT)\n",
    "\n",
    "# Setup directories\n",
    "RESULTS_DIR = os.path.join(os.getcwd(), 'results')\n",
    "os.makedirs(RESULTS_DIR, exist_ok=True)\n",
    "\n",
    "RESULTS_PATH = os.path.join(RESULTS_DIR, 'results')\n",
    "MODELS_PATH = os.path.join(RESULTS_DIR, 'model')\n",
    "\n",
    "FIN_RESULTS_OV_PATH = os.path.join(PROJECT_ROOT, 'results_modelling_ovs')\n",
    "FIN_RESULTS_SPLIT_PATH = os.path.join(PROJECT_ROOT, 'results_modelling_splits')\n",
    "FEAT_IMP_PATH = os.path.join(PROJECT_ROOT, 'results_modelling_feat_imp')\n",
    "\n",
    "MODEL_NAME = 'GBoost'\n",
    "\n",
    "# Imports\n",
    "from models.modelling_process import ModellingProcess\n",
    "from utils.analysis import * \n",
    "import os\n",
    "import pandas as pd\n",
    "import re\n",
    "from sklearn.pipeline import Pipeline\n",
    "import pickle\n",
    "from sklearn.compose import ColumnTransformer\n",
    "from utils.feature_selection import FoldAwareAE\n",
    "\n",
    "\n",
    "# Setup logging\n",
    "logging.basicConfig(\n",
    "    level=logging.INFO,\n",
    "    format='%(asctime)s - %(levelname)s - %(message)s'\n",
    ")\n",
    "logger = logging.getLogger(__name__)\n",
    "\n",
    "DATA_CONFIG = {\n",
    "            'use_pca': False,\n",
    "            'pca_threshold': 0.85,\n",
    "            'use_imputed': True,\n",
    "            'select_random' : False, \n",
    "            'use_cohorts': False, \n",
    "            'requires_ohenc' : False, \n",
    "        }"
   ]
  },
  {
   "cell_type": "code",
   "execution_count": null,
   "metadata": {},
   "outputs": [],
   "source": [
    "\n",
    "def test_perf_all_models(model_path):\n",
    "    \"\"\"\n",
    "    Evaluates the performance of all models.\n",
    "\n",
    "    Args:\n",
    "        model_path (str): Path to trained model files (.pkl).\n",
    "        \n",
    "    Returns: \n",
    "        pd.DataFrame: Test performance scores on the test cohorts (group B) per model-dataset combination.\n",
    "    \"\"\"\n",
    "    files = os.listdir(model_path)\n",
    "    test_perf = []\n",
    "    for file in files:\n",
    "        print(file)\n",
    "\n",
    "        contains_pData = bool(re.search(r\"pData\", file, re.IGNORECASE))\n",
    "        contains_intersection = bool(re.search(r\"inter|intersection\", file, re.IGNORECASE))\n",
    "        contains_imputed = bool(re.search(r\"imp|imputed|common\", file, re.IGNORECASE))\n",
    "        contains_aenc = bool(re.search(r\"aenc|auto|autoenc|autoencoder\", file, re.IGNORECASE))\n",
    "        contains_scores = bool(re.search(r\"score|scores\", file, re.IGNORECASE))\n",
    "        \n",
    "        components = [\n",
    "            \"pData\" if contains_pData else \"\",\n",
    "            \"Intersection\" if contains_intersection else \"\",\n",
    "            \"Imputed\" if contains_imputed else \"\",\n",
    "            \"AutoEncoder\" if contains_aenc else \"\",\n",
    "            \"Scores\" if contains_scores else \"\"\n",
    "        ]\n",
    "\n",
    "        dataset = \"_\".join(filter(None, components)) \n",
    "        \n",
    "        DATA_CONFIG = {\n",
    "            'use_pca': False,\n",
    "            'pca_threshold': 0.85,\n",
    "            'use_imputed': True,\n",
    "            'select_random' : False, \n",
    "            'use_cohorts': False, \n",
    "            'requires_ohenc' : False, \n",
    "        }\n",
    "\n",
    "        # Load data based on file type\n",
    "        if contains_intersection:\n",
    "            DATA_CONFIG['gene_type'] = 'intersection'\n",
    "        elif contains_imputed:\n",
    "            DATA_CONFIG['gene_type'] = 'common_genes'\n",
    "        elif contains_aenc:\n",
    "            DATA_CONFIG['gene_type'] = 'intersection'\n",
    "        if contains_pData:\n",
    "            DATA_CONFIG['clinical_covs'] = [\"AGE\", \"TISSUE\", \"GLEASON_SCORE\", 'PRE_OPERATIVE_PSA']\n",
    "        if contains_pData and not contains_intersection and not contains_imputed and not contains_aenc and not contains_scores: \n",
    "            DATA_CONFIG['only_pData'] = True\n",
    "            DATA_CONFIG['gene_type'] = None\n",
    "            \n",
    "        model = load_model(os.path.join(model_path, file))  \n",
    "        mp = ModellingProcess()\n",
    "        mp.prepare_test_data(DATA_CONFIG, PROJECT_ROOT)\n",
    "        groups = set(mp.test_groups)\n",
    "        groups = sorted(groups)\n",
    "        X_cos, y_cos = mp.prepare_test_cohort_data(DATA_CONFIG, PROJECT_ROOT, groups)\n",
    "        \n",
    "        if contains_aenc: \n",
    "            if contains_pData:                \n",
    "                pdata_cols = ['TISSUE', 'AGE',\n",
    "                    'GLEASON_SCORE', 'PRE_OPERATIVE_PSA']\n",
    "                exprs_cols =  list(set(X_cos[0].columns) - set(pdata_cols))\n",
    "                exprs_cols = sorted(exprs_cols)\n",
    "            else: \n",
    "                pdata_cols = []\n",
    "                exprs_cols =  list(set(X_cos[0].columns) - set(pdata_cols))\n",
    "                exprs_cols = sorted(exprs_cols)\n",
    "                \n",
    "\n",
    "            ae = FoldAwareAE(testing = True)            \n",
    "            preprocessor = ColumnTransformer(\n",
    "                transformers=[\n",
    "                    ('feature_selection', ae, exprs_cols),  # Apply feature selection\n",
    "                    ('other_features', 'passthrough', pdata_cols)         # Pass through other columns\n",
    "                ]\n",
    "            )\n",
    "            preprocessor.fit(X=X_cos[0])\n",
    "            pipe_steps = [\n",
    "                ('preprocessor', preprocessor),\n",
    "                ('model', model)] \n",
    "            \n",
    "            model = Pipeline(pipe_steps)\n",
    "           \n",
    "        ci1 = model.score(X_cos[0], y_cos[0])\n",
    "        ci2 = model.score(X_cos[1], y_cos[1])\n",
    "        \n",
    "        result = {\n",
    "            'model' : file.replace(\".pkl\", \"\"), \n",
    "            'model_class' : 'GBoost', \n",
    "            'dataset' : dataset, \n",
    "            'ci_coh1' : ci1, \n",
    "            'ci_coh2' : ci2\n",
    "        }\n",
    "        test_perf.append(result)\n",
    "    return pd.DataFrame(test_perf)"
   ]
  },
  {
   "cell_type": "code",
   "execution_count": 3,
   "metadata": {},
   "outputs": [],
   "source": [
    "imp = feat_imp_all_models(MODELS_PATH, MODEL_NAME, DATA_CONFIG)\n",
    "imp.to_csv(os.path.join(FEAT_IMP_PATH, 'feat_imp_cBoost.csv'))"
   ]
  },
  {
   "cell_type": "code",
   "execution_count": 8,
   "metadata": {},
   "outputs": [
    {
     "name": "stdout",
     "output_type": "stream",
     "text": [
      "cboost_autoencoder_paper.pkl\n"
     ]
    },
    {
     "name": "stderr",
     "output_type": "stream",
     "text": [
      "2025-02-11 20:29:50,525 - INFO - Loaded data: 496 samples, 13214 features\n"
     ]
    },
    {
     "name": "stdout",
     "output_type": "stream",
     "text": [
      "['test_cohort_1', 'test_cohort_2']\n"
     ]
    },
    {
     "name": "stderr",
     "output_type": "stream",
     "text": [
      "2025-02-11 20:31:17,767 - INFO - Loaded data: 332 samples, 13214 features\n",
      "2025-02-11 20:31:50,924 - INFO - Loaded data: 164 samples, 13214 features\n",
      "c:\\Users\\laeti\\PCaPrognostics\\utils\\feature_selection.py:275: FutureWarning: You are using `torch.load` with `weights_only=False` (the current default value), which uses the default pickle module implicitly. It is possible to construct malicious pickle data which will execute arbitrary code during unpickling (See https://github.com/pytorch/pytorch/blob/main/SECURITY.md#untrusted-models for more details). In a future release, the default value for `weights_only` will be flipped to `True`. This limits the functions that could be executed during unpickling. Arbitrary objects will no longer be allowed to be loaded via this mode unless they are explicitly allowlisted by the user via `torch.serialization.add_safe_globals`. We recommend you start setting `weights_only=True` for any use case where you don't have full control of the loaded file. Please open an issue on GitHub for any issues related to this experimental feature.\n",
      "  self.model.load_state_dict(torch.load(model_path + '.pth', map_location=torch.device('cpu')))\n"
     ]
    },
    {
     "name": "stdout",
     "output_type": "stream",
     "text": [
      "fit_transform\n",
      "<class 'pandas.core.frame.DataFrame'>\n",
      "Index: 332 entries, test_cohort_1_patient_1 to test_cohort_1_patient_332\n",
      "Columns: 13214 entries, ENSG00000000003 to ENSG00000282608\n",
      "dtypes: float64(13214)\n",
      "memory usage: 33.5+ MB\n",
      "None\n",
      "cboost_autoencoder_pData_paper.pkl\n"
     ]
    },
    {
     "name": "stderr",
     "output_type": "stream",
     "text": [
      "2025-02-11 20:32:23,325 - INFO - Found clinical data specification\n",
      "2025-02-11 20:32:23,457 - INFO - Loaded data: 496 samples, 13218 features\n"
     ]
    },
    {
     "name": "stdout",
     "output_type": "stream",
     "text": [
      "['test_cohort_1', 'test_cohort_2']\n"
     ]
    },
    {
     "name": "stderr",
     "output_type": "stream",
     "text": [
      "2025-02-11 20:32:55,306 - INFO - Found clinical data specification\n",
      "2025-02-11 20:32:55,329 - INFO - Loaded data: 332 samples, 13218 features\n",
      "2025-02-11 20:33:26,191 - INFO - Found clinical data specification\n",
      "2025-02-11 20:33:26,203 - INFO - Loaded data: 164 samples, 13218 features\n",
      "c:\\Users\\laeti\\PCaPrognostics\\utils\\feature_selection.py:275: FutureWarning: You are using `torch.load` with `weights_only=False` (the current default value), which uses the default pickle module implicitly. It is possible to construct malicious pickle data which will execute arbitrary code during unpickling (See https://github.com/pytorch/pytorch/blob/main/SECURITY.md#untrusted-models for more details). In a future release, the default value for `weights_only` will be flipped to `True`. This limits the functions that could be executed during unpickling. Arbitrary objects will no longer be allowed to be loaded via this mode unless they are explicitly allowlisted by the user via `torch.serialization.add_safe_globals`. We recommend you start setting `weights_only=True` for any use case where you don't have full control of the loaded file. Please open an issue on GitHub for any issues related to this experimental feature.\n",
      "  self.model.load_state_dict(torch.load(model_path + '.pth', map_location=torch.device('cpu')))\n"
     ]
    },
    {
     "name": "stdout",
     "output_type": "stream",
     "text": [
      "fit_transform\n",
      "<class 'pandas.core.frame.DataFrame'>\n",
      "Index: 332 entries, test_cohort_1_patient_1 to test_cohort_1_patient_332\n",
      "Columns: 13214 entries, ENSG00000000003 to ENSG00000282608\n",
      "dtypes: float64(13214)\n",
      "memory usage: 33.5+ MB\n",
      "None\n",
      "cboost_common_genes_only.pkl\n"
     ]
    },
    {
     "name": "stderr",
     "output_type": "stream",
     "text": [
      "2025-02-11 20:34:28,200 - INFO - Loaded data: 496 samples, 15495 features\n"
     ]
    },
    {
     "name": "stdout",
     "output_type": "stream",
     "text": [
      "['test_cohort_1', 'test_cohort_2']\n"
     ]
    },
    {
     "name": "stderr",
     "output_type": "stream",
     "text": [
      "2025-02-11 20:35:21,555 - INFO - Loaded data: 332 samples, 15495 features\n",
      "2025-02-11 20:36:11,915 - INFO - Loaded data: 164 samples, 15495 features\n"
     ]
    },
    {
     "name": "stdout",
     "output_type": "stream",
     "text": [
      "cboost_imp_pData.pkl\n"
     ]
    },
    {
     "name": "stderr",
     "output_type": "stream",
     "text": [
      "2025-02-11 20:37:06,438 - INFO - Found clinical data specification\n",
      "2025-02-11 20:37:06,642 - INFO - Loaded data: 496 samples, 15499 features\n"
     ]
    },
    {
     "name": "stdout",
     "output_type": "stream",
     "text": [
      "['test_cohort_1', 'test_cohort_2']\n"
     ]
    },
    {
     "name": "stderr",
     "output_type": "stream",
     "text": [
      "2025-02-11 20:38:04,391 - INFO - Found clinical data specification\n",
      "2025-02-11 20:38:04,430 - INFO - Loaded data: 332 samples, 15499 features\n",
      "2025-02-11 20:38:57,009 - INFO - Found clinical data specification\n",
      "2025-02-11 20:38:57,022 - INFO - Loaded data: 164 samples, 15499 features\n"
     ]
    },
    {
     "name": "stdout",
     "output_type": "stream",
     "text": [
      "cboost_inter_only.pkl\n"
     ]
    },
    {
     "name": "stderr",
     "output_type": "stream",
     "text": [
      "2025-02-11 20:39:33,563 - INFO - Loaded data: 496 samples, 13214 features\n"
     ]
    },
    {
     "name": "stdout",
     "output_type": "stream",
     "text": [
      "['test_cohort_1', 'test_cohort_2']\n"
     ]
    },
    {
     "name": "stderr",
     "output_type": "stream",
     "text": [
      "2025-02-11 20:40:04,799 - INFO - Loaded data: 332 samples, 13214 features\n",
      "2025-02-11 20:40:39,353 - INFO - Loaded data: 164 samples, 13214 features\n"
     ]
    },
    {
     "name": "stdout",
     "output_type": "stream",
     "text": [
      "cboost_pData.pkl\n"
     ]
    },
    {
     "name": "stderr",
     "output_type": "stream",
     "text": [
      "2025-02-11 20:41:13,393 - INFO - Found clinical data specification\n",
      "2025-02-11 20:41:13,529 - INFO - Only uses pData\n",
      "2025-02-11 20:41:13,535 - INFO - Loaded data: 496 samples, 4 features\n"
     ]
    },
    {
     "name": "stdout",
     "output_type": "stream",
     "text": [
      "['test_cohort_1', 'test_cohort_2']\n"
     ]
    },
    {
     "name": "stderr",
     "output_type": "stream",
     "text": [
      "2025-02-11 20:41:45,738 - INFO - Found clinical data specification\n",
      "2025-02-11 20:41:45,747 - INFO - Only uses pData\n",
      "2025-02-11 20:41:45,753 - INFO - Loaded data: 332 samples, 4 features\n",
      "2025-02-11 20:42:18,079 - INFO - Found clinical data specification\n",
      "2025-02-11 20:42:18,084 - INFO - Only uses pData\n",
      "2025-02-11 20:42:18,087 - INFO - Loaded data: 164 samples, 4 features\n"
     ]
    },
    {
     "name": "stdout",
     "output_type": "stream",
     "text": [
      "cboost_really_intersect_pData.pkl\n"
     ]
    },
    {
     "name": "stderr",
     "output_type": "stream",
     "text": [
      "2025-02-11 20:42:50,589 - INFO - Found clinical data specification\n",
      "2025-02-11 20:42:50,745 - INFO - Loaded data: 496 samples, 13218 features\n"
     ]
    },
    {
     "name": "stdout",
     "output_type": "stream",
     "text": [
      "['test_cohort_1', 'test_cohort_2']\n"
     ]
    },
    {
     "name": "stderr",
     "output_type": "stream",
     "text": [
      "2025-02-11 20:43:23,797 - INFO - Found clinical data specification\n",
      "2025-02-11 20:43:23,816 - INFO - Loaded data: 332 samples, 13218 features\n",
      "2025-02-11 20:43:56,017 - INFO - Found clinical data specification\n",
      "2025-02-11 20:43:56,031 - INFO - Loaded data: 164 samples, 13218 features\n"
     ]
    }
   ],
   "source": [
    "results = load_all_results(RESULTS_PATH)\n",
    "test_perf = test_perf_all_models(MODELS_PATH)"
   ]
  },
  {
   "cell_type": "code",
   "execution_count": 9,
   "metadata": {},
   "outputs": [
    {
     "data": {
      "text/html": [
       "<div>\n",
       "<style scoped>\n",
       "    .dataframe tbody tr th:only-of-type {\n",
       "        vertical-align: middle;\n",
       "    }\n",
       "\n",
       "    .dataframe tbody tr th {\n",
       "        vertical-align: top;\n",
       "    }\n",
       "\n",
       "    .dataframe thead th {\n",
       "        text-align: right;\n",
       "    }\n",
       "</style>\n",
       "<table border=\"1\" class=\"dataframe\">\n",
       "  <thead>\n",
       "    <tr style=\"text-align: right;\">\n",
       "      <th></th>\n",
       "      <th>model</th>\n",
       "      <th>mean</th>\n",
       "      <th>sd</th>\n",
       "    </tr>\n",
       "  </thead>\n",
       "  <tbody>\n",
       "    <tr>\n",
       "      <th>0</th>\n",
       "      <td>cboost_autoencoder_pData_paper</td>\n",
       "      <td>0.671056</td>\n",
       "      <td>0.045585</td>\n",
       "    </tr>\n",
       "    <tr>\n",
       "      <th>1</th>\n",
       "      <td>cboost_autoencoder_paper</td>\n",
       "      <td>0.649736</td>\n",
       "      <td>0.085648</td>\n",
       "    </tr>\n",
       "    <tr>\n",
       "      <th>2</th>\n",
       "      <td>cboost_common_genes_only</td>\n",
       "      <td>0.655619</td>\n",
       "      <td>0.058260</td>\n",
       "    </tr>\n",
       "    <tr>\n",
       "      <th>3</th>\n",
       "      <td>cboost_imp_pData</td>\n",
       "      <td>0.673758</td>\n",
       "      <td>0.066102</td>\n",
       "    </tr>\n",
       "    <tr>\n",
       "      <th>4</th>\n",
       "      <td>cboost_inter_only</td>\n",
       "      <td>0.692797</td>\n",
       "      <td>0.061404</td>\n",
       "    </tr>\n",
       "    <tr>\n",
       "      <th>5</th>\n",
       "      <td>cboost_pData</td>\n",
       "      <td>0.686910</td>\n",
       "      <td>0.086168</td>\n",
       "    </tr>\n",
       "    <tr>\n",
       "      <th>6</th>\n",
       "      <td>cboost_really_intersect_pData</td>\n",
       "      <td>0.667330</td>\n",
       "      <td>0.063270</td>\n",
       "    </tr>\n",
       "  </tbody>\n",
       "</table>\n",
       "</div>"
      ],
      "text/plain": [
       "                            model      mean        sd\n",
       "0  cboost_autoencoder_pData_paper  0.671056  0.045585\n",
       "1        cboost_autoencoder_paper  0.649736  0.085648\n",
       "2        cboost_common_genes_only  0.655619  0.058260\n",
       "3                cboost_imp_pData  0.673758  0.066102\n",
       "4               cboost_inter_only  0.692797  0.061404\n",
       "5                    cboost_pData  0.686910  0.086168\n",
       "6   cboost_really_intersect_pData  0.667330  0.063270"
      ]
     },
     "execution_count": 9,
     "metadata": {},
     "output_type": "execute_result"
    }
   ],
   "source": [
    "results"
   ]
  },
  {
   "cell_type": "code",
   "execution_count": 10,
   "metadata": {},
   "outputs": [
    {
     "data": {
      "text/html": [
       "<div>\n",
       "<style scoped>\n",
       "    .dataframe tbody tr th:only-of-type {\n",
       "        vertical-align: middle;\n",
       "    }\n",
       "\n",
       "    .dataframe tbody tr th {\n",
       "        vertical-align: top;\n",
       "    }\n",
       "\n",
       "    .dataframe thead th {\n",
       "        text-align: right;\n",
       "    }\n",
       "</style>\n",
       "<table border=\"1\" class=\"dataframe\">\n",
       "  <thead>\n",
       "    <tr style=\"text-align: right;\">\n",
       "      <th></th>\n",
       "      <th>model</th>\n",
       "      <th>model_class</th>\n",
       "      <th>dataset</th>\n",
       "      <th>ci_coh1</th>\n",
       "      <th>ci_coh2</th>\n",
       "    </tr>\n",
       "  </thead>\n",
       "  <tbody>\n",
       "    <tr>\n",
       "      <th>0</th>\n",
       "      <td>cboost_autoencoder_paper</td>\n",
       "      <td>GBoost</td>\n",
       "      <td>AutoEncoder</td>\n",
       "      <td>0.704491</td>\n",
       "      <td>0.798592</td>\n",
       "    </tr>\n",
       "    <tr>\n",
       "      <th>1</th>\n",
       "      <td>cboost_autoencoder_pData_paper</td>\n",
       "      <td>GBoost</td>\n",
       "      <td>pData_AutoEncoder</td>\n",
       "      <td>0.662955</td>\n",
       "      <td>0.680135</td>\n",
       "    </tr>\n",
       "    <tr>\n",
       "      <th>2</th>\n",
       "      <td>cboost_common_genes_only</td>\n",
       "      <td>GBoost</td>\n",
       "      <td>Imputed</td>\n",
       "      <td>0.734893</td>\n",
       "      <td>0.803489</td>\n",
       "    </tr>\n",
       "    <tr>\n",
       "      <th>3</th>\n",
       "      <td>cboost_imp_pData</td>\n",
       "      <td>GBoost</td>\n",
       "      <td>pData_Imputed</td>\n",
       "      <td>0.741649</td>\n",
       "      <td>0.803489</td>\n",
       "    </tr>\n",
       "    <tr>\n",
       "      <th>4</th>\n",
       "      <td>cboost_inter_only</td>\n",
       "      <td>GBoost</td>\n",
       "      <td>Intersection</td>\n",
       "      <td>0.706243</td>\n",
       "      <td>0.813590</td>\n",
       "    </tr>\n",
       "    <tr>\n",
       "      <th>5</th>\n",
       "      <td>cboost_pData</td>\n",
       "      <td>GBoost</td>\n",
       "      <td>pData</td>\n",
       "      <td>0.695859</td>\n",
       "      <td>0.774564</td>\n",
       "    </tr>\n",
       "    <tr>\n",
       "      <th>6</th>\n",
       "      <td>cboost_really_intersect_pData</td>\n",
       "      <td>GBoost</td>\n",
       "      <td>pData_Intersection</td>\n",
       "      <td>0.736645</td>\n",
       "      <td>0.821549</td>\n",
       "    </tr>\n",
       "  </tbody>\n",
       "</table>\n",
       "</div>"
      ],
      "text/plain": [
       "                            model model_class             dataset   ci_coh1  \\\n",
       "0        cboost_autoencoder_paper      GBoost         AutoEncoder  0.704491   \n",
       "1  cboost_autoencoder_pData_paper      GBoost   pData_AutoEncoder  0.662955   \n",
       "2        cboost_common_genes_only      GBoost             Imputed  0.734893   \n",
       "3                cboost_imp_pData      GBoost       pData_Imputed  0.741649   \n",
       "4               cboost_inter_only      GBoost        Intersection  0.706243   \n",
       "5                    cboost_pData      GBoost               pData  0.695859   \n",
       "6   cboost_really_intersect_pData      GBoost  pData_Intersection  0.736645   \n",
       "\n",
       "    ci_coh2  \n",
       "0  0.798592  \n",
       "1  0.680135  \n",
       "2  0.803489  \n",
       "3  0.803489  \n",
       "4  0.813590  \n",
       "5  0.774564  \n",
       "6  0.821549  "
      ]
     },
     "execution_count": 10,
     "metadata": {},
     "output_type": "execute_result"
    }
   ],
   "source": [
    "test_perf"
   ]
  },
  {
   "cell_type": "code",
   "execution_count": 11,
   "metadata": {},
   "outputs": [],
   "source": [
    "split_results = load_split_results(RESULTS_PATH, MODEL_NAME)\n",
    "split_results.to_csv(os.path.join(FIN_RESULTS_SPLIT_PATH, 'splits_GBoost.csv'))"
   ]
  },
  {
   "cell_type": "code",
   "execution_count": 12,
   "metadata": {},
   "outputs": [
    {
     "data": {
      "text/html": [
       "<div>\n",
       "<style scoped>\n",
       "    .dataframe tbody tr th:only-of-type {\n",
       "        vertical-align: middle;\n",
       "    }\n",
       "\n",
       "    .dataframe tbody tr th {\n",
       "        vertical-align: top;\n",
       "    }\n",
       "\n",
       "    .dataframe thead th {\n",
       "        text-align: right;\n",
       "    }\n",
       "</style>\n",
       "<table border=\"1\" class=\"dataframe\">\n",
       "  <thead>\n",
       "    <tr style=\"text-align: right;\">\n",
       "      <th></th>\n",
       "      <th>model_class</th>\n",
       "      <th>model</th>\n",
       "      <th>test_cohort</th>\n",
       "      <th>ci</th>\n",
       "      <th>dataset</th>\n",
       "    </tr>\n",
       "  </thead>\n",
       "  <tbody>\n",
       "    <tr>\n",
       "      <th>0</th>\n",
       "      <td>GBoost</td>\n",
       "      <td>cboost_autoencoder_paper</td>\n",
       "      <td>Atlanta_2014_Long</td>\n",
       "      <td>0.586994</td>\n",
       "      <td>AutoEncoder</td>\n",
       "    </tr>\n",
       "    <tr>\n",
       "      <th>1</th>\n",
       "      <td>GBoost</td>\n",
       "      <td>cboost_autoencoder_paper</td>\n",
       "      <td>Belfast_2018_Jain</td>\n",
       "      <td>0.591925</td>\n",
       "      <td>AutoEncoder</td>\n",
       "    </tr>\n",
       "    <tr>\n",
       "      <th>2</th>\n",
       "      <td>GBoost</td>\n",
       "      <td>cboost_autoencoder_paper</td>\n",
       "      <td>CPC_GENE_2017_Fraser</td>\n",
       "      <td>0.525988</td>\n",
       "      <td>AutoEncoder</td>\n",
       "    </tr>\n",
       "    <tr>\n",
       "      <th>3</th>\n",
       "      <td>GBoost</td>\n",
       "      <td>cboost_autoencoder_paper</td>\n",
       "      <td>CPGEA_2020_Li</td>\n",
       "      <td>0.639076</td>\n",
       "      <td>AutoEncoder</td>\n",
       "    </tr>\n",
       "    <tr>\n",
       "      <th>4</th>\n",
       "      <td>GBoost</td>\n",
       "      <td>cboost_autoencoder_paper</td>\n",
       "      <td>CamCap_2016_Ross_Adams</td>\n",
       "      <td>0.805142</td>\n",
       "      <td>AutoEncoder</td>\n",
       "    </tr>\n",
       "    <tr>\n",
       "      <th>...</th>\n",
       "      <td>...</td>\n",
       "      <td>...</td>\n",
       "      <td>...</td>\n",
       "      <td>...</td>\n",
       "      <td>...</td>\n",
       "    </tr>\n",
       "    <tr>\n",
       "      <th>4</th>\n",
       "      <td>GBoost</td>\n",
       "      <td>cboost_really_intersect_pData</td>\n",
       "      <td>CamCap_2016_Ross_Adams</td>\n",
       "      <td>0.734100</td>\n",
       "      <td>pData_Intersection</td>\n",
       "    </tr>\n",
       "    <tr>\n",
       "      <th>5</th>\n",
       "      <td>GBoost</td>\n",
       "      <td>cboost_really_intersect_pData</td>\n",
       "      <td>CancerMap_2017_Luca</td>\n",
       "      <td>0.616902</td>\n",
       "      <td>pData_Intersection</td>\n",
       "    </tr>\n",
       "    <tr>\n",
       "      <th>6</th>\n",
       "      <td>GBoost</td>\n",
       "      <td>cboost_really_intersect_pData</td>\n",
       "      <td>DKFZ_2018_Gerhauser</td>\n",
       "      <td>0.788686</td>\n",
       "      <td>pData_Intersection</td>\n",
       "    </tr>\n",
       "    <tr>\n",
       "      <th>7</th>\n",
       "      <td>GBoost</td>\n",
       "      <td>cboost_really_intersect_pData</td>\n",
       "      <td>MSKCC_2010_Taylor</td>\n",
       "      <td>0.690217</td>\n",
       "      <td>pData_Intersection</td>\n",
       "    </tr>\n",
       "    <tr>\n",
       "      <th>8</th>\n",
       "      <td>GBoost</td>\n",
       "      <td>cboost_really_intersect_pData</td>\n",
       "      <td>Stockholm_2016_Ross_Adams</td>\n",
       "      <td>0.620992</td>\n",
       "      <td>pData_Intersection</td>\n",
       "    </tr>\n",
       "  </tbody>\n",
       "</table>\n",
       "<p>63 rows × 5 columns</p>\n",
       "</div>"
      ],
      "text/plain": [
       "   model_class                          model                test_cohort  \\\n",
       "0       GBoost       cboost_autoencoder_paper          Atlanta_2014_Long   \n",
       "1       GBoost       cboost_autoencoder_paper          Belfast_2018_Jain   \n",
       "2       GBoost       cboost_autoencoder_paper       CPC_GENE_2017_Fraser   \n",
       "3       GBoost       cboost_autoencoder_paper              CPGEA_2020_Li   \n",
       "4       GBoost       cboost_autoencoder_paper     CamCap_2016_Ross_Adams   \n",
       "..         ...                            ...                        ...   \n",
       "4       GBoost  cboost_really_intersect_pData     CamCap_2016_Ross_Adams   \n",
       "5       GBoost  cboost_really_intersect_pData        CancerMap_2017_Luca   \n",
       "6       GBoost  cboost_really_intersect_pData        DKFZ_2018_Gerhauser   \n",
       "7       GBoost  cboost_really_intersect_pData          MSKCC_2010_Taylor   \n",
       "8       GBoost  cboost_really_intersect_pData  Stockholm_2016_Ross_Adams   \n",
       "\n",
       "          ci             dataset  \n",
       "0   0.586994         AutoEncoder  \n",
       "1   0.591925         AutoEncoder  \n",
       "2   0.525988         AutoEncoder  \n",
       "3   0.639076         AutoEncoder  \n",
       "4   0.805142         AutoEncoder  \n",
       "..       ...                 ...  \n",
       "4   0.734100  pData_Intersection  \n",
       "5   0.616902  pData_Intersection  \n",
       "6   0.788686  pData_Intersection  \n",
       "7   0.690217  pData_Intersection  \n",
       "8   0.620992  pData_Intersection  \n",
       "\n",
       "[63 rows x 5 columns]"
      ]
     },
     "execution_count": 12,
     "metadata": {},
     "output_type": "execute_result"
    }
   ],
   "source": [
    "split_results"
   ]
  },
  {
   "cell_type": "code",
   "execution_count": 13,
   "metadata": {},
   "outputs": [],
   "source": [
    "results_combined = combine_results(results, test_perf)\n",
    "results_combined.to_csv(os.path.join(FIN_RESULTS_OV_PATH, 'ov_GBoost.csv'))"
   ]
  },
  {
   "cell_type": "code",
   "execution_count": 14,
   "metadata": {},
   "outputs": [
    {
     "data": {
      "text/html": [
       "<div>\n",
       "<style scoped>\n",
       "    .dataframe tbody tr th:only-of-type {\n",
       "        vertical-align: middle;\n",
       "    }\n",
       "\n",
       "    .dataframe tbody tr th {\n",
       "        vertical-align: top;\n",
       "    }\n",
       "\n",
       "    .dataframe thead th {\n",
       "        text-align: right;\n",
       "    }\n",
       "</style>\n",
       "<table border=\"1\" class=\"dataframe\">\n",
       "  <thead>\n",
       "    <tr style=\"text-align: right;\">\n",
       "      <th></th>\n",
       "      <th>model</th>\n",
       "      <th>mean</th>\n",
       "      <th>sd</th>\n",
       "      <th>model_class</th>\n",
       "      <th>dataset</th>\n",
       "      <th>ci_coh1</th>\n",
       "      <th>ci_coh2</th>\n",
       "    </tr>\n",
       "  </thead>\n",
       "  <tbody>\n",
       "    <tr>\n",
       "      <th>0</th>\n",
       "      <td>cboost_autoencoder_pData_paper</td>\n",
       "      <td>0.671056</td>\n",
       "      <td>0.045585</td>\n",
       "      <td>GBoost</td>\n",
       "      <td>pData_AutoEncoder</td>\n",
       "      <td>0.662955</td>\n",
       "      <td>0.680135</td>\n",
       "    </tr>\n",
       "    <tr>\n",
       "      <th>1</th>\n",
       "      <td>cboost_autoencoder_paper</td>\n",
       "      <td>0.649736</td>\n",
       "      <td>0.085648</td>\n",
       "      <td>GBoost</td>\n",
       "      <td>AutoEncoder</td>\n",
       "      <td>0.704491</td>\n",
       "      <td>0.798592</td>\n",
       "    </tr>\n",
       "    <tr>\n",
       "      <th>2</th>\n",
       "      <td>cboost_common_genes_only</td>\n",
       "      <td>0.655619</td>\n",
       "      <td>0.058260</td>\n",
       "      <td>GBoost</td>\n",
       "      <td>Imputed</td>\n",
       "      <td>0.734893</td>\n",
       "      <td>0.803489</td>\n",
       "    </tr>\n",
       "    <tr>\n",
       "      <th>3</th>\n",
       "      <td>cboost_imp_pData</td>\n",
       "      <td>0.673758</td>\n",
       "      <td>0.066102</td>\n",
       "      <td>GBoost</td>\n",
       "      <td>pData_Imputed</td>\n",
       "      <td>0.741649</td>\n",
       "      <td>0.803489</td>\n",
       "    </tr>\n",
       "    <tr>\n",
       "      <th>4</th>\n",
       "      <td>cboost_inter_only</td>\n",
       "      <td>0.692797</td>\n",
       "      <td>0.061404</td>\n",
       "      <td>GBoost</td>\n",
       "      <td>Intersection</td>\n",
       "      <td>0.706243</td>\n",
       "      <td>0.813590</td>\n",
       "    </tr>\n",
       "    <tr>\n",
       "      <th>5</th>\n",
       "      <td>cboost_pData</td>\n",
       "      <td>0.686910</td>\n",
       "      <td>0.086168</td>\n",
       "      <td>GBoost</td>\n",
       "      <td>pData</td>\n",
       "      <td>0.695859</td>\n",
       "      <td>0.774564</td>\n",
       "    </tr>\n",
       "    <tr>\n",
       "      <th>6</th>\n",
       "      <td>cboost_really_intersect_pData</td>\n",
       "      <td>0.667330</td>\n",
       "      <td>0.063270</td>\n",
       "      <td>GBoost</td>\n",
       "      <td>pData_Intersection</td>\n",
       "      <td>0.736645</td>\n",
       "      <td>0.821549</td>\n",
       "    </tr>\n",
       "  </tbody>\n",
       "</table>\n",
       "</div>"
      ],
      "text/plain": [
       "                            model      mean        sd model_class  \\\n",
       "0  cboost_autoencoder_pData_paper  0.671056  0.045585      GBoost   \n",
       "1        cboost_autoencoder_paper  0.649736  0.085648      GBoost   \n",
       "2        cboost_common_genes_only  0.655619  0.058260      GBoost   \n",
       "3                cboost_imp_pData  0.673758  0.066102      GBoost   \n",
       "4               cboost_inter_only  0.692797  0.061404      GBoost   \n",
       "5                    cboost_pData  0.686910  0.086168      GBoost   \n",
       "6   cboost_really_intersect_pData  0.667330  0.063270      GBoost   \n",
       "\n",
       "              dataset   ci_coh1   ci_coh2  \n",
       "0   pData_AutoEncoder  0.662955  0.680135  \n",
       "1         AutoEncoder  0.704491  0.798592  \n",
       "2             Imputed  0.734893  0.803489  \n",
       "3       pData_Imputed  0.741649  0.803489  \n",
       "4        Intersection  0.706243  0.813590  \n",
       "5               pData  0.695859  0.774564  \n",
       "6  pData_Intersection  0.736645  0.821549  "
      ]
     },
     "execution_count": 14,
     "metadata": {},
     "output_type": "execute_result"
    }
   ],
   "source": [
    "results_combined"
   ]
  }
 ],
 "metadata": {
  "kernelspec": {
   "display_name": ".venv",
   "language": "python",
   "name": "python3"
  },
  "language_info": {
   "codemirror_mode": {
    "name": "ipython",
    "version": 3
   },
   "file_extension": ".py",
   "mimetype": "text/x-python",
   "name": "python",
   "nbconvert_exporter": "python",
   "pygments_lexer": "ipython3",
   "version": "3.12.0"
  }
 },
 "nbformat": 4,
 "nbformat_minor": 2
}
