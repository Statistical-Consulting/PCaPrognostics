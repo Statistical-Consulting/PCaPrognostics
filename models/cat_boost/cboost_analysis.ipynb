{
 "cells": [
  {
   "cell_type": "code",
   "execution_count": 1,
   "metadata": {},
   "outputs": [],
   "source": [
    "import os\n",
    "import sys\n",
    "import logging\n",
    "\n",
    "# Setup paths\n",
    "PROJECT_ROOT = os.path.dirname(os.path.dirname(os.getcwd()))\n",
    "if PROJECT_ROOT not in sys.path:\n",
    "    sys.path.append(PROJECT_ROOT)\n",
    "\n",
    "# Setup directories\n",
    "RESULTS_DIR = os.path.join(os.getcwd(), 'results')\n",
    "os.makedirs(RESULTS_DIR, exist_ok=True)\n",
    "\n",
    "RESULTS_PATH = os.path.join(RESULTS_DIR, 'results')\n",
    "MODELS_PATH = os.path.join(RESULTS_DIR, 'model')\n",
    "\n",
    "FIN_RESULTS_OV_PATH = os.path.join(PROJECT_ROOT, 'results_modelling_ovs')\n",
    "FIN_RESULTS_SPLIT_PATH = os.path.join(PROJECT_ROOT, 'results_modelling_splits')\n",
    "FEAT_IMP_PATH = os.path.join(PROJECT_ROOT, 'results_modelling_feat_imp')\n",
    "\n",
    "# Imports\n",
    "from models.modelling_process import ModellingProcess\n",
    "from utils.analysis import * \n",
    "\n",
    "# Setup logging\n",
    "logging.basicConfig(\n",
    "    level=logging.INFO,\n",
    "    format='%(asctime)s - %(levelname)s - %(message)s'\n",
    ")\n",
    "logger = logging.getLogger(__name__)"
   ]
  },
  {
   "cell_type": "code",
   "execution_count": 2,
   "metadata": {},
   "outputs": [],
   "source": [
    "import os\n",
    "import pandas as pd\n",
    "import pickle\n",
    "import ast\n",
    "import json\n",
    "from sklearn.compose import ColumnTransformer\n",
    "from utils.feature_selection import FoldAwareSelectFromModel, FoldAwareAE\n",
    "\n",
    "# TODO: Dataframe erstellen: Spalte 1: Name des Feautres, Spalte 2: Wert\n",
    "# -------------------- functions to load feat. imp from model\n",
    "def load_feat_imp(model):\n",
    "    #with open(model_path, 'rb') as file:\n",
    "    #    model = pickle.load(file)\n",
    "    \n",
    "    # Cat boost specific\n",
    "    #print(model)\n",
    "    # bei den Modellen die keine eigene Modellklasse von uns haben, muss man gucken wie der library interne Aufruf ist\n",
    "    imps = model.model.get_feature_importance()\n",
    "    \n",
    "    df = pd.DataFrame({\n",
    "    'feature': model.model.feature_names_,\n",
    "    'value': imps\n",
    "    })\n",
    "    \n",
    "    df = df.sort_values(by = \"value\", ascending=False)\n",
    "    df = df[df.loc[: , 'value'] > 0]\n",
    "    \n",
    "    return df\n",
    "\n",
    "\n",
    "def feat_imp_all_models(model_path): \n",
    "    files = os.listdir(model_path)\n",
    "    imps_list = []\n",
    "    \n",
    "    for file in files:\n",
    "        print(file)\n",
    "        contains_pData = bool(re.search(r\"pData\", file, re.IGNORECASE))\n",
    "        contains_intersection = bool(re.search(r\"inter|intersection\", file, re.IGNORECASE))\n",
    "        contains_imputed = bool(re.search(r\"imp|imputed|common\", file, re.IGNORECASE))\n",
    "        contains_aenc = bool(re.search(r\"aenc|auto|autoenc|autoencoder\", file, re.IGNORECASE))\n",
    "        contains_scores = bool(re.search(r\"score|scores\", file, re.IGNORECASE))\n",
    "        \n",
    "        DATA_CONFIG = {\n",
    "            'use_pca': False,\n",
    "            'pca_threshold': 0.85,\n",
    "            'use_imputed': True,\n",
    "            'select_random' : False, \n",
    "            'use_cohorts': False, \n",
    "            # Muss je nach algo angepasst werden; CatBoost eig der einzige der keines braucht, bei den anderen auf True setzen\n",
    "            'requires_ohenc' : False, \n",
    "        }\n",
    "\n",
    "        # Load data based on file type\n",
    "        if contains_intersection:\n",
    "            DATA_CONFIG['gene_type'] = 'intersection'\n",
    "        elif contains_imputed:\n",
    "            DATA_CONFIG['gene_type'] = 'common_genes'\n",
    "        elif contains_aenc:\n",
    "            # DATA_CONFIG['gene_type'] = 'autoencoder'\n",
    "            DATA_CONFIG['gene_type'] = 'intersection'\n",
    "        elif contains_scores: \n",
    "            DATA_CONFIG['gene_type'] = 'scores'\n",
    "        if contains_pData:\n",
    "            DATA_CONFIG['clinical_covs'] = [\"AGE\", \"TISSUE\", \"GLEASON_SCORE\", 'PRE_OPERATIVE_PSA']\n",
    "        if contains_pData and not contains_intersection and not contains_imputed and not contains_aenc and not contains_scores: \n",
    "            DATA_CONFIG['only_pData'] = True\n",
    "            DATA_CONFIG['gene_type'] = None\n",
    "            \n",
    "        model = load_model(os.path.join(model_path, file))  \n",
    "        \n",
    "        if contains_aenc: \n",
    "            pass\n",
    "            # mp = ModellingProcess()\n",
    "            # mp.prepare_test_data(DATA_CONFIG, PROJECT_ROOT)\n",
    "            # X_cos, y_cos = mp.prepare_test_cohort_data(DATA_CONFIG, PROJECT_ROOT, set(mp.test_groups))\n",
    "            # if contains_pData:\n",
    "            #     ae_path = os.path.join(RESULTS_DIR, 'pipe')\n",
    "                \n",
    "            #     pdata_cols = ['TISSUE', 'AGE',\n",
    "            #         'GLEASON_SCORE', 'PRE_OPERATIVE_PSA']\n",
    "            #     exprs_cols =  list(set(X_cos[0].columns) - set(pdata_cols))\n",
    "            # else: \n",
    "            #     pdata_cols = []\n",
    "            #     exprs_cols =  list(set(X_cos[0].columns) - set(pdata_cols))\n",
    "\n",
    "            # ae = FoldAwareAE(testing = True)\n",
    "            # #ae.estimator = load_model(os.path.join(ae, file))  \n",
    "            # preprocessor = ColumnTransformer(\n",
    "            #     transformers=[\n",
    "            #         ('feature_selection', ae, exprs_cols),  # Apply feature selection\n",
    "            #         ('other_features', 'passthrough', pdata_cols)         # Pass through other columns\n",
    "            #     ]\n",
    "            # )\n",
    "            \n",
    "            # preprocessor.fit(X=X_cos[0])\n",
    "            # # Define the pipeline\n",
    "            # pipe_steps = [\n",
    "            #     ('preprocessor', preprocessor),\n",
    "            #     ('model', model)] \n",
    "            \n",
    "            # model = Pipeline(pipe_steps)\n",
    "        else: \n",
    "            components = [\n",
    "                \"pData\" if contains_pData else \"\",\n",
    "                \"Intersection\" if contains_intersection else \"\",\n",
    "                \"Imputed\" if contains_imputed else \"\",\n",
    "                \"AutoEncoder\" if contains_aenc else \"\",\n",
    "                \"Scores\" if contains_scores else \"\"\n",
    "            ]\n",
    "\n",
    "            # Join non-empty components into a single string with a separator (e.g., \"_\")\n",
    "            dataset = \"_\".join(filter(None, components))         \n",
    "            imps = load_feat_imp(model)\n",
    "            imps.loc[:, 'model'] =  'cBoost'\n",
    "            imps.loc[:, 'dataset'] = dataset\n",
    "            imps_list.append(imps)\n",
    "        \n",
    "    df = pd.concat(imps_list, axis = 0)\n",
    "    return df\n",
    "\n",
    "\n",
    "def load_model(model_path): \n",
    "    with open(model_path, 'rb') as file:\n",
    "        model = pickle.load(file)\n",
    "    \n",
    "    return model\n",
    "    \n",
    "\n",
    "# --------------------- get test perf \n",
    "import os\n",
    "import pandas as pd\n",
    "import numpy as np\n",
    "import re\n",
    "from sklearn.pipeline import Pipeline\n",
    "\n",
    "# Function to test performance of all models\n",
    "def test_perf_all_models(model_path, RESULTS_DIR):\n",
    "    files = os.listdir(model_path)\n",
    "    test_perf = []\n",
    "    for file in files:\n",
    "        print(file)\n",
    "\n",
    "        contains_pData = bool(re.search(r\"pData\", file, re.IGNORECASE))\n",
    "        contains_intersection = bool(re.search(r\"inter|intersection\", file, re.IGNORECASE))\n",
    "        contains_imputed = bool(re.search(r\"imp|imputed|common\", file, re.IGNORECASE))\n",
    "        contains_aenc = bool(re.search(r\"aenc|auto|autoenc|autoencoder\", file, re.IGNORECASE))\n",
    "        contains_scores = bool(re.search(r\"score|scores\", file, re.IGNORECASE))\n",
    "        \n",
    "        DATA_CONFIG = {\n",
    "            'use_pca': False,\n",
    "            'pca_threshold': 0.85,\n",
    "            'use_imputed': True,\n",
    "            'select_random' : False, \n",
    "            'use_cohorts': False, \n",
    "            # Muss je nach algo angepasst werden; CatBoost eig der einzige der keines braucht, bei den anderen auf True setzen\n",
    "            'requires_ohenc' : False, \n",
    "        }\n",
    "\n",
    "        # Load data based on file type\n",
    "        if contains_intersection:\n",
    "            DATA_CONFIG['gene_type'] = 'intersection'\n",
    "        elif contains_imputed:\n",
    "            DATA_CONFIG['gene_type'] = 'common_genes'\n",
    "        elif contains_aenc:\n",
    "            # DATA_CONFIG['gene_type'] = 'autoencoder'\n",
    "            DATA_CONFIG['gene_type'] = 'intersection'\n",
    "        elif contains_scores: \n",
    "            DATA_CONFIG['gene_type'] = 'scores'\n",
    "        if contains_pData:\n",
    "            DATA_CONFIG['clinical_covs'] = [\"AGE\", \"TISSUE\", \"GLEASON_SCORE\", 'PRE_OPERATIVE_PSA']\n",
    "        if contains_pData and not contains_intersection and not contains_imputed and not contains_aenc and not contains_scores: \n",
    "            DATA_CONFIG['only_pData'] = True\n",
    "            DATA_CONFIG['gene_type'] = None\n",
    "            \n",
    "        model = load_model(os.path.join(model_path, file))  \n",
    "        \n",
    "        mp = ModellingProcess()\n",
    "        mp.prepare_test_data(DATA_CONFIG, PROJECT_ROOT)\n",
    "        X_cos, y_cos = mp.prepare_test_cohort_data(DATA_CONFIG, PROJECT_ROOT, set(mp.test_groups))\n",
    "        \n",
    "        if contains_aenc: \n",
    "            if contains_pData:\n",
    "                ae_path = os.path.join(RESULTS_DIR, 'pipe')\n",
    "                \n",
    "                pdata_cols = ['TISSUE', 'AGE',\n",
    "                    'GLEASON_SCORE', 'PRE_OPERATIVE_PSA']\n",
    "                exprs_cols =  list(set(X_cos[0].columns) - set(pdata_cols))\n",
    "            else: \n",
    "                pdata_cols = []\n",
    "                exprs_cols =  list(set(X_cos[0].columns) - set(pdata_cols))\n",
    "\n",
    "            ae = FoldAwareAE(testing = True)\n",
    "            #ae.estimator = load_model(os.path.join(ae, file))  \n",
    "            preprocessor = ColumnTransformer(\n",
    "                transformers=[\n",
    "                    ('feature_selection', ae, exprs_cols),  # Apply feature selection\n",
    "                    ('other_features', 'passthrough', pdata_cols)         # Pass through other columns\n",
    "                ]\n",
    "            )\n",
    "            \n",
    "            preprocessor.fit(X=X_cos[0])\n",
    "            # Define the pipeline\n",
    "            pipe_steps = [\n",
    "                ('preprocessor', preprocessor),\n",
    "                ('model', model)] \n",
    "            \n",
    "            model = Pipeline(pipe_steps)\n",
    "        \n",
    "        # print(model)\n",
    "        # print(X_cos[0].info())\n",
    "        # print(model.cat_features)    \n",
    "        ci1 = model.score(X_cos[0], y_cos[0])\n",
    "        ci2 = model.score(X_cos[1], y_cos[1])\n",
    "        print(ci1)         \n",
    "        print(ci2)\n",
    "        \n",
    "        result = {\n",
    "            'model' : file.replace(\".pkl\", \"\"), \n",
    "            'ci_coh1' : ci2, \n",
    "            'ci_coh2' : ci1\n",
    "        }\n",
    "        test_perf.append(result)\n",
    "\n",
    "    return pd.DataFrame(test_perf)"
   ]
  },
  {
   "cell_type": "code",
   "execution_count": 3,
   "metadata": {},
   "outputs": [
    {
     "name": "stdout",
     "output_type": "stream",
     "text": [
      "cboost_autoencoder_paper.pkl\n",
      "cboost_autoencoder_pData_paper.pkl\n",
      "cboost_common_genes_only.pkl\n",
      "cboost_imp_pData.pkl\n",
      "cboost_inter_only.pkl\n",
      "cboost_pData.pkl\n",
      "cboost_really_intersect_pData.pkl\n"
     ]
    }
   ],
   "source": [
    "imp = feat_imp_all_models(MODELS_PATH)\n",
    "imp.to_csv(os.path.join(FEAT_IMP_PATH, 'feat_imp_cBoost.csv'))"
   ]
  },
  {
   "cell_type": "code",
   "execution_count": 4,
   "metadata": {},
   "outputs": [
    {
     "name": "stdout",
     "output_type": "stream",
     "text": [
      "cboost_autoencoder_paper.pkl\n"
     ]
    },
    {
     "name": "stderr",
     "output_type": "stream",
     "text": [
      "2025-01-20 17:30:27,197 - INFO - Loaded data: 496 samples, 13214 features\n"
     ]
    },
    {
     "name": "stdout",
     "output_type": "stream",
     "text": [
      "{'test_cohort_1', 'test_cohort_2'}\n"
     ]
    },
    {
     "name": "stderr",
     "output_type": "stream",
     "text": [
      "2025-01-20 17:31:16,282 - INFO - Loaded data: 332 samples, 13214 features\n",
      "2025-01-20 17:32:00,157 - INFO - Loaded data: 164 samples, 13214 features\n",
      "c:\\Users\\laeti\\PCaPrognostics\\utils\\feature_selection.py:275: FutureWarning: You are using `torch.load` with `weights_only=False` (the current default value), which uses the default pickle module implicitly. It is possible to construct malicious pickle data which will execute arbitrary code during unpickling (See https://github.com/pytorch/pytorch/blob/main/SECURITY.md#untrusted-models for more details). In a future release, the default value for `weights_only` will be flipped to `True`. This limits the functions that could be executed during unpickling. Arbitrary objects will no longer be allowed to be loaded via this mode unless they are explicitly allowlisted by the user via `torch.serialization.add_safe_globals`. We recommend you start setting `weights_only=True` for any use case where you don't have full control of the loaded file. Please open an issue on GitHub for any issues related to this experimental feature.\n",
      "  self.model.load_state_dict(torch.load(model_path + '.pth', map_location=torch.device('cpu')))\n"
     ]
    },
    {
     "name": "stdout",
     "output_type": "stream",
     "text": [
      "fit_transform\n",
      "<class 'pandas.core.frame.DataFrame'>\n",
      "Index: 332 entries, test_cohort_1_patient_1 to test_cohort_1_patient_332\n",
      "Columns: 13214 entries, ENSG00000101558 to ENSG00000001461\n",
      "dtypes: float64(13214)\n",
      "memory usage: 33.5+ MB\n",
      "None\n",
      "0.46809708494933067\n",
      "0.6147842056932966\n",
      "cboost_autoencoder_pData_paper.pkl\n"
     ]
    },
    {
     "name": "stderr",
     "output_type": "stream",
     "text": [
      "2025-01-20 17:32:41,837 - INFO - Found clinical data specification\n",
      "2025-01-20 17:32:42,014 - INFO - Loaded data: 496 samples, 13218 features\n"
     ]
    },
    {
     "name": "stdout",
     "output_type": "stream",
     "text": [
      "{'test_cohort_1', 'test_cohort_2'}\n"
     ]
    },
    {
     "name": "stderr",
     "output_type": "stream",
     "text": [
      "2025-01-20 17:33:27,424 - INFO - Found clinical data specification\n",
      "2025-01-20 17:33:27,443 - INFO - Loaded data: 332 samples, 13218 features\n",
      "2025-01-20 17:33:57,110 - INFO - Found clinical data specification\n",
      "2025-01-20 17:33:57,122 - INFO - Loaded data: 164 samples, 13218 features\n",
      "c:\\Users\\laeti\\PCaPrognostics\\utils\\feature_selection.py:275: FutureWarning: You are using `torch.load` with `weights_only=False` (the current default value), which uses the default pickle module implicitly. It is possible to construct malicious pickle data which will execute arbitrary code during unpickling (See https://github.com/pytorch/pytorch/blob/main/SECURITY.md#untrusted-models for more details). In a future release, the default value for `weights_only` will be flipped to `True`. This limits the functions that could be executed during unpickling. Arbitrary objects will no longer be allowed to be loaded via this mode unless they are explicitly allowlisted by the user via `torch.serialization.add_safe_globals`. We recommend you start setting `weights_only=True` for any use case where you don't have full control of the loaded file. Please open an issue on GitHub for any issues related to this experimental feature.\n",
      "  self.model.load_state_dict(torch.load(model_path + '.pth', map_location=torch.device('cpu')))\n"
     ]
    },
    {
     "name": "stdout",
     "output_type": "stream",
     "text": [
      "fit_transform\n",
      "<class 'pandas.core.frame.DataFrame'>\n",
      "Index: 332 entries, test_cohort_1_patient_1 to test_cohort_1_patient_332\n",
      "Columns: 13214 entries, ENSG00000101558 to ENSG00000001461\n",
      "dtypes: float64(13214)\n",
      "memory usage: 33.5+ MB\n",
      "None\n",
      "0.6470036281746528\n",
      "0.7915518824609734\n",
      "cboost_common_genes_only.pkl\n"
     ]
    },
    {
     "name": "stderr",
     "output_type": "stream",
     "text": [
      "2025-01-20 17:34:36,658 - INFO - Loaded data: 496 samples, 15495 features\n"
     ]
    },
    {
     "name": "stdout",
     "output_type": "stream",
     "text": [
      "{'test_cohort_1', 'test_cohort_2'}\n"
     ]
    },
    {
     "name": "stderr",
     "output_type": "stream",
     "text": [
      "2025-01-20 17:35:20,962 - INFO - Loaded data: 332 samples, 15495 features\n",
      "2025-01-20 17:35:56,636 - INFO - Loaded data: 164 samples, 15495 features\n"
     ]
    },
    {
     "name": "stdout",
     "output_type": "stream",
     "text": [
      "0.7348930314024772\n",
      "0.8034894398530762\n",
      "cboost_imp_pData.pkl\n"
     ]
    },
    {
     "name": "stderr",
     "output_type": "stream",
     "text": [
      "2025-01-20 17:36:35,374 - INFO - Found clinical data specification\n",
      "2025-01-20 17:36:35,529 - INFO - Loaded data: 496 samples, 15499 features\n"
     ]
    },
    {
     "name": "stdout",
     "output_type": "stream",
     "text": [
      "{'test_cohort_1', 'test_cohort_2'}\n"
     ]
    },
    {
     "name": "stderr",
     "output_type": "stream",
     "text": [
      "2025-01-20 17:37:11,524 - INFO - Found clinical data specification\n",
      "2025-01-20 17:37:11,547 - INFO - Loaded data: 332 samples, 15499 features\n",
      "2025-01-20 17:37:44,633 - INFO - Found clinical data specification\n",
      "2025-01-20 17:37:44,661 - INFO - Loaded data: 164 samples, 15499 features\n"
     ]
    },
    {
     "name": "stdout",
     "output_type": "stream",
     "text": [
      "0.7416489428249718\n",
      "0.8034894398530762\n",
      "cboost_inter_only.pkl\n"
     ]
    },
    {
     "name": "stderr",
     "output_type": "stream",
     "text": [
      "2025-01-20 17:38:09,781 - INFO - Loaded data: 496 samples, 13214 features\n"
     ]
    },
    {
     "name": "stdout",
     "output_type": "stream",
     "text": [
      "{'test_cohort_1', 'test_cohort_2'}\n"
     ]
    },
    {
     "name": "stderr",
     "output_type": "stream",
     "text": [
      "2025-01-20 17:38:34,809 - INFO - Loaded data: 332 samples, 13214 features\n",
      "2025-01-20 17:39:00,996 - INFO - Loaded data: 164 samples, 13214 features\n"
     ]
    },
    {
     "name": "stdout",
     "output_type": "stream",
     "text": [
      "0.7062429625922683\n",
      "0.8135904499540864\n",
      "cboost_pData.pkl\n"
     ]
    },
    {
     "name": "stderr",
     "output_type": "stream",
     "text": [
      "2025-01-20 17:39:26,068 - INFO - Found clinical data specification\n",
      "2025-01-20 17:39:26,156 - INFO - Only uses pData\n",
      "2025-01-20 17:39:26,162 - INFO - Loaded data: 496 samples, 4 features\n"
     ]
    },
    {
     "name": "stdout",
     "output_type": "stream",
     "text": [
      "{'test_cohort_1', 'test_cohort_2'}\n"
     ]
    },
    {
     "name": "stderr",
     "output_type": "stream",
     "text": [
      "2025-01-20 17:39:46,856 - INFO - Found clinical data specification\n",
      "2025-01-20 17:39:46,859 - INFO - Only uses pData\n",
      "2025-01-20 17:39:46,862 - INFO - Loaded data: 332 samples, 4 features\n",
      "2025-01-20 17:40:07,126 - INFO - Found clinical data specification\n",
      "2025-01-20 17:40:07,129 - INFO - Only uses pData\n",
      "2025-01-20 17:40:07,131 - INFO - Loaded data: 164 samples, 4 features\n"
     ]
    },
    {
     "name": "stdout",
     "output_type": "stream",
     "text": [
      "0.6958588765169523\n",
      "0.7745638200183654\n",
      "cboost_really_intersect_pData.pkl\n"
     ]
    },
    {
     "name": "stderr",
     "output_type": "stream",
     "text": [
      "2025-01-20 17:40:29,506 - INFO - Found clinical data specification\n",
      "2025-01-20 17:40:29,621 - INFO - Loaded data: 496 samples, 13218 features\n"
     ]
    },
    {
     "name": "stdout",
     "output_type": "stream",
     "text": [
      "{'test_cohort_1', 'test_cohort_2'}\n"
     ]
    },
    {
     "name": "stderr",
     "output_type": "stream",
     "text": [
      "2025-01-20 17:41:01,419 - INFO - Found clinical data specification\n",
      "2025-01-20 17:41:01,442 - INFO - Loaded data: 332 samples, 13218 features\n",
      "2025-01-20 17:41:30,579 - INFO - Found clinical data specification\n",
      "2025-01-20 17:41:30,590 - INFO - Loaded data: 164 samples, 13218 features\n"
     ]
    },
    {
     "name": "stdout",
     "output_type": "stream",
     "text": [
      "0.7366445639934943\n",
      "0.8215488215488216\n"
     ]
    }
   ],
   "source": [
    "results = load_all_results(RESULTS_PATH)\n",
    "test_perf = test_perf_all_models(MODELS_PATH, RESULTS_DIR)"
   ]
  },
  {
   "cell_type": "code",
   "execution_count": 5,
   "metadata": {},
   "outputs": [],
   "source": [
    "split_results = load_split_results(RESULTS_PATH)\n",
    "split_results.to_csv(os.path.join(FIN_RESULTS_SPLIT_PATH, 'splits_cBoost.csv'))"
   ]
  },
  {
   "cell_type": "code",
   "execution_count": 6,
   "metadata": {},
   "outputs": [
    {
     "data": {
      "text/html": [
       "<div>\n",
       "<style scoped>\n",
       "    .dataframe tbody tr th:only-of-type {\n",
       "        vertical-align: middle;\n",
       "    }\n",
       "\n",
       "    .dataframe tbody tr th {\n",
       "        vertical-align: top;\n",
       "    }\n",
       "\n",
       "    .dataframe thead th {\n",
       "        text-align: right;\n",
       "    }\n",
       "</style>\n",
       "<table border=\"1\" class=\"dataframe\">\n",
       "  <thead>\n",
       "    <tr style=\"text-align: right;\">\n",
       "      <th></th>\n",
       "      <th>model</th>\n",
       "      <th>test_cohort</th>\n",
       "      <th>ci</th>\n",
       "      <th>dataset</th>\n",
       "    </tr>\n",
       "  </thead>\n",
       "  <tbody>\n",
       "    <tr>\n",
       "      <th>0</th>\n",
       "      <td>cboost_autoencoder_paper</td>\n",
       "      <td>Atlanta_2014_Long</td>\n",
       "      <td>0.613728</td>\n",
       "      <td>AutoEncoder</td>\n",
       "    </tr>\n",
       "    <tr>\n",
       "      <th>1</th>\n",
       "      <td>cboost_autoencoder_paper</td>\n",
       "      <td>Belfast_2018_Jain</td>\n",
       "      <td>0.559907</td>\n",
       "      <td>AutoEncoder</td>\n",
       "    </tr>\n",
       "    <tr>\n",
       "      <th>2</th>\n",
       "      <td>cboost_autoencoder_paper</td>\n",
       "      <td>CPC_GENE_2017_Fraser</td>\n",
       "      <td>0.579002</td>\n",
       "      <td>AutoEncoder</td>\n",
       "    </tr>\n",
       "    <tr>\n",
       "      <th>3</th>\n",
       "      <td>cboost_autoencoder_paper</td>\n",
       "      <td>CPGEA_2020_Li</td>\n",
       "      <td>0.576516</td>\n",
       "      <td>AutoEncoder</td>\n",
       "    </tr>\n",
       "    <tr>\n",
       "      <th>4</th>\n",
       "      <td>cboost_autoencoder_paper</td>\n",
       "      <td>CamCap_2016_Ross_Adams</td>\n",
       "      <td>0.742896</td>\n",
       "      <td>AutoEncoder</td>\n",
       "    </tr>\n",
       "    <tr>\n",
       "      <th>...</th>\n",
       "      <td>...</td>\n",
       "      <td>...</td>\n",
       "      <td>...</td>\n",
       "      <td>...</td>\n",
       "    </tr>\n",
       "    <tr>\n",
       "      <th>4</th>\n",
       "      <td>cboost_really_intersect_pData</td>\n",
       "      <td>CamCap_2016_Ross_Adams</td>\n",
       "      <td>0.734100</td>\n",
       "      <td>pData_Intersection</td>\n",
       "    </tr>\n",
       "    <tr>\n",
       "      <th>5</th>\n",
       "      <td>cboost_really_intersect_pData</td>\n",
       "      <td>CancerMap_2017_Luca</td>\n",
       "      <td>0.616902</td>\n",
       "      <td>pData_Intersection</td>\n",
       "    </tr>\n",
       "    <tr>\n",
       "      <th>6</th>\n",
       "      <td>cboost_really_intersect_pData</td>\n",
       "      <td>DKFZ_2018_Gerhauser</td>\n",
       "      <td>0.788686</td>\n",
       "      <td>pData_Intersection</td>\n",
       "    </tr>\n",
       "    <tr>\n",
       "      <th>7</th>\n",
       "      <td>cboost_really_intersect_pData</td>\n",
       "      <td>MSKCC_2010_Taylor</td>\n",
       "      <td>0.690217</td>\n",
       "      <td>pData_Intersection</td>\n",
       "    </tr>\n",
       "    <tr>\n",
       "      <th>8</th>\n",
       "      <td>cboost_really_intersect_pData</td>\n",
       "      <td>Stockholm_2016_Ross_Adams</td>\n",
       "      <td>0.620992</td>\n",
       "      <td>pData_Intersection</td>\n",
       "    </tr>\n",
       "  </tbody>\n",
       "</table>\n",
       "<p>63 rows × 4 columns</p>\n",
       "</div>"
      ],
      "text/plain": [
       "                            model                test_cohort        ci  \\\n",
       "0        cboost_autoencoder_paper          Atlanta_2014_Long  0.613728   \n",
       "1        cboost_autoencoder_paper          Belfast_2018_Jain  0.559907   \n",
       "2        cboost_autoencoder_paper       CPC_GENE_2017_Fraser  0.579002   \n",
       "3        cboost_autoencoder_paper              CPGEA_2020_Li  0.576516   \n",
       "4        cboost_autoencoder_paper     CamCap_2016_Ross_Adams  0.742896   \n",
       "..                            ...                        ...       ...   \n",
       "4   cboost_really_intersect_pData     CamCap_2016_Ross_Adams  0.734100   \n",
       "5   cboost_really_intersect_pData        CancerMap_2017_Luca  0.616902   \n",
       "6   cboost_really_intersect_pData        DKFZ_2018_Gerhauser  0.788686   \n",
       "7   cboost_really_intersect_pData          MSKCC_2010_Taylor  0.690217   \n",
       "8   cboost_really_intersect_pData  Stockholm_2016_Ross_Adams  0.620992   \n",
       "\n",
       "               dataset  \n",
       "0          AutoEncoder  \n",
       "1          AutoEncoder  \n",
       "2          AutoEncoder  \n",
       "3          AutoEncoder  \n",
       "4          AutoEncoder  \n",
       "..                 ...  \n",
       "4   pData_Intersection  \n",
       "5   pData_Intersection  \n",
       "6   pData_Intersection  \n",
       "7   pData_Intersection  \n",
       "8   pData_Intersection  \n",
       "\n",
       "[63 rows x 4 columns]"
      ]
     },
     "execution_count": 6,
     "metadata": {},
     "output_type": "execute_result"
    }
   ],
   "source": [
    "split_results"
   ]
  },
  {
   "cell_type": "code",
   "execution_count": 7,
   "metadata": {},
   "outputs": [],
   "source": [
    "results_combined = combine_results(results, test_perf)\n",
    "results_combined.to_csv(os.path.join(FIN_RESULTS_OV_PATH, 'ov_cBoost.csv'))"
   ]
  },
  {
   "cell_type": "code",
   "execution_count": 8,
   "metadata": {},
   "outputs": [
    {
     "data": {
      "text/html": [
       "<div>\n",
       "<style scoped>\n",
       "    .dataframe tbody tr th:only-of-type {\n",
       "        vertical-align: middle;\n",
       "    }\n",
       "\n",
       "    .dataframe tbody tr th {\n",
       "        vertical-align: top;\n",
       "    }\n",
       "\n",
       "    .dataframe thead th {\n",
       "        text-align: right;\n",
       "    }\n",
       "</style>\n",
       "<table border=\"1\" class=\"dataframe\">\n",
       "  <thead>\n",
       "    <tr style=\"text-align: right;\">\n",
       "      <th></th>\n",
       "      <th>model</th>\n",
       "      <th>mean</th>\n",
       "      <th>sd</th>\n",
       "      <th>ci_coh1</th>\n",
       "      <th>ci_coh2</th>\n",
       "    </tr>\n",
       "  </thead>\n",
       "  <tbody>\n",
       "    <tr>\n",
       "      <th>0</th>\n",
       "      <td>cboost_autoencoder_pData_paper</td>\n",
       "      <td>0.671056</td>\n",
       "      <td>0.045585</td>\n",
       "      <td>0.791552</td>\n",
       "      <td>0.647004</td>\n",
       "    </tr>\n",
       "    <tr>\n",
       "      <th>1</th>\n",
       "      <td>cboost_autoencoder_paper</td>\n",
       "      <td>0.603645</td>\n",
       "      <td>0.072405</td>\n",
       "      <td>0.614784</td>\n",
       "      <td>0.468097</td>\n",
       "    </tr>\n",
       "    <tr>\n",
       "      <th>2</th>\n",
       "      <td>cboost_common_genes_only</td>\n",
       "      <td>0.655619</td>\n",
       "      <td>0.058260</td>\n",
       "      <td>0.803489</td>\n",
       "      <td>0.734893</td>\n",
       "    </tr>\n",
       "    <tr>\n",
       "      <th>3</th>\n",
       "      <td>cboost_imp_pData</td>\n",
       "      <td>0.673758</td>\n",
       "      <td>0.066102</td>\n",
       "      <td>0.803489</td>\n",
       "      <td>0.741649</td>\n",
       "    </tr>\n",
       "    <tr>\n",
       "      <th>4</th>\n",
       "      <td>cboost_inter_only</td>\n",
       "      <td>0.692797</td>\n",
       "      <td>0.061404</td>\n",
       "      <td>0.813590</td>\n",
       "      <td>0.706243</td>\n",
       "    </tr>\n",
       "    <tr>\n",
       "      <th>5</th>\n",
       "      <td>cboost_pData</td>\n",
       "      <td>0.686910</td>\n",
       "      <td>0.086168</td>\n",
       "      <td>0.774564</td>\n",
       "      <td>0.695859</td>\n",
       "    </tr>\n",
       "    <tr>\n",
       "      <th>6</th>\n",
       "      <td>cboost_really_intersect_pData</td>\n",
       "      <td>0.667330</td>\n",
       "      <td>0.063270</td>\n",
       "      <td>0.821549</td>\n",
       "      <td>0.736645</td>\n",
       "    </tr>\n",
       "  </tbody>\n",
       "</table>\n",
       "</div>"
      ],
      "text/plain": [
       "                            model      mean        sd   ci_coh1   ci_coh2\n",
       "0  cboost_autoencoder_pData_paper  0.671056  0.045585  0.791552  0.647004\n",
       "1        cboost_autoencoder_paper  0.603645  0.072405  0.614784  0.468097\n",
       "2        cboost_common_genes_only  0.655619  0.058260  0.803489  0.734893\n",
       "3                cboost_imp_pData  0.673758  0.066102  0.803489  0.741649\n",
       "4               cboost_inter_only  0.692797  0.061404  0.813590  0.706243\n",
       "5                    cboost_pData  0.686910  0.086168  0.774564  0.695859\n",
       "6   cboost_really_intersect_pData  0.667330  0.063270  0.821549  0.736645"
      ]
     },
     "execution_count": 8,
     "metadata": {},
     "output_type": "execute_result"
    }
   ],
   "source": [
    "results_combined"
   ]
  },
  {
   "cell_type": "code",
   "execution_count": 9,
   "metadata": {},
   "outputs": [],
   "source": [
    "#model_path = os.path.join(RESULTS_DIR, 'model', 'cboost_inter_only.pkl')\n",
    "#feat_imp = load_feat_imp(model_path)\n",
    "#feat_imp.to_csv(os.path.join(FEAT_IMP_PATH, 'feat_imp_cBoost.csv'))"
   ]
  }
 ],
 "metadata": {
  "kernelspec": {
   "display_name": ".venv",
   "language": "python",
   "name": "python3"
  },
  "language_info": {
   "codemirror_mode": {
    "name": "ipython",
    "version": 3
   },
   "file_extension": ".py",
   "mimetype": "text/x-python",
   "name": "python",
   "nbconvert_exporter": "python",
   "pygments_lexer": "ipython3",
   "version": "3.12.0"
  }
 },
 "nbformat": 4,
 "nbformat_minor": 2
}
