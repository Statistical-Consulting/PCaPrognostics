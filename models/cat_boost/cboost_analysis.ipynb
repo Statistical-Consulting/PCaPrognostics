{
 "cells": [
  {
   "cell_type": "code",
   "execution_count": 1,
   "metadata": {},
   "outputs": [],
   "source": [
    "import os\n",
    "import sys\n",
    "import pandas as pd\n",
    "import numpy as np\n",
    "from pathlib import Path\n",
    "import logging\n",
    "from catboost import CatBoostRegressor, Pool\n",
    "\n",
    "# Setup paths\n",
    "PROJECT_ROOT = os.path.dirname(os.path.dirname(os.getcwd()))\n",
    "if PROJECT_ROOT not in sys.path:\n",
    "    sys.path.append(PROJECT_ROOT)\n",
    "\n",
    "# Setup directories\n",
    "RESULTS_DIR = os.path.join(os.getcwd(), 'results_cox')\n",
    "os.makedirs(RESULTS_DIR, exist_ok=True)\n",
    "\n",
    "# Imports\n",
    "from preprocessing.data_container import DataContainer\n",
    "from utils.evaluation import cindex_score\n",
    "from models.modelling_process import ModellingProcess\n",
    "from sksurv.ensemble import GradientBoostingSurvivalAnalysis\n",
    "from utils.evaluation import EarlyStoppingMonitor\n",
    "from sklearn.model_selection import train_test_split\n",
    "from lifelines.utils import concordance_index\n",
    "from sklearn.utils.validation import check_X_y, check_is_fitted\n",
    "from sklearn.base import BaseEstimator, RegressorMixin\n",
    "\n",
    "\n",
    "# Setup logging\n",
    "logging.basicConfig(\n",
    "    level=logging.INFO,\n",
    "    format='%(asctime)s - %(levelname)s - %(message)s'\n",
    ")\n",
    "logger = logging.getLogger(__name__)"
   ]
  },
  {
   "cell_type": "code",
   "execution_count": 22,
   "metadata": {},
   "outputs": [],
   "source": [
    "import os\n",
    "import pandas as pd\n",
    "import pickle\n",
    "\n",
    "def load_all_results(results_path): \n",
    "    # Get a list of all CSV files in the \"results\" folder\n",
    "    csv_files = [os.path.join(results_path, file) for file in os.listdir(results_path) if file.endswith('.csv')]\n",
    "\n",
    "    # Read all CSV files, add a \"name\" column, and combine them into one dataframe\n",
    "    combined_data = pd.concat(\n",
    "        [\n",
    "            # Read each CSV file and add a \"name\" column with the file name\n",
    "            pd.read_csv(file).assign(model=os.path.basename(file)) for file in csv_files\n",
    "        ],\n",
    "        ignore_index=True  # Reset the index in the combined dataframe\n",
    "    )\n",
    "    combined_data = combined_data.loc[:, ['model', 'mean_score' ,'std_score']]\n",
    "    combined_data = combined_data.groupby('model', as_index=False).agg(mean=('mean_score', 'mean'), sd = ('std_score', 'mean'))\n",
    "    # View the combined data\n",
    "    return combined_data\n",
    "\n",
    "# Not necessary due to different sd structure\n",
    "# def aggregate_results(results):\n",
    "#     results_aggr = results.groupby('model', as_index=False).agg(mean=('ci', 'mean'), sd=('ci', 'std'))\n",
    "#     return results_aggr\n",
    "\n",
    "\n",
    "# TODO: Ergbebnisse aus Test und Nested reampling kombiniernen\n",
    "def combine_results(results_nstd, results_test_1, results_test_2):\n",
    "    pass\n",
    "\n",
    "\n",
    "# TODO: Dataframe erstellen: Spalte 1: Name des Feautres, Spalte 2: Wert\n",
    "# -------------------- functions to load feat. imp from model\n",
    "def load_feat_imp(model_path):\n",
    "    with open(model_path, 'rb') as file:\n",
    "        model = pickle.load(file)\n",
    "    \n",
    "    # Cat boost specific\n",
    "    #print(model)\n",
    "    # bei den Modellen die keine eigene Modellklasse von uns haben, muss man gucken wie der library interne Aufruf ist\n",
    "    imps = model.model.get_feature_importance()\n",
    "    \n",
    "    df = pd.DataFrame({\n",
    "    'feature': model.model.feature_names_,\n",
    "    'value': imps\n",
    "    })\n",
    "    \n",
    "    df = df.sort_values(by = \"value\", ascending=False)\n",
    "    df = df[df.loc[: , 'value'] > 0]\n",
    "    \n",
    "    return df\n",
    "\n",
    "def load_model(model_path): \n",
    "    with open(model_path, 'rb') as file:\n",
    "        model = pickle.load(file)\n",
    "    \n",
    "    return model\n",
    "    \n",
    "\n",
    "# --------------------- get test perf \n",
    "import os\n",
    "import pandas as pd\n",
    "import numpy as np\n",
    "import re\n",
    "\n",
    "# Function to test performance of all models\n",
    "def test_perf_all_models(model_path):\n",
    "    files = os.listdir(model_path)\n",
    "\n",
    "    for file in files:\n",
    "        print(file)\n",
    "\n",
    "        contains_pData = bool(re.search(r\"pData\", file, re.IGNORECASE))\n",
    "        contains_intersection = bool(re.search(r\"inter|intersection\", file, re.IGNORECASE))\n",
    "        contains_imputed = bool(re.search(r\"imp|imputed|common\", file, re.IGNORECASE))\n",
    "        contains_aenc = bool(re.search(r\"aenc|auto|autoenc\", file, re.IGNORECASE))\n",
    "        contains_scores = bool(re.search(r\"score|scores\", file, re.IGNORECASE))\n",
    "\n",
    "        \n",
    "        DATA_CONFIG = {\n",
    "            'use_pca': False,\n",
    "            'pca_threshold': 0.85,\n",
    "            'use_imputed': True,\n",
    "            'select_random' : False, \n",
    "            'use_cohorts': False, \n",
    "            # Muss je nach algo angepasst werden; CatBoost eig der einzige der keines braucht, bei den anderen auf True setzen\n",
    "            'requires_ohenc' : False, \n",
    "        }\n",
    "\n",
    "        # Load data based on file type\n",
    "        if contains_intersection:\n",
    "            DATA_CONFIG['gene_type'] = 'intersection'\n",
    "        elif contains_imputed:\n",
    "            DATA_CONFIG['gene_type'] = 'common_genes'\n",
    "        elif contains_aenc:\n",
    "            DATA_CONFIG['gene_type'] = 'autoencoder'\n",
    "        elif contains_scores: \n",
    "            DATA_CONFIG['gene_type'] = 'scores'\n",
    "        if contains_pData:\n",
    "            DATA_CONFIG['clinical_covs'] = [\"AGE\", \"TISSUE\", \"GLEASON_SCORE\", 'PRE_OPERATIVE_PSA']\n",
    "        if contains_pData and not contains_intersection and not contains_imputed and not contains_aenc and not contains_scores: \n",
    "            DATA_CONFIG['only_pData'] = True\n",
    "            DATA_CONFIG['gene_type'] = None\n",
    "            \n",
    "        model = load_model(os.path.join(model_path, file))  \n",
    "        \n",
    "        mp = ModellingProcess()\n",
    "        mp.prepare_test_data(DATA_CONFIG, PROJECT_ROOT)\n",
    "                 \n",
    "        ci_cmplt = model.score(mp.X_test, mp.y_test)\n",
    "        print(ci_cmplt)"
   ]
  },
  {
   "cell_type": "code",
   "execution_count": 24,
   "metadata": {},
   "outputs": [],
   "source": [
    "results_path = os.path.join(RESULTS_DIR, 'results')\n",
    "results = load_all_results(results_path)\n",
    "final_results_path = os.path.join(PROJECT_ROOT, 'results_modelling')\n",
    "results.to_csv(os.path.join(final_results_path, 'cBoost.csv'))\n",
    "\n",
    "# ACTUALLY: SAVE COMBINED RESULTS TO CSV"
   ]
  },
  {
   "cell_type": "code",
   "execution_count": 25,
   "metadata": {},
   "outputs": [
    {
     "data": {
      "text/html": [
       "<div>\n",
       "<style scoped>\n",
       "    .dataframe tbody tr th:only-of-type {\n",
       "        vertical-align: middle;\n",
       "    }\n",
       "\n",
       "    .dataframe tbody tr th {\n",
       "        vertical-align: top;\n",
       "    }\n",
       "\n",
       "    .dataframe thead th {\n",
       "        text-align: right;\n",
       "    }\n",
       "</style>\n",
       "<table border=\"1\" class=\"dataframe\">\n",
       "  <thead>\n",
       "    <tr style=\"text-align: right;\">\n",
       "      <th></th>\n",
       "      <th>model</th>\n",
       "      <th>mean</th>\n",
       "      <th>sd</th>\n",
       "    </tr>\n",
       "  </thead>\n",
       "  <tbody>\n",
       "    <tr>\n",
       "      <th>0</th>\n",
       "      <td>cboost_autoencoder_pData_cv.csv</td>\n",
       "      <td>0.695124</td>\n",
       "      <td>0.073754</td>\n",
       "    </tr>\n",
       "    <tr>\n",
       "      <th>1</th>\n",
       "      <td>cboost_common_genes_only_cv.csv</td>\n",
       "      <td>0.655619</td>\n",
       "      <td>0.058260</td>\n",
       "    </tr>\n",
       "    <tr>\n",
       "      <th>2</th>\n",
       "      <td>cboost_inter_only_cv.csv</td>\n",
       "      <td>0.692797</td>\n",
       "      <td>0.061404</td>\n",
       "    </tr>\n",
       "    <tr>\n",
       "      <th>3</th>\n",
       "      <td>cboost_inter_pData_cv.csv</td>\n",
       "      <td>0.673758</td>\n",
       "      <td>0.066102</td>\n",
       "    </tr>\n",
       "    <tr>\n",
       "      <th>4</th>\n",
       "      <td>cboost_only_pData_cv.csv</td>\n",
       "      <td>0.654967</td>\n",
       "      <td>0.100747</td>\n",
       "    </tr>\n",
       "    <tr>\n",
       "      <th>5</th>\n",
       "      <td>cboost_pData_cv.csv</td>\n",
       "      <td>0.686910</td>\n",
       "      <td>0.086168</td>\n",
       "    </tr>\n",
       "    <tr>\n",
       "      <th>6</th>\n",
       "      <td>cboost_really_intersect_pData_cv.csv</td>\n",
       "      <td>0.667330</td>\n",
       "      <td>0.063270</td>\n",
       "    </tr>\n",
       "    <tr>\n",
       "      <th>7</th>\n",
       "      <td>cboost_scores_pData_cv.csv</td>\n",
       "      <td>0.721846</td>\n",
       "      <td>0.065200</td>\n",
       "    </tr>\n",
       "  </tbody>\n",
       "</table>\n",
       "</div>"
      ],
      "text/plain": [
       "                                  model      mean        sd\n",
       "0       cboost_autoencoder_pData_cv.csv  0.695124  0.073754\n",
       "1       cboost_common_genes_only_cv.csv  0.655619  0.058260\n",
       "2              cboost_inter_only_cv.csv  0.692797  0.061404\n",
       "3             cboost_inter_pData_cv.csv  0.673758  0.066102\n",
       "4              cboost_only_pData_cv.csv  0.654967  0.100747\n",
       "5                   cboost_pData_cv.csv  0.686910  0.086168\n",
       "6  cboost_really_intersect_pData_cv.csv  0.667330  0.063270\n",
       "7            cboost_scores_pData_cv.csv  0.721846  0.065200"
      ]
     },
     "execution_count": 25,
     "metadata": {},
     "output_type": "execute_result"
    }
   ],
   "source": [
    "results"
   ]
  },
  {
   "cell_type": "code",
   "execution_count": 7,
   "metadata": {},
   "outputs": [
    {
     "name": "stdout",
     "output_type": "stream",
     "text": [
      "cboost_common_genes_only.pkl\n"
     ]
    },
    {
     "name": "stderr",
     "output_type": "stream",
     "text": [
      "2025-01-14 16:59:43,400 - INFO - Loaded data: 496 samples, 15495 features\n"
     ]
    },
    {
     "name": "stdout",
     "output_type": "stream",
     "text": [
      "0.6484516656593309\n",
      "cboost_imp_pData.pkl\n"
     ]
    },
    {
     "name": "stderr",
     "output_type": "stream",
     "text": [
      "2025-01-14 17:00:49,464 - INFO - Found clinical data specification\n",
      "2025-01-14 17:00:49,787 - INFO - Loaded data: 496 samples, 15499 features\n"
     ]
    },
    {
     "name": "stdout",
     "output_type": "stream",
     "text": [
      "0.653073559213567\n",
      "cboost_inter_only.pkl\n"
     ]
    },
    {
     "name": "stderr",
     "output_type": "stream",
     "text": [
      "2025-01-14 17:01:29,663 - INFO - Loaded data: 496 samples, 13214 features\n"
     ]
    },
    {
     "name": "stdout",
     "output_type": "stream",
     "text": [
      "0.6391367724961781\n",
      "cboost_only_pData.pkl\n"
     ]
    },
    {
     "name": "stderr",
     "output_type": "stream",
     "text": [
      "2025-01-14 17:02:09,840 - INFO - Found clinical data specification\n",
      "2025-01-14 17:02:10,000 - INFO - Only uses pData\n",
      "2025-01-14 17:02:10,014 - INFO - Loaded data: 496 samples, 4 features\n"
     ]
    },
    {
     "name": "stdout",
     "output_type": "stream",
     "text": [
      "0.5146656237778647\n",
      "cboost_really_intersect_pData.pkl\n"
     ]
    },
    {
     "name": "stderr",
     "output_type": "stream",
     "text": [
      "2025-01-14 17:03:22,152 - INFO - Found clinical data specification\n",
      "2025-01-14 17:03:22,508 - INFO - Loaded data: 496 samples, 13218 features\n"
     ]
    },
    {
     "name": "stdout",
     "output_type": "stream",
     "text": [
      "0.6439008781597753\n",
      "cboost_scores_pData.pkl\n"
     ]
    },
    {
     "name": "stderr",
     "output_type": "stream",
     "text": [
      "2025-01-14 17:03:24,809 - INFO - Found clinical data specification\n",
      "2025-01-14 17:03:24,817 - INFO - Loaded data: 496 samples, 5 features\n"
     ]
    },
    {
     "name": "stdout",
     "output_type": "stream",
     "text": [
      "0.6626906531091122\n"
     ]
    }
   ],
   "source": [
    "models_path = os.path.join(RESULTS_DIR, 'model')\n",
    "test_perf_all_models(models_path)"
   ]
  },
  {
   "cell_type": "code",
   "execution_count": 23,
   "metadata": {},
   "outputs": [
    {
     "data": {
      "text/html": [
       "<div>\n",
       "<style scoped>\n",
       "    .dataframe tbody tr th:only-of-type {\n",
       "        vertical-align: middle;\n",
       "    }\n",
       "\n",
       "    .dataframe tbody tr th {\n",
       "        vertical-align: top;\n",
       "    }\n",
       "\n",
       "    .dataframe thead th {\n",
       "        text-align: right;\n",
       "    }\n",
       "</style>\n",
       "<table border=\"1\" class=\"dataframe\">\n",
       "  <thead>\n",
       "    <tr style=\"text-align: right;\">\n",
       "      <th></th>\n",
       "      <th>feature</th>\n",
       "      <th>value</th>\n",
       "    </tr>\n",
       "  </thead>\n",
       "  <tbody>\n",
       "    <tr>\n",
       "      <th>4275</th>\n",
       "      <td>ENSG00000122641</td>\n",
       "      <td>8.360797</td>\n",
       "    </tr>\n",
       "    <tr>\n",
       "      <th>10519</th>\n",
       "      <td>ENSG00000175063</td>\n",
       "      <td>5.179230</td>\n",
       "    </tr>\n",
       "    <tr>\n",
       "      <th>1185</th>\n",
       "      <td>ENSG00000078098</td>\n",
       "      <td>4.072356</td>\n",
       "    </tr>\n",
       "    <tr>\n",
       "      <th>1469</th>\n",
       "      <td>ENSG00000087586</td>\n",
       "      <td>3.562597</td>\n",
       "    </tr>\n",
       "    <tr>\n",
       "      <th>13181</th>\n",
       "      <td>ENSG00000273706</td>\n",
       "      <td>2.995245</td>\n",
       "    </tr>\n",
       "    <tr>\n",
       "      <th>...</th>\n",
       "      <td>...</td>\n",
       "      <td>...</td>\n",
       "    </tr>\n",
       "    <tr>\n",
       "      <th>9217</th>\n",
       "      <td>ENSG00000166501</td>\n",
       "      <td>0.168650</td>\n",
       "    </tr>\n",
       "    <tr>\n",
       "      <th>10982</th>\n",
       "      <td>ENSG00000179593</td>\n",
       "      <td>0.146239</td>\n",
       "    </tr>\n",
       "    <tr>\n",
       "      <th>9785</th>\n",
       "      <td>ENSG00000169876</td>\n",
       "      <td>0.131965</td>\n",
       "    </tr>\n",
       "    <tr>\n",
       "      <th>4151</th>\n",
       "      <td>ENSG00000120937</td>\n",
       "      <td>0.121057</td>\n",
       "    </tr>\n",
       "    <tr>\n",
       "      <th>2651</th>\n",
       "      <td>ENSG00000106144</td>\n",
       "      <td>0.057173</td>\n",
       "    </tr>\n",
       "  </tbody>\n",
       "</table>\n",
       "<p>80 rows × 2 columns</p>\n",
       "</div>"
      ],
      "text/plain": [
       "               feature     value\n",
       "4275   ENSG00000122641  8.360797\n",
       "10519  ENSG00000175063  5.179230\n",
       "1185   ENSG00000078098  4.072356\n",
       "1469   ENSG00000087586  3.562597\n",
       "13181  ENSG00000273706  2.995245\n",
       "...                ...       ...\n",
       "9217   ENSG00000166501  0.168650\n",
       "10982  ENSG00000179593  0.146239\n",
       "9785   ENSG00000169876  0.131965\n",
       "4151   ENSG00000120937  0.121057\n",
       "2651   ENSG00000106144  0.057173\n",
       "\n",
       "[80 rows x 2 columns]"
      ]
     },
     "execution_count": 23,
     "metadata": {},
     "output_type": "execute_result"
    }
   ],
   "source": [
    "model_path = os.path.join(RESULTS_DIR, 'model', 'cboost_inter_only.pkl')\n",
    "load_feat_imp(model_path)\n"
   ]
  }
 ],
 "metadata": {
  "kernelspec": {
   "display_name": ".venv",
   "language": "python",
   "name": "python3"
  },
  "language_info": {
   "codemirror_mode": {
    "name": "ipython",
    "version": 3
   },
   "file_extension": ".py",
   "mimetype": "text/x-python",
   "name": "python",
   "nbconvert_exporter": "python",
   "pygments_lexer": "ipython3",
   "version": "3.12.0"
  }
 },
 "nbformat": 4,
 "nbformat_minor": 2
}
