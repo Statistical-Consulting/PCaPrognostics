{
 "cells": [
  {
   "cell_type": "code",
   "execution_count": 1,
   "metadata": {},
   "outputs": [],
   "source": [
    "import os\n",
    "import sys\n",
    "import pandas as pd\n",
    "import numpy as np\n",
    "from pathlib import Path\n",
    "import logging\n",
    "from catboost import CatBoostRegressor, Pool\n",
    "\n",
    "# Setup paths\n",
    "PROJECT_ROOT = os.path.dirname(os.path.dirname(os.getcwd()))\n",
    "if PROJECT_ROOT not in sys.path:\n",
    "    sys.path.append(PROJECT_ROOT)\n",
    "\n",
    "# Setup directories\n",
    "RESULTS_DIR = os.path.join(os.getcwd(), 'results_cox')\n",
    "os.makedirs(RESULTS_DIR, exist_ok=True)\n",
    "\n",
    "# Imports\n",
    "from preprocessing.data_container import DataContainer\n",
    "from utils.evaluation import cindex_score\n",
    "from models.modelling_process import ModellingProcess\n",
    "from sksurv.ensemble import GradientBoostingSurvivalAnalysis\n",
    "from utils.evaluation import EarlyStoppingMonitor\n",
    "from sklearn.model_selection import train_test_split\n",
    "from lifelines.utils import concordance_index\n",
    "from sklearn.utils.validation import check_X_y, check_is_fitted\n",
    "from sklearn.base import BaseEstimator, RegressorMixin\n",
    "\n",
    "\n",
    "# Setup logging\n",
    "logging.basicConfig(\n",
    "    level=logging.INFO,\n",
    "    format='%(asctime)s - %(levelname)s - %(message)s'\n",
    ")\n",
    "logger = logging.getLogger(__name__)"
   ]
  },
  {
   "cell_type": "code",
   "execution_count": 8,
   "metadata": {},
   "outputs": [],
   "source": [
    "import os\n",
    "import pandas as pd\n",
    "import pickle\n",
    "\n",
    "def load_all_results(results_path): \n",
    "    # Get a list of all CSV files in the \"results\" folder\n",
    "    csv_files = [os.path.join(results_path, file) for file in os.listdir(results_path) if file.endswith('.csv')]\n",
    "\n",
    "    # Read all CSV files, add a \"name\" column, and combine them into one dataframe\n",
    "    combined_data = pd.concat(\n",
    "        [\n",
    "            # Read each CSV file and add a \"name\" column with the file name\n",
    "            pd.read_csv(file).assign(model=os.path.basename(file)) for file in csv_files\n",
    "        ],\n",
    "        ignore_index=True  # Reset the index in the combined dataframe\n",
    "    )\n",
    "    combined_data = combined_data.loc[:, ['model', 'mean_score' ,'std_score']]\n",
    "    combined_data = combined_data.groupby('model', as_index=False).agg(mean=('mean_score', 'mean'), sd = ('std_score', 'mean'))\n",
    "    # View the combined data\n",
    "    return combined_data\n",
    "\n",
    "# Not necessary du to different sd structure\n",
    "# def aggregate_results(results):\n",
    "#     results_aggr = results.groupby('model', as_index=False).agg(mean=('ci', 'mean'), sd=('ci', 'std'))\n",
    "#     return results_aggr\n",
    "\n",
    "\n",
    "# TODO: Ergbebnisse aus Test und Nested reampling kombiniernen\n",
    "def combine_results(results_nstd, results_test_1, results_test_2):\n",
    "    pass\n",
    "\n",
    "\n",
    "# TODO: Dataframe erstellen: Spalte 1: Name des Feautres, Spalte 2: Wert\n",
    "# -------------------- functions to load feat. imp from model\n",
    "def load_feat_imp(model_path):\n",
    "    with open(model_path, 'rb') as file:\n",
    "        model = pickle.load(file)\n",
    "    \n",
    "    # Cat boost specific\n",
    "    print(model)\n",
    "    # bei den Modellen die keine eigene Modellklasse von uns haben, muss man gucken wie der library interne Aufruf ist\n",
    "    imps = model.model.get_feature_importance()\n",
    "    return imps\n",
    "\n",
    "def load_model(model_path): \n",
    "    with open(model_path, 'rb') as file:\n",
    "        model = pickle.load(file)\n",
    "    \n",
    "    return model\n",
    "    \n",
    "\n",
    "# --------------------- get test perf \n",
    "import os\n",
    "import pandas as pd\n",
    "import numpy as np\n",
    "import re\n",
    "\n",
    "# Function to test performance of all models\n",
    "def test_perf_all_models(model_path):\n",
    "    files = os.listdir(model_path)\n",
    "\n",
    "    for file in files:\n",
    "        print(file)\n",
    "\n",
    "        contains_pData = bool(re.search(r\"pData\", file, re.IGNORECASE))\n",
    "        contains_intersection = bool(re.search(r\"inter|intersection\", file, re.IGNORECASE))\n",
    "        contains_imputed = bool(re.search(r\"imp|imputed|common\", file, re.IGNORECASE))\n",
    "        contains_aenc = bool(re.search(r\"aenc|auto|autoenc\", file, re.IGNORECASE))\n",
    "\n",
    "        \n",
    "        DATA_CONFIG = {\n",
    "            'use_pca': False,\n",
    "            'pca_threshold': 0.85,\n",
    "            'use_imputed': True,\n",
    "            'select_random' : False, \n",
    "            'use_cohorts': False, \n",
    "            # Muss je nach algo angepasst werden; CatBoost eig der einzige der keines braucht, bei den anderen auf True setzen\n",
    "            'requires_ohenc' : False, \n",
    "        }\n",
    "\n",
    "        # Load data based on file type\n",
    "        if contains_intersection:\n",
    "            DATA_CONFIG['gene_type'] = 'intersection'\n",
    "        elif contains_imputed:\n",
    "            DATA_CONFIG['gene_type'] = 'common_genes'\n",
    "        elif contains_aenc:\n",
    "            DATA_CONFIG['gene_type'] = 'autoencoder'\n",
    "        if contains_pData:\n",
    "            DATA_CONFIG['clinical_covs'] = [\"AGE\", \"TISSUE\", \"GLEASON_SCORE\", 'PRE_OPERATIVE_PSA']\n",
    "        if contains_pData and not contains_intersection and not contains_imputed and not contains_aenc: \n",
    "            DATA_CONFIG['only_pData'] = True\n",
    "            DATA_CONFIG['gene_type'] = None\n",
    "            \n",
    "        model = load_model(os.path.join(model_path, file))  \n",
    "        \n",
    "        mp = ModellingProcess()\n",
    "        mp.prepare_test_data(DATA_CONFIG, PROJECT_ROOT)\n",
    "                 \n",
    "        ci_cmplt = model.score(mp.X_test, mp.y_test)\n",
    "        print(ci_cmplt)"
   ]
  },
  {
   "cell_type": "code",
   "execution_count": 3,
   "metadata": {},
   "outputs": [],
   "source": [
    "results_path = os.path.join(RESULTS_DIR, 'results')\n",
    "results = load_all_results(results_path)\n",
    "final_results_path = os.path.join(PROJECT_ROOT, 'results_modelling')\n",
    "results.to_csv(os.path.join(final_results_path, 'cBoost.csv'))\n",
    "\n",
    "# ACTUALLY: SAVE COMBINED RESULTS TO CSV"
   ]
  },
  {
   "cell_type": "code",
   "execution_count": 4,
   "metadata": {},
   "outputs": [
    {
     "data": {
      "text/html": [
       "<div>\n",
       "<style scoped>\n",
       "    .dataframe tbody tr th:only-of-type {\n",
       "        vertical-align: middle;\n",
       "    }\n",
       "\n",
       "    .dataframe tbody tr th {\n",
       "        vertical-align: top;\n",
       "    }\n",
       "\n",
       "    .dataframe thead th {\n",
       "        text-align: right;\n",
       "    }\n",
       "</style>\n",
       "<table border=\"1\" class=\"dataframe\">\n",
       "  <thead>\n",
       "    <tr style=\"text-align: right;\">\n",
       "      <th></th>\n",
       "      <th>model</th>\n",
       "      <th>mean</th>\n",
       "      <th>sd</th>\n",
       "    </tr>\n",
       "  </thead>\n",
       "  <tbody>\n",
       "    <tr>\n",
       "      <th>0</th>\n",
       "      <td>cboost_common_genes_only_cv.csv</td>\n",
       "      <td>0.655619</td>\n",
       "      <td>0.058260</td>\n",
       "    </tr>\n",
       "    <tr>\n",
       "      <th>1</th>\n",
       "      <td>cboost_inter_only_cv.csv</td>\n",
       "      <td>0.692797</td>\n",
       "      <td>0.061404</td>\n",
       "    </tr>\n",
       "    <tr>\n",
       "      <th>2</th>\n",
       "      <td>cboost_inter_pData_cv.csv</td>\n",
       "      <td>0.673758</td>\n",
       "      <td>0.066102</td>\n",
       "    </tr>\n",
       "    <tr>\n",
       "      <th>3</th>\n",
       "      <td>cboost_only_pData_cv.csv</td>\n",
       "      <td>0.654967</td>\n",
       "      <td>0.100747</td>\n",
       "    </tr>\n",
       "    <tr>\n",
       "      <th>4</th>\n",
       "      <td>cboost_really_intersect_pData_cv.csv</td>\n",
       "      <td>0.667330</td>\n",
       "      <td>0.063270</td>\n",
       "    </tr>\n",
       "  </tbody>\n",
       "</table>\n",
       "</div>"
      ],
      "text/plain": [
       "                                  model      mean        sd\n",
       "0       cboost_common_genes_only_cv.csv  0.655619  0.058260\n",
       "1              cboost_inter_only_cv.csv  0.692797  0.061404\n",
       "2             cboost_inter_pData_cv.csv  0.673758  0.066102\n",
       "3              cboost_only_pData_cv.csv  0.654967  0.100747\n",
       "4  cboost_really_intersect_pData_cv.csv  0.667330  0.063270"
      ]
     },
     "execution_count": 4,
     "metadata": {},
     "output_type": "execute_result"
    }
   ],
   "source": [
    "results"
   ]
  },
  {
   "cell_type": "code",
   "execution_count": 5,
   "metadata": {},
   "outputs": [
    {
     "name": "stdout",
     "output_type": "stream",
     "text": [
      "cboost_common_genes_only.pkl\n"
     ]
    },
    {
     "name": "stderr",
     "output_type": "stream",
     "text": [
      "2025-01-13 20:28:37,697 - INFO - Loaded data: 496 samples, 15495 features\n"
     ]
    },
    {
     "name": "stdout",
     "output_type": "stream",
     "text": [
      "0.6484516656593309\n",
      "cboost_imp_pData.pkl\n"
     ]
    },
    {
     "name": "stderr",
     "output_type": "stream",
     "text": [
      "2025-01-13 20:29:28,491 - INFO - Found clinical data specification\n",
      "2025-01-13 20:29:28,724 - INFO - Loaded data: 496 samples, 15499 features\n"
     ]
    },
    {
     "name": "stdout",
     "output_type": "stream",
     "text": [
      "0.653073559213567\n",
      "cboost_inter_only.pkl\n"
     ]
    },
    {
     "name": "stderr",
     "output_type": "stream",
     "text": [
      "2025-01-13 20:29:52,980 - INFO - Loaded data: 496 samples, 13214 features\n"
     ]
    },
    {
     "name": "stdout",
     "output_type": "stream",
     "text": [
      "0.6391367724961781\n",
      "cboost_only_pData.pkl\n"
     ]
    },
    {
     "name": "stderr",
     "output_type": "stream",
     "text": [
      "2025-01-13 20:30:15,757 - INFO - Found clinical data specification\n",
      "2025-01-13 20:30:15,859 - INFO - Only uses pData\n",
      "2025-01-13 20:30:15,863 - INFO - Loaded data: 496 samples, 4 features\n"
     ]
    },
    {
     "name": "stdout",
     "output_type": "stream",
     "text": [
      "0.5146656237778647\n",
      "cboost_really_intersect_pData.pkl\n"
     ]
    },
    {
     "name": "stderr",
     "output_type": "stream",
     "text": [
      "2025-01-13 20:30:38,761 - INFO - Found clinical data specification\n",
      "2025-01-13 20:30:38,856 - INFO - Loaded data: 496 samples, 13218 features\n"
     ]
    },
    {
     "name": "stdout",
     "output_type": "stream",
     "text": [
      "0.6439008781597753\n"
     ]
    }
   ],
   "source": [
    "models_path = os.path.join(RESULTS_DIR, 'model')\n",
    "test_perf_all_models(models_path)"
   ]
  },
  {
   "cell_type": "code",
   "execution_count": 9,
   "metadata": {},
   "outputs": [
    {
     "name": "stdout",
     "output_type": "stream",
     "text": [
      "CatBoostModel(cat_features=None, depth=3, iterations=500, min_data_in_leaf=10)\n"
     ]
    },
    {
     "data": {
      "text/plain": [
       "array([0., 0., 0., ..., 0., 0., 0.])"
      ]
     },
     "execution_count": 9,
     "metadata": {},
     "output_type": "execute_result"
    }
   ],
   "source": [
    "model_path = os.path.join(RESULTS_DIR, 'model', 'cboost_inter_only.pkl')\n",
    "load_feat_imp(model_path)"
   ]
  }
 ],
 "metadata": {
  "kernelspec": {
   "display_name": ".venv",
   "language": "python",
   "name": "python3"
  },
  "language_info": {
   "codemirror_mode": {
    "name": "ipython",
    "version": 3
   },
   "file_extension": ".py",
   "mimetype": "text/x-python",
   "name": "python",
   "nbconvert_exporter": "python",
   "pygments_lexer": "ipython3",
   "version": "3.12.0"
  }
 },
 "nbformat": 4,
 "nbformat_minor": 2
}
