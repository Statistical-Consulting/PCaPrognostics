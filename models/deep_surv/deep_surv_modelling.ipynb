{
 "cells": [
  {
   "cell_type": "code",
   "metadata": {
    "ExecuteTime": {
     "end_time": "2024-11-15T13:40:44.457434Z",
     "start_time": "2024-11-15T13:40:44.452053Z"
    }
   },
   "source": [
    "import os\n",
    "import sys\n",
    "import pandas as pd\n",
    "import numpy as np\n",
    "from pathlib import Path\n",
    "import logging\n",
    "\n",
    "# Setup paths\n",
    "PROJECT_ROOT = os.path.dirname(os.path.dirname(os.getcwd()))\n",
    "if PROJECT_ROOT not in sys.path:\n",
    "    sys.path.append(PROJECT_ROOT)\n",
    "\n",
    "# Setup directories\n",
    "MODEL_DIR = os.path.join(os.getcwd(), 'model')\n",
    "RESULTS_DIR = os.path.join(os.getcwd(), 'results')\n",
    "os.makedirs(MODEL_DIR, exist_ok=True)\n",
    "os.makedirs(RESULTS_DIR, exist_ok=True)\n",
    "\n",
    "# Imports\n",
    "from preprocessing.data_container import DataContainer\n",
    "from utils.evaluation import cindex_score\n",
    "from models.modelling_process import ModellingProcess\n",
    "from models.deep_surv_model import DeepSurvModel\n",
    "\n",
    "# Setup logging\n",
    "logging.basicConfig(\n",
    "    level=logging.INFO,\n",
    "    format='%(asctime)s - %(levelname)s - %(message)s'\n",
    ")\n",
    "logger = logging.getLogger(__name__)"
   ],
   "outputs": [],
   "execution_count": 6
  },
  {
   "cell_type": "code",
   "metadata": {
    "ExecuteTime": {
     "end_time": "2024-11-15T13:40:54.765235Z",
     "start_time": "2024-11-15T13:40:54.756298Z"
    }
   },
   "source": [
    "# Data configuration\n",
    "DATA_CONFIG = {\n",
    "    'use_pca': True,\n",
    "    'gene_type': 'intersection',\n",
    "    'use_imputed': True,\n",
    "    'use_cohorts': False\n",
    "}\n",
    "\n",
    "# Model configuration\n",
    "MODEL_CONFIG = {\n",
    "    'params_cv'  : {\n",
    "        'model__hidden_layers': [[16, 16]],\n",
    "        'model__learning_rate': [0.01],\n",
    "        'model__batch_size': [64, 256], \n",
    "        'model__num_epochs': [10]\n",
    "    },\n",
    "    'refit': True, \n",
    "    'do_nested_resampling': True}\n",
    "\n",
    "ds_pipeline_steps = [('model', DeepSurvModel())]"
   ],
   "outputs": [],
   "execution_count": 8
  },
  {
   "cell_type": "code",
   "metadata": {
    "ExecuteTime": {
     "end_time": "2024-11-15T13:40:57.783743Z",
     "start_time": "2024-11-15T13:40:57.780272Z"
    }
   },
   "source": "mp = ModellingProcess()",
   "outputs": [],
   "execution_count": 9
  },
  {
   "cell_type": "code",
   "metadata": {
    "ExecuteTime": {
     "end_time": "2024-11-15T13:42:52.724664Z",
     "start_time": "2024-11-15T13:40:59.094672Z"
    }
   },
   "source": [
    "mp.prepare_data(DATA_CONFIG, PROJECT_ROOT)"
   ],
   "outputs": [
    {
     "name": "stderr",
     "output_type": "stream",
     "text": [
      "2024-11-15 14:40:59,095 - INFO - Loading data...\n",
      "2024-11-15 14:42:31,496 - INFO - Applying PCA...\n",
      "2024-11-15 14:42:36,118 - INFO - Selected 756 components explaining 95.0% of variance\n",
      "2024-11-15 14:42:46,550 - INFO - Loaded data: 1091 samples, 756 features\n"
     ]
    }
   ],
   "execution_count": 10
  },
  {
   "cell_type": "code",
   "metadata": {
    "ExecuteTime": {
     "end_time": "2024-11-15T13:43:19.258018Z",
     "start_time": "2024-11-15T13:42:53.424667Z"
    }
   },
   "source": [
    "nstd_res_result = mp.do_modelling(ds_pipeline_steps, MODEL_CONFIG)"
   ],
   "outputs": [
    {
     "name": "stderr",
     "output_type": "stream",
     "text": [
      "2024-11-15 14:42:53,428 - INFO - Start model training...\n",
      "2024-11-15 14:42:53,430 - INFO - Input data shape: X=(1091, 756)\n",
      "2024-11-15 14:42:53,431 - INFO - Nested resampling...\n",
      "2024-11-15 14:42:53,432 - INFO - Starting nested resampling...\n",
      "2024-11-15 14:42:53,434 - INFO - Data shape: X=(1091, 756), groups=9 unique\n",
      "2024-11-15 14:42:53,438 - INFO - \n",
      "Outer fold 1\n",
      "2024-11-15 14:42:53,456 - INFO - Test cohort: Atlanta_2014_Long\n"
     ]
    },
    {
     "name": "stdout",
     "output_type": "stream",
     "text": [
      "Fitting 8 folds for each of 2 candidates, totalling 16 fits\n"
     ]
    },
    {
     "name": "stderr",
     "output_type": "stream",
     "text": [
      "/Users/jonasschernich/Library/Mobile Documents/com~apple~CloudDocs/Finanzen/Lev Strategy/StatisticalConsulting/.venv/lib/python3.11/site-packages/sklearn/base.py:486: UserWarning: X has feature names, but StandardScaler was fitted without feature names\n",
      "  warnings.warn(\n",
      "/Users/jonasschernich/Library/Mobile Documents/com~apple~CloudDocs/Finanzen/Lev Strategy/StatisticalConsulting/.venv/lib/python3.11/site-packages/sklearn/base.py:486: UserWarning: X has feature names, but StandardScaler was fitted without feature names\n",
      "  warnings.warn(\n",
      "/Users/jonasschernich/Library/Mobile Documents/com~apple~CloudDocs/Finanzen/Lev Strategy/StatisticalConsulting/.venv/lib/python3.11/site-packages/sklearn/base.py:486: UserWarning: X has feature names, but StandardScaler was fitted without feature names\n",
      "  warnings.warn(\n",
      "/Users/jonasschernich/Library/Mobile Documents/com~apple~CloudDocs/Finanzen/Lev Strategy/StatisticalConsulting/.venv/lib/python3.11/site-packages/sklearn/base.py:486: UserWarning: X has feature names, but StandardScaler was fitted without feature names\n",
      "  warnings.warn(\n",
      "/Users/jonasschernich/Library/Mobile Documents/com~apple~CloudDocs/Finanzen/Lev Strategy/StatisticalConsulting/.venv/lib/python3.11/site-packages/sklearn/base.py:486: UserWarning: X has feature names, but StandardScaler was fitted without feature names\n",
      "  warnings.warn(\n",
      "/Users/jonasschernich/Library/Mobile Documents/com~apple~CloudDocs/Finanzen/Lev Strategy/StatisticalConsulting/.venv/lib/python3.11/site-packages/sklearn/base.py:486: UserWarning: X has feature names, but StandardScaler was fitted without feature names\n",
      "  warnings.warn(\n",
      "/Users/jonasschernich/Library/Mobile Documents/com~apple~CloudDocs/Finanzen/Lev Strategy/StatisticalConsulting/.venv/lib/python3.11/site-packages/sklearn/base.py:486: UserWarning: X has feature names, but StandardScaler was fitted without feature names\n",
      "  warnings.warn(\n",
      "/Users/jonasschernich/Library/Mobile Documents/com~apple~CloudDocs/Finanzen/Lev Strategy/StatisticalConsulting/.venv/lib/python3.11/site-packages/sklearn/base.py:486: UserWarning: X has feature names, but StandardScaler was fitted without feature names\n",
      "  warnings.warn(\n",
      "/Users/jonasschernich/Library/Mobile Documents/com~apple~CloudDocs/Finanzen/Lev Strategy/StatisticalConsulting/.venv/lib/python3.11/site-packages/sklearn/base.py:486: UserWarning: X has feature names, but StandardScaler was fitted without feature names\n",
      "  warnings.warn(\n",
      "/Users/jonasschernich/Library/Mobile Documents/com~apple~CloudDocs/Finanzen/Lev Strategy/StatisticalConsulting/.venv/lib/python3.11/site-packages/sklearn/base.py:486: UserWarning: X has feature names, but StandardScaler was fitted without feature names\n",
      "  warnings.warn(\n",
      "/Users/jonasschernich/Library/Mobile Documents/com~apple~CloudDocs/Finanzen/Lev Strategy/StatisticalConsulting/.venv/lib/python3.11/site-packages/sklearn/base.py:486: UserWarning: X has feature names, but StandardScaler was fitted without feature names\n",
      "  warnings.warn(\n",
      "/Users/jonasschernich/Library/Mobile Documents/com~apple~CloudDocs/Finanzen/Lev Strategy/StatisticalConsulting/.venv/lib/python3.11/site-packages/sklearn/base.py:486: UserWarning: X has feature names, but StandardScaler was fitted without feature names\n",
      "  warnings.warn(\n",
      "/Users/jonasschernich/Library/Mobile Documents/com~apple~CloudDocs/Finanzen/Lev Strategy/StatisticalConsulting/.venv/lib/python3.11/site-packages/sklearn/base.py:486: UserWarning: X has feature names, but StandardScaler was fitted without feature names\n",
      "  warnings.warn(\n",
      "/Users/jonasschernich/Library/Mobile Documents/com~apple~CloudDocs/Finanzen/Lev Strategy/StatisticalConsulting/.venv/lib/python3.11/site-packages/sklearn/base.py:486: UserWarning: X has feature names, but StandardScaler was fitted without feature names\n",
      "  warnings.warn(\n",
      "/Users/jonasschernich/Library/Mobile Documents/com~apple~CloudDocs/Finanzen/Lev Strategy/StatisticalConsulting/.venv/lib/python3.11/site-packages/sklearn/base.py:486: UserWarning: X has feature names, but StandardScaler was fitted without feature names\n",
      "  warnings.warn(\n",
      "/Users/jonasschernich/Library/Mobile Documents/com~apple~CloudDocs/Finanzen/Lev Strategy/StatisticalConsulting/.venv/lib/python3.11/site-packages/sklearn/base.py:486: UserWarning: X has feature names, but StandardScaler was fitted without feature names\n",
      "  warnings.warn(\n",
      "/Users/jonasschernich/Library/Mobile Documents/com~apple~CloudDocs/Finanzen/Lev Strategy/StatisticalConsulting/.venv/lib/python3.11/site-packages/numpy/ma/core.py:2820: RuntimeWarning: invalid value encountered in cast\n",
      "  _data = np.array(data, dtype=dtype, copy=copy,\n",
      "/Users/jonasschernich/Library/Mobile Documents/com~apple~CloudDocs/Finanzen/Lev Strategy/StatisticalConsulting/.venv/lib/python3.11/site-packages/sklearn/base.py:486: UserWarning: X has feature names, but StandardScaler was fitted without feature names\n",
      "  warnings.warn(\n",
      "2024-11-15 14:43:06,896 - INFO - Best parameters: {'model__batch_size': 64, 'model__hidden_layers': [16, 16], 'model__learning_rate': 0.01, 'model__num_epochs': 10}\n",
      "2024-11-15 14:43:06,900 - INFO - Test score: 0.487\n",
      "2024-11-15 14:43:06,905 - INFO - \n",
      "Outer fold 2\n",
      "2024-11-15 14:43:06,951 - INFO - Test cohort: Belfast_2018_Jain\n"
     ]
    },
    {
     "name": "stdout",
     "output_type": "stream",
     "text": [
      "Fitting 8 folds for each of 2 candidates, totalling 16 fits\n"
     ]
    },
    {
     "name": "stderr",
     "output_type": "stream",
     "text": [
      "/Users/jonasschernich/Library/Mobile Documents/com~apple~CloudDocs/Finanzen/Lev Strategy/StatisticalConsulting/.venv/lib/python3.11/site-packages/sklearn/base.py:486: UserWarning: X has feature names, but StandardScaler was fitted without feature names\n",
      "  warnings.warn(\n",
      "/Users/jonasschernich/Library/Mobile Documents/com~apple~CloudDocs/Finanzen/Lev Strategy/StatisticalConsulting/.venv/lib/python3.11/site-packages/sklearn/base.py:486: UserWarning: X has feature names, but StandardScaler was fitted without feature names\n",
      "  warnings.warn(\n",
      "/Users/jonasschernich/Library/Mobile Documents/com~apple~CloudDocs/Finanzen/Lev Strategy/StatisticalConsulting/.venv/lib/python3.11/site-packages/sklearn/base.py:486: UserWarning: X has feature names, but StandardScaler was fitted without feature names\n",
      "  warnings.warn(\n",
      "/Users/jonasschernich/Library/Mobile Documents/com~apple~CloudDocs/Finanzen/Lev Strategy/StatisticalConsulting/.venv/lib/python3.11/site-packages/sklearn/base.py:486: UserWarning: X has feature names, but StandardScaler was fitted without feature names\n",
      "  warnings.warn(\n",
      "/Users/jonasschernich/Library/Mobile Documents/com~apple~CloudDocs/Finanzen/Lev Strategy/StatisticalConsulting/.venv/lib/python3.11/site-packages/sklearn/base.py:486: UserWarning: X has feature names, but StandardScaler was fitted without feature names\n",
      "  warnings.warn(\n",
      "/Users/jonasschernich/Library/Mobile Documents/com~apple~CloudDocs/Finanzen/Lev Strategy/StatisticalConsulting/.venv/lib/python3.11/site-packages/sklearn/base.py:486: UserWarning: X has feature names, but StandardScaler was fitted without feature names\n",
      "  warnings.warn(\n",
      "/Users/jonasschernich/Library/Mobile Documents/com~apple~CloudDocs/Finanzen/Lev Strategy/StatisticalConsulting/.venv/lib/python3.11/site-packages/sklearn/base.py:486: UserWarning: X has feature names, but StandardScaler was fitted without feature names\n",
      "  warnings.warn(\n",
      "/Users/jonasschernich/Library/Mobile Documents/com~apple~CloudDocs/Finanzen/Lev Strategy/StatisticalConsulting/.venv/lib/python3.11/site-packages/sklearn/base.py:486: UserWarning: X has feature names, but StandardScaler was fitted without feature names\n",
      "  warnings.warn(\n",
      "/Users/jonasschernich/Library/Mobile Documents/com~apple~CloudDocs/Finanzen/Lev Strategy/StatisticalConsulting/.venv/lib/python3.11/site-packages/sklearn/base.py:486: UserWarning: X has feature names, but StandardScaler was fitted without feature names\n",
      "  warnings.warn(\n",
      "/Users/jonasschernich/Library/Mobile Documents/com~apple~CloudDocs/Finanzen/Lev Strategy/StatisticalConsulting/.venv/lib/python3.11/site-packages/sklearn/base.py:486: UserWarning: X has feature names, but StandardScaler was fitted without feature names\n",
      "  warnings.warn(\n",
      "/Users/jonasschernich/Library/Mobile Documents/com~apple~CloudDocs/Finanzen/Lev Strategy/StatisticalConsulting/.venv/lib/python3.11/site-packages/sklearn/base.py:486: UserWarning: X has feature names, but StandardScaler was fitted without feature names\n",
      "  warnings.warn(\n",
      "/Users/jonasschernich/Library/Mobile Documents/com~apple~CloudDocs/Finanzen/Lev Strategy/StatisticalConsulting/.venv/lib/python3.11/site-packages/sklearn/base.py:486: UserWarning: X has feature names, but StandardScaler was fitted without feature names\n",
      "  warnings.warn(\n",
      "/Users/jonasschernich/Library/Mobile Documents/com~apple~CloudDocs/Finanzen/Lev Strategy/StatisticalConsulting/.venv/lib/python3.11/site-packages/sklearn/base.py:486: UserWarning: X has feature names, but StandardScaler was fitted without feature names\n",
      "  warnings.warn(\n",
      "/Users/jonasschernich/Library/Mobile Documents/com~apple~CloudDocs/Finanzen/Lev Strategy/StatisticalConsulting/.venv/lib/python3.11/site-packages/sklearn/base.py:486: UserWarning: X has feature names, but StandardScaler was fitted without feature names\n",
      "  warnings.warn(\n",
      "/Users/jonasschernich/Library/Mobile Documents/com~apple~CloudDocs/Finanzen/Lev Strategy/StatisticalConsulting/.venv/lib/python3.11/site-packages/sklearn/base.py:486: UserWarning: X has feature names, but StandardScaler was fitted without feature names\n",
      "  warnings.warn(\n",
      "/Users/jonasschernich/Library/Mobile Documents/com~apple~CloudDocs/Finanzen/Lev Strategy/StatisticalConsulting/.venv/lib/python3.11/site-packages/sklearn/base.py:486: UserWarning: X has feature names, but StandardScaler was fitted without feature names\n",
      "  warnings.warn(\n",
      "/Users/jonasschernich/Library/Mobile Documents/com~apple~CloudDocs/Finanzen/Lev Strategy/StatisticalConsulting/.venv/lib/python3.11/site-packages/sklearn/base.py:486: UserWarning: X has feature names, but StandardScaler was fitted without feature names\n",
      "  warnings.warn(\n",
      "2024-11-15 14:43:08,246 - INFO - Best parameters: {'model__batch_size': 64, 'model__hidden_layers': [16, 16], 'model__learning_rate': 0.01, 'model__num_epochs': 10}\n",
      "2024-11-15 14:43:08,246 - INFO - Test score: 0.617\n",
      "2024-11-15 14:43:08,247 - INFO - \n",
      "Outer fold 3\n",
      "2024-11-15 14:43:08,250 - INFO - Test cohort: CPC_GENE_2017_Fraser\n"
     ]
    },
    {
     "name": "stdout",
     "output_type": "stream",
     "text": [
      "Fitting 8 folds for each of 2 candidates, totalling 16 fits\n"
     ]
    },
    {
     "name": "stderr",
     "output_type": "stream",
     "text": [
      "/Users/jonasschernich/Library/Mobile Documents/com~apple~CloudDocs/Finanzen/Lev Strategy/StatisticalConsulting/.venv/lib/python3.11/site-packages/sklearn/base.py:486: UserWarning: X has feature names, but StandardScaler was fitted without feature names\n",
      "  warnings.warn(\n",
      "/Users/jonasschernich/Library/Mobile Documents/com~apple~CloudDocs/Finanzen/Lev Strategy/StatisticalConsulting/.venv/lib/python3.11/site-packages/sklearn/base.py:486: UserWarning: X has feature names, but StandardScaler was fitted without feature names\n",
      "  warnings.warn(\n",
      "/Users/jonasschernich/Library/Mobile Documents/com~apple~CloudDocs/Finanzen/Lev Strategy/StatisticalConsulting/.venv/lib/python3.11/site-packages/sklearn/base.py:486: UserWarning: X has feature names, but StandardScaler was fitted without feature names\n",
      "  warnings.warn(\n",
      "/Users/jonasschernich/Library/Mobile Documents/com~apple~CloudDocs/Finanzen/Lev Strategy/StatisticalConsulting/.venv/lib/python3.11/site-packages/sklearn/base.py:486: UserWarning: X has feature names, but StandardScaler was fitted without feature names\n",
      "  warnings.warn(\n",
      "/Users/jonasschernich/Library/Mobile Documents/com~apple~CloudDocs/Finanzen/Lev Strategy/StatisticalConsulting/.venv/lib/python3.11/site-packages/sklearn/base.py:486: UserWarning: X has feature names, but StandardScaler was fitted without feature names\n",
      "  warnings.warn(\n",
      "/Users/jonasschernich/Library/Mobile Documents/com~apple~CloudDocs/Finanzen/Lev Strategy/StatisticalConsulting/.venv/lib/python3.11/site-packages/sklearn/base.py:486: UserWarning: X has feature names, but StandardScaler was fitted without feature names\n",
      "  warnings.warn(\n",
      "/Users/jonasschernich/Library/Mobile Documents/com~apple~CloudDocs/Finanzen/Lev Strategy/StatisticalConsulting/.venv/lib/python3.11/site-packages/sklearn/base.py:486: UserWarning: X has feature names, but StandardScaler was fitted without feature names\n",
      "  warnings.warn(\n",
      "/Users/jonasschernich/Library/Mobile Documents/com~apple~CloudDocs/Finanzen/Lev Strategy/StatisticalConsulting/.venv/lib/python3.11/site-packages/sklearn/base.py:486: UserWarning: X has feature names, but StandardScaler was fitted without feature names\n",
      "  warnings.warn(\n",
      "/Users/jonasschernich/Library/Mobile Documents/com~apple~CloudDocs/Finanzen/Lev Strategy/StatisticalConsulting/.venv/lib/python3.11/site-packages/sklearn/base.py:486: UserWarning: X has feature names, but StandardScaler was fitted without feature names\n",
      "  warnings.warn(\n",
      "/Users/jonasschernich/Library/Mobile Documents/com~apple~CloudDocs/Finanzen/Lev Strategy/StatisticalConsulting/.venv/lib/python3.11/site-packages/sklearn/base.py:486: UserWarning: X has feature names, but StandardScaler was fitted without feature names\n",
      "  warnings.warn(\n",
      "/Users/jonasschernich/Library/Mobile Documents/com~apple~CloudDocs/Finanzen/Lev Strategy/StatisticalConsulting/.venv/lib/python3.11/site-packages/sklearn/base.py:486: UserWarning: X has feature names, but StandardScaler was fitted without feature names\n",
      "  warnings.warn(\n",
      "/Users/jonasschernich/Library/Mobile Documents/com~apple~CloudDocs/Finanzen/Lev Strategy/StatisticalConsulting/.venv/lib/python3.11/site-packages/sklearn/base.py:486: UserWarning: X has feature names, but StandardScaler was fitted without feature names\n",
      "  warnings.warn(\n",
      "/Users/jonasschernich/Library/Mobile Documents/com~apple~CloudDocs/Finanzen/Lev Strategy/StatisticalConsulting/.venv/lib/python3.11/site-packages/sklearn/base.py:486: UserWarning: X has feature names, but StandardScaler was fitted without feature names\n",
      "  warnings.warn(\n",
      "/Users/jonasschernich/Library/Mobile Documents/com~apple~CloudDocs/Finanzen/Lev Strategy/StatisticalConsulting/.venv/lib/python3.11/site-packages/sklearn/base.py:486: UserWarning: X has feature names, but StandardScaler was fitted without feature names\n",
      "  warnings.warn(\n",
      "/Users/jonasschernich/Library/Mobile Documents/com~apple~CloudDocs/Finanzen/Lev Strategy/StatisticalConsulting/.venv/lib/python3.11/site-packages/sklearn/base.py:486: UserWarning: X has feature names, but StandardScaler was fitted without feature names\n",
      "  warnings.warn(\n",
      "/Users/jonasschernich/Library/Mobile Documents/com~apple~CloudDocs/Finanzen/Lev Strategy/StatisticalConsulting/.venv/lib/python3.11/site-packages/sklearn/base.py:486: UserWarning: X has feature names, but StandardScaler was fitted without feature names\n",
      "  warnings.warn(\n",
      "/Users/jonasschernich/Library/Mobile Documents/com~apple~CloudDocs/Finanzen/Lev Strategy/StatisticalConsulting/.venv/lib/python3.11/site-packages/sklearn/base.py:486: UserWarning: X has feature names, but StandardScaler was fitted without feature names\n",
      "  warnings.warn(\n",
      "2024-11-15 14:43:09,505 - INFO - Best parameters: {'model__batch_size': 64, 'model__hidden_layers': [16, 16], 'model__learning_rate': 0.01, 'model__num_epochs': 10}\n",
      "2024-11-15 14:43:09,506 - INFO - Test score: 0.526\n",
      "2024-11-15 14:43:09,507 - INFO - \n",
      "Outer fold 4\n",
      "2024-11-15 14:43:09,511 - INFO - Test cohort: CPGEA_2020_Li\n"
     ]
    },
    {
     "name": "stdout",
     "output_type": "stream",
     "text": [
      "Fitting 8 folds for each of 2 candidates, totalling 16 fits\n"
     ]
    },
    {
     "name": "stderr",
     "output_type": "stream",
     "text": [
      "/Users/jonasschernich/Library/Mobile Documents/com~apple~CloudDocs/Finanzen/Lev Strategy/StatisticalConsulting/.venv/lib/python3.11/site-packages/sklearn/base.py:486: UserWarning: X has feature names, but StandardScaler was fitted without feature names\n",
      "  warnings.warn(\n",
      "/Users/jonasschernich/Library/Mobile Documents/com~apple~CloudDocs/Finanzen/Lev Strategy/StatisticalConsulting/.venv/lib/python3.11/site-packages/sklearn/base.py:486: UserWarning: X has feature names, but StandardScaler was fitted without feature names\n",
      "  warnings.warn(\n",
      "/Users/jonasschernich/Library/Mobile Documents/com~apple~CloudDocs/Finanzen/Lev Strategy/StatisticalConsulting/.venv/lib/python3.11/site-packages/sklearn/base.py:486: UserWarning: X has feature names, but StandardScaler was fitted without feature names\n",
      "  warnings.warn(\n",
      "/Users/jonasschernich/Library/Mobile Documents/com~apple~CloudDocs/Finanzen/Lev Strategy/StatisticalConsulting/.venv/lib/python3.11/site-packages/sklearn/base.py:486: UserWarning: X has feature names, but StandardScaler was fitted without feature names\n",
      "  warnings.warn(\n",
      "/Users/jonasschernich/Library/Mobile Documents/com~apple~CloudDocs/Finanzen/Lev Strategy/StatisticalConsulting/.venv/lib/python3.11/site-packages/sklearn/base.py:486: UserWarning: X has feature names, but StandardScaler was fitted without feature names\n",
      "  warnings.warn(\n",
      "/Users/jonasschernich/Library/Mobile Documents/com~apple~CloudDocs/Finanzen/Lev Strategy/StatisticalConsulting/.venv/lib/python3.11/site-packages/sklearn/base.py:486: UserWarning: X has feature names, but StandardScaler was fitted without feature names\n",
      "  warnings.warn(\n",
      "/Users/jonasschernich/Library/Mobile Documents/com~apple~CloudDocs/Finanzen/Lev Strategy/StatisticalConsulting/.venv/lib/python3.11/site-packages/sklearn/base.py:486: UserWarning: X has feature names, but StandardScaler was fitted without feature names\n",
      "  warnings.warn(\n",
      "/Users/jonasschernich/Library/Mobile Documents/com~apple~CloudDocs/Finanzen/Lev Strategy/StatisticalConsulting/.venv/lib/python3.11/site-packages/sklearn/base.py:486: UserWarning: X has feature names, but StandardScaler was fitted without feature names\n",
      "  warnings.warn(\n",
      "/Users/jonasschernich/Library/Mobile Documents/com~apple~CloudDocs/Finanzen/Lev Strategy/StatisticalConsulting/.venv/lib/python3.11/site-packages/sklearn/base.py:486: UserWarning: X has feature names, but StandardScaler was fitted without feature names\n",
      "  warnings.warn(\n",
      "/Users/jonasschernich/Library/Mobile Documents/com~apple~CloudDocs/Finanzen/Lev Strategy/StatisticalConsulting/.venv/lib/python3.11/site-packages/sklearn/base.py:486: UserWarning: X has feature names, but StandardScaler was fitted without feature names\n",
      "  warnings.warn(\n",
      "/Users/jonasschernich/Library/Mobile Documents/com~apple~CloudDocs/Finanzen/Lev Strategy/StatisticalConsulting/.venv/lib/python3.11/site-packages/sklearn/base.py:486: UserWarning: X has feature names, but StandardScaler was fitted without feature names\n",
      "  warnings.warn(\n",
      "/Users/jonasschernich/Library/Mobile Documents/com~apple~CloudDocs/Finanzen/Lev Strategy/StatisticalConsulting/.venv/lib/python3.11/site-packages/sklearn/base.py:486: UserWarning: X has feature names, but StandardScaler was fitted without feature names\n",
      "  warnings.warn(\n",
      "/Users/jonasschernich/Library/Mobile Documents/com~apple~CloudDocs/Finanzen/Lev Strategy/StatisticalConsulting/.venv/lib/python3.11/site-packages/sklearn/base.py:486: UserWarning: X has feature names, but StandardScaler was fitted without feature names\n",
      "  warnings.warn(\n",
      "/Users/jonasschernich/Library/Mobile Documents/com~apple~CloudDocs/Finanzen/Lev Strategy/StatisticalConsulting/.venv/lib/python3.11/site-packages/sklearn/base.py:486: UserWarning: X has feature names, but StandardScaler was fitted without feature names\n",
      "  warnings.warn(\n",
      "/Users/jonasschernich/Library/Mobile Documents/com~apple~CloudDocs/Finanzen/Lev Strategy/StatisticalConsulting/.venv/lib/python3.11/site-packages/sklearn/base.py:486: UserWarning: X has feature names, but StandardScaler was fitted without feature names\n",
      "  warnings.warn(\n",
      "/Users/jonasschernich/Library/Mobile Documents/com~apple~CloudDocs/Finanzen/Lev Strategy/StatisticalConsulting/.venv/lib/python3.11/site-packages/sklearn/base.py:486: UserWarning: X has feature names, but StandardScaler was fitted without feature names\n",
      "  warnings.warn(\n",
      "/Users/jonasschernich/Library/Mobile Documents/com~apple~CloudDocs/Finanzen/Lev Strategy/StatisticalConsulting/.venv/lib/python3.11/site-packages/sklearn/base.py:486: UserWarning: X has feature names, but StandardScaler was fitted without feature names\n",
      "  warnings.warn(\n",
      "2024-11-15 14:43:10,633 - INFO - Best parameters: {'model__batch_size': 256, 'model__hidden_layers': [16, 16], 'model__learning_rate': 0.01, 'model__num_epochs': 10}\n",
      "2024-11-15 14:43:10,633 - INFO - Test score: 0.459\n",
      "2024-11-15 14:43:10,634 - INFO - \n",
      "Outer fold 5\n",
      "2024-11-15 14:43:10,637 - INFO - Test cohort: CamCap_2016_Ross_Adams\n"
     ]
    },
    {
     "name": "stdout",
     "output_type": "stream",
     "text": [
      "Fitting 8 folds for each of 2 candidates, totalling 16 fits\n"
     ]
    },
    {
     "name": "stderr",
     "output_type": "stream",
     "text": [
      "/Users/jonasschernich/Library/Mobile Documents/com~apple~CloudDocs/Finanzen/Lev Strategy/StatisticalConsulting/.venv/lib/python3.11/site-packages/sklearn/base.py:486: UserWarning: X has feature names, but StandardScaler was fitted without feature names\n",
      "  warnings.warn(\n",
      "/Users/jonasschernich/Library/Mobile Documents/com~apple~CloudDocs/Finanzen/Lev Strategy/StatisticalConsulting/.venv/lib/python3.11/site-packages/sklearn/base.py:486: UserWarning: X has feature names, but StandardScaler was fitted without feature names\n",
      "  warnings.warn(\n",
      "/Users/jonasschernich/Library/Mobile Documents/com~apple~CloudDocs/Finanzen/Lev Strategy/StatisticalConsulting/.venv/lib/python3.11/site-packages/sklearn/base.py:486: UserWarning: X has feature names, but StandardScaler was fitted without feature names\n",
      "  warnings.warn(\n",
      "/Users/jonasschernich/Library/Mobile Documents/com~apple~CloudDocs/Finanzen/Lev Strategy/StatisticalConsulting/.venv/lib/python3.11/site-packages/sklearn/base.py:486: UserWarning: X has feature names, but StandardScaler was fitted without feature names\n",
      "  warnings.warn(\n",
      "/Users/jonasschernich/Library/Mobile Documents/com~apple~CloudDocs/Finanzen/Lev Strategy/StatisticalConsulting/.venv/lib/python3.11/site-packages/sklearn/base.py:486: UserWarning: X has feature names, but StandardScaler was fitted without feature names\n",
      "  warnings.warn(\n",
      "/Users/jonasschernich/Library/Mobile Documents/com~apple~CloudDocs/Finanzen/Lev Strategy/StatisticalConsulting/.venv/lib/python3.11/site-packages/sklearn/base.py:486: UserWarning: X has feature names, but StandardScaler was fitted without feature names\n",
      "  warnings.warn(\n",
      "/Users/jonasschernich/Library/Mobile Documents/com~apple~CloudDocs/Finanzen/Lev Strategy/StatisticalConsulting/.venv/lib/python3.11/site-packages/sklearn/base.py:486: UserWarning: X has feature names, but StandardScaler was fitted without feature names\n",
      "  warnings.warn(\n",
      "/Users/jonasschernich/Library/Mobile Documents/com~apple~CloudDocs/Finanzen/Lev Strategy/StatisticalConsulting/.venv/lib/python3.11/site-packages/sklearn/base.py:486: UserWarning: X has feature names, but StandardScaler was fitted without feature names\n",
      "  warnings.warn(\n",
      "/Users/jonasschernich/Library/Mobile Documents/com~apple~CloudDocs/Finanzen/Lev Strategy/StatisticalConsulting/.venv/lib/python3.11/site-packages/sklearn/base.py:486: UserWarning: X has feature names, but StandardScaler was fitted without feature names\n",
      "  warnings.warn(\n",
      "/Users/jonasschernich/Library/Mobile Documents/com~apple~CloudDocs/Finanzen/Lev Strategy/StatisticalConsulting/.venv/lib/python3.11/site-packages/sklearn/base.py:486: UserWarning: X has feature names, but StandardScaler was fitted without feature names\n",
      "  warnings.warn(\n",
      "/Users/jonasschernich/Library/Mobile Documents/com~apple~CloudDocs/Finanzen/Lev Strategy/StatisticalConsulting/.venv/lib/python3.11/site-packages/sklearn/base.py:486: UserWarning: X has feature names, but StandardScaler was fitted without feature names\n",
      "  warnings.warn(\n",
      "/Users/jonasschernich/Library/Mobile Documents/com~apple~CloudDocs/Finanzen/Lev Strategy/StatisticalConsulting/.venv/lib/python3.11/site-packages/sklearn/base.py:486: UserWarning: X has feature names, but StandardScaler was fitted without feature names\n",
      "  warnings.warn(\n",
      "/Users/jonasschernich/Library/Mobile Documents/com~apple~CloudDocs/Finanzen/Lev Strategy/StatisticalConsulting/.venv/lib/python3.11/site-packages/sklearn/base.py:486: UserWarning: X has feature names, but StandardScaler was fitted without feature names\n",
      "  warnings.warn(\n",
      "/Users/jonasschernich/Library/Mobile Documents/com~apple~CloudDocs/Finanzen/Lev Strategy/StatisticalConsulting/.venv/lib/python3.11/site-packages/sklearn/base.py:486: UserWarning: X has feature names, but StandardScaler was fitted without feature names\n",
      "  warnings.warn(\n",
      "/Users/jonasschernich/Library/Mobile Documents/com~apple~CloudDocs/Finanzen/Lev Strategy/StatisticalConsulting/.venv/lib/python3.11/site-packages/sklearn/base.py:486: UserWarning: X has feature names, but StandardScaler was fitted without feature names\n",
      "  warnings.warn(\n",
      "/Users/jonasschernich/Library/Mobile Documents/com~apple~CloudDocs/Finanzen/Lev Strategy/StatisticalConsulting/.venv/lib/python3.11/site-packages/sklearn/base.py:486: UserWarning: X has feature names, but StandardScaler was fitted without feature names\n",
      "  warnings.warn(\n",
      "/Users/jonasschernich/Library/Mobile Documents/com~apple~CloudDocs/Finanzen/Lev Strategy/StatisticalConsulting/.venv/lib/python3.11/site-packages/sklearn/base.py:486: UserWarning: X has feature names, but StandardScaler was fitted without feature names\n",
      "  warnings.warn(\n",
      "2024-11-15 14:43:11,731 - INFO - Best parameters: {'model__batch_size': 256, 'model__hidden_layers': [16, 16], 'model__learning_rate': 0.01, 'model__num_epochs': 10}\n",
      "2024-11-15 14:43:11,732 - INFO - Test score: 0.410\n",
      "2024-11-15 14:43:11,733 - INFO - \n",
      "Outer fold 6\n",
      "2024-11-15 14:43:11,737 - INFO - Test cohort: CancerMap_2017_Luca\n"
     ]
    },
    {
     "name": "stdout",
     "output_type": "stream",
     "text": [
      "Fitting 8 folds for each of 2 candidates, totalling 16 fits\n"
     ]
    },
    {
     "name": "stderr",
     "output_type": "stream",
     "text": [
      "/Users/jonasschernich/Library/Mobile Documents/com~apple~CloudDocs/Finanzen/Lev Strategy/StatisticalConsulting/.venv/lib/python3.11/site-packages/sklearn/base.py:486: UserWarning: X has feature names, but StandardScaler was fitted without feature names\n",
      "  warnings.warn(\n",
      "/Users/jonasschernich/Library/Mobile Documents/com~apple~CloudDocs/Finanzen/Lev Strategy/StatisticalConsulting/.venv/lib/python3.11/site-packages/sklearn/base.py:486: UserWarning: X has feature names, but StandardScaler was fitted without feature names\n",
      "  warnings.warn(\n",
      "/Users/jonasschernich/Library/Mobile Documents/com~apple~CloudDocs/Finanzen/Lev Strategy/StatisticalConsulting/.venv/lib/python3.11/site-packages/sklearn/base.py:486: UserWarning: X has feature names, but StandardScaler was fitted without feature names\n",
      "  warnings.warn(\n",
      "/Users/jonasschernich/Library/Mobile Documents/com~apple~CloudDocs/Finanzen/Lev Strategy/StatisticalConsulting/.venv/lib/python3.11/site-packages/sklearn/base.py:486: UserWarning: X has feature names, but StandardScaler was fitted without feature names\n",
      "  warnings.warn(\n",
      "/Users/jonasschernich/Library/Mobile Documents/com~apple~CloudDocs/Finanzen/Lev Strategy/StatisticalConsulting/.venv/lib/python3.11/site-packages/sklearn/base.py:486: UserWarning: X has feature names, but StandardScaler was fitted without feature names\n",
      "  warnings.warn(\n",
      "/Users/jonasschernich/Library/Mobile Documents/com~apple~CloudDocs/Finanzen/Lev Strategy/StatisticalConsulting/.venv/lib/python3.11/site-packages/sklearn/base.py:486: UserWarning: X has feature names, but StandardScaler was fitted without feature names\n",
      "  warnings.warn(\n",
      "/Users/jonasschernich/Library/Mobile Documents/com~apple~CloudDocs/Finanzen/Lev Strategy/StatisticalConsulting/.venv/lib/python3.11/site-packages/sklearn/base.py:486: UserWarning: X has feature names, but StandardScaler was fitted without feature names\n",
      "  warnings.warn(\n",
      "/Users/jonasschernich/Library/Mobile Documents/com~apple~CloudDocs/Finanzen/Lev Strategy/StatisticalConsulting/.venv/lib/python3.11/site-packages/sklearn/base.py:486: UserWarning: X has feature names, but StandardScaler was fitted without feature names\n",
      "  warnings.warn(\n",
      "/Users/jonasschernich/Library/Mobile Documents/com~apple~CloudDocs/Finanzen/Lev Strategy/StatisticalConsulting/.venv/lib/python3.11/site-packages/sklearn/base.py:486: UserWarning: X has feature names, but StandardScaler was fitted without feature names\n",
      "  warnings.warn(\n",
      "/Users/jonasschernich/Library/Mobile Documents/com~apple~CloudDocs/Finanzen/Lev Strategy/StatisticalConsulting/.venv/lib/python3.11/site-packages/sklearn/base.py:486: UserWarning: X has feature names, but StandardScaler was fitted without feature names\n",
      "  warnings.warn(\n",
      "/Users/jonasschernich/Library/Mobile Documents/com~apple~CloudDocs/Finanzen/Lev Strategy/StatisticalConsulting/.venv/lib/python3.11/site-packages/sklearn/base.py:486: UserWarning: X has feature names, but StandardScaler was fitted without feature names\n",
      "  warnings.warn(\n",
      "/Users/jonasschernich/Library/Mobile Documents/com~apple~CloudDocs/Finanzen/Lev Strategy/StatisticalConsulting/.venv/lib/python3.11/site-packages/sklearn/base.py:486: UserWarning: X has feature names, but StandardScaler was fitted without feature names\n",
      "  warnings.warn(\n",
      "/Users/jonasschernich/Library/Mobile Documents/com~apple~CloudDocs/Finanzen/Lev Strategy/StatisticalConsulting/.venv/lib/python3.11/site-packages/sklearn/base.py:486: UserWarning: X has feature names, but StandardScaler was fitted without feature names\n",
      "  warnings.warn(\n",
      "/Users/jonasschernich/Library/Mobile Documents/com~apple~CloudDocs/Finanzen/Lev Strategy/StatisticalConsulting/.venv/lib/python3.11/site-packages/sklearn/base.py:486: UserWarning: X has feature names, but StandardScaler was fitted without feature names\n",
      "  warnings.warn(\n",
      "/Users/jonasschernich/Library/Mobile Documents/com~apple~CloudDocs/Finanzen/Lev Strategy/StatisticalConsulting/.venv/lib/python3.11/site-packages/sklearn/base.py:486: UserWarning: X has feature names, but StandardScaler was fitted without feature names\n",
      "  warnings.warn(\n",
      "/Users/jonasschernich/Library/Mobile Documents/com~apple~CloudDocs/Finanzen/Lev Strategy/StatisticalConsulting/.venv/lib/python3.11/site-packages/sklearn/base.py:486: UserWarning: X has feature names, but StandardScaler was fitted without feature names\n",
      "  warnings.warn(\n",
      "/Users/jonasschernich/Library/Mobile Documents/com~apple~CloudDocs/Finanzen/Lev Strategy/StatisticalConsulting/.venv/lib/python3.11/site-packages/sklearn/base.py:486: UserWarning: X has feature names, but StandardScaler was fitted without feature names\n",
      "  warnings.warn(\n",
      "2024-11-15 14:43:12,860 - INFO - Best parameters: {'model__batch_size': 64, 'model__hidden_layers': [16, 16], 'model__learning_rate': 0.01, 'model__num_epochs': 10}\n",
      "2024-11-15 14:43:12,860 - INFO - Test score: 0.532\n",
      "2024-11-15 14:43:12,861 - INFO - \n",
      "Outer fold 7\n",
      "2024-11-15 14:43:12,864 - INFO - Test cohort: DKFZ_2018_Gerhauser\n"
     ]
    },
    {
     "name": "stdout",
     "output_type": "stream",
     "text": [
      "Fitting 8 folds for each of 2 candidates, totalling 16 fits\n"
     ]
    },
    {
     "name": "stderr",
     "output_type": "stream",
     "text": [
      "/Users/jonasschernich/Library/Mobile Documents/com~apple~CloudDocs/Finanzen/Lev Strategy/StatisticalConsulting/.venv/lib/python3.11/site-packages/sklearn/base.py:486: UserWarning: X has feature names, but StandardScaler was fitted without feature names\n",
      "  warnings.warn(\n",
      "/Users/jonasschernich/Library/Mobile Documents/com~apple~CloudDocs/Finanzen/Lev Strategy/StatisticalConsulting/.venv/lib/python3.11/site-packages/sklearn/base.py:486: UserWarning: X has feature names, but StandardScaler was fitted without feature names\n",
      "  warnings.warn(\n",
      "/Users/jonasschernich/Library/Mobile Documents/com~apple~CloudDocs/Finanzen/Lev Strategy/StatisticalConsulting/.venv/lib/python3.11/site-packages/sklearn/base.py:486: UserWarning: X has feature names, but StandardScaler was fitted without feature names\n",
      "  warnings.warn(\n",
      "/Users/jonasschernich/Library/Mobile Documents/com~apple~CloudDocs/Finanzen/Lev Strategy/StatisticalConsulting/.venv/lib/python3.11/site-packages/sklearn/base.py:486: UserWarning: X has feature names, but StandardScaler was fitted without feature names\n",
      "  warnings.warn(\n",
      "/Users/jonasschernich/Library/Mobile Documents/com~apple~CloudDocs/Finanzen/Lev Strategy/StatisticalConsulting/.venv/lib/python3.11/site-packages/sklearn/base.py:486: UserWarning: X has feature names, but StandardScaler was fitted without feature names\n",
      "  warnings.warn(\n",
      "/Users/jonasschernich/Library/Mobile Documents/com~apple~CloudDocs/Finanzen/Lev Strategy/StatisticalConsulting/.venv/lib/python3.11/site-packages/sklearn/base.py:486: UserWarning: X has feature names, but StandardScaler was fitted without feature names\n",
      "  warnings.warn(\n",
      "/Users/jonasschernich/Library/Mobile Documents/com~apple~CloudDocs/Finanzen/Lev Strategy/StatisticalConsulting/.venv/lib/python3.11/site-packages/sklearn/base.py:486: UserWarning: X has feature names, but StandardScaler was fitted without feature names\n",
      "  warnings.warn(\n",
      "/Users/jonasschernich/Library/Mobile Documents/com~apple~CloudDocs/Finanzen/Lev Strategy/StatisticalConsulting/.venv/lib/python3.11/site-packages/sklearn/base.py:486: UserWarning: X has feature names, but StandardScaler was fitted without feature names\n",
      "  warnings.warn(\n",
      "/Users/jonasschernich/Library/Mobile Documents/com~apple~CloudDocs/Finanzen/Lev Strategy/StatisticalConsulting/.venv/lib/python3.11/site-packages/sklearn/base.py:486: UserWarning: X has feature names, but StandardScaler was fitted without feature names\n",
      "  warnings.warn(\n",
      "/Users/jonasschernich/Library/Mobile Documents/com~apple~CloudDocs/Finanzen/Lev Strategy/StatisticalConsulting/.venv/lib/python3.11/site-packages/sklearn/base.py:486: UserWarning: X has feature names, but StandardScaler was fitted without feature names\n",
      "  warnings.warn(\n",
      "/Users/jonasschernich/Library/Mobile Documents/com~apple~CloudDocs/Finanzen/Lev Strategy/StatisticalConsulting/.venv/lib/python3.11/site-packages/sklearn/base.py:486: UserWarning: X has feature names, but StandardScaler was fitted without feature names\n",
      "  warnings.warn(\n",
      "/Users/jonasschernich/Library/Mobile Documents/com~apple~CloudDocs/Finanzen/Lev Strategy/StatisticalConsulting/.venv/lib/python3.11/site-packages/sklearn/base.py:486: UserWarning: X has feature names, but StandardScaler was fitted without feature names\n",
      "  warnings.warn(\n",
      "/Users/jonasschernich/Library/Mobile Documents/com~apple~CloudDocs/Finanzen/Lev Strategy/StatisticalConsulting/.venv/lib/python3.11/site-packages/sklearn/base.py:486: UserWarning: X has feature names, but StandardScaler was fitted without feature names\n",
      "  warnings.warn(\n",
      "/Users/jonasschernich/Library/Mobile Documents/com~apple~CloudDocs/Finanzen/Lev Strategy/StatisticalConsulting/.venv/lib/python3.11/site-packages/sklearn/base.py:486: UserWarning: X has feature names, but StandardScaler was fitted without feature names\n",
      "  warnings.warn(\n",
      "/Users/jonasschernich/Library/Mobile Documents/com~apple~CloudDocs/Finanzen/Lev Strategy/StatisticalConsulting/.venv/lib/python3.11/site-packages/sklearn/base.py:486: UserWarning: X has feature names, but StandardScaler was fitted without feature names\n",
      "  warnings.warn(\n",
      "/Users/jonasschernich/Library/Mobile Documents/com~apple~CloudDocs/Finanzen/Lev Strategy/StatisticalConsulting/.venv/lib/python3.11/site-packages/sklearn/base.py:486: UserWarning: X has feature names, but StandardScaler was fitted without feature names\n",
      "  warnings.warn(\n",
      "/Users/jonasschernich/Library/Mobile Documents/com~apple~CloudDocs/Finanzen/Lev Strategy/StatisticalConsulting/.venv/lib/python3.11/site-packages/sklearn/base.py:486: UserWarning: X has feature names, but StandardScaler was fitted without feature names\n",
      "  warnings.warn(\n",
      "2024-11-15 14:43:13,994 - INFO - Best parameters: {'model__batch_size': 256, 'model__hidden_layers': [16, 16], 'model__learning_rate': 0.01, 'model__num_epochs': 10}\n",
      "2024-11-15 14:43:13,995 - INFO - Test score: 0.659\n",
      "2024-11-15 14:43:13,995 - INFO - \n",
      "Outer fold 8\n",
      "2024-11-15 14:43:13,998 - INFO - Test cohort: MSKCC_2010_Taylor\n"
     ]
    },
    {
     "name": "stdout",
     "output_type": "stream",
     "text": [
      "Fitting 8 folds for each of 2 candidates, totalling 16 fits\n"
     ]
    },
    {
     "name": "stderr",
     "output_type": "stream",
     "text": [
      "/Users/jonasschernich/Library/Mobile Documents/com~apple~CloudDocs/Finanzen/Lev Strategy/StatisticalConsulting/.venv/lib/python3.11/site-packages/sklearn/base.py:486: UserWarning: X has feature names, but StandardScaler was fitted without feature names\n",
      "  warnings.warn(\n",
      "/Users/jonasschernich/Library/Mobile Documents/com~apple~CloudDocs/Finanzen/Lev Strategy/StatisticalConsulting/.venv/lib/python3.11/site-packages/sklearn/base.py:486: UserWarning: X has feature names, but StandardScaler was fitted without feature names\n",
      "  warnings.warn(\n",
      "/Users/jonasschernich/Library/Mobile Documents/com~apple~CloudDocs/Finanzen/Lev Strategy/StatisticalConsulting/.venv/lib/python3.11/site-packages/sklearn/base.py:486: UserWarning: X has feature names, but StandardScaler was fitted without feature names\n",
      "  warnings.warn(\n",
      "/Users/jonasschernich/Library/Mobile Documents/com~apple~CloudDocs/Finanzen/Lev Strategy/StatisticalConsulting/.venv/lib/python3.11/site-packages/sklearn/base.py:486: UserWarning: X has feature names, but StandardScaler was fitted without feature names\n",
      "  warnings.warn(\n",
      "/Users/jonasschernich/Library/Mobile Documents/com~apple~CloudDocs/Finanzen/Lev Strategy/StatisticalConsulting/.venv/lib/python3.11/site-packages/sklearn/base.py:486: UserWarning: X has feature names, but StandardScaler was fitted without feature names\n",
      "  warnings.warn(\n",
      "/Users/jonasschernich/Library/Mobile Documents/com~apple~CloudDocs/Finanzen/Lev Strategy/StatisticalConsulting/.venv/lib/python3.11/site-packages/sklearn/base.py:486: UserWarning: X has feature names, but StandardScaler was fitted without feature names\n",
      "  warnings.warn(\n",
      "/Users/jonasschernich/Library/Mobile Documents/com~apple~CloudDocs/Finanzen/Lev Strategy/StatisticalConsulting/.venv/lib/python3.11/site-packages/sklearn/base.py:486: UserWarning: X has feature names, but StandardScaler was fitted without feature names\n",
      "  warnings.warn(\n",
      "/Users/jonasschernich/Library/Mobile Documents/com~apple~CloudDocs/Finanzen/Lev Strategy/StatisticalConsulting/.venv/lib/python3.11/site-packages/sklearn/base.py:486: UserWarning: X has feature names, but StandardScaler was fitted without feature names\n",
      "  warnings.warn(\n",
      "/Users/jonasschernich/Library/Mobile Documents/com~apple~CloudDocs/Finanzen/Lev Strategy/StatisticalConsulting/.venv/lib/python3.11/site-packages/sklearn/base.py:486: UserWarning: X has feature names, but StandardScaler was fitted without feature names\n",
      "  warnings.warn(\n",
      "/Users/jonasschernich/Library/Mobile Documents/com~apple~CloudDocs/Finanzen/Lev Strategy/StatisticalConsulting/.venv/lib/python3.11/site-packages/sklearn/base.py:486: UserWarning: X has feature names, but StandardScaler was fitted without feature names\n",
      "  warnings.warn(\n",
      "/Users/jonasschernich/Library/Mobile Documents/com~apple~CloudDocs/Finanzen/Lev Strategy/StatisticalConsulting/.venv/lib/python3.11/site-packages/sklearn/base.py:486: UserWarning: X has feature names, but StandardScaler was fitted without feature names\n",
      "  warnings.warn(\n",
      "/Users/jonasschernich/Library/Mobile Documents/com~apple~CloudDocs/Finanzen/Lev Strategy/StatisticalConsulting/.venv/lib/python3.11/site-packages/sklearn/base.py:486: UserWarning: X has feature names, but StandardScaler was fitted without feature names\n",
      "  warnings.warn(\n",
      "/Users/jonasschernich/Library/Mobile Documents/com~apple~CloudDocs/Finanzen/Lev Strategy/StatisticalConsulting/.venv/lib/python3.11/site-packages/sklearn/base.py:486: UserWarning: X has feature names, but StandardScaler was fitted without feature names\n",
      "  warnings.warn(\n",
      "/Users/jonasschernich/Library/Mobile Documents/com~apple~CloudDocs/Finanzen/Lev Strategy/StatisticalConsulting/.venv/lib/python3.11/site-packages/sklearn/base.py:486: UserWarning: X has feature names, but StandardScaler was fitted without feature names\n",
      "  warnings.warn(\n",
      "/Users/jonasschernich/Library/Mobile Documents/com~apple~CloudDocs/Finanzen/Lev Strategy/StatisticalConsulting/.venv/lib/python3.11/site-packages/sklearn/base.py:486: UserWarning: X has feature names, but StandardScaler was fitted without feature names\n",
      "  warnings.warn(\n",
      "/Users/jonasschernich/Library/Mobile Documents/com~apple~CloudDocs/Finanzen/Lev Strategy/StatisticalConsulting/.venv/lib/python3.11/site-packages/sklearn/base.py:486: UserWarning: X has feature names, but StandardScaler was fitted without feature names\n",
      "  warnings.warn(\n",
      "/Users/jonasschernich/Library/Mobile Documents/com~apple~CloudDocs/Finanzen/Lev Strategy/StatisticalConsulting/.venv/lib/python3.11/site-packages/sklearn/base.py:486: UserWarning: X has feature names, but StandardScaler was fitted without feature names\n",
      "  warnings.warn(\n",
      "2024-11-15 14:43:15,616 - INFO - Best parameters: {'model__batch_size': 256, 'model__hidden_layers': [16, 16], 'model__learning_rate': 0.01, 'model__num_epochs': 10}\n",
      "2024-11-15 14:43:15,617 - INFO - Test score: 0.564\n",
      "2024-11-15 14:43:15,618 - INFO - \n",
      "Outer fold 9\n",
      "2024-11-15 14:43:15,624 - INFO - Test cohort: Stockholm_2016_Ross_Adams\n"
     ]
    },
    {
     "name": "stdout",
     "output_type": "stream",
     "text": [
      "Fitting 8 folds for each of 2 candidates, totalling 16 fits\n"
     ]
    },
    {
     "name": "stderr",
     "output_type": "stream",
     "text": [
      "/Users/jonasschernich/Library/Mobile Documents/com~apple~CloudDocs/Finanzen/Lev Strategy/StatisticalConsulting/.venv/lib/python3.11/site-packages/sklearn/base.py:486: UserWarning: X has feature names, but StandardScaler was fitted without feature names\n",
      "  warnings.warn(\n",
      "/Users/jonasschernich/Library/Mobile Documents/com~apple~CloudDocs/Finanzen/Lev Strategy/StatisticalConsulting/.venv/lib/python3.11/site-packages/sklearn/base.py:486: UserWarning: X has feature names, but StandardScaler was fitted without feature names\n",
      "  warnings.warn(\n",
      "/Users/jonasschernich/Library/Mobile Documents/com~apple~CloudDocs/Finanzen/Lev Strategy/StatisticalConsulting/.venv/lib/python3.11/site-packages/sklearn/base.py:486: UserWarning: X has feature names, but StandardScaler was fitted without feature names\n",
      "  warnings.warn(\n",
      "/Users/jonasschernich/Library/Mobile Documents/com~apple~CloudDocs/Finanzen/Lev Strategy/StatisticalConsulting/.venv/lib/python3.11/site-packages/sklearn/base.py:486: UserWarning: X has feature names, but StandardScaler was fitted without feature names\n",
      "  warnings.warn(\n",
      "/Users/jonasschernich/Library/Mobile Documents/com~apple~CloudDocs/Finanzen/Lev Strategy/StatisticalConsulting/.venv/lib/python3.11/site-packages/sklearn/base.py:486: UserWarning: X has feature names, but StandardScaler was fitted without feature names\n",
      "  warnings.warn(\n",
      "/Users/jonasschernich/Library/Mobile Documents/com~apple~CloudDocs/Finanzen/Lev Strategy/StatisticalConsulting/.venv/lib/python3.11/site-packages/sklearn/base.py:486: UserWarning: X has feature names, but StandardScaler was fitted without feature names\n",
      "  warnings.warn(\n",
      "/Users/jonasschernich/Library/Mobile Documents/com~apple~CloudDocs/Finanzen/Lev Strategy/StatisticalConsulting/.venv/lib/python3.11/site-packages/sklearn/base.py:486: UserWarning: X has feature names, but StandardScaler was fitted without feature names\n",
      "  warnings.warn(\n",
      "/Users/jonasschernich/Library/Mobile Documents/com~apple~CloudDocs/Finanzen/Lev Strategy/StatisticalConsulting/.venv/lib/python3.11/site-packages/sklearn/base.py:486: UserWarning: X has feature names, but StandardScaler was fitted without feature names\n",
      "  warnings.warn(\n",
      "/Users/jonasschernich/Library/Mobile Documents/com~apple~CloudDocs/Finanzen/Lev Strategy/StatisticalConsulting/.venv/lib/python3.11/site-packages/sklearn/base.py:486: UserWarning: X has feature names, but StandardScaler was fitted without feature names\n",
      "  warnings.warn(\n",
      "/Users/jonasschernich/Library/Mobile Documents/com~apple~CloudDocs/Finanzen/Lev Strategy/StatisticalConsulting/.venv/lib/python3.11/site-packages/sklearn/base.py:486: UserWarning: X has feature names, but StandardScaler was fitted without feature names\n",
      "  warnings.warn(\n",
      "/Users/jonasschernich/Library/Mobile Documents/com~apple~CloudDocs/Finanzen/Lev Strategy/StatisticalConsulting/.venv/lib/python3.11/site-packages/sklearn/base.py:486: UserWarning: X has feature names, but StandardScaler was fitted without feature names\n",
      "  warnings.warn(\n",
      "/Users/jonasschernich/Library/Mobile Documents/com~apple~CloudDocs/Finanzen/Lev Strategy/StatisticalConsulting/.venv/lib/python3.11/site-packages/sklearn/base.py:486: UserWarning: X has feature names, but StandardScaler was fitted without feature names\n",
      "  warnings.warn(\n",
      "/Users/jonasschernich/Library/Mobile Documents/com~apple~CloudDocs/Finanzen/Lev Strategy/StatisticalConsulting/.venv/lib/python3.11/site-packages/sklearn/base.py:486: UserWarning: X has feature names, but StandardScaler was fitted without feature names\n",
      "  warnings.warn(\n",
      "/Users/jonasschernich/Library/Mobile Documents/com~apple~CloudDocs/Finanzen/Lev Strategy/StatisticalConsulting/.venv/lib/python3.11/site-packages/sklearn/base.py:486: UserWarning: X has feature names, but StandardScaler was fitted without feature names\n",
      "  warnings.warn(\n",
      "/Users/jonasschernich/Library/Mobile Documents/com~apple~CloudDocs/Finanzen/Lev Strategy/StatisticalConsulting/.venv/lib/python3.11/site-packages/sklearn/base.py:486: UserWarning: X has feature names, but StandardScaler was fitted without feature names\n",
      "  warnings.warn(\n",
      "/Users/jonasschernich/Library/Mobile Documents/com~apple~CloudDocs/Finanzen/Lev Strategy/StatisticalConsulting/.venv/lib/python3.11/site-packages/sklearn/base.py:486: UserWarning: X has feature names, but StandardScaler was fitted without feature names\n",
      "  warnings.warn(\n",
      "/Users/jonasschernich/Library/Mobile Documents/com~apple~CloudDocs/Finanzen/Lev Strategy/StatisticalConsulting/.venv/lib/python3.11/site-packages/sklearn/base.py:486: UserWarning: X has feature names, but StandardScaler was fitted without feature names\n",
      "  warnings.warn(\n",
      "2024-11-15 14:43:17,173 - INFO - Best parameters: {'model__batch_size': 256, 'model__hidden_layers': [16, 16], 'model__learning_rate': 0.01, 'model__num_epochs': 10}\n",
      "2024-11-15 14:43:17,174 - INFO - Test score: 0.532\n",
      "2024-11-15 14:43:17,175 - INFO - Aggregated results:\n",
      "2024-11-15 14:43:17,176 - INFO - Mean score: 0.532 ± 0.072\n",
      "2024-11-15 14:43:17,178 - INFO - Individual scores: [0.4867052023121387, 0.616794200563834, 0.525987525987526, 0.45877446262431826, 0.4100135317997294, 0.5323913623033858, 0.6589018302828619, 0.5644409937888198, 0.5318933513331083]\n",
      "2024-11-15 14:43:17,180 - INFO - Do HP Tuning for complete model; refit + set complete model\n",
      "2024-11-15 14:43:17,182 - INFO - Do HP Tuning for complete model\n"
     ]
    },
    {
     "name": "stdout",
     "output_type": "stream",
     "text": [
      "Fitting 9 folds for each of 2 candidates, totalling 18 fits\n"
     ]
    },
    {
     "name": "stderr",
     "output_type": "stream",
     "text": [
      "/Users/jonasschernich/Library/Mobile Documents/com~apple~CloudDocs/Finanzen/Lev Strategy/StatisticalConsulting/.venv/lib/python3.11/site-packages/sklearn/base.py:486: UserWarning: X has feature names, but StandardScaler was fitted without feature names\n",
      "  warnings.warn(\n",
      "/Users/jonasschernich/Library/Mobile Documents/com~apple~CloudDocs/Finanzen/Lev Strategy/StatisticalConsulting/.venv/lib/python3.11/site-packages/sklearn/base.py:486: UserWarning: X has feature names, but StandardScaler was fitted without feature names\n",
      "  warnings.warn(\n",
      "/Users/jonasschernich/Library/Mobile Documents/com~apple~CloudDocs/Finanzen/Lev Strategy/StatisticalConsulting/.venv/lib/python3.11/site-packages/sklearn/base.py:486: UserWarning: X has feature names, but StandardScaler was fitted without feature names\n",
      "  warnings.warn(\n",
      "/Users/jonasschernich/Library/Mobile Documents/com~apple~CloudDocs/Finanzen/Lev Strategy/StatisticalConsulting/.venv/lib/python3.11/site-packages/sklearn/base.py:486: UserWarning: X has feature names, but StandardScaler was fitted without feature names\n",
      "  warnings.warn(\n",
      "/Users/jonasschernich/Library/Mobile Documents/com~apple~CloudDocs/Finanzen/Lev Strategy/StatisticalConsulting/.venv/lib/python3.11/site-packages/sklearn/base.py:486: UserWarning: X has feature names, but StandardScaler was fitted without feature names\n",
      "  warnings.warn(\n",
      "/Users/jonasschernich/Library/Mobile Documents/com~apple~CloudDocs/Finanzen/Lev Strategy/StatisticalConsulting/.venv/lib/python3.11/site-packages/sklearn/base.py:486: UserWarning: X has feature names, but StandardScaler was fitted without feature names\n",
      "  warnings.warn(\n",
      "/Users/jonasschernich/Library/Mobile Documents/com~apple~CloudDocs/Finanzen/Lev Strategy/StatisticalConsulting/.venv/lib/python3.11/site-packages/sklearn/base.py:486: UserWarning: X has feature names, but StandardScaler was fitted without feature names\n",
      "  warnings.warn(\n",
      "/Users/jonasschernich/Library/Mobile Documents/com~apple~CloudDocs/Finanzen/Lev Strategy/StatisticalConsulting/.venv/lib/python3.11/site-packages/sklearn/base.py:486: UserWarning: X has feature names, but StandardScaler was fitted without feature names\n",
      "  warnings.warn(\n",
      "/Users/jonasschernich/Library/Mobile Documents/com~apple~CloudDocs/Finanzen/Lev Strategy/StatisticalConsulting/.venv/lib/python3.11/site-packages/sklearn/base.py:486: UserWarning: X has feature names, but StandardScaler was fitted without feature names\n",
      "  warnings.warn(\n",
      "/Users/jonasschernich/Library/Mobile Documents/com~apple~CloudDocs/Finanzen/Lev Strategy/StatisticalConsulting/.venv/lib/python3.11/site-packages/sklearn/base.py:486: UserWarning: X has feature names, but StandardScaler was fitted without feature names\n",
      "  warnings.warn(\n",
      "/Users/jonasschernich/Library/Mobile Documents/com~apple~CloudDocs/Finanzen/Lev Strategy/StatisticalConsulting/.venv/lib/python3.11/site-packages/sklearn/base.py:486: UserWarning: X has feature names, but StandardScaler was fitted without feature names\n",
      "  warnings.warn(\n",
      "/Users/jonasschernich/Library/Mobile Documents/com~apple~CloudDocs/Finanzen/Lev Strategy/StatisticalConsulting/.venv/lib/python3.11/site-packages/sklearn/base.py:486: UserWarning: X has feature names, but StandardScaler was fitted without feature names\n",
      "  warnings.warn(\n",
      "/Users/jonasschernich/Library/Mobile Documents/com~apple~CloudDocs/Finanzen/Lev Strategy/StatisticalConsulting/.venv/lib/python3.11/site-packages/sklearn/base.py:486: UserWarning: X has feature names, but StandardScaler was fitted without feature names\n",
      "  warnings.warn(\n",
      "/Users/jonasschernich/Library/Mobile Documents/com~apple~CloudDocs/Finanzen/Lev Strategy/StatisticalConsulting/.venv/lib/python3.11/site-packages/sklearn/base.py:486: UserWarning: X has feature names, but StandardScaler was fitted without feature names\n",
      "  warnings.warn(\n",
      "/Users/jonasschernich/Library/Mobile Documents/com~apple~CloudDocs/Finanzen/Lev Strategy/StatisticalConsulting/.venv/lib/python3.11/site-packages/sklearn/base.py:486: UserWarning: X has feature names, but StandardScaler was fitted without feature names\n",
      "  warnings.warn(\n",
      "/Users/jonasschernich/Library/Mobile Documents/com~apple~CloudDocs/Finanzen/Lev Strategy/StatisticalConsulting/.venv/lib/python3.11/site-packages/sklearn/base.py:486: UserWarning: X has feature names, but StandardScaler was fitted without feature names\n",
      "  warnings.warn(\n",
      "/Users/jonasschernich/Library/Mobile Documents/com~apple~CloudDocs/Finanzen/Lev Strategy/StatisticalConsulting/.venv/lib/python3.11/site-packages/sklearn/base.py:486: UserWarning: X has feature names, but StandardScaler was fitted without feature names\n",
      "  warnings.warn(\n",
      "/Users/jonasschernich/Library/Mobile Documents/com~apple~CloudDocs/Finanzen/Lev Strategy/StatisticalConsulting/.venv/lib/python3.11/site-packages/sklearn/base.py:486: UserWarning: X has feature names, but StandardScaler was fitted without feature names\n",
      "  warnings.warn(\n"
     ]
    }
   ],
   "execution_count": 11
  }
 ],
 "metadata": {
  "kernelspec": {
   "display_name": ".venv",
   "language": "python",
   "name": "python3"
  },
  "language_info": {
   "codemirror_mode": {
    "name": "ipython",
    "version": 3
   },
   "file_extension": ".py",
   "mimetype": "text/x-python",
   "name": "python",
   "nbconvert_exporter": "python",
   "pygments_lexer": "ipython3",
   "version": "3.12.0"
  }
 },
 "nbformat": 4,
 "nbformat_minor": 2
}
