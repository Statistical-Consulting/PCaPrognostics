{
 "cells": [
  {
   "cell_type": "code",
   "execution_count": 1,
   "metadata": {
    "ExecuteTime": {
     "end_time": "2024-11-15T13:40:44.457434Z",
     "start_time": "2024-11-15T13:40:44.452053Z"
    }
   },
   "outputs": [],
   "source": [
    "import os\n",
    "import sys\n",
    "import pandas as pd\n",
    "import numpy as np\n",
    "from pathlib import Path\n",
    "import logging\n",
    "\n",
    "# Setup paths\n",
    "PROJECT_ROOT = os.path.dirname(os.path.dirname(os.getcwd()))\n",
    "if PROJECT_ROOT not in sys.path:\n",
    "    sys.path.append(PROJECT_ROOT)\n",
    "\n",
    "# Setup directories\n",
    "MODEL_DIR = os.path.join(os.getcwd(), 'model')\n",
    "RESULTS_DIR = os.path.join(os.getcwd(), 'results')\n",
    "os.makedirs(MODEL_DIR, exist_ok=True)\n",
    "os.makedirs(RESULTS_DIR, exist_ok=True)\n",
    "\n",
    "# Imports\n",
    "from preprocessing.data_container import DataContainer\n",
    "from utils.evaluation import cindex_score\n",
    "from models.modelling_process import ModellingProcess\n",
    "from models.deep_surv_model import DeepSurvModel\n",
    "\n",
    "# Setup logging\n",
    "logging.basicConfig(\n",
    "    level=logging.INFO,\n",
    "    format='%(asctime)s - %(levelname)s - %(message)s'\n",
    ")\n",
    "logger = logging.getLogger(__name__)"
   ]
  },
  {
   "cell_type": "code",
   "execution_count": null,
   "metadata": {
    "ExecuteTime": {
     "end_time": "2024-11-15T13:40:54.765235Z",
     "start_time": "2024-11-15T13:40:54.756298Z"
    }
   },
   "outputs": [],
   "source": [
    "# Data configuration\n",
    "DATA_CONFIG = {\n",
    "    'use_pca': False,\n",
    "    'gene_type': 'intersection',\n",
    "    'use_imputed': True,\n",
    "    'use_cohorts': False\n",
    "}\n",
    "\n",
    "# Model configuration\n",
    "MODEL_CONFIG = {\n",
    "    'params_cv'  : {\n",
    "        'model__hidden_layers': [[16, 16]],\n",
    "        'model__learning_rate': [0.01],\n",
    "        'model__batch_size': [64, 256], \n",
    "        'model__num_epochs': [10]\n",
    "    },\n",
    "    'refit': True, \n",
    "    'do_nested_resampling': True, \n",
    "    'path' : RESULTS_DIR, \n",
    "    'fname_cv' : 'results'}\n",
    "\n",
    "ds_pipeline_steps = [('model', DeepSurvModel())]"
   ]
  },
  {
   "cell_type": "code",
   "execution_count": 3,
   "metadata": {
    "ExecuteTime": {
     "end_time": "2024-11-15T13:40:57.783743Z",
     "start_time": "2024-11-15T13:40:57.780272Z"
    }
   },
   "outputs": [],
   "source": [
    "mp = ModellingProcess()"
   ]
  },
  {
   "cell_type": "code",
   "execution_count": 4,
   "metadata": {
    "ExecuteTime": {
     "end_time": "2024-11-15T13:42:52.724664Z",
     "start_time": "2024-11-15T13:40:59.094672Z"
    }
   },
   "outputs": [
    {
     "name": "stderr",
     "output_type": "stream",
     "text": [
      "2024-11-22 11:38:07,051 - INFO - Loading data...\n",
      "2024-11-22 11:41:09,735 - INFO - Loaded data: 1091 samples, 13214 features\n"
     ]
    }
   ],
   "source": [
    "mp.prepare_data(DATA_CONFIG, PROJECT_ROOT)"
   ]
  },
  {
   "cell_type": "code",
   "execution_count": 5,
   "metadata": {
    "ExecuteTime": {
     "end_time": "2024-11-15T13:43:19.258018Z",
     "start_time": "2024-11-15T13:42:53.424667Z"
    }
   },
   "outputs": [
    {
     "name": "stderr",
     "output_type": "stream",
     "text": [
      "2024-11-22 11:41:32,022 - INFO - Start model training...\n",
      "2024-11-22 11:41:32,025 - INFO - Input data shape: X=(1091, 13214)\n",
      "2024-11-22 11:41:32,027 - INFO - Nested resampling...\n",
      "2024-11-22 11:41:32,031 - INFO - Starting nested resampling...\n",
      "2024-11-22 11:41:32,034 - INFO - Data shape: X=(1091, 13214), groups=9 unique\n",
      "2024-11-22 11:41:32,071 - INFO - \n",
      "Outer fold 1\n",
      "2024-11-22 11:41:32,139 - INFO - Test cohort: Atlanta_2014_Long\n"
     ]
    },
    {
     "name": "stdout",
     "output_type": "stream",
     "text": [
      "Fitting 8 folds for each of 2 candidates, totalling 16 fits\n",
      "In eval step\n",
      "In eval step\n",
      "In eval step\n",
      "In eval step\n",
      "Epoch 1, Train Loss; 2.0704, Validation Loss: 0.6108\n",
      "In eval step\n",
      "In eval step\n",
      "In eval step\n",
      "In eval step\n",
      "Epoch 2, Train Loss; 1.8716, Validation Loss: 1.2510\n",
      "In eval step\n",
      "In eval step\n",
      "In eval step\n",
      "In eval step\n",
      "Epoch 3, Train Loss; 1.4233, Validation Loss: 0.4620\n",
      "In eval step\n",
      "In eval step\n",
      "In eval step\n",
      "In eval step\n",
      "Epoch 4, Train Loss; 1.1413, Validation Loss: 0.4948\n",
      "In eval step\n",
      "In eval step\n",
      "In eval step\n",
      "In eval step\n",
      "Epoch 5, Train Loss; 1.0554, Validation Loss: 0.4801\n",
      "In eval step\n",
      "In eval step\n",
      "In eval step\n",
      "In eval step\n",
      "Epoch 6, Train Loss; 1.0301, Validation Loss: 0.4702\n",
      "In eval step\n",
      "In eval step\n",
      "In eval step\n",
      "In eval step\n",
      "Epoch 7, Train Loss; 1.0074, Validation Loss: 0.4386\n",
      "In eval step\n",
      "In eval step\n",
      "In eval step\n",
      "In eval step\n",
      "Epoch 8, Train Loss; 1.0036, Validation Loss: 0.4956\n"
     ]
    },
    {
     "name": "stderr",
     "output_type": "stream",
     "text": [
      "c:\\Users\\laeti\\PCaPrognostics\\.venv\\Lib\\site-packages\\sklearn\\base.py:486: UserWarning: X has feature names, but StandardScaler was fitted without feature names\n",
      "  warnings.warn(\n",
      "2024-11-22 11:41:58,184 - INFO - Best parameters: {'model__batch_size': 256, 'model__hidden_layers': [16, 16], 'model__learning_rate': 0.01, 'model__num_epochs': 10}\n",
      "2024-11-22 11:41:58,185 - INFO - Test score: 0.549\n",
      "2024-11-22 11:41:58,187 - INFO - \n",
      "Outer fold 2\n"
     ]
    },
    {
     "name": "stdout",
     "output_type": "stream",
     "text": [
      "In eval step\n",
      "In eval step\n",
      "In eval step\n",
      "In eval step\n",
      "Epoch 9, Train Loss; 1.0008, Validation Loss: 0.4691\n",
      "In eval step\n",
      "In eval step\n",
      "In eval step\n",
      "In eval step\n",
      "Epoch 10, Train Loss; 0.9982, Validation Loss: 0.4400\n"
     ]
    },
    {
     "name": "stderr",
     "output_type": "stream",
     "text": [
      "2024-11-22 11:41:58,251 - INFO - Test cohort: Belfast_2018_Jain\n"
     ]
    },
    {
     "name": "stdout",
     "output_type": "stream",
     "text": [
      "Fitting 8 folds for each of 2 candidates, totalling 16 fits\n",
      "In eval step\n",
      "In eval step\n",
      "In eval step\n",
      "Epoch 1, Train Loss; 2.8213, Validation Loss: 1.4252\n",
      "In eval step\n",
      "In eval step\n",
      "In eval step\n",
      "Epoch 2, Train Loss; 1.9784, Validation Loss: 0.9476\n",
      "In eval step\n",
      "In eval step\n",
      "In eval step\n",
      "Epoch 3, Train Loss; 1.3796, Validation Loss: 0.8378\n",
      "In eval step\n",
      "In eval step\n",
      "In eval step\n",
      "Epoch 4, Train Loss; 1.2371, Validation Loss: 0.8322\n",
      "In eval step\n",
      "In eval step\n",
      "In eval step\n",
      "Epoch 5, Train Loss; 1.1900, Validation Loss: 0.8203\n",
      "In eval step\n",
      "In eval step\n",
      "In eval step\n",
      "Epoch 6, Train Loss; 1.1432, Validation Loss: 0.8113\n",
      "In eval step\n",
      "In eval step\n",
      "In eval step\n",
      "Epoch 7, Train Loss; 1.1194, Validation Loss: 0.8124\n",
      "In eval step\n",
      "In eval step\n",
      "In eval step\n",
      "Epoch 8, Train Loss; 1.1166, Validation Loss: 0.8077\n"
     ]
    },
    {
     "name": "stderr",
     "output_type": "stream",
     "text": [
      "c:\\Users\\laeti\\PCaPrognostics\\.venv\\Lib\\site-packages\\sklearn\\base.py:486: UserWarning: X has feature names, but StandardScaler was fitted without feature names\n",
      "  warnings.warn(\n",
      "2024-11-22 11:42:04,459 - INFO - Best parameters: {'model__batch_size': 64, 'model__hidden_layers': [16, 16], 'model__learning_rate': 0.01, 'model__num_epochs': 10}\n",
      "2024-11-22 11:42:04,460 - INFO - Test score: 0.478\n",
      "2024-11-22 11:42:04,461 - INFO - \n",
      "Outer fold 3\n"
     ]
    },
    {
     "name": "stdout",
     "output_type": "stream",
     "text": [
      "In eval step\n",
      "In eval step\n",
      "In eval step\n",
      "Epoch 9, Train Loss; 1.1096, Validation Loss: 0.7983\n",
      "In eval step\n",
      "In eval step\n",
      "In eval step\n",
      "Epoch 10, Train Loss; 1.1127, Validation Loss: 0.7930\n"
     ]
    },
    {
     "name": "stderr",
     "output_type": "stream",
     "text": [
      "2024-11-22 11:42:04,525 - INFO - Test cohort: CPC_GENE_2017_Fraser\n"
     ]
    },
    {
     "name": "stdout",
     "output_type": "stream",
     "text": [
      "Fitting 8 folds for each of 2 candidates, totalling 16 fits\n",
      "In eval step\n",
      "In eval step\n",
      "In eval step\n",
      "In eval step\n",
      "Epoch 1, Train Loss; 2.2697, Validation Loss: 1.1989\n",
      "In eval step\n",
      "In eval step\n",
      "In eval step\n",
      "In eval step\n",
      "Epoch 2, Train Loss; 2.1199, Validation Loss: 0.7311\n",
      "In eval step\n",
      "In eval step\n",
      "In eval step\n",
      "In eval step\n",
      "Epoch 3, Train Loss; 1.3089, Validation Loss: 0.6031\n",
      "In eval step\n",
      "In eval step\n",
      "In eval step\n",
      "In eval step\n",
      "Epoch 4, Train Loss; 1.1446, Validation Loss: 0.5774\n",
      "In eval step\n",
      "In eval step\n",
      "In eval step\n",
      "In eval step\n",
      "Epoch 5, Train Loss; 1.0856, Validation Loss: 0.5453\n",
      "In eval step\n",
      "In eval step\n",
      "In eval step\n",
      "In eval step\n",
      "Epoch 6, Train Loss; 1.0493, Validation Loss: 0.5538\n",
      "In eval step\n",
      "In eval step\n",
      "In eval step\n",
      "In eval step\n",
      "Epoch 7, Train Loss; 1.0668, Validation Loss: 0.5734\n",
      "In eval step\n",
      "In eval step\n",
      "In eval step\n",
      "In eval step\n",
      "Epoch 8, Train Loss; 1.0157, Validation Loss: 0.5974\n",
      "In eval step\n",
      "In eval step\n",
      "In eval step\n",
      "In eval step\n",
      "Epoch 9, Train Loss; 1.0201, Validation Loss: 0.5970\n"
     ]
    },
    {
     "name": "stderr",
     "output_type": "stream",
     "text": [
      "c:\\Users\\laeti\\PCaPrognostics\\.venv\\Lib\\site-packages\\sklearn\\base.py:486: UserWarning: X has feature names, but StandardScaler was fitted without feature names\n",
      "  warnings.warn(\n",
      "2024-11-22 11:42:11,776 - INFO - Best parameters: {'model__batch_size': 256, 'model__hidden_layers': [16, 16], 'model__learning_rate': 0.01, 'model__num_epochs': 10}\n",
      "2024-11-22 11:42:11,777 - INFO - Test score: 0.568\n",
      "2024-11-22 11:42:11,778 - INFO - \n",
      "Outer fold 4\n"
     ]
    },
    {
     "name": "stdout",
     "output_type": "stream",
     "text": [
      "In eval step\n",
      "In eval step\n",
      "In eval step\n",
      "In eval step\n",
      "Epoch 10, Train Loss; 1.0327, Validation Loss: 0.5152\n"
     ]
    },
    {
     "name": "stderr",
     "output_type": "stream",
     "text": [
      "2024-11-22 11:42:11,850 - INFO - Test cohort: CPGEA_2020_Li\n"
     ]
    },
    {
     "name": "stdout",
     "output_type": "stream",
     "text": [
      "Fitting 8 folds for each of 2 candidates, totalling 16 fits\n",
      "In eval step\n",
      "In eval step\n",
      "In eval step\n",
      "In eval step\n",
      "Epoch 1, Train Loss; 2.0538, Validation Loss: 0.9879\n",
      "In eval step\n",
      "In eval step\n",
      "In eval step\n",
      "In eval step\n",
      "Epoch 2, Train Loss; 1.6648, Validation Loss: 0.7819\n",
      "In eval step\n",
      "In eval step\n",
      "In eval step\n",
      "In eval step\n",
      "Epoch 3, Train Loss; 1.3051, Validation Loss: 0.7621\n",
      "In eval step\n",
      "In eval step\n",
      "In eval step\n",
      "In eval step\n",
      "Epoch 4, Train Loss; 1.2177, Validation Loss: 0.7251\n",
      "In eval step\n",
      "In eval step\n",
      "In eval step\n",
      "In eval step\n",
      "Epoch 5, Train Loss; 1.0682, Validation Loss: 0.7021\n",
      "In eval step\n",
      "In eval step\n",
      "In eval step\n",
      "In eval step\n",
      "Epoch 6, Train Loss; 1.0422, Validation Loss: 0.6915\n",
      "In eval step\n",
      "In eval step\n",
      "In eval step\n",
      "In eval step\n",
      "Epoch 7, Train Loss; 1.0198, Validation Loss: 0.7180\n",
      "In eval step\n",
      "In eval step\n",
      "In eval step\n",
      "In eval step\n",
      "Epoch 8, Train Loss; 1.0414, Validation Loss: 0.6931\n"
     ]
    },
    {
     "name": "stderr",
     "output_type": "stream",
     "text": [
      "c:\\Users\\laeti\\PCaPrognostics\\.venv\\Lib\\site-packages\\sklearn\\base.py:486: UserWarning: X has feature names, but StandardScaler was fitted without feature names\n",
      "  warnings.warn(\n",
      "2024-11-22 11:42:18,342 - INFO - Best parameters: {'model__batch_size': 64, 'model__hidden_layers': [16, 16], 'model__learning_rate': 0.01, 'model__num_epochs': 10}\n",
      "2024-11-22 11:42:18,343 - INFO - Test score: 0.557\n",
      "2024-11-22 11:42:18,344 - INFO - \n",
      "Outer fold 5\n"
     ]
    },
    {
     "name": "stdout",
     "output_type": "stream",
     "text": [
      "In eval step\n",
      "In eval step\n",
      "In eval step\n",
      "In eval step\n",
      "Epoch 9, Train Loss; 1.0099, Validation Loss: 0.7158\n",
      "In eval step\n",
      "In eval step\n",
      "In eval step\n",
      "In eval step\n",
      "Epoch 10, Train Loss; 1.0188, Validation Loss: 0.7398\n"
     ]
    },
    {
     "name": "stderr",
     "output_type": "stream",
     "text": [
      "2024-11-22 11:42:18,411 - INFO - Test cohort: CamCap_2016_Ross_Adams\n"
     ]
    },
    {
     "name": "stdout",
     "output_type": "stream",
     "text": [
      "Fitting 8 folds for each of 2 candidates, totalling 16 fits\n"
     ]
    },
    {
     "name": "stderr",
     "output_type": "stream",
     "text": [
      "c:\\Users\\laeti\\PCaPrognostics\\.venv\\Lib\\site-packages\\sklearn\\model_selection\\_search.py:1103: UserWarning: One or more of the test scores are non-finite: [       nan 0.50382739]\n",
      "  warnings.warn(\n"
     ]
    },
    {
     "name": "stdout",
     "output_type": "stream",
     "text": [
      "In eval step\n",
      "In eval step\n",
      "In eval step\n",
      "In eval step\n",
      "Epoch 1, Train Loss; 2.8445, Validation Loss: 1.6923\n",
      "In eval step\n",
      "In eval step\n",
      "In eval step\n",
      "In eval step\n",
      "Epoch 2, Train Loss; 2.1585, Validation Loss: 0.6962\n",
      "In eval step\n",
      "In eval step\n",
      "In eval step\n",
      "In eval step\n",
      "Epoch 3, Train Loss; 1.3348, Validation Loss: 0.6588\n",
      "In eval step\n",
      "In eval step\n",
      "In eval step\n",
      "In eval step\n",
      "Epoch 4, Train Loss; 1.2280, Validation Loss: 0.5834\n",
      "In eval step\n",
      "In eval step\n",
      "In eval step\n",
      "In eval step\n",
      "Epoch 5, Train Loss; 1.1469, Validation Loss: 0.6024\n",
      "In eval step\n",
      "In eval step\n",
      "In eval step\n",
      "In eval step\n",
      "Epoch 6, Train Loss; 1.1321, Validation Loss: 0.5813\n",
      "In eval step\n",
      "In eval step\n",
      "In eval step\n",
      "In eval step\n",
      "Epoch 7, Train Loss; 1.1126, Validation Loss: 0.5726\n",
      "In eval step\n",
      "In eval step\n",
      "In eval step\n",
      "In eval step\n",
      "Epoch 8, Train Loss; 1.1043, Validation Loss: 0.6009\n",
      "In eval step\n",
      "In eval step\n",
      "In eval step\n",
      "In eval step\n",
      "Epoch 9, Train Loss; 1.1064, Validation Loss: 0.5686\n"
     ]
    },
    {
     "name": "stderr",
     "output_type": "stream",
     "text": [
      "c:\\Users\\laeti\\PCaPrognostics\\.venv\\Lib\\site-packages\\sklearn\\base.py:486: UserWarning: X has feature names, but StandardScaler was fitted without feature names\n",
      "  warnings.warn(\n",
      "2024-11-22 11:42:25,883 - INFO - Best parameters: {'model__batch_size': 256, 'model__hidden_layers': [16, 16], 'model__learning_rate': 0.01, 'model__num_epochs': 10}\n",
      "2024-11-22 11:42:25,885 - INFO - Test score: 0.480\n",
      "2024-11-22 11:42:25,886 - INFO - \n",
      "Outer fold 6\n"
     ]
    },
    {
     "name": "stdout",
     "output_type": "stream",
     "text": [
      "In eval step\n",
      "In eval step\n",
      "In eval step\n",
      "In eval step\n",
      "Epoch 10, Train Loss; 1.1007, Validation Loss: 0.6018\n"
     ]
    },
    {
     "name": "stderr",
     "output_type": "stream",
     "text": [
      "2024-11-22 11:42:25,978 - INFO - Test cohort: CancerMap_2017_Luca\n"
     ]
    },
    {
     "name": "stdout",
     "output_type": "stream",
     "text": [
      "Fitting 8 folds for each of 2 candidates, totalling 16 fits\n",
      "In eval step\n",
      "In eval step\n",
      "In eval step\n",
      "Epoch 1, Train Loss; 1.7973, Validation Loss: 0.6378\n",
      "In eval step\n",
      "In eval step\n",
      "In eval step\n",
      "Epoch 2, Train Loss; 1.4126, Validation Loss: 0.6482\n",
      "In eval step\n",
      "In eval step\n",
      "In eval step\n",
      "Epoch 3, Train Loss; 1.1965, Validation Loss: 0.5973\n",
      "In eval step\n",
      "In eval step\n",
      "In eval step\n",
      "Epoch 4, Train Loss; 1.1133, Validation Loss: 0.5886\n",
      "In eval step\n",
      "In eval step\n",
      "In eval step\n",
      "Epoch 5, Train Loss; 1.0905, Validation Loss: 0.5809\n",
      "In eval step\n",
      "In eval step\n",
      "In eval step\n",
      "Epoch 6, Train Loss; 1.0767, Validation Loss: 0.5802\n",
      "In eval step\n",
      "In eval step\n",
      "In eval step\n",
      "Epoch 7, Train Loss; 1.0749, Validation Loss: 0.5798\n",
      "In eval step\n",
      "In eval step\n",
      "In eval step\n",
      "Epoch 8, Train Loss; 1.0777, Validation Loss: 0.5765\n"
     ]
    },
    {
     "name": "stderr",
     "output_type": "stream",
     "text": [
      "c:\\Users\\laeti\\PCaPrognostics\\.venv\\Lib\\site-packages\\sklearn\\base.py:486: UserWarning: X has feature names, but StandardScaler was fitted without feature names\n",
      "  warnings.warn(\n",
      "2024-11-22 11:42:33,893 - INFO - Best parameters: {'model__batch_size': 64, 'model__hidden_layers': [16, 16], 'model__learning_rate': 0.01, 'model__num_epochs': 10}\n",
      "2024-11-22 11:42:33,894 - INFO - Test score: 0.678\n",
      "2024-11-22 11:42:33,895 - INFO - \n",
      "Outer fold 7\n"
     ]
    },
    {
     "name": "stdout",
     "output_type": "stream",
     "text": [
      "In eval step\n",
      "In eval step\n",
      "In eval step\n",
      "Epoch 9, Train Loss; 1.0640, Validation Loss: 0.5777\n",
      "In eval step\n",
      "In eval step\n",
      "In eval step\n",
      "Epoch 10, Train Loss; 1.0614, Validation Loss: 0.5760\n"
     ]
    },
    {
     "name": "stderr",
     "output_type": "stream",
     "text": [
      "2024-11-22 11:42:33,963 - INFO - Test cohort: DKFZ_2018_Gerhauser\n"
     ]
    },
    {
     "name": "stdout",
     "output_type": "stream",
     "text": [
      "Fitting 8 folds for each of 2 candidates, totalling 16 fits\n",
      "In eval step\n",
      "In eval step\n",
      "In eval step\n",
      "In eval step\n",
      "Epoch 1, Train Loss; 2.5248, Validation Loss: 1.8918\n",
      "In eval step\n",
      "In eval step\n",
      "In eval step\n",
      "In eval step\n",
      "Epoch 2, Train Loss; 2.7966, Validation Loss: 1.0978\n",
      "In eval step\n",
      "In eval step\n",
      "In eval step\n",
      "In eval step\n",
      "Epoch 3, Train Loss; 1.5093, Validation Loss: 0.7433\n",
      "In eval step\n",
      "In eval step\n",
      "In eval step\n",
      "In eval step\n",
      "Epoch 4, Train Loss; 1.1802, Validation Loss: 0.7699\n",
      "In eval step\n",
      "In eval step\n",
      "In eval step\n",
      "In eval step\n",
      "Epoch 5, Train Loss; 1.0575, Validation Loss: 0.6687\n",
      "In eval step\n",
      "In eval step\n",
      "In eval step\n",
      "In eval step\n",
      "Epoch 6, Train Loss; 1.0131, Validation Loss: 0.7388\n",
      "In eval step\n",
      "In eval step\n",
      "In eval step\n",
      "In eval step\n",
      "Epoch 7, Train Loss; 1.0252, Validation Loss: 0.6727\n",
      "In eval step\n",
      "In eval step\n",
      "In eval step\n",
      "In eval step\n",
      "Epoch 8, Train Loss; 0.9899, Validation Loss: 0.6986\n"
     ]
    },
    {
     "name": "stderr",
     "output_type": "stream",
     "text": [
      "c:\\Users\\laeti\\PCaPrognostics\\.venv\\Lib\\site-packages\\sklearn\\base.py:486: UserWarning: X has feature names, but StandardScaler was fitted without feature names\n",
      "  warnings.warn(\n",
      "2024-11-22 11:42:41,344 - INFO - Best parameters: {'model__batch_size': 256, 'model__hidden_layers': [16, 16], 'model__learning_rate': 0.01, 'model__num_epochs': 10}\n",
      "2024-11-22 11:42:41,345 - INFO - Test score: 0.547\n",
      "2024-11-22 11:42:41,346 - INFO - \n",
      "Outer fold 8\n",
      "2024-11-22 11:42:41,397 - INFO - Test cohort: MSKCC_2010_Taylor\n"
     ]
    },
    {
     "name": "stdout",
     "output_type": "stream",
     "text": [
      "In eval step\n",
      "In eval step\n",
      "In eval step\n",
      "In eval step\n",
      "Epoch 9, Train Loss; 1.0167, Validation Loss: 0.7019\n",
      "In eval step\n",
      "In eval step\n",
      "In eval step\n",
      "In eval step\n",
      "Epoch 10, Train Loss; 0.9716, Validation Loss: 0.6410\n",
      "Fitting 8 folds for each of 2 candidates, totalling 16 fits\n",
      "In eval step\n",
      "In eval step\n",
      "In eval step\n",
      "Epoch 1, Train Loss; 1.9513, Validation Loss: 0.7845\n",
      "In eval step\n",
      "In eval step\n",
      "In eval step\n",
      "Epoch 2, Train Loss; 1.6163, Validation Loss: 0.5449\n",
      "In eval step\n",
      "In eval step\n",
      "In eval step\n",
      "Epoch 3, Train Loss; 1.2627, Validation Loss: 0.5355\n",
      "In eval step\n",
      "In eval step\n",
      "In eval step\n",
      "Epoch 4, Train Loss; 1.1639, Validation Loss: 0.5100\n",
      "In eval step\n",
      "In eval step\n",
      "In eval step\n",
      "Epoch 5, Train Loss; 1.1555, Validation Loss: 0.5078\n",
      "In eval step\n",
      "In eval step\n",
      "In eval step\n",
      "Epoch 6, Train Loss; 1.1364, Validation Loss: 0.5094\n",
      "In eval step\n",
      "In eval step\n",
      "In eval step\n",
      "Epoch 7, Train Loss; 1.1372, Validation Loss: 0.5070\n",
      "In eval step\n",
      "In eval step\n",
      "In eval step\n",
      "Epoch 8, Train Loss; 1.1219, Validation Loss: 0.5043\n",
      "In eval step\n",
      "In eval step\n",
      "In eval step\n",
      "Epoch 9, Train Loss; 1.1166, Validation Loss: 0.5009\n",
      "In eval step\n",
      "In eval step\n",
      "In eval step\n",
      "Epoch 10, Train Loss; 1.1051, Validation Loss: 0.5016\n"
     ]
    },
    {
     "name": "stderr",
     "output_type": "stream",
     "text": [
      "c:\\Users\\laeti\\PCaPrognostics\\.venv\\Lib\\site-packages\\sklearn\\base.py:486: UserWarning: X has feature names, but StandardScaler was fitted without feature names\n",
      "  warnings.warn(\n",
      "2024-11-22 11:42:48,838 - INFO - Best parameters: {'model__batch_size': 64, 'model__hidden_layers': [16, 16], 'model__learning_rate': 0.01, 'model__num_epochs': 10}\n",
      "2024-11-22 11:42:48,839 - INFO - Test score: 0.575\n",
      "2024-11-22 11:42:48,840 - INFO - \n",
      "Outer fold 9\n",
      "2024-11-22 11:42:48,903 - INFO - Test cohort: Stockholm_2016_Ross_Adams\n"
     ]
    },
    {
     "name": "stdout",
     "output_type": "stream",
     "text": [
      "Fitting 8 folds for each of 2 candidates, totalling 16 fits\n",
      "In eval step\n",
      "In eval step\n",
      "In eval step\n",
      "In eval step\n",
      "Epoch 1, Train Loss; 2.0937, Validation Loss: 0.5666\n",
      "In eval step\n",
      "In eval step\n",
      "In eval step\n",
      "In eval step\n",
      "Epoch 2, Train Loss; 1.3849, Validation Loss: 0.4141\n",
      "In eval step\n",
      "In eval step\n",
      "In eval step\n",
      "In eval step\n",
      "Epoch 3, Train Loss; 1.0057, Validation Loss: 0.4019\n",
      "In eval step\n",
      "In eval step\n",
      "In eval step\n",
      "In eval step\n",
      "Epoch 4, Train Loss; 0.9278, Validation Loss: 0.4323\n",
      "In eval step\n",
      "In eval step\n",
      "In eval step\n",
      "In eval step\n",
      "Epoch 5, Train Loss; 0.9733, Validation Loss: 0.4014\n",
      "In eval step\n",
      "In eval step\n",
      "In eval step\n",
      "In eval step\n",
      "Epoch 6, Train Loss; 0.9421, Validation Loss: 0.4494\n",
      "In eval step\n",
      "In eval step\n",
      "In eval step\n",
      "In eval step\n",
      "Epoch 7, Train Loss; 0.9380, Validation Loss: 0.4302\n",
      "In eval step\n",
      "In eval step\n",
      "In eval step\n",
      "In eval step\n",
      "Epoch 8, Train Loss; 0.9298, Validation Loss: 0.4209\n",
      "In eval step\n"
     ]
    },
    {
     "name": "stderr",
     "output_type": "stream",
     "text": [
      "c:\\Users\\laeti\\PCaPrognostics\\.venv\\Lib\\site-packages\\sklearn\\base.py:486: UserWarning: X has feature names, but StandardScaler was fitted without feature names\n",
      "  warnings.warn(\n",
      "2024-11-22 11:42:55,857 - INFO - Best parameters: {'model__batch_size': 64, 'model__hidden_layers': [16, 16], 'model__learning_rate': 0.01, 'model__num_epochs': 10}\n",
      "2024-11-22 11:42:55,858 - INFO - Test score: 0.619\n",
      "2024-11-22 11:42:55,859 - INFO - Aggregated results:\n",
      "2024-11-22 11:42:55,859 - INFO - Mean score: 0.561 ± 0.059\n",
      "2024-11-22 11:42:55,860 - INFO - Individual scores: [np.float64(0.5492774566473988), np.float64(0.47815142972211033), np.float64(0.568087318087318), np.float64(0.5567853705486044), np.float64(0.479702300405954), np.float64(0.6776859504132231), np.float64(0.5474209650582362), np.float64(0.5753105590062112), np.float64(0.6187985150185623)]\n",
      "2024-11-22 11:42:55,868 - INFO - Do HP Tuning for complete model; refit + set complete model\n",
      "2024-11-22 11:42:55,869 - INFO - Do HP Tuning for complete model\n"
     ]
    },
    {
     "name": "stdout",
     "output_type": "stream",
     "text": [
      "In eval step\n",
      "In eval step\n",
      "In eval step\n",
      "Epoch 9, Train Loss; 0.9300, Validation Loss: 0.4623\n",
      "In eval step\n",
      "In eval step\n",
      "In eval step\n",
      "In eval step\n",
      "Epoch 10, Train Loss; 0.9207, Validation Loss: 0.4080\n",
      "Fitting 9 folds for each of 2 candidates, totalling 18 fits\n",
      "In eval step\n",
      "In eval step\n",
      "In eval step\n",
      "In eval step\n",
      "Epoch 1, Train Loss; 2.2298, Validation Loss: 0.8125\n",
      "In eval step\n",
      "In eval step\n",
      "In eval step\n",
      "In eval step\n",
      "Epoch 2, Train Loss; 1.7607, Validation Loss: 0.9081\n",
      "In eval step\n",
      "In eval step\n",
      "In eval step\n",
      "In eval step\n",
      "Epoch 3, Train Loss; 1.5328, Validation Loss: 0.8122\n",
      "In eval step\n",
      "In eval step\n",
      "In eval step\n",
      "In eval step\n",
      "Epoch 4, Train Loss; 1.1272, Validation Loss: 0.7730\n",
      "In eval step\n",
      "In eval step\n",
      "In eval step\n",
      "In eval step\n",
      "Epoch 5, Train Loss; 1.0919, Validation Loss: 0.6872\n",
      "In eval step\n",
      "In eval step\n",
      "In eval step\n",
      "In eval step\n",
      "Epoch 6, Train Loss; 1.0711, Validation Loss: 0.7005\n",
      "In eval step\n",
      "In eval step\n",
      "In eval step\n",
      "In eval step\n",
      "Epoch 7, Train Loss; 1.0464, Validation Loss: 0.7338\n",
      "In eval step\n",
      "In eval step\n",
      "In eval step\n",
      "In eval step\n",
      "Epoch 8, Train Loss; 1.0438, Validation Loss: 0.6998\n",
      "In eval step\n",
      "In eval step\n",
      "In eval step\n",
      "In eval step\n",
      "Epoch 9, Train Loss; 1.0341, Validation Loss: 0.7217\n",
      "In eval step\n",
      "In eval step\n",
      "In eval step\n",
      "In eval step\n",
      "Epoch 10, Train Loss; 1.0322, Validation Loss: 0.7283\n"
     ]
    }
   ],
   "source": [
    "nstd_res_result = mp.do_modelling(ds_pipeline_steps, MODEL_CONFIG)"
   ]
  }
 ],
 "metadata": {
  "kernelspec": {
   "display_name": ".venv",
   "language": "python",
   "name": "python3"
  },
  "language_info": {
   "codemirror_mode": {
    "name": "ipython",
    "version": 3
   },
   "file_extension": ".py",
   "mimetype": "text/x-python",
   "name": "python",
   "nbconvert_exporter": "python",
   "pygments_lexer": "ipython3",
   "version": "3.12.0"
  }
 },
 "nbformat": 4,
 "nbformat_minor": 2
}
