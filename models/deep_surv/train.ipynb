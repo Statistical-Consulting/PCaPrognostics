{
 "cells": [
  {
   "cell_type": "code",
   "id": "initial_id",
   "metadata": {
    "collapsed": true,
    "ExecuteTime": {
     "end_time": "2024-11-10T19:51:44.284642Z",
     "start_time": "2024-11-10T19:51:39.816971Z"
    }
   },
   "source": [
    "import os\n",
    "import sys\n",
    "import pandas as pd\n",
    "import numpy as np\n",
    "from pathlib import Path\n",
    "import logging\n",
    "import torch\n",
    "from datetime import datetime\n",
    "\n",
    "# Setup paths\n",
    "PROJECT_ROOT = os.path.dirname(os.path.dirname(os.getcwd()))\n",
    "if PROJECT_ROOT not in sys.path:\n",
    "    sys.path.append(PROJECT_ROOT)\n",
    "\n",
    "# Create timestamped results directory\n",
    "timestamp = datetime.now().strftime('%Y%m%d_%H%M%S')\n",
    "BASE_DIR = os.getcwd()\n",
    "MODEL_DIR = os.path.join(BASE_DIR, 'models', timestamp)\n",
    "RESULTS_DIR = os.path.join(BASE_DIR, 'results', timestamp)\n",
    "os.makedirs(MODEL_DIR, exist_ok=True)\n",
    "os.makedirs(RESULTS_DIR, exist_ok=True)\n",
    "\n",
    "# Imports\n",
    "from preprocessing.data_container import DataContainer\n",
    "from models.deep_surv_model import DeepSurvModel\n",
    "from utils.evaluation import cindex_score\n",
    "\n",
    "# Setup logging\n",
    "log_file = os.path.join(RESULTS_DIR, 'training.log')\n",
    "logging.basicConfig(\n",
    "    level=logging.INFO,\n",
    "    format='%(asctime)s - %(levelname)s - %(message)s',\n",
    "    handlers=[\n",
    "        logging.FileHandler(log_file),\n",
    "        logging.StreamHandler()\n",
    "    ]\n",
    ")\n",
    "logger = logging.getLogger(__name__)\n",
    "\n",
    "# Check for CUDA\n",
    "device = 'cuda' if torch.cuda.is_available() else 'cpu'\n",
    "logger.info(f\"Using device: {device}\")\n"
   ],
   "outputs": [
    {
     "name": "stderr",
     "output_type": "stream",
     "text": [
      "2024-11-10 20:51:44,282 - INFO - Using device: cpu\n"
     ]
    }
   ],
   "execution_count": 1
  },
  {
   "metadata": {
    "ExecuteTime": {
     "end_time": "2024-11-10T19:56:00.967473Z",
     "start_time": "2024-11-10T19:54:47.377552Z"
    }
   },
   "cell_type": "code",
   "source": [
    "# Data configuration\n",
    "DATA_CONFIG = {\n",
    "    'use_pca': False,\n",
    "    'gene_type': 'intersection',\n",
    "    'use_imputed': True,\n",
    "    'use_cohorts': True\n",
    "}\n",
    "\n",
    "# Model configuration with or without CV\n",
    "USE_CV = True  # Set to False for direct training\n",
    "\n",
    "if USE_CV:\n",
    "    # Configuration for CV training\n",
    "    MODEL_CONFIG = {\n",
    "        'params_cv': {\n",
    "            'hidden_layers': [[32, 16], [64, 32], [32, 32, 16]],\n",
    "            'learning_rate': [0.01, 0.001],\n",
    "            'batch_size': [32, 16],  # Kleinere Batch-Sizes\n",
    "            'num_epochs': [10]\n",
    "        },\n",
    "        'use_cohort_cv': True,\n",
    "        'n_splits_inner': 3\n",
    "    }\n",
    "else:\n",
    "    # Configuration for direct training\n",
    "    MODEL_CONFIG = {\n",
    "        'hidden_layers': [32, 16],\n",
    "        'learning_rate': 0.01,\n",
    "        'batch_size': 64,\n",
    "        'num_epochs': 10,\n",
    "        'device': device,\n",
    "        'random_state': 42\n",
    "    }\n",
    "\n",
    "# Save configurations\n",
    "config_file = os.path.join(RESULTS_DIR, 'config.json')\n",
    "import json\n",
    "with open(config_file, 'w') as f:\n",
    "    json.dump({\n",
    "        'data_config': DATA_CONFIG,\n",
    "        'model_config': MODEL_CONFIG,\n",
    "        'use_cv': USE_CV\n",
    "    }, f, indent=4)\n",
    "\n",
    "try:\n",
    "    # Create DataContainer and load data\n",
    "    logger.info(\"Loading data...\")\n",
    "    data_container = DataContainer(DATA_CONFIG, project_root=PROJECT_ROOT)\n",
    "    X, y = data_container.load_data()\n",
    "    \n",
    "    logger.info(f\"Loaded data with shape: X={X.shape}\")\n",
    "    \n",
    "    # Save feature names\n",
    "    feature_names = pd.DataFrame({'feature': X.columns})\n",
    "    feature_names.to_csv(os.path.join(RESULTS_DIR, 'feature_names.csv'), index=False)\n",
    "    \n",
    "    # Initialize DeepSurv\n",
    "    logger.info(\"Initializing DeepSurv model...\")\n",
    "    if not USE_CV:\n",
    "        deep_surv = DeepSurvModel(**MODEL_CONFIG)\n",
    "    else:\n",
    "        deep_surv = DeepSurvModel(device=device, random_state=42)\n",
    "    \n",
    "except Exception as e:\n",
    "    logger.error(f\"Error during initialization: {str(e)}\")\n",
    "    raise\n"
   ],
   "id": "93814a4225316185",
   "outputs": [
    {
     "name": "stderr",
     "output_type": "stream",
     "text": [
      "2024-11-10 20:54:47,382 - INFO - Loading data...\n",
      "2024-11-10 20:54:47,383 - INFO - Loading data...\n",
      "2024-11-10 20:55:55,465 - INFO - Loaded data: 1091 samples, 13214 features\n",
      "2024-11-10 20:56:00,938 - INFO - Loaded data with shape: X=(1091, 13214)\n",
      "2024-11-10 20:56:00,954 - INFO - Initializing DeepSurv model...\n"
     ]
    }
   ],
   "execution_count": 4
  },
  {
   "metadata": {
    "ExecuteTime": {
     "end_time": "2024-11-11T05:04:11.688932Z",
     "start_time": "2024-11-10T19:56:01.033205Z"
    }
   },
   "cell_type": "code",
   "source": [
    "try:\n",
    "    logger.info(\"Starting model training...\")\n",
    "    \n",
    "    if USE_CV:\n",
    "        logger.info(f\"Cross-validation config: {MODEL_CONFIG}\")\n",
    "        # Fit with CV\n",
    "        deep_surv.fit(\n",
    "            X=X,\n",
    "            y=y,\n",
    "            data_container=data_container,\n",
    "            **MODEL_CONFIG\n",
    "        )\n",
    "        \n",
    "        # Log CV results\n",
    "        cv_results = pd.DataFrame(deep_surv.cv_results_['cv_results'])\n",
    "        logger.info(\"\\nCross-validation results:\")\n",
    "        logger.info(f\"Mean c-index: {deep_surv.cv_results_['mean_score']:.3f} \"\n",
    "                   f\"± {deep_surv.cv_results_['std_score']:.3f}\")\n",
    "        \n",
    "        # Save detailed CV results\n",
    "        cv_results.to_csv(os.path.join(RESULTS_DIR, 'cv_results.csv'))\n",
    "        \n",
    "    else:\n",
    "        # Direct training without CV\n",
    "        X_train, y_train, X_val, y_val = data_container.get_train_val_split(X, y)\n",
    "        deep_surv.fit(\n",
    "            X=X_train,\n",
    "            y=y_train,\n",
    "            validation_data=(X_val, y_val)\n",
    "        )\n",
    "        \n",
    "        # Evaluate on validation set\n",
    "        val_pred = deep_surv.predict(X_val)\n",
    "        val_score = cindex_score(y_val, val_pred)\n",
    "        logger.info(f\"\\nValidation c-index: {val_score:.3f}\")\n",
    "        \n",
    "    logger.info(\"Model training completed successfully!\")\n",
    "    \n",
    "except Exception as e:\n",
    "    logger.error(f\"Error during training: {str(e)}\")\n",
    "    raise"
   ],
   "id": "1da0586032a55605",
   "outputs": [
    {
     "name": "stderr",
     "output_type": "stream",
     "text": [
      "2024-11-10 20:56:01,037 - INFO - Starting model training...\n",
      "2024-11-10 20:56:01,038 - INFO - Cross-validation config: {'params_cv': {'hidden_layers': [[32, 16], [64, 32], [32, 32, 16]], 'learning_rate': [0.01, 0.001], 'batch_size': [32, 16], 'num_epochs': [10]}, 'use_cohort_cv': True, 'n_splits_inner': 3}\n",
      "2024-11-10 20:56:01,040 - INFO - Starting DeepSurv training...\n",
      "2024-11-10 20:56:01,041 - INFO - Starting nested cross-validation for DeepSurv...\n",
      "2024-11-10 20:56:01,045 - INFO - Outer fold 1\n",
      "2024-11-10 21:01:05,796 - INFO - Fold 1 complete - Test c-index: 0.574\n",
      "2024-11-10 21:01:05,800 - INFO - Outer fold 2\n",
      "2024-11-10 21:04:20,758 - INFO - Fold 2 complete - Test c-index: 0.528\n",
      "2024-11-10 21:04:20,761 - INFO - Outer fold 3\n",
      "2024-11-10 21:08:13,361 - INFO - Fold 3 complete - Test c-index: 0.536\n",
      "2024-11-10 21:08:13,364 - INFO - Outer fold 4\n",
      "2024-11-10 21:12:18,879 - INFO - Fold 4 complete - Test c-index: 0.540\n",
      "2024-11-10 21:12:18,882 - INFO - Outer fold 5\n",
      "2024-11-10 21:16:14,041 - INFO - Fold 5 complete - Test c-index: 0.475\n",
      "2024-11-10 21:16:14,045 - INFO - Outer fold 6\n",
      "2024-11-10 21:20:11,321 - INFO - Fold 6 complete - Test c-index: 0.479\n",
      "2024-11-10 21:20:11,323 - INFO - Outer fold 7\n",
      "2024-11-11 00:55:30,033 - INFO - Fold 7 complete - Test c-index: 0.577\n",
      "2024-11-11 00:55:30,036 - INFO - Outer fold 8\n",
      "2024-11-11 04:27:47,398 - INFO - Fold 8 complete - Test c-index: 0.554\n",
      "2024-11-11 04:27:47,401 - INFO - Outer fold 9\n",
      "2024-11-11 06:04:09,181 - INFO - Fold 9 complete - Test c-index: 0.505\n",
      "2024-11-11 06:04:09,508 - INFO - Training on device: cpu\n",
      "2024-11-11 06:04:09,727 - INFO - Epoch 0: train_loss=1.3641\n",
      "2024-11-11 06:04:11,677 - INFO - \n",
      "Cross-validation results:\n",
      "2024-11-11 06:04:11,678 - INFO - Mean c-index: 0.530 ± 0.035\n",
      "2024-11-11 06:04:11,686 - INFO - Model training completed successfully!\n"
     ]
    }
   ],
   "execution_count": 5
  },
  {
   "metadata": {
    "ExecuteTime": {
     "end_time": "2024-11-11T05:27:49.842473Z",
     "start_time": "2024-11-11T05:27:49.786997Z"
    }
   },
   "cell_type": "code",
   "source": [
    "# Save model\n",
    "logger.info(\"Saving model...\")\n",
    "model_name = f\"deep_surv_model_{timestamp}\"\n",
    "deep_surv.save(MODEL_DIR, model_name)\n",
    "\n",
    "\n",
    "    \n",
    "\n",
    "\n",
    "\n",
    "\n",
    "\n",
    "    \n"
   ],
   "id": "b96eadad910dc0fb",
   "outputs": [
    {
     "name": "stderr",
     "output_type": "stream",
     "text": [
      "2024-11-11 06:27:49,790 - INFO - Saving model...\n",
      "2024-11-11 06:27:49,830 - INFO - Model saved to /Users/jonasschernich/Library/Mobile Documents/com~apple~CloudDocs/Uni/Master/9. Semester/Consulting/Organization/PCaPrognostics/models/deep_surv/models/20241110_205142/model\n",
      "2024-11-11 06:27:49,840 - INFO - Saved CV results to /Users/jonasschernich/Library/Mobile Documents/com~apple~CloudDocs/Uni/Master/9. Semester/Consulting/Organization/PCaPrognostics/models/deep_surv/models/20241110_205142/results/deep_surv_model_20241110_205142_cv_results.csv\n"
     ]
    }
   ],
   "execution_count": 9
  }
 ],
 "metadata": {
  "kernelspec": {
   "display_name": "Python 3",
   "language": "python",
   "name": "python3"
  },
  "language_info": {
   "codemirror_mode": {
    "name": "ipython",
    "version": 2
   },
   "file_extension": ".py",
   "mimetype": "text/x-python",
   "name": "python",
   "nbconvert_exporter": "python",
   "pygments_lexer": "ipython2",
   "version": "2.7.6"
  }
 },
 "nbformat": 4,
 "nbformat_minor": 5
}
