{
 "cells": [
  {
   "cell_type": "code",
   "id": "initial_id",
   "metadata": {
    "collapsed": true,
    "ExecuteTime": {
     "end_time": "2024-11-10T05:42:40.332170Z",
     "start_time": "2024-11-10T05:42:39.765293Z"
    }
   },
   "source": [
    "import os\n",
    "import sys\n",
    "import pandas as pd\n",
    "import numpy as np\n",
    "from pathlib import Path\n",
    "import logging\n",
    "import pickle"
   ],
   "outputs": [],
   "execution_count": 1
  },
  {
   "metadata": {
    "ExecuteTime": {
     "end_time": "2024-11-10T06:03:43.911841Z",
     "start_time": "2024-11-10T06:03:43.904924Z"
    }
   },
   "cell_type": "code",
   "source": [
    "# Setup paths\n",
    "def find_project_root(current_path, marker_file='requirements.txt'):\n",
    "    current = Path(current_path).resolve()\n",
    "    while current != current.parent:\n",
    "        if (current / marker_file).exists():\n",
    "            return str(current)\n",
    "        current = current.parent\n",
    "    raise FileNotFoundError(f\"Could not find project root with marker file {marker_file}\")\n",
    "\n",
    "try:\n",
    "    PROJECT_ROOT = find_project_root(os.getcwd())\n",
    "except FileNotFoundError:\n",
    "    PROJECT_ROOT = os.path.dirname(os.path.dirname(os.getcwd()))\n",
    "    print(\"Warning: Could not find project root automatically.\")\n",
    "\n",
    "if PROJECT_ROOT not in sys.path:\n",
    "    sys.path.append(PROJECT_ROOT)\n",
    "# Setup directories\n",
    "MODEL_DIR = os.path.join(os.path.dirname(os.getcwd()), 'rsf', 'model')\n",
    "RESULTS_DIR = os.path.join(os.path.dirname(os.getcwd()), 'rsf','results')"
   ],
   "id": "1494749d05d2f5e9",
   "outputs": [
    {
     "name": "stdout",
     "output_type": "stream",
     "text": [
      "Warning: Could not find project root automatically.\n"
     ]
    }
   ],
   "execution_count": 18
  },
  {
   "metadata": {
    "ExecuteTime": {
     "end_time": "2024-11-10T06:03:45.341993Z",
     "start_time": "2024-11-10T06:03:45.337209Z"
    }
   },
   "cell_type": "code",
   "source": [
    "from preprocessing.data_loader import DataLoader\n",
    "from models.rsf_model import RSFModel\n",
    "from utils.evaluation import cindex_score\n",
    "from utils.visualization import plot_survival_curves, plot_cv_results\n",
    "\n",
    "# Setup logging\n",
    "logging.basicConfig(\n",
    "    level=logging.INFO,\n",
    "    format='%(asctime)s - %(levelname)s - %(message)s'\n",
    ")\n",
    "logger = logging.getLogger(__name__)"
   ],
   "id": "bc28ef80c0aa37a6",
   "outputs": [],
   "execution_count": 19
  },
  {
   "metadata": {
    "ExecuteTime": {
     "end_time": "2024-11-10T06:03:46.817954Z",
     "start_time": "2024-11-10T06:03:46.794840Z"
    }
   },
   "cell_type": "code",
   "source": [
    "# Load trained model\n",
    "try:\n",
    "    model_path = os.path.join(MODEL_DIR, 'rsf_model.pkl')\n",
    "    logger.info(f\"Loading model from {model_path}\")\n",
    "    \n",
    "    with open(model_path, 'rb') as f:\n",
    "        rsf = pickle.load(f)\n",
    "        \n",
    "    logger.info(\"Model loaded successfully\")\n",
    "    \n",
    "except Exception as e:\n",
    "    logger.error(f\"Error loading model: {str(e)}\")\n",
    "    raise"
   ],
   "id": "361a3769497f8605",
   "outputs": [
    {
     "name": "stderr",
     "output_type": "stream",
     "text": [
      "2024-11-10 07:03:46,797 - INFO - Loading model from /Users/jonasschernich/Library/Mobile Documents/com~apple~CloudDocs/Uni/Master/9. Semester/Consulting/Organization/PCaPrognostics/models/rsf/model/rsf_model.pkl\n",
      "2024-11-10 07:03:46,816 - INFO - Model loaded successfully\n"
     ]
    }
   ],
   "execution_count": 20
  },
  {
   "metadata": {},
   "cell_type": "markdown",
   "source": [
    "\"\"\"\n",
    "### Test mit Beispiel-Testdaten\n",
    "Diese Testdaten sind nur für Demo-Zwecke. Für echte Evaluierung müssen die tatsächlichen \n",
    "Testdaten aus dem Data Loader verwendet werden.\n",
    "### Problem: Die features beim Testen müssen übereinstimmen -> Überlegen wie wir das lösen\n",
    "\"\"\""
   ],
   "id": "84e64ef2a348f982"
  },
  {
   "metadata": {
    "ExecuteTime": {
     "end_time": "2024-11-10T06:07:11.722304Z",
     "start_time": "2024-11-10T06:06:01.113849Z"
    }
   },
   "cell_type": "code",
   "source": [
    "# Load same data that was used for training for testing\n",
    "try:\n",
    "    loader = DataLoader(PROJECT_ROOT)\n",
    "    \n",
    "    X, pdata = loader.get_merged_data(\n",
    "        gene_type='intersection',\n",
    "        use_imputed=True\n",
    "    )\n",
    "    y = loader.prepare_survival_data(pdata)\n",
    "    groups = np.array([idx.split('.')[0] for idx in X.index])\n",
    "    \n",
    "    logger.info(f\"Data loaded: {X.shape[0]} samples, {X.shape[1]} features\")\n",
    "    \n",
    "except Exception as e:\n",
    "    logger.error(f\"Error loading data: {str(e)}\")\n",
    "    raise\n",
    "\n",
    "## Create Test Subset and Evaluate\n",
    "\n",
    "try:\n",
    "    logger.info(\"Creating test subset from data...\")\n",
    "    \n",
    "    # Use 20% of the data for testing\n",
    "    n_test = int(len(X) * 0.2)\n",
    "    test_indices = np.random.choice(len(X), n_test, replace=False)\n",
    "    \n",
    "    X_test = X.iloc[test_indices]\n",
    "    y_test = y[test_indices]\n",
    "    test_cohorts = groups[test_indices] if groups is not None else None\n",
    "    \n",
    "    logger.info(f\"Test subset created: {X_test.shape[0]} samples, {X_test.shape[1]} features\")\n",
    "    \n",
    "    # Make predictions\n",
    "    logger.info(\"Making predictions...\")\n",
    "    predictions = rsf.predict(X_test)\n",
    "    \n",
    "    # Calculate c-index\n",
    "    score = cindex_score(y_test, predictions)\n",
    "    logger.info(f\"Test Set C-index: {score:.3f}\")\n",
    "    \n",
    "    # Plot survival curves for a few examples\n",
    "    logger.info(\"Plotting survival curves...\")\n",
    "    rsf_model = rsf.named_steps['rsf']\n",
    "    #plot_survival_curves(rsf_model, X_test.iloc[:5], y_test[:5])\n",
    "    \n",
    "    # Show performance by cohort\n",
    "    if test_cohorts is not None:\n",
    "        logger.info(\"\\nPerformance by cohort:\")\n",
    "        cohort_scores = {}\n",
    "        for cohort in np.unique(test_cohorts):\n",
    "            mask = test_cohorts == cohort\n",
    "            if sum(mask) > 0:  # Nur wenn Kohorte Samples hat\n",
    "                cohort_score = cindex_score(y_test[mask], predictions[mask])\n",
    "                cohort_scores[cohort] = cohort_score\n",
    "                logger.info(f\"{cohort}: {cohort_score:.3f} (n={sum(mask)})\")\n",
    "        \n",
    "        # Save cohort scores\n",
    "        pd.Series(cohort_scores).to_csv(\n",
    "            os.path.join(RESULTS_DIR, 'cohort_test_scores.csv')\n",
    "        )\n",
    "\n",
    "except Exception as e:\n",
    "    logger.error(f\"Error evaluating model: {str(e)}\")\n",
    "    raise\n",
    "\n"
   ],
   "id": "33e9457efd3d09f3",
   "outputs": [
    {
     "name": "stderr",
     "output_type": "stream",
     "text": [
      "2024-11-10 07:07:11,522 - INFO - Data loaded: 1091 samples, 13214 features\n",
      "2024-11-10 07:07:11,535 - INFO - Creating test subset from data...\n",
      "2024-11-10 07:07:11,610 - INFO - Test subset created: 218 samples, 13214 features\n",
      "2024-11-10 07:07:11,611 - INFO - Making predictions...\n",
      "2024-11-10 07:07:11,698 - INFO - Test Set C-index: 0.494\n",
      "2024-11-10 07:07:11,699 - INFO - Plotting survival curves...\n",
      "2024-11-10 07:07:11,699 - INFO - \n",
      "Performance by cohort:\n",
      "2024-11-10 07:07:11,701 - INFO - Atlanta_2014_Long: 0.383 (n=21)\n",
      "2024-11-10 07:07:11,702 - INFO - Belfast_2018_Jain: 0.573 (n=47)\n",
      "2024-11-10 07:07:11,702 - INFO - CPC_GENE_2017_Fraser: 0.711 (n=16)\n",
      "2024-11-10 07:07:11,703 - INFO - CPGEA_2020_Li: 0.447 (n=24)\n",
      "2024-11-10 07:07:11,704 - INFO - CamCap_2016_Ross_Adams: 0.567 (n=27)\n",
      "2024-11-10 07:07:11,705 - INFO - CancerMap_2017_Luca: 0.554 (n=28)\n",
      "2024-11-10 07:07:11,706 - INFO - DKFZ_2018_Gerhauser: 0.418 (n=14)\n",
      "2024-11-10 07:07:11,707 - INFO - MSKCC_2010_Taylor: 0.497 (n=25)\n",
      "2024-11-10 07:07:11,707 - INFO - Stockholm_2016_Ross_Adams: 0.514 (n=16)\n"
     ]
    }
   ],
   "execution_count": 22
  }
 ],
 "metadata": {
  "kernelspec": {
   "display_name": "Python 3",
   "language": "python",
   "name": "python3"
  },
  "language_info": {
   "codemirror_mode": {
    "name": "ipython",
    "version": 2
   },
   "file_extension": ".py",
   "mimetype": "text/x-python",
   "name": "python",
   "nbconvert_exporter": "python",
   "pygments_lexer": "ipython2",
   "version": "2.7.6"
  }
 },
 "nbformat": 4,
 "nbformat_minor": 5
}
