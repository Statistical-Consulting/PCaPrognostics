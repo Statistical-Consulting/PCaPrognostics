{
 "cells": [
  {
   "cell_type": "code",
   "execution_count": 9,
   "metadata": {},
   "outputs": [],
   "source": [
    "import os\n",
    "import sys\n",
    "import pandas as pd\n",
    "import numpy as np\n",
    "from pathlib import Path\n",
    "import logging\n",
    "\n",
    "# Setup paths\n",
    "PROJECT_ROOT = os.path.dirname(os.path.dirname(os.getcwd()))\n",
    "if PROJECT_ROOT not in sys.path:\n",
    "    sys.path.append(PROJECT_ROOT)\n",
    "\n",
    "# Setup directories\n",
    "MODEL_DIR = os.path.join(os.getcwd(), 'model')\n",
    "RESULTS_DIR = os.path.join(os.getcwd(), 'results')\n",
    "os.makedirs(MODEL_DIR, exist_ok=True)\n",
    "os.makedirs(RESULTS_DIR, exist_ok=True)\n",
    "\n",
    "# Imports\n",
    "from preprocessing.data_container import DataContainer\n",
    "from utils.evaluation import cindex_score\n",
    "from models.modelling_process import ModellingProcess\n",
    "from sksurv.ensemble import RandomSurvivalForest\n",
    "\n",
    "# Setup logging\n",
    "logging.basicConfig(\n",
    "    level=logging.INFO,\n",
    "    format='%(asctime)s - %(levelname)s - %(message)s'\n",
    ")\n",
    "logger = logging.getLogger(__name__)"
   ]
  },
  {
   "cell_type": "code",
   "execution_count": 12,
   "metadata": {},
   "outputs": [],
   "source": [
    "# Data configuration\n",
    "DATA_CONFIG = {\n",
    "    'use_pca': False,\n",
    "    'gene_type': 'intersection',\n",
    "    'use_imputed': True,\n",
    "    'use_cohorts': False\n",
    "}\n",
    "\n",
    "# Model configuration\n",
    "MODEL_CONFIG = {\n",
    "    'params_cv': {\n",
    "        'model__n_estimators': [2, 4],\n",
    "        'model__min_samples_split': [10]\n",
    "    },\n",
    "    'refit': True, \n",
    "    'do_nested_resampling': True}\n",
    "\n",
    "rsf_pipeline_steps = [('model', RandomSurvivalForest())]\n"
   ]
  },
  {
   "cell_type": "code",
   "execution_count": 7,
   "metadata": {},
   "outputs": [],
   "source": [
    "mp = ModellingProcess()"
   ]
  },
  {
   "cell_type": "code",
   "execution_count": 8,
   "metadata": {},
   "outputs": [
    {
     "name": "stderr",
     "output_type": "stream",
     "text": [
      "2024-11-14 23:27:29,794 - INFO - Loading data...\n",
      "2024-11-14 23:30:35,895 - INFO - Loaded data: 1091 samples, 13214 features\n"
     ]
    }
   ],
   "source": [
    "mp.prepare_data(DATA_CONFIG, PROJECT_ROOT)"
   ]
  },
  {
   "cell_type": "code",
   "execution_count": 13,
   "metadata": {},
   "outputs": [
    {
     "name": "stderr",
     "output_type": "stream",
     "text": [
      "2024-11-14 23:31:47,059 - INFO - Start model training...\n",
      "2024-11-14 23:31:47,060 - INFO - Input data shape: X=(1091, 13214)\n",
      "2024-11-14 23:31:47,061 - INFO - Nested resampling...\n",
      "2024-11-14 23:31:47,062 - INFO - Starting nested resampling...\n",
      "2024-11-14 23:31:47,063 - INFO - Data shape: X=(1091, 13214), groups=9 unique\n",
      "2024-11-14 23:31:47,066 - INFO - \n",
      "Outer fold 1\n",
      "2024-11-14 23:31:47,113 - INFO - Test cohort: Atlanta_2014_Long\n"
     ]
    },
    {
     "name": "stdout",
     "output_type": "stream",
     "text": [
      "Fitting 8 folds for each of 2 candidates, totalling 16 fits\n"
     ]
    },
    {
     "name": "stderr",
     "output_type": "stream",
     "text": [
      "2024-11-14 23:33:23,255 - INFO - Best parameters: {'model__min_samples_split': 10, 'model__n_estimators': 4}\n",
      "2024-11-14 23:33:23,257 - INFO - Test score: 0.536\n",
      "2024-11-14 23:33:23,258 - INFO - \n",
      "Outer fold 2\n",
      "2024-11-14 23:33:23,314 - INFO - Test cohort: Belfast_2018_Jain\n"
     ]
    },
    {
     "name": "stdout",
     "output_type": "stream",
     "text": [
      "Fitting 8 folds for each of 2 candidates, totalling 16 fits\n"
     ]
    },
    {
     "name": "stderr",
     "output_type": "stream",
     "text": [
      "2024-11-14 23:34:24,283 - INFO - Best parameters: {'model__min_samples_split': 10, 'model__n_estimators': 4}\n",
      "2024-11-14 23:34:24,283 - INFO - Test score: 0.494\n",
      "2024-11-14 23:34:24,284 - INFO - \n",
      "Outer fold 3\n",
      "2024-11-14 23:34:24,340 - INFO - Test cohort: CPC_GENE_2017_Fraser\n"
     ]
    },
    {
     "name": "stdout",
     "output_type": "stream",
     "text": [
      "Fitting 8 folds for each of 2 candidates, totalling 16 fits\n"
     ]
    },
    {
     "name": "stderr",
     "output_type": "stream",
     "text": [
      "2024-11-14 23:35:48,319 - INFO - Best parameters: {'model__min_samples_split': 10, 'model__n_estimators': 4}\n",
      "2024-11-14 23:35:48,321 - INFO - Test score: 0.592\n",
      "2024-11-14 23:35:48,321 - INFO - \n",
      "Outer fold 4\n",
      "2024-11-14 23:35:48,488 - INFO - Test cohort: CPGEA_2020_Li\n"
     ]
    },
    {
     "name": "stdout",
     "output_type": "stream",
     "text": [
      "Fitting 8 folds for each of 2 candidates, totalling 16 fits\n"
     ]
    },
    {
     "name": "stderr",
     "output_type": "stream",
     "text": [
      "2024-11-14 23:37:02,019 - INFO - Best parameters: {'model__min_samples_split': 10, 'model__n_estimators': 4}\n",
      "2024-11-14 23:37:02,021 - INFO - Test score: 0.601\n",
      "2024-11-14 23:37:02,023 - INFO - \n",
      "Outer fold 5\n",
      "2024-11-14 23:37:02,113 - INFO - Test cohort: CamCap_2016_Ross_Adams\n"
     ]
    },
    {
     "name": "stdout",
     "output_type": "stream",
     "text": [
      "Fitting 8 folds for each of 2 candidates, totalling 16 fits\n"
     ]
    },
    {
     "name": "stderr",
     "output_type": "stream",
     "text": [
      "2024-11-14 23:38:15,200 - INFO - Best parameters: {'model__min_samples_split': 10, 'model__n_estimators': 4}\n",
      "2024-11-14 23:38:15,203 - INFO - Test score: 0.655\n",
      "2024-11-14 23:38:15,204 - INFO - \n",
      "Outer fold 6\n",
      "2024-11-14 23:38:15,257 - INFO - Test cohort: CancerMap_2017_Luca\n"
     ]
    },
    {
     "name": "stdout",
     "output_type": "stream",
     "text": [
      "Fitting 8 folds for each of 2 candidates, totalling 16 fits\n"
     ]
    },
    {
     "name": "stderr",
     "output_type": "stream",
     "text": [
      "2024-11-14 23:39:38,692 - INFO - Best parameters: {'model__min_samples_split': 10, 'model__n_estimators': 4}\n",
      "2024-11-14 23:39:38,693 - INFO - Test score: 0.667\n",
      "2024-11-14 23:39:38,694 - INFO - \n",
      "Outer fold 7\n",
      "2024-11-14 23:39:38,742 - INFO - Test cohort: DKFZ_2018_Gerhauser\n"
     ]
    },
    {
     "name": "stdout",
     "output_type": "stream",
     "text": [
      "Fitting 8 folds for each of 2 candidates, totalling 16 fits\n"
     ]
    },
    {
     "name": "stderr",
     "output_type": "stream",
     "text": [
      "2024-11-14 23:41:02,348 - INFO - Best parameters: {'model__min_samples_split': 10, 'model__n_estimators': 4}\n",
      "2024-11-14 23:41:02,349 - INFO - Test score: 0.804\n",
      "2024-11-14 23:41:02,349 - INFO - \n",
      "Outer fold 8\n",
      "2024-11-14 23:41:02,412 - INFO - Test cohort: MSKCC_2010_Taylor\n"
     ]
    },
    {
     "name": "stdout",
     "output_type": "stream",
     "text": [
      "Fitting 8 folds for each of 2 candidates, totalling 16 fits\n"
     ]
    },
    {
     "name": "stderr",
     "output_type": "stream",
     "text": [
      "2024-11-14 23:42:18,812 - INFO - Best parameters: {'model__min_samples_split': 10, 'model__n_estimators': 4}\n",
      "2024-11-14 23:42:18,813 - INFO - Test score: 0.637\n",
      "2024-11-14 23:42:18,814 - INFO - \n",
      "Outer fold 9\n",
      "2024-11-14 23:42:18,872 - INFO - Test cohort: Stockholm_2016_Ross_Adams\n"
     ]
    },
    {
     "name": "stdout",
     "output_type": "stream",
     "text": [
      "Fitting 8 folds for each of 2 candidates, totalling 16 fits\n"
     ]
    },
    {
     "name": "stderr",
     "output_type": "stream",
     "text": [
      "2024-11-14 23:43:22,269 - INFO - Best parameters: {'model__min_samples_split': 10, 'model__n_estimators': 2}\n",
      "2024-11-14 23:43:22,270 - INFO - Test score: 0.556\n",
      "2024-11-14 23:43:22,274 - INFO - Aggregated results:\n",
      "2024-11-14 23:43:22,275 - INFO - Mean score: 0.616 ± 0.085\n",
      "2024-11-14 23:43:22,276 - INFO - Individual scores: [np.float64(0.5356936416184971), np.float64(0.4944120016109545), np.float64(0.591995841995842), np.float64(0.6007378889958294), np.float64(0.6549391069012178), np.float64(0.6674220207944548), np.float64(0.8040765391014975), np.float64(0.6366459627329193), np.float64(0.5563617954775565)]\n",
      "2024-11-14 23:43:22,287 - INFO - Do HP Tuning for complete model; refit + set complete model\n",
      "2024-11-14 23:43:22,287 - INFO - Do HP Tuning for complete model\n"
     ]
    },
    {
     "name": "stdout",
     "output_type": "stream",
     "text": [
      "Fitting 9 folds for each of 2 candidates, totalling 18 fits\n"
     ]
    }
   ],
   "source": [
    "nstd_res_result = mp.do_modelling(rsf_pipeline_steps, MODEL_CONFIG)"
   ]
  },
  {
   "cell_type": "code",
   "execution_count": null,
   "metadata": {},
   "outputs": [],
   "source": [
    "# Save nested resampling result and retrained model (TODO: Add this to modelling process)"
   ]
  }
 ],
 "metadata": {
  "kernelspec": {
   "display_name": ".venv",
   "language": "python",
   "name": "python3"
  },
  "language_info": {
   "codemirror_mode": {
    "name": "ipython",
    "version": 3
   },
   "file_extension": ".py",
   "mimetype": "text/x-python",
   "name": "python",
   "nbconvert_exporter": "python",
   "pygments_lexer": "ipython3",
   "version": "3.12.0"
  }
 },
 "nbformat": 4,
 "nbformat_minor": 2
}
