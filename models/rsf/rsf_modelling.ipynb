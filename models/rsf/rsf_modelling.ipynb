{
 "cells": [
  {
   "cell_type": "code",
   "execution_count": 1,
   "metadata": {
    "ExecuteTime": {
     "end_time": "2024-11-15T13:20:36.940498Z",
     "start_time": "2024-11-15T13:20:33.760294Z"
    }
   },
   "outputs": [],
   "source": [
    "import os\n",
    "import sys\n",
    "import pandas as pd\n",
    "import numpy as np\n",
    "from pathlib import Path\n",
    "import logging\n",
    "\n",
    "# Setup paths\n",
    "PROJECT_ROOT = os.path.dirname(os.path.dirname(os.getcwd()))\n",
    "if PROJECT_ROOT not in sys.path:\n",
    "    sys.path.append(PROJECT_ROOT)\n",
    "\n",
    "# Setup directories\n",
    "MODEL_DIR = os.path.join(os.getcwd(), 'model')\n",
    "RESULTS_DIR = os.path.join(os.getcwd(), 'results')\n",
    "os.makedirs(MODEL_DIR, exist_ok=True)\n",
    "os.makedirs(RESULTS_DIR, exist_ok=True)\n",
    "\n",
    "# Imports\n",
    "from preprocessing.data_container import DataContainer\n",
    "from utils.evaluation import cindex_score\n",
    "from models.modelling_process import ModellingProcess\n",
    "from sksurv.ensemble import RandomSurvivalForest\n",
    "\n",
    "# Setup logging\n",
    "logging.basicConfig(\n",
    "    level=logging.INFO,\n",
    "    format='%(asctime)s - %(levelname)s - %(message)s'\n",
    ")\n",
    "logger = logging.getLogger(__name__)"
   ]
  },
  {
   "cell_type": "code",
   "execution_count": null,
   "metadata": {
    "ExecuteTime": {
     "end_time": "2024-11-15T13:29:05.588487Z",
     "start_time": "2024-11-15T13:29:05.570908Z"
    }
   },
   "outputs": [],
   "source": [
    "# Data configuration\n",
    "DATA_CONFIG = {\n",
    "    'use_pca': False,\n",
    "    'pca_threshold': 0.95,\n",
    "    'gene_type': 'common_genes',\n",
    "    'use_imputed': True,\n",
    "    'use_cohorts': False\n",
    "}\n",
    "\n",
    "# Model configuration\n",
    "MODEL_CONFIG = {\n",
    "    'params_cv': {\n",
    "        'model__n_estimators': [100],\n",
    "        'model__min_samples_split': [6], \n",
    "        'model__max_features': ['sqrt'],\n",
    "        'model__bootstrap' : [False], \n",
    "        'model__n_jobs': [-1], \n",
    "        'model__random_state': [1234], \n",
    "        'model__low_memory' : [True] \n",
    "    },\n",
    "    'refit': True, \n",
    "    'do_nested_resampling': False, \n",
    "    'path' : RESULTS_DIR, \n",
    "    'fname_cv' : 'results_intersect'}\n",
    "\n",
    "rsf_pipeline_steps = [('model', RandomSurvivalForest())]\n"
   ]
  },
  {
   "cell_type": "code",
   "execution_count": 12,
   "metadata": {
    "ExecuteTime": {
     "end_time": "2024-11-15T13:29:07.622939Z",
     "start_time": "2024-11-15T13:29:07.109250Z"
    }
   },
   "outputs": [],
   "source": [
    "mp = ModellingProcess()"
   ]
  },
  {
   "cell_type": "code",
   "execution_count": 13,
   "metadata": {
    "ExecuteTime": {
     "end_time": "2024-11-15T13:30:53.240561Z",
     "start_time": "2024-11-15T13:29:08.148854Z"
    }
   },
   "outputs": [
    {
     "name": "stderr",
     "output_type": "stream",
     "text": [
      "2024-11-29 10:14:08,043 - INFO - Loading data...\n",
      "2024-11-29 10:16:44,317 - INFO - Loaded data: 1091 samples, 15495 features\n"
     ]
    }
   ],
   "source": [
    "mp.prepare_data(DATA_CONFIG, PROJECT_ROOT)"
   ]
  },
  {
   "cell_type": "code",
   "execution_count": 14,
   "metadata": {
    "ExecuteTime": {
     "end_time": "2024-11-15T13:33:54.885247Z",
     "start_time": "2024-11-15T13:30:58.651163Z"
    }
   },
   "outputs": [
    {
     "name": "stderr",
     "output_type": "stream",
     "text": [
      "2024-11-29 10:17:11,316 - INFO - No additional monitoring detected\n",
      "2024-11-29 10:17:11,319 - INFO - Start model training...\n",
      "2024-11-29 10:17:11,319 - INFO - Input data shape: X=(1091, 15495)\n",
      "2024-11-29 10:17:11,322 - INFO - Do HP Tuning for complete model; refit + set complete model\n",
      "2024-11-29 10:17:11,322 - INFO - Do HP Tuning for complete model\n"
     ]
    },
    {
     "name": "stdout",
     "output_type": "stream",
     "text": [
      "Fitting 9 folds for each of 1 candidates, totalling 9 fits\n"
     ]
    },
    {
     "name": "stderr",
     "output_type": "stream",
     "text": [
      "c:\\Users\\laeti\\PCaPrognostics\\.venv\\Lib\\site-packages\\numpy\\ma\\core.py:2881: RuntimeWarning: invalid value encountered in cast\n",
      "  _data = np.array(data, dtype=dtype, copy=copy,\n"
     ]
    }
   ],
   "source": [
    "nstd_res_result = mp.do_modelling(rsf_pipeline_steps, MODEL_CONFIG)"
   ]
  },
  {
   "cell_type": "code",
   "execution_count": null,
   "metadata": {},
   "outputs": [],
   "source": [
    "# Save nested resampling result and retrained model (TODO: Add this to modelling process)"
   ]
  },
  {
   "cell_type": "code",
   "execution_count": 15,
   "metadata": {},
   "outputs": [
    {
     "data": {
      "text/plain": [
       "{'mean_fit_time': array([2296.95820708]),\n",
       " 'std_fit_time': array([596.37276507]),\n",
       " 'mean_score_time': array([3.08911371]),\n",
       " 'std_score_time': array([1.99421501]),\n",
       " 'param_model__bootstrap': masked_array(data=[False],\n",
       "              mask=[False],\n",
       "        fill_value=True),\n",
       " 'param_model__low_memory': masked_array(data=[True],\n",
       "              mask=[False],\n",
       "        fill_value=True),\n",
       " 'param_model__max_features': masked_array(data=['sqrt'],\n",
       "              mask=[False],\n",
       "        fill_value=np.str_('?'),\n",
       "             dtype=object),\n",
       " 'param_model__min_samples_split': masked_array(data=[6],\n",
       "              mask=[False],\n",
       "        fill_value=999999),\n",
       " 'param_model__n_estimators': masked_array(data=[100],\n",
       "              mask=[False],\n",
       "        fill_value=999999),\n",
       " 'param_model__n_jobs': masked_array(data=[-1],\n",
       "              mask=[False],\n",
       "        fill_value=999999),\n",
       " 'param_model__random_state': masked_array(data=[1234],\n",
       "              mask=[False],\n",
       "        fill_value=999999),\n",
       " 'params': [{'model__bootstrap': False,\n",
       "   'model__low_memory': True,\n",
       "   'model__max_features': 'sqrt',\n",
       "   'model__min_samples_split': 6,\n",
       "   'model__n_estimators': 100,\n",
       "   'model__n_jobs': -1,\n",
       "   'model__random_state': 1234}],\n",
       " 'split0_test_score': array([0.5632948]),\n",
       " 'split1_test_score': array([0.61095449]),\n",
       " 'split2_test_score': array([0.48648649]),\n",
       " 'split3_test_score': array([0.68431184]),\n",
       " 'split4_test_score': array([0.83288227]),\n",
       " 'split5_test_score': array([0.65502533]),\n",
       " 'split6_test_score': array([0.85357737]),\n",
       " 'split7_test_score': array([0.66692547]),\n",
       " 'split8_test_score': array([0.67364158]),\n",
       " 'mean_test_score': array([0.66967774]),\n",
       " 'std_test_score': array([0.11016741]),\n",
       " 'rank_test_score': array([1], dtype=int32)}"
      ]
     },
     "execution_count": 15,
     "metadata": {},
     "output_type": "execute_result"
    }
   ],
   "source": [
    "mp.resampling_cmplt.cv_results_"
   ]
  }
 ],
 "metadata": {
  "kernelspec": {
   "display_name": ".venv",
   "language": "python",
   "name": "python3"
  },
  "language_info": {
   "codemirror_mode": {
    "name": "ipython",
    "version": 3
   },
   "file_extension": ".py",
   "mimetype": "text/x-python",
   "name": "python",
   "nbconvert_exporter": "python",
   "pygments_lexer": "ipython3",
   "version": "3.12.0"
  }
 },
 "nbformat": 4,
 "nbformat_minor": 2
}
