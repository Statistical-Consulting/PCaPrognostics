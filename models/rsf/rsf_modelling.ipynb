{
 "cells": [
  {
   "cell_type": "code",
   "execution_count": 1,
   "metadata": {
    "ExecuteTime": {
     "end_time": "2024-11-15T13:20:36.940498Z",
     "start_time": "2024-11-15T13:20:33.760294Z"
    }
   },
   "outputs": [],
   "source": [
    "import os\n",
    "import sys\n",
    "import pandas as pd\n",
    "import numpy as np\n",
    "from pathlib import Path\n",
    "import logging\n",
    "\n",
    "# Setup paths\n",
    "PROJECT_ROOT = os.path.dirname(os.path.dirname(os.getcwd()))\n",
    "if PROJECT_ROOT not in sys.path:\n",
    "    sys.path.append(PROJECT_ROOT)\n",
    "\n",
    "# Setup directories\n",
    "MODEL_DIR = os.path.join(os.getcwd(), 'model')\n",
    "RESULTS_DIR = os.path.join(os.getcwd(), 'results')\n",
    "os.makedirs(MODEL_DIR, exist_ok=True)\n",
    "os.makedirs(RESULTS_DIR, exist_ok=True)\n",
    "\n",
    "# Imports\n",
    "from preprocessing.data_container import DataContainer\n",
    "from utils.evaluation import cindex_score\n",
    "from models.modelling_process import ModellingProcess\n",
    "from sksurv.ensemble import RandomSurvivalForest\n",
    "\n",
    "# Setup logging\n",
    "logging.basicConfig(\n",
    "    level=logging.INFO,\n",
    "    format='%(asctime)s - %(levelname)s - %(message)s'\n",
    ")\n",
    "logger = logging.getLogger(__name__)"
   ]
  },
  {
   "cell_type": "code",
   "execution_count": null,
   "metadata": {
    "ExecuteTime": {
     "end_time": "2024-11-15T13:29:05.588487Z",
     "start_time": "2024-11-15T13:29:05.570908Z"
    }
   },
   "outputs": [],
   "source": [
    "# Data configuration\n",
    "DATA_CONFIG = {\n",
    "    'use_pca': False,\n",
    "    'pca_threshold': 0.95,\n",
    "    'gene_type': 'intersection',\n",
    "    'use_imputed': True,\n",
    "    'use_cohorts': False\n",
    "}\n",
    "\n",
    "# Model configuration\n",
    "MODEL_CONFIG = {\n",
    "    'params_cv': {\n",
    "        'model__n_estimators': [1],\n",
    "        'model__min_samples_split': [10]\n",
    "    },\n",
    "    'refit': True, \n",
    "    'do_nested_resampling': True, \n",
    "    'path' : RESULTS_DIR, \n",
    "    'fname_cv' : 'results'}\n",
    "\n",
    "rsf_pipeline_steps = [('model', RandomSurvivalForest())]\n"
   ]
  },
  {
   "cell_type": "code",
   "execution_count": 3,
   "metadata": {
    "ExecuteTime": {
     "end_time": "2024-11-15T13:29:07.622939Z",
     "start_time": "2024-11-15T13:29:07.109250Z"
    }
   },
   "outputs": [],
   "source": [
    "mp = ModellingProcess()"
   ]
  },
  {
   "cell_type": "code",
   "execution_count": 4,
   "metadata": {
    "ExecuteTime": {
     "end_time": "2024-11-15T13:30:53.240561Z",
     "start_time": "2024-11-15T13:29:08.148854Z"
    }
   },
   "outputs": [
    {
     "name": "stderr",
     "output_type": "stream",
     "text": [
      "2024-11-22 12:40:12,394 - INFO - Loading data...\n",
      "2024-11-22 12:42:38,126 - INFO - Loaded data: 1091 samples, 13214 features\n"
     ]
    }
   ],
   "source": [
    "mp.prepare_data(DATA_CONFIG, PROJECT_ROOT)"
   ]
  },
  {
   "cell_type": "code",
   "execution_count": 5,
   "metadata": {
    "ExecuteTime": {
     "end_time": "2024-11-15T13:33:54.885247Z",
     "start_time": "2024-11-15T13:30:58.651163Z"
    }
   },
   "outputs": [
    {
     "name": "stderr",
     "output_type": "stream",
     "text": [
      "2024-11-22 12:42:51,771 - INFO - Start model training...\n",
      "2024-11-22 12:42:51,773 - INFO - Input data shape: X=(1091, 13214)\n",
      "2024-11-22 12:42:51,774 - INFO - Nested resampling...\n",
      "2024-11-22 12:42:51,779 - INFO - Starting nested resampling...\n",
      "2024-11-22 12:42:51,783 - INFO - Data shape: X=(1091, 13214), groups=9 unique\n",
      "2024-11-22 12:42:51,835 - INFO - \n",
      "Outer fold 1\n",
      "2024-11-22 12:42:51,916 - INFO - Test cohort: Atlanta_2014_Long\n"
     ]
    },
    {
     "name": "stdout",
     "output_type": "stream",
     "text": [
      "Fitting 8 folds for each of 1 candidates, totalling 8 fits\n"
     ]
    },
    {
     "name": "stderr",
     "output_type": "stream",
     "text": [
      "2024-11-22 12:43:20,640 - INFO - Best parameters: {'model__min_samples_split': 10, 'model__n_estimators': 1}\n",
      "2024-11-22 12:43:20,642 - INFO - Test score: 0.585\n",
      "2024-11-22 12:43:20,643 - INFO - \n",
      "Outer fold 2\n",
      "2024-11-22 12:43:20,695 - INFO - Test cohort: Belfast_2018_Jain\n"
     ]
    },
    {
     "name": "stdout",
     "output_type": "stream",
     "text": [
      "Fitting 8 folds for each of 1 candidates, totalling 8 fits\n"
     ]
    },
    {
     "name": "stderr",
     "output_type": "stream",
     "text": [
      "2024-11-22 12:43:35,006 - INFO - Best parameters: {'model__min_samples_split': 10, 'model__n_estimators': 1}\n",
      "2024-11-22 12:43:35,007 - INFO - Test score: 0.517\n",
      "2024-11-22 12:43:35,008 - INFO - \n",
      "Outer fold 3\n",
      "2024-11-22 12:43:35,058 - INFO - Test cohort: CPC_GENE_2017_Fraser\n"
     ]
    },
    {
     "name": "stdout",
     "output_type": "stream",
     "text": [
      "Fitting 8 folds for each of 1 candidates, totalling 8 fits\n"
     ]
    },
    {
     "name": "stderr",
     "output_type": "stream",
     "text": [
      "2024-11-22 12:43:54,097 - INFO - Best parameters: {'model__min_samples_split': 10, 'model__n_estimators': 1}\n",
      "2024-11-22 12:43:54,098 - INFO - Test score: 0.567\n",
      "2024-11-22 12:43:54,100 - INFO - \n",
      "Outer fold 4\n",
      "2024-11-22 12:43:54,157 - INFO - Test cohort: CPGEA_2020_Li\n"
     ]
    },
    {
     "name": "stdout",
     "output_type": "stream",
     "text": [
      "Fitting 8 folds for each of 1 candidates, totalling 8 fits\n"
     ]
    },
    {
     "name": "stderr",
     "output_type": "stream",
     "text": [
      "2024-11-22 12:44:10,512 - INFO - Best parameters: {'model__min_samples_split': 10, 'model__n_estimators': 1}\n",
      "2024-11-22 12:44:10,512 - INFO - Test score: 0.584\n",
      "2024-11-22 12:44:10,512 - INFO - \n",
      "Outer fold 5\n",
      "2024-11-22 12:44:10,567 - INFO - Test cohort: CamCap_2016_Ross_Adams\n"
     ]
    },
    {
     "name": "stdout",
     "output_type": "stream",
     "text": [
      "Fitting 8 folds for each of 1 candidates, totalling 8 fits\n"
     ]
    },
    {
     "name": "stderr",
     "output_type": "stream",
     "text": [
      "2024-11-22 12:44:25,797 - INFO - Best parameters: {'model__min_samples_split': 10, 'model__n_estimators': 1}\n",
      "2024-11-22 12:44:25,799 - INFO - Test score: 0.604\n",
      "2024-11-22 12:44:25,800 - INFO - \n",
      "Outer fold 6\n",
      "2024-11-22 12:44:25,862 - INFO - Test cohort: CancerMap_2017_Luca\n"
     ]
    },
    {
     "name": "stdout",
     "output_type": "stream",
     "text": [
      "Fitting 8 folds for each of 1 candidates, totalling 8 fits\n"
     ]
    },
    {
     "name": "stderr",
     "output_type": "stream",
     "text": [
      "2024-11-22 12:44:44,494 - INFO - Best parameters: {'model__min_samples_split': 10, 'model__n_estimators': 1}\n",
      "2024-11-22 12:44:44,494 - INFO - Test score: 0.562\n",
      "2024-11-22 12:44:44,494 - INFO - \n",
      "Outer fold 7\n",
      "2024-11-22 12:44:44,530 - INFO - Test cohort: DKFZ_2018_Gerhauser\n"
     ]
    },
    {
     "name": "stdout",
     "output_type": "stream",
     "text": [
      "Fitting 8 folds for each of 1 candidates, totalling 8 fits\n"
     ]
    },
    {
     "name": "stderr",
     "output_type": "stream",
     "text": [
      "2024-11-22 12:45:01,938 - INFO - Best parameters: {'model__min_samples_split': 10, 'model__n_estimators': 1}\n",
      "2024-11-22 12:45:01,939 - INFO - Test score: 0.703\n",
      "2024-11-22 12:45:01,939 - INFO - \n",
      "Outer fold 8\n",
      "2024-11-22 12:45:01,982 - INFO - Test cohort: MSKCC_2010_Taylor\n"
     ]
    },
    {
     "name": "stdout",
     "output_type": "stream",
     "text": [
      "Fitting 8 folds for each of 1 candidates, totalling 8 fits\n"
     ]
    },
    {
     "name": "stderr",
     "output_type": "stream",
     "text": [
      "2024-11-22 12:45:16,863 - INFO - Best parameters: {'model__min_samples_split': 10, 'model__n_estimators': 1}\n",
      "2024-11-22 12:45:16,863 - INFO - Test score: 0.630\n",
      "2024-11-22 12:45:16,863 - INFO - \n",
      "Outer fold 9\n",
      "2024-11-22 12:45:16,916 - INFO - Test cohort: Stockholm_2016_Ross_Adams\n"
     ]
    },
    {
     "name": "stdout",
     "output_type": "stream",
     "text": [
      "Fitting 8 folds for each of 1 candidates, totalling 8 fits\n"
     ]
    },
    {
     "name": "stderr",
     "output_type": "stream",
     "text": [
      "2024-11-22 12:45:30,803 - INFO - Best parameters: {'model__min_samples_split': 10, 'model__n_estimators': 1}\n",
      "2024-11-22 12:45:30,803 - INFO - Test score: 0.568\n",
      "2024-11-22 12:45:30,803 - INFO - Aggregated results:\n",
      "2024-11-22 12:45:30,803 - INFO - Mean score: 0.591 ± 0.049\n",
      "2024-11-22 12:45:30,803 - INFO - Individual scores: [np.float64(0.5852601156069365), np.float64(0.516864679822795), np.float64(0.5665280665280665), np.float64(0.5837343599615015), np.float64(0.6035182679296346), np.float64(0.5618501732871234), np.float64(0.7034109816971714), np.float64(0.6298524844720497), np.float64(0.5678366520418495)]\n",
      "2024-11-22 12:45:30,815 - WARNING - Won't save any model, since its not provided\n",
      "2024-11-22 12:45:30,866 - INFO - Saved CV results to c:\\Users\\laeti\\PCaPrognostics\\models\\rsf\\results\\results\\results_cv_cv_results.csv\n",
      "2024-11-22 12:45:30,866 - WARNING - Won't save any pipe, since its not provided\n",
      "2024-11-22 12:45:30,882 - INFO - Do HP Tuning for complete model; refit + set complete model\n",
      "2024-11-22 12:45:30,882 - INFO - Do HP Tuning for complete model\n"
     ]
    },
    {
     "name": "stdout",
     "output_type": "stream",
     "text": [
      "Fitting 9 folds for each of 1 candidates, totalling 9 fits\n"
     ]
    }
   ],
   "source": [
    "nstd_res_result = mp.do_modelling(rsf_pipeline_steps, MODEL_CONFIG)"
   ]
  },
  {
   "cell_type": "code",
   "execution_count": null,
   "metadata": {},
   "outputs": [],
   "source": [
    "# Save nested resampling result and retrained model (TODO: Add this to modelling process)"
   ]
  }
 ],
 "metadata": {
  "kernelspec": {
   "display_name": ".venv",
   "language": "python",
   "name": "python3"
  },
  "language_info": {
   "codemirror_mode": {
    "name": "ipython",
    "version": 3
   },
   "file_extension": ".py",
   "mimetype": "text/x-python",
   "name": "python",
   "nbconvert_exporter": "python",
   "pygments_lexer": "ipython3",
   "version": "3.12.0"
  }
 },
 "nbformat": 4,
 "nbformat_minor": 2
}
