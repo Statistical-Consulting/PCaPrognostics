{
 "cells": [
  {
   "metadata": {},
   "cell_type": "markdown",
   "source": [
    "## Random Survival Forest Training\n",
    " Dieses Notebook demonstriert das Training eines Random Survival Forest Models mit verschiedenen Optionen:\n",
    "- Verschiedene Input-Typen (Kohorten, merged data)\n",
    "- Mit/ohne PCA\n",
    "- Grid/Random Search\n",
    "- Verschiedene Cross-Validation Strategien\n"
   ],
   "id": "69b9662e4b726f4d"
  },
  {
   "metadata": {
    "ExecuteTime": {
     "end_time": "2024-11-10T05:37:58.109413Z",
     "start_time": "2024-11-10T05:37:58.075438Z"
    }
   },
   "cell_type": "code",
   "source": [
    "import os\n",
    "import sys\n",
    "import pandas as pd\n",
    "import numpy as np\n",
    "from pathlib import Path\n",
    "from sklearn.preprocessing import StandardScaler\n",
    "from sksurv.ensemble import RandomSurvivalForest\n",
    "import logging"
   ],
   "id": "9e10fa1450125951",
   "outputs": [],
   "execution_count": 6
  },
  {
   "metadata": {
    "ExecuteTime": {
     "end_time": "2024-11-10T05:37:59.565527Z",
     "start_time": "2024-11-10T05:37:59.553694Z"
    }
   },
   "cell_type": "code",
   "source": [
    "# Get absolute path to project root\n",
    "def find_project_root(current_path, marker_file='requirements.txt'):\n",
    "    current = Path(current_path).resolve()\n",
    "    while current != current.parent:\n",
    "        if (current / marker_file).exists():\n",
    "            return str(current)\n",
    "        current = current.parent\n",
    "    raise FileNotFoundError(f\"Could not find project root with marker file {marker_file}\")\n",
    "\n",
    "try:\n",
    "    PROJECT_ROOT = find_project_root(os.getcwd())\n",
    "except FileNotFoundError:\n",
    "    PROJECT_ROOT = os.path.dirname(os.path.dirname(os.getcwd()))\n",
    "    print(\"Warning: Could not find project root automatically.\")\n",
    "\n",
    "if PROJECT_ROOT not in sys.path:\n",
    "    sys.path.append(PROJECT_ROOT)\n",
    "\n",
    "# Setup directories\n",
    "MODEL_DIR = os.path.join(os.getcwd(), 'model')\n",
    "RESULTS_DIR = os.path.join(os.getcwd(), 'results')\n",
    "os.makedirs(MODEL_DIR, exist_ok=True)\n",
    "os.makedirs(RESULTS_DIR, exist_ok=True)\n",
    "\n"
   ],
   "id": "18609ce9f2f8af60",
   "outputs": [
    {
     "name": "stdout",
     "output_type": "stream",
     "text": [
      "Warning: Could not find project root automatically.\n"
     ]
    }
   ],
   "execution_count": 7
  },
  {
   "metadata": {
    "ExecuteTime": {
     "end_time": "2024-11-10T05:38:01.393824Z",
     "start_time": "2024-11-10T05:38:01.386943Z"
    }
   },
   "cell_type": "code",
   "source": [
    "from preprocessing.data_loader import DataLoader\n",
    "from preprocessing.dimension_reduction import PCADimensionReduction\n",
    "from models.rsf_model import RSFModel\n",
    "from utils.evaluation import cindex_score\n",
    "from utils.visualization import plot_survival_curves, plot_cv_results"
   ],
   "id": "fcc0e482792106b5",
   "outputs": [],
   "execution_count": 8
  },
  {
   "metadata": {},
   "cell_type": "markdown",
   "source": "## Setup und Konfiguration",
   "id": "5a728b33de05a6b0"
  },
  {
   "metadata": {
    "ExecuteTime": {
     "end_time": "2024-11-10T05:39:49.082438Z",
     "start_time": "2024-11-10T05:38:02.838263Z"
    }
   },
   "cell_type": "code",
   "source": [
    "\n",
    "\n",
    "# Setup logging\n",
    "logging.basicConfig(\n",
    "    level=logging.INFO,\n",
    "    format='%(asctime)s - %(levelname)s - %(message)s'\n",
    ")\n",
    "logger = logging.getLogger(__name__)\n",
    "\n",
    "# Configuration\n",
    "CONFIG = {\n",
    "    # Data options\n",
    "    'USE_COHORTS': True,         # True für kohortenweise CV\n",
    "    'USE_PCA': False,            # True für PCA Dimensionsreduktion\n",
    "    'GENE_TYPE': 'intersection', # 'intersection', 'common_genes', oder 'all_genes'\n",
    "    'USE_IMPUTED': True,        # True für imputierte Daten\n",
    "    \n",
    "    # CV options\n",
    "    'USE_COHORT_CV_INNER': True, # True für kohortenweise innere CV\n",
    "    'N_SPLITS_INNER': 5,        # Anzahl Inner CV Splits wenn nicht kohortenbasiert\n",
    "    'USE_PARALLEL': True,       # Parallel Processing\n",
    "    \n",
    "    # RSF parameters\n",
    "    'N_ESTIMATORS': [10, 20],\n",
    "    'MAX_DEPTH': [3, 5],\n",
    "    'MIN_SAMPLES_SPLIT': [5, 10],\n",
    "    'MIN_SAMPLES_LEAF': [3, 5]\n",
    "}\n",
    "\n",
    "# Save configuration\n",
    "pd.Series(CONFIG).to_csv(os.path.join(RESULTS_DIR, 'config.csv'))\n",
    "logger.info(f\"Saved configuration to {os.path.join(RESULTS_DIR, 'config.csv')}\")\n",
    "\n",
    "# Initialize data loader\n",
    "logger.info(\"Initializing data loader...\")\n",
    "loader = DataLoader(PROJECT_ROOT)\n",
    "\n",
    "# Load and prepare data\n",
    "try:\n",
    "    logger.info(\"Loading data...\")\n",
    "    # Load merged data\n",
    "    X, pdata = loader.get_merged_data(\n",
    "        gene_type=CONFIG['GENE_TYPE'],\n",
    "        use_imputed=CONFIG['USE_IMPUTED']\n",
    "    )\n",
    "    \n",
    "    logger.info(\"Preparing survival data...\")\n",
    "    # Prepare survival data\n",
    "    y = loader.prepare_survival_data(pdata)\n",
    "    \n",
    "    # Setup groups if using cohorts\n",
    "    if CONFIG['USE_COHORTS']:\n",
    "        groups = np.array([idx.split('.')[0] for idx in X.index])\n",
    "    else:\n",
    "        groups = None\n",
    "    \n",
    "    # Print data info\n",
    "    logger.info(\"\\nData shapes:\")\n",
    "    logger.info(f\"X: {X.shape}\")\n",
    "    logger.info(f\"y: {y.shape}\")\n",
    "    logger.info(f\"y dtype: {y.dtype}\")\n",
    "    \n",
    "    # Validate survival data\n",
    "    logger.info(\"\\nSurvival data validation:\")\n",
    "    logger.info(f\"Field names: {y.dtype.names}\")\n",
    "    logger.info(f\"Event field: {'status' if 'status' in y.dtype.names else 'event'}\")\n",
    "    logger.info(f\"Number of events: {y['status' if 'status' in y.dtype.names else 'event'].sum()}\")\n",
    "    logger.info(f\"Time range: [{y['time'].min():.1f}, {y['time'].max():.1f}]\")\n",
    "    \n",
    "    if CONFIG['USE_COHORTS']:\n",
    "        logger.info(\"\\nCohort distribution:\")\n",
    "        logger.info(pd.Series(groups).value_counts())\n",
    "\n",
    "except Exception as e:\n",
    "    logger.error(f\"Error loading/preparing data: {str(e)}\")\n",
    "    raise\n",
    "\n",
    "# Optional PCA\n",
    "if CONFIG['USE_PCA']:\n",
    "    logger.info(\"\\nPerforming PCA...\")\n",
    "    pca = PCADimensionReduction(variance_threshold=0.95)\n",
    "    X = pca.fit_transform(X)\n",
    "    pca.save(os.path.join(MODEL_DIR, 'pca_transform.pkl'))\n",
    "    logger.info(f\"Reduced dimensions from {X.shape[1]} to {pca.n_components} components\")\n",
    "    logger.info(f\"Explained variance ratio: {pca.explained_variance_ratio_.sum():.3f}\")\n",
    "\n",
    "# Setup pipeline and parameter grid\n",
    "logger.info(\"\\nSetting up model pipeline...\")\n",
    "base_rsf = RandomSurvivalForest(\n",
    "    n_estimators=10,\n",
    "    random_state=42\n",
    ")\n",
    "\n",
    "pipeline_steps = [\n",
    "    ('scaler', StandardScaler()),\n",
    "    ('rsf', base_rsf)\n",
    "]\n",
    "\n",
    "# Correct format for sklearn GridSearchCV\n",
    "param_grid = {\n",
    "    'rsf__n_estimators': CONFIG['N_ESTIMATORS'],\n",
    "    'rsf__max_depth': CONFIG['MAX_DEPTH'],\n",
    "    'rsf__min_samples_split': CONFIG['MIN_SAMPLES_SPLIT'],\n",
    "    'rsf__min_samples_leaf': CONFIG['MIN_SAMPLES_LEAF']\n",
    "}\n",
    "\n",
    "# Validate param_grid format\n",
    "if not isinstance(param_grid, dict):\n",
    "    raise ValueError(\"param_grid must be a dictionary\")\n",
    "for param_name, param_values in param_grid.items():\n",
    "    if not isinstance(param_values, (list, tuple, np.ndarray)):\n",
    "        raise ValueError(f\"Values for parameter {param_name} must be a list\")\n",
    "\n",
    "logger.info(\"\\nParameter grid:\")\n",
    "for param, values in param_grid.items():\n",
    "    logger.info(f\"{param}: {values}\")\n",
    "logger.info(f\"Total combinations: {np.prod([len(v) for v in param_grid.values()])}\")\n",
    "\n",
    "# Initialize and train model\n",
    "logger.info(\"\\nTraining model...\")\n",
    "rsf = RSFModel()\n"
   ],
   "id": "d685a34fa2fbd186",
   "outputs": [
    {
     "name": "stderr",
     "output_type": "stream",
     "text": [
      "2024-11-10 06:38:02,872 - INFO - Saved configuration to /Users/jonasschernich/Library/Mobile Documents/com~apple~CloudDocs/Uni/Master/9. Semester/Consulting/Organization/PCaPrognostics/models/rsf/results/config.csv\n",
      "2024-11-10 06:38:02,875 - INFO - Initializing data loader...\n",
      "2024-11-10 06:39:46,600 - INFO - Loading data...\n",
      "2024-11-10 06:39:48,992 - INFO - Preparing survival data...\n",
      "2024-11-10 06:39:49,019 - INFO - \n",
      "Data shapes:\n",
      "2024-11-10 06:39:49,020 - INFO - X: (1091, 13214)\n",
      "2024-11-10 06:39:49,020 - INFO - y: (1091,)\n",
      "2024-11-10 06:39:49,021 - INFO - y dtype: [('status', '?'), ('time', '<f8')]\n",
      "2024-11-10 06:39:49,022 - INFO - \n",
      "Survival data validation:\n",
      "2024-11-10 06:39:49,024 - INFO - Field names: ('status', 'time')\n",
      "2024-11-10 06:39:49,025 - INFO - Event field: status\n",
      "2024-11-10 06:39:49,026 - INFO - Number of events: 559\n",
      "2024-11-10 06:39:49,027 - INFO - Time range: [0.0, 120.0]\n",
      "2024-11-10 06:39:49,028 - INFO - \n",
      "Cohort distribution:\n",
      "2024-11-10 06:39:49,036 - INFO - Belfast_2018_Jain            248\n",
      "CancerMap_2017_Luca          133\n",
      "MSKCC_2010_Taylor            131\n",
      "CPGEA_2020_Li                120\n",
      "CamCap_2016_Ross_Adams       112\n",
      "Atlanta_2014_Long            100\n",
      "Stockholm_2016_Ross_Adams     92\n",
      "DKFZ_2018_Gerhauser           82\n",
      "CPC_GENE_2017_Fraser          73\n",
      "Name: count, dtype: int64\n",
      "2024-11-10 06:39:49,042 - INFO - \n",
      "Setting up model pipeline...\n",
      "2024-11-10 06:39:49,047 - INFO - \n",
      "Parameter grid:\n",
      "2024-11-10 06:39:49,048 - INFO - rsf__n_estimators: [10, 20]\n",
      "2024-11-10 06:39:49,048 - INFO - rsf__max_depth: [3, 5]\n",
      "2024-11-10 06:39:49,049 - INFO - rsf__min_samples_split: [5, 10]\n",
      "2024-11-10 06:39:49,049 - INFO - rsf__min_samples_leaf: [3, 5]\n",
      "2024-11-10 06:39:49,049 - INFO - Total combinations: 16\n",
      "2024-11-10 06:39:49,050 - INFO - \n",
      "Training model...\n"
     ]
    }
   ],
   "execution_count": 9
  },
  {
   "metadata": {
    "ExecuteTime": {
     "end_time": "2024-11-10T05:42:26.562026Z",
     "start_time": "2024-11-10T05:40:18.339818Z"
    }
   },
   "cell_type": "code",
   "source": [
    "try:\n",
    "    rsf.fit_model(\n",
    "        X=X,\n",
    "        y=y,\n",
    "        groups=groups,\n",
    "        fname='rsf_results',\n",
    "        path=RESULTS_DIR,\n",
    "        pipeline_steps=pipeline_steps,\n",
    "        params_cv=param_grid,\n",
    "        use_cohort_cv=CONFIG['USE_COHORT_CV_INNER'],\n",
    "        n_splits_inner=CONFIG['N_SPLITS_INNER'],\n",
    "        parallel=CONFIG['USE_PARALLEL'],\n",
    "        refit=True\n",
    "    )\n",
    "    logger.info(\"Model training completed successfully.\")\n",
    "\n",
    "except Exception as e:\n",
    "    logger.error(f\"\\nError during model training: {str(e)}\")\n",
    "    raise\n",
    "\n",
    "# Print training results\n",
    "if hasattr(rsf, 'cv_results_'):\n",
    "    logger.info(\"\\nTraining Results:\")\n",
    "    logger.info(f\"Mean CV Score: {rsf.cv_results_['mean_score']:.3f} ± {rsf.cv_results_['std_score']:.3f}\")\n",
    "    if 'best_params' in rsf.cv_results_:\n",
    "        logger.info(\"\\nBest Parameters:\")\n",
    "        for param, value in rsf.cv_results_['best_params'].items():\n",
    "            logger.info(f\"{param}: {value}\")\n",
    "\n",
    "logger.info(\"\\nTraining completed!\")\n"
   ],
   "id": "e92889caafb28d42",
   "outputs": [
    {
     "name": "stderr",
     "output_type": "stream",
     "text": [
      "2024-11-10 06:40:18,345 - INFO - Starting nested cross-validation...\n",
      "2024-11-10 06:40:18,349 - INFO - Data shape: X=(1091, 13214), groups=9 unique\n",
      "2024-11-10 06:40:18,353 - INFO - \n",
      "Outer fold 1\n",
      "2024-11-10 06:40:18,435 - INFO - Test cohort: Atlanta_2014_Long\n",
      "2024-11-10 06:40:18,436 - INFO - Starting inner grid search with 16 parameter combinations\n",
      "2024-11-10 06:41:30,466 - INFO - New best score: 0.504 with params: {'max_depth': 3, 'min_samples_leaf': 3, 'min_samples_split': 5, 'n_estimators': 10}\n"
     ]
    },
    {
     "ename": "KeyboardInterrupt",
     "evalue": "",
     "output_type": "error",
     "traceback": [
      "\u001B[0;31m---------------------------------------------------------------------------\u001B[0m",
      "\u001B[0;31mKeyboardInterrupt\u001B[0m                         Traceback (most recent call last)",
      "Cell \u001B[0;32mIn[10], line 2\u001B[0m\n\u001B[1;32m      1\u001B[0m \u001B[38;5;28;01mtry\u001B[39;00m:\n\u001B[0;32m----> 2\u001B[0m     \u001B[43mrsf\u001B[49m\u001B[38;5;241;43m.\u001B[39;49m\u001B[43mfit_model\u001B[49m\u001B[43m(\u001B[49m\n\u001B[1;32m      3\u001B[0m \u001B[43m        \u001B[49m\u001B[43mX\u001B[49m\u001B[38;5;241;43m=\u001B[39;49m\u001B[43mX\u001B[49m\u001B[43m,\u001B[49m\n\u001B[1;32m      4\u001B[0m \u001B[43m        \u001B[49m\u001B[43my\u001B[49m\u001B[38;5;241;43m=\u001B[39;49m\u001B[43my\u001B[49m\u001B[43m,\u001B[49m\n\u001B[1;32m      5\u001B[0m \u001B[43m        \u001B[49m\u001B[43mgroups\u001B[49m\u001B[38;5;241;43m=\u001B[39;49m\u001B[43mgroups\u001B[49m\u001B[43m,\u001B[49m\n\u001B[1;32m      6\u001B[0m \u001B[43m        \u001B[49m\u001B[43mfname\u001B[49m\u001B[38;5;241;43m=\u001B[39;49m\u001B[38;5;124;43m'\u001B[39;49m\u001B[38;5;124;43mrsf_results\u001B[39;49m\u001B[38;5;124;43m'\u001B[39;49m\u001B[43m,\u001B[49m\n\u001B[1;32m      7\u001B[0m \u001B[43m        \u001B[49m\u001B[43mpath\u001B[49m\u001B[38;5;241;43m=\u001B[39;49m\u001B[43mRESULTS_DIR\u001B[49m\u001B[43m,\u001B[49m\n\u001B[1;32m      8\u001B[0m \u001B[43m        \u001B[49m\u001B[43mpipeline_steps\u001B[49m\u001B[38;5;241;43m=\u001B[39;49m\u001B[43mpipeline_steps\u001B[49m\u001B[43m,\u001B[49m\n\u001B[1;32m      9\u001B[0m \u001B[43m        \u001B[49m\u001B[43mparams_cv\u001B[49m\u001B[38;5;241;43m=\u001B[39;49m\u001B[43mparam_grid\u001B[49m\u001B[43m,\u001B[49m\n\u001B[1;32m     10\u001B[0m \u001B[43m        \u001B[49m\u001B[43muse_cohort_cv\u001B[49m\u001B[38;5;241;43m=\u001B[39;49m\u001B[43mCONFIG\u001B[49m\u001B[43m[\u001B[49m\u001B[38;5;124;43m'\u001B[39;49m\u001B[38;5;124;43mUSE_COHORT_CV_INNER\u001B[39;49m\u001B[38;5;124;43m'\u001B[39;49m\u001B[43m]\u001B[49m\u001B[43m,\u001B[49m\n\u001B[1;32m     11\u001B[0m \u001B[43m        \u001B[49m\u001B[43mn_splits_inner\u001B[49m\u001B[38;5;241;43m=\u001B[39;49m\u001B[43mCONFIG\u001B[49m\u001B[43m[\u001B[49m\u001B[38;5;124;43m'\u001B[39;49m\u001B[38;5;124;43mN_SPLITS_INNER\u001B[39;49m\u001B[38;5;124;43m'\u001B[39;49m\u001B[43m]\u001B[49m\u001B[43m,\u001B[49m\n\u001B[1;32m     12\u001B[0m \u001B[43m        \u001B[49m\u001B[43mparallel\u001B[49m\u001B[38;5;241;43m=\u001B[39;49m\u001B[43mCONFIG\u001B[49m\u001B[43m[\u001B[49m\u001B[38;5;124;43m'\u001B[39;49m\u001B[38;5;124;43mUSE_PARALLEL\u001B[39;49m\u001B[38;5;124;43m'\u001B[39;49m\u001B[43m]\u001B[49m\u001B[43m,\u001B[49m\n\u001B[1;32m     13\u001B[0m \u001B[43m        \u001B[49m\u001B[43mrefit\u001B[49m\u001B[38;5;241;43m=\u001B[39;49m\u001B[38;5;28;43;01mTrue\u001B[39;49;00m\n\u001B[1;32m     14\u001B[0m \u001B[43m    \u001B[49m\u001B[43m)\u001B[49m\n\u001B[1;32m     15\u001B[0m     logger\u001B[38;5;241m.\u001B[39minfo(\u001B[38;5;124m\"\u001B[39m\u001B[38;5;124mModel training completed successfully.\u001B[39m\u001B[38;5;124m\"\u001B[39m)\n\u001B[1;32m     17\u001B[0m \u001B[38;5;28;01mexcept\u001B[39;00m \u001B[38;5;167;01mException\u001B[39;00m \u001B[38;5;28;01mas\u001B[39;00m e:\n",
      "File \u001B[0;32m~/Library/Mobile Documents/com~apple~CloudDocs/Uni/Master/9. Semester/Consulting/Organization/PCaPrognostics/models/base_model.py:91\u001B[0m, in \u001B[0;36mfit_model\u001B[0;34m(self, X, y, groups, fname, path, pipeline_steps, params_cv, use_cohort_cv, n_splits_inner, random_search, n_iter, early_stopping, patience, parallel, refit)\u001B[0m\n\u001B[1;32m     88\u001B[0m         self.model = pipe.named_steps['rsf']\n\u001B[1;32m     89\u001B[0m         self.is_fitted = True\n\u001B[0;32m---> 91\u001B[0m else:\n\u001B[1;32m     92\u001B[0m     # Direktes Training (DeepSurv)\n\u001B[1;32m     93\u001B[0m     self.model = self._fit_direct(\n\u001B[1;32m     94\u001B[0m         X=X,\n\u001B[1;32m     95\u001B[0m         y=y,\n\u001B[0;32m   (...)\u001B[0m\n\u001B[1;32m    100\u001B[0m         **model_specific_params\n\u001B[1;32m    101\u001B[0m     )\n\u001B[1;32m    102\u001B[0m     self.is_fitted = True\n",
      "File \u001B[0;32m~/Library/Mobile Documents/com~apple~CloudDocs/Uni/Master/9. Semester/Consulting/Organization/PCaPrognostics/utils/resampling.py:215\u001B[0m, in \u001B[0;36mNestedResamplingCV.fit\u001B[0;34m(self, estimator, X, y, groups, param_grid, scoring)\u001B[0m\n\u001B[1;32m    208\u001B[0m     inner_cv \u001B[38;5;241m=\u001B[39m KFold(\n\u001B[1;32m    209\u001B[0m         n_splits\u001B[38;5;241m=\u001B[39m\u001B[38;5;28mself\u001B[39m\u001B[38;5;241m.\u001B[39mn_splits_inner,\n\u001B[1;32m    210\u001B[0m         shuffle\u001B[38;5;241m=\u001B[39m\u001B[38;5;28;01mTrue\u001B[39;00m,\n\u001B[1;32m    211\u001B[0m         random_state\u001B[38;5;241m=\u001B[39m\u001B[38;5;28mself\u001B[39m\u001B[38;5;241m.\u001B[39mrandom_state\n\u001B[1;32m    212\u001B[0m     )\n\u001B[1;32m    214\u001B[0m \u001B[38;5;66;03m# Grid Search auf Training Daten\u001B[39;00m\n\u001B[0;32m--> 215\u001B[0m inner_cv_results \u001B[38;5;241m=\u001B[39m \u001B[38;5;28;43mself\u001B[39;49m\u001B[38;5;241;43m.\u001B[39;49m\u001B[43m_inner_grid_search\u001B[49m\u001B[43m(\u001B[49m\n\u001B[1;32m    216\u001B[0m \u001B[43m    \u001B[49m\u001B[43mestimator\u001B[49m\u001B[38;5;241;43m=\u001B[39;49m\u001B[43mestimator\u001B[49m\u001B[43m,\u001B[49m\n\u001B[1;32m    217\u001B[0m \u001B[43m    \u001B[49m\u001B[43mX\u001B[49m\u001B[38;5;241;43m=\u001B[39;49m\u001B[43mX_train\u001B[49m\u001B[43m,\u001B[49m\n\u001B[1;32m    218\u001B[0m \u001B[43m    \u001B[49m\u001B[43my\u001B[49m\u001B[38;5;241;43m=\u001B[39;49m\u001B[43my_train\u001B[49m\u001B[43m,\u001B[49m\n\u001B[1;32m    219\u001B[0m \u001B[43m    \u001B[49m\u001B[43mgroups\u001B[49m\u001B[38;5;241;43m=\u001B[39;49m\u001B[43mtrain_groups\u001B[49m\u001B[43m,\u001B[49m\n\u001B[1;32m    220\u001B[0m \u001B[43m    \u001B[49m\u001B[43mparam_grid\u001B[49m\u001B[38;5;241;43m=\u001B[39;49m\u001B[43mparam_grid\u001B[49m\u001B[43m,\u001B[49m\n\u001B[1;32m    221\u001B[0m \u001B[43m    \u001B[49m\u001B[43minner_cv\u001B[49m\u001B[38;5;241;43m=\u001B[39;49m\u001B[43minner_cv\u001B[49m\u001B[43m,\u001B[49m\n\u001B[1;32m    222\u001B[0m \u001B[43m    \u001B[49m\u001B[43mscoring\u001B[49m\u001B[38;5;241;43m=\u001B[39;49m\u001B[43mscoring\u001B[49m\n\u001B[1;32m    223\u001B[0m \u001B[43m\u001B[49m\u001B[43m)\u001B[49m\n\u001B[1;32m    225\u001B[0m \u001B[38;5;66;03m# Beste Parameter auf Test-Kohorte evaluieren\u001B[39;00m\n\u001B[1;32m    226\u001B[0m test_score \u001B[38;5;241m=\u001B[39m \u001B[38;5;28mself\u001B[39m\u001B[38;5;241m.\u001B[39m_evaluate_best_model(\n\u001B[1;32m    227\u001B[0m     best_model\u001B[38;5;241m=\u001B[39minner_cv_results[\u001B[38;5;124m'\u001B[39m\u001B[38;5;124mbest_model\u001B[39m\u001B[38;5;124m'\u001B[39m],\n\u001B[1;32m    228\u001B[0m     X_test\u001B[38;5;241m=\u001B[39mX_test,\n\u001B[1;32m    229\u001B[0m     y_test\u001B[38;5;241m=\u001B[39my_test,\n\u001B[1;32m    230\u001B[0m     scoring\u001B[38;5;241m=\u001B[39mscoring\n\u001B[1;32m    231\u001B[0m )\n",
      "File \u001B[0;32m~/Library/Mobile Documents/com~apple~CloudDocs/Uni/Master/9. Semester/Consulting/Organization/PCaPrognostics/utils/resampling.py:95\u001B[0m, in \u001B[0;36mNestedResamplingCV._inner_grid_search\u001B[0;34m(self, estimator, X, y, groups, param_grid, inner_cv, scoring)\u001B[0m\n\u001B[1;32m     92\u001B[0m     est\u001B[38;5;241m.\u001B[39mset_params(\u001B[38;5;241m*\u001B[39m\u001B[38;5;241m*\u001B[39mparams)\n\u001B[1;32m     94\u001B[0m \u001B[38;5;66;03m# Fit und evaluate\u001B[39;00m\n\u001B[0;32m---> 95\u001B[0m \u001B[43mest\u001B[49m\u001B[38;5;241;43m.\u001B[39;49m\u001B[43mfit\u001B[49m\u001B[43m(\u001B[49m\u001B[43mX_inner_train\u001B[49m\u001B[43m,\u001B[49m\u001B[43m \u001B[49m\u001B[43my_inner_train\u001B[49m\u001B[43m)\u001B[49m\n\u001B[1;32m     96\u001B[0m pred \u001B[38;5;241m=\u001B[39m est\u001B[38;5;241m.\u001B[39mpredict(X_val)\n\u001B[1;32m     97\u001B[0m score \u001B[38;5;241m=\u001B[39m scoring(y_val, pred)\n",
      "File \u001B[0;32m~/Library/Mobile Documents/com~apple~CloudDocs/Finanzen/Lev Strategy/StatisticalConsulting/.venv/lib/python3.11/site-packages/sklearn/base.py:1473\u001B[0m, in \u001B[0;36m_fit_context.<locals>.decorator.<locals>.wrapper\u001B[0;34m(estimator, *args, **kwargs)\u001B[0m\n\u001B[1;32m   1466\u001B[0m     estimator\u001B[38;5;241m.\u001B[39m_validate_params()\n\u001B[1;32m   1468\u001B[0m \u001B[38;5;28;01mwith\u001B[39;00m config_context(\n\u001B[1;32m   1469\u001B[0m     skip_parameter_validation\u001B[38;5;241m=\u001B[39m(\n\u001B[1;32m   1470\u001B[0m         prefer_skip_nested_validation \u001B[38;5;129;01mor\u001B[39;00m global_skip_validation\n\u001B[1;32m   1471\u001B[0m     )\n\u001B[1;32m   1472\u001B[0m ):\n\u001B[0;32m-> 1473\u001B[0m     \u001B[38;5;28;01mreturn\u001B[39;00m \u001B[43mfit_method\u001B[49m\u001B[43m(\u001B[49m\u001B[43mestimator\u001B[49m\u001B[43m,\u001B[49m\u001B[43m \u001B[49m\u001B[38;5;241;43m*\u001B[39;49m\u001B[43margs\u001B[49m\u001B[43m,\u001B[49m\u001B[43m \u001B[49m\u001B[38;5;241;43m*\u001B[39;49m\u001B[38;5;241;43m*\u001B[39;49m\u001B[43mkwargs\u001B[49m\u001B[43m)\u001B[49m\n",
      "File \u001B[0;32m~/Library/Mobile Documents/com~apple~CloudDocs/Finanzen/Lev Strategy/StatisticalConsulting/.venv/lib/python3.11/site-packages/sklearn/pipeline.py:473\u001B[0m, in \u001B[0;36mPipeline.fit\u001B[0;34m(self, X, y, **params)\u001B[0m\n\u001B[1;32m    471\u001B[0m     \u001B[38;5;28;01mif\u001B[39;00m \u001B[38;5;28mself\u001B[39m\u001B[38;5;241m.\u001B[39m_final_estimator \u001B[38;5;241m!=\u001B[39m \u001B[38;5;124m\"\u001B[39m\u001B[38;5;124mpassthrough\u001B[39m\u001B[38;5;124m\"\u001B[39m:\n\u001B[1;32m    472\u001B[0m         last_step_params \u001B[38;5;241m=\u001B[39m routed_params[\u001B[38;5;28mself\u001B[39m\u001B[38;5;241m.\u001B[39msteps[\u001B[38;5;241m-\u001B[39m\u001B[38;5;241m1\u001B[39m][\u001B[38;5;241m0\u001B[39m]]\n\u001B[0;32m--> 473\u001B[0m         \u001B[38;5;28;43mself\u001B[39;49m\u001B[38;5;241;43m.\u001B[39;49m\u001B[43m_final_estimator\u001B[49m\u001B[38;5;241;43m.\u001B[39;49m\u001B[43mfit\u001B[49m\u001B[43m(\u001B[49m\u001B[43mXt\u001B[49m\u001B[43m,\u001B[49m\u001B[43m \u001B[49m\u001B[43my\u001B[49m\u001B[43m,\u001B[49m\u001B[43m \u001B[49m\u001B[38;5;241;43m*\u001B[39;49m\u001B[38;5;241;43m*\u001B[39;49m\u001B[43mlast_step_params\u001B[49m\u001B[43m[\u001B[49m\u001B[38;5;124;43m\"\u001B[39;49m\u001B[38;5;124;43mfit\u001B[39;49m\u001B[38;5;124;43m\"\u001B[39;49m\u001B[43m]\u001B[49m\u001B[43m)\u001B[49m\n\u001B[1;32m    475\u001B[0m \u001B[38;5;28;01mreturn\u001B[39;00m \u001B[38;5;28mself\u001B[39m\n",
      "File \u001B[0;32m~/Library/Mobile Documents/com~apple~CloudDocs/Finanzen/Lev Strategy/StatisticalConsulting/.venv/lib/python3.11/site-packages/sksurv/ensemble/forest.py:171\u001B[0m, in \u001B[0;36m_BaseSurvivalForest.fit\u001B[0;34m(self, X, y, sample_weight)\u001B[0m\n\u001B[1;32m    160\u001B[0m y_tree \u001B[38;5;241m=\u001B[39m (\n\u001B[1;32m    161\u001B[0m     y_numeric,\n\u001B[1;32m    162\u001B[0m     \u001B[38;5;28mself\u001B[39m\u001B[38;5;241m.\u001B[39munique_times_,\n\u001B[1;32m    163\u001B[0m     \u001B[38;5;28mself\u001B[39m\u001B[38;5;241m.\u001B[39mis_event_time_,\n\u001B[1;32m    164\u001B[0m )\n\u001B[1;32m    165\u001B[0m \u001B[38;5;66;03m# Parallel loop: we prefer the threading backend as the Cython code\u001B[39;00m\n\u001B[1;32m    166\u001B[0m \u001B[38;5;66;03m# for fitting the trees is internally releasing the Python GIL\u001B[39;00m\n\u001B[1;32m    167\u001B[0m \u001B[38;5;66;03m# making threading more efficient than multiprocessing in\u001B[39;00m\n\u001B[1;32m    168\u001B[0m \u001B[38;5;66;03m# that case. However, for joblib 0.12+ we respect any\u001B[39;00m\n\u001B[1;32m    169\u001B[0m \u001B[38;5;66;03m# parallel_backend contexts set at a higher level,\u001B[39;00m\n\u001B[1;32m    170\u001B[0m \u001B[38;5;66;03m# since correctness does not rely on using threads.\u001B[39;00m\n\u001B[0;32m--> 171\u001B[0m trees \u001B[38;5;241m=\u001B[39m \u001B[43mParallel\u001B[49m\u001B[43m(\u001B[49m\u001B[43mn_jobs\u001B[49m\u001B[38;5;241;43m=\u001B[39;49m\u001B[38;5;28;43mself\u001B[39;49m\u001B[38;5;241;43m.\u001B[39;49m\u001B[43mn_jobs\u001B[49m\u001B[43m,\u001B[49m\u001B[43m \u001B[49m\u001B[43mverbose\u001B[49m\u001B[38;5;241;43m=\u001B[39;49m\u001B[38;5;28;43mself\u001B[39;49m\u001B[38;5;241;43m.\u001B[39;49m\u001B[43mverbose\u001B[49m\u001B[43m,\u001B[49m\u001B[43m \u001B[49m\u001B[43mprefer\u001B[49m\u001B[38;5;241;43m=\u001B[39;49m\u001B[38;5;124;43m\"\u001B[39;49m\u001B[38;5;124;43mthreads\u001B[39;49m\u001B[38;5;124;43m\"\u001B[39;49m\u001B[43m)\u001B[49m\u001B[43m(\u001B[49m\n\u001B[1;32m    172\u001B[0m \u001B[43m    \u001B[49m\u001B[43mdelayed\u001B[49m\u001B[43m(\u001B[49m\u001B[43m_parallel_build_trees\u001B[49m\u001B[43m)\u001B[49m\u001B[43m(\u001B[49m\n\u001B[1;32m    173\u001B[0m \u001B[43m        \u001B[49m\u001B[43mt\u001B[49m\u001B[43m,\u001B[49m\n\u001B[1;32m    174\u001B[0m \u001B[43m        \u001B[49m\u001B[38;5;28;43mself\u001B[39;49m\u001B[38;5;241;43m.\u001B[39;49m\u001B[43mbootstrap\u001B[49m\u001B[43m,\u001B[49m\n\u001B[1;32m    175\u001B[0m \u001B[43m        \u001B[49m\u001B[43mX\u001B[49m\u001B[43m,\u001B[49m\n\u001B[1;32m    176\u001B[0m \u001B[43m        \u001B[49m\u001B[43my_tree\u001B[49m\u001B[43m,\u001B[49m\n\u001B[1;32m    177\u001B[0m \u001B[43m        \u001B[49m\u001B[43msample_weight\u001B[49m\u001B[43m,\u001B[49m\n\u001B[1;32m    178\u001B[0m \u001B[43m        \u001B[49m\u001B[43mi\u001B[49m\u001B[43m,\u001B[49m\n\u001B[1;32m    179\u001B[0m \u001B[43m        \u001B[49m\u001B[38;5;28;43mlen\u001B[39;49m\u001B[43m(\u001B[49m\u001B[43mtrees\u001B[49m\u001B[43m)\u001B[49m\u001B[43m,\u001B[49m\n\u001B[1;32m    180\u001B[0m \u001B[43m        \u001B[49m\u001B[43mverbose\u001B[49m\u001B[38;5;241;43m=\u001B[39;49m\u001B[38;5;28;43mself\u001B[39;49m\u001B[38;5;241;43m.\u001B[39;49m\u001B[43mverbose\u001B[49m\u001B[43m,\u001B[49m\n\u001B[1;32m    181\u001B[0m \u001B[43m        \u001B[49m\u001B[43mn_samples_bootstrap\u001B[49m\u001B[38;5;241;43m=\u001B[39;49m\u001B[43mn_samples_bootstrap\u001B[49m\u001B[43m,\u001B[49m\n\u001B[1;32m    182\u001B[0m \u001B[43m        \u001B[49m\u001B[43mmissing_values_in_feature_mask\u001B[49m\u001B[38;5;241;43m=\u001B[39;49m\u001B[43mmissing_values_in_feature_mask\u001B[49m\u001B[43m,\u001B[49m\n\u001B[1;32m    183\u001B[0m \u001B[43m    \u001B[49m\u001B[43m)\u001B[49m\n\u001B[1;32m    184\u001B[0m \u001B[43m    \u001B[49m\u001B[38;5;28;43;01mfor\u001B[39;49;00m\u001B[43m \u001B[49m\u001B[43mi\u001B[49m\u001B[43m,\u001B[49m\u001B[43m \u001B[49m\u001B[43mt\u001B[49m\u001B[43m \u001B[49m\u001B[38;5;129;43;01min\u001B[39;49;00m\u001B[43m \u001B[49m\u001B[38;5;28;43menumerate\u001B[39;49m\u001B[43m(\u001B[49m\u001B[43mtrees\u001B[49m\u001B[43m)\u001B[49m\n\u001B[1;32m    185\u001B[0m \u001B[43m\u001B[49m\u001B[43m)\u001B[49m\n\u001B[1;32m    187\u001B[0m \u001B[38;5;66;03m# Collect newly grown trees\u001B[39;00m\n\u001B[1;32m    188\u001B[0m \u001B[38;5;28mself\u001B[39m\u001B[38;5;241m.\u001B[39mestimators_\u001B[38;5;241m.\u001B[39mextend(trees)\n",
      "File \u001B[0;32m~/Library/Mobile Documents/com~apple~CloudDocs/Finanzen/Lev Strategy/StatisticalConsulting/.venv/lib/python3.11/site-packages/joblib/parallel.py:1918\u001B[0m, in \u001B[0;36mParallel.__call__\u001B[0;34m(self, iterable)\u001B[0m\n\u001B[1;32m   1916\u001B[0m     output \u001B[38;5;241m=\u001B[39m \u001B[38;5;28mself\u001B[39m\u001B[38;5;241m.\u001B[39m_get_sequential_output(iterable)\n\u001B[1;32m   1917\u001B[0m     \u001B[38;5;28mnext\u001B[39m(output)\n\u001B[0;32m-> 1918\u001B[0m     \u001B[38;5;28;01mreturn\u001B[39;00m output \u001B[38;5;28;01mif\u001B[39;00m \u001B[38;5;28mself\u001B[39m\u001B[38;5;241m.\u001B[39mreturn_generator \u001B[38;5;28;01melse\u001B[39;00m \u001B[38;5;28mlist\u001B[39m(output)\n\u001B[1;32m   1920\u001B[0m \u001B[38;5;66;03m# Let's create an ID that uniquely identifies the current call. If the\u001B[39;00m\n\u001B[1;32m   1921\u001B[0m \u001B[38;5;66;03m# call is interrupted early and that the same instance is immediately\u001B[39;00m\n\u001B[1;32m   1922\u001B[0m \u001B[38;5;66;03m# re-used, this id will be used to prevent workers that were\u001B[39;00m\n\u001B[1;32m   1923\u001B[0m \u001B[38;5;66;03m# concurrently finalizing a task from the previous call to run the\u001B[39;00m\n\u001B[1;32m   1924\u001B[0m \u001B[38;5;66;03m# callback.\u001B[39;00m\n\u001B[1;32m   1925\u001B[0m \u001B[38;5;28;01mwith\u001B[39;00m \u001B[38;5;28mself\u001B[39m\u001B[38;5;241m.\u001B[39m_lock:\n",
      "File \u001B[0;32m~/Library/Mobile Documents/com~apple~CloudDocs/Finanzen/Lev Strategy/StatisticalConsulting/.venv/lib/python3.11/site-packages/joblib/parallel.py:1847\u001B[0m, in \u001B[0;36mParallel._get_sequential_output\u001B[0;34m(self, iterable)\u001B[0m\n\u001B[1;32m   1845\u001B[0m \u001B[38;5;28mself\u001B[39m\u001B[38;5;241m.\u001B[39mn_dispatched_batches \u001B[38;5;241m+\u001B[39m\u001B[38;5;241m=\u001B[39m \u001B[38;5;241m1\u001B[39m\n\u001B[1;32m   1846\u001B[0m \u001B[38;5;28mself\u001B[39m\u001B[38;5;241m.\u001B[39mn_dispatched_tasks \u001B[38;5;241m+\u001B[39m\u001B[38;5;241m=\u001B[39m \u001B[38;5;241m1\u001B[39m\n\u001B[0;32m-> 1847\u001B[0m res \u001B[38;5;241m=\u001B[39m \u001B[43mfunc\u001B[49m\u001B[43m(\u001B[49m\u001B[38;5;241;43m*\u001B[39;49m\u001B[43margs\u001B[49m\u001B[43m,\u001B[49m\u001B[43m \u001B[49m\u001B[38;5;241;43m*\u001B[39;49m\u001B[38;5;241;43m*\u001B[39;49m\u001B[43mkwargs\u001B[49m\u001B[43m)\u001B[49m\n\u001B[1;32m   1848\u001B[0m \u001B[38;5;28mself\u001B[39m\u001B[38;5;241m.\u001B[39mn_completed_tasks \u001B[38;5;241m+\u001B[39m\u001B[38;5;241m=\u001B[39m \u001B[38;5;241m1\u001B[39m\n\u001B[1;32m   1849\u001B[0m \u001B[38;5;28mself\u001B[39m\u001B[38;5;241m.\u001B[39mprint_progress()\n",
      "File \u001B[0;32m~/Library/Mobile Documents/com~apple~CloudDocs/Finanzen/Lev Strategy/StatisticalConsulting/.venv/lib/python3.11/site-packages/sklearn/ensemble/_forest.py:192\u001B[0m, in \u001B[0;36m_parallel_build_trees\u001B[0;34m(tree, bootstrap, X, y, sample_weight, tree_idx, n_trees, verbose, class_weight, n_samples_bootstrap, missing_values_in_feature_mask)\u001B[0m\n\u001B[1;32m    189\u001B[0m     \u001B[38;5;28;01melif\u001B[39;00m class_weight \u001B[38;5;241m==\u001B[39m \u001B[38;5;124m\"\u001B[39m\u001B[38;5;124mbalanced_subsample\u001B[39m\u001B[38;5;124m\"\u001B[39m:\n\u001B[1;32m    190\u001B[0m         curr_sample_weight \u001B[38;5;241m*\u001B[39m\u001B[38;5;241m=\u001B[39m compute_sample_weight(\u001B[38;5;124m\"\u001B[39m\u001B[38;5;124mbalanced\u001B[39m\u001B[38;5;124m\"\u001B[39m, y, indices\u001B[38;5;241m=\u001B[39mindices)\n\u001B[0;32m--> 192\u001B[0m     \u001B[43mtree\u001B[49m\u001B[38;5;241;43m.\u001B[39;49m\u001B[43m_fit\u001B[49m\u001B[43m(\u001B[49m\n\u001B[1;32m    193\u001B[0m \u001B[43m        \u001B[49m\u001B[43mX\u001B[49m\u001B[43m,\u001B[49m\n\u001B[1;32m    194\u001B[0m \u001B[43m        \u001B[49m\u001B[43my\u001B[49m\u001B[43m,\u001B[49m\n\u001B[1;32m    195\u001B[0m \u001B[43m        \u001B[49m\u001B[43msample_weight\u001B[49m\u001B[38;5;241;43m=\u001B[39;49m\u001B[43mcurr_sample_weight\u001B[49m\u001B[43m,\u001B[49m\n\u001B[1;32m    196\u001B[0m \u001B[43m        \u001B[49m\u001B[43mcheck_input\u001B[49m\u001B[38;5;241;43m=\u001B[39;49m\u001B[38;5;28;43;01mFalse\u001B[39;49;00m\u001B[43m,\u001B[49m\n\u001B[1;32m    197\u001B[0m \u001B[43m        \u001B[49m\u001B[43mmissing_values_in_feature_mask\u001B[49m\u001B[38;5;241;43m=\u001B[39;49m\u001B[43mmissing_values_in_feature_mask\u001B[49m\u001B[43m,\u001B[49m\n\u001B[1;32m    198\u001B[0m \u001B[43m    \u001B[49m\u001B[43m)\u001B[49m\n\u001B[1;32m    199\u001B[0m \u001B[38;5;28;01melse\u001B[39;00m:\n\u001B[1;32m    200\u001B[0m     tree\u001B[38;5;241m.\u001B[39m_fit(\n\u001B[1;32m    201\u001B[0m         X,\n\u001B[1;32m    202\u001B[0m         y,\n\u001B[0;32m   (...)\u001B[0m\n\u001B[1;32m    205\u001B[0m         missing_values_in_feature_mask\u001B[38;5;241m=\u001B[39mmissing_values_in_feature_mask,\n\u001B[1;32m    206\u001B[0m     )\n",
      "File \u001B[0;32m~/Library/Mobile Documents/com~apple~CloudDocs/Finanzen/Lev Strategy/StatisticalConsulting/.venv/lib/python3.11/site-packages/sksurv/tree/tree.py:351\u001B[0m, in \u001B[0;36mSurvivalTree._fit\u001B[0;34m(self, X, y, sample_weight, check_input, missing_values_in_feature_mask)\u001B[0m\n\u001B[1;32m    340\u001B[0m \u001B[38;5;28;01melse\u001B[39;00m:\n\u001B[1;32m    341\u001B[0m     builder \u001B[38;5;241m=\u001B[39m BestFirstTreeBuilder(\n\u001B[1;32m    342\u001B[0m         splitter,\n\u001B[1;32m    343\u001B[0m         params[\u001B[38;5;124m\"\u001B[39m\u001B[38;5;124mmin_samples_split\u001B[39m\u001B[38;5;124m\"\u001B[39m],\n\u001B[0;32m   (...)\u001B[0m\n\u001B[1;32m    348\u001B[0m         \u001B[38;5;241m0.0\u001B[39m,  \u001B[38;5;66;03m# min_impurity_decrease\u001B[39;00m\n\u001B[1;32m    349\u001B[0m     )\n\u001B[0;32m--> 351\u001B[0m \u001B[43mbuilder\u001B[49m\u001B[38;5;241;43m.\u001B[39;49m\u001B[43mbuild\u001B[49m\u001B[43m(\u001B[49m\u001B[38;5;28;43mself\u001B[39;49m\u001B[38;5;241;43m.\u001B[39;49m\u001B[43mtree_\u001B[49m\u001B[43m,\u001B[49m\u001B[43m \u001B[49m\u001B[43mX\u001B[49m\u001B[43m,\u001B[49m\u001B[43m \u001B[49m\u001B[43my_numeric\u001B[49m\u001B[43m,\u001B[49m\u001B[43m \u001B[49m\u001B[43msample_weight\u001B[49m\u001B[43m,\u001B[49m\u001B[43m \u001B[49m\u001B[43mmissing_values_in_feature_mask\u001B[49m\u001B[43m)\u001B[49m\n\u001B[1;32m    353\u001B[0m \u001B[38;5;28;01mreturn\u001B[39;00m \u001B[38;5;28mself\u001B[39m\n",
      "\u001B[0;31mKeyboardInterrupt\u001B[0m: "
     ]
    }
   ],
   "execution_count": 10
  },
  {
   "metadata": {},
   "cell_type": "markdown",
   "source": "### Train Model\n",
   "id": "bbe795ef3ef25856"
  }
 ],
 "metadata": {
  "kernelspec": {
   "display_name": "Python 3",
   "language": "python",
   "name": "python3"
  },
  "language_info": {
   "codemirror_mode": {
    "name": "ipython",
    "version": 2
   },
   "file_extension": ".py",
   "mimetype": "text/x-python",
   "name": "python",
   "nbconvert_exporter": "python",
   "pygments_lexer": "ipython2",
   "version": "2.7.6"
  }
 },
 "nbformat": 4,
 "nbformat_minor": 5
}
