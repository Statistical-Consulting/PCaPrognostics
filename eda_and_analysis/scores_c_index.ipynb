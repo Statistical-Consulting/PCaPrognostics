{
 "cells": [
  {
   "metadata": {
    "ExecuteTime": {
     "end_time": "2025-02-13T20:17:40.466011Z",
     "start_time": "2025-02-13T20:17:36.372854Z"
    }
   },
   "cell_type": "code",
   "source": [
    "import pandas as pd\n",
    "import os\n",
    "import numpy as np\n",
    "from lifelines.utils import concordance_index\n",
    "# Setup paths\n",
    "\n",
    "\n"
   ],
   "id": "45151caa401ad63b",
   "outputs": [],
   "execution_count": 2
  },
  {
   "metadata": {},
   "cell_type": "markdown",
   "source": "### Merged Test Data",
   "id": "c322d82df0f42694"
  },
  {
   "metadata": {
    "ExecuteTime": {
     "end_time": "2025-02-13T20:17:50.255726Z",
     "start_time": "2025-02-13T20:17:50.213405Z"
    }
   },
   "cell_type": "code",
   "source": [
    "PROJECT_ROOT = os.path.dirname(os.path.dirname(os.getcwd()))\n",
    "PROJECT_ROOT\n",
    "\n",
    "# Define paths\n",
    "SCORES_DIR = os.path.join(PROJECT_ROOT, 'PCaPrognostics','data', 'scores')\n",
    "PDATA_DIR = os.path.join(PROJECT_ROOT, 'PCaPrognostics', 'data', 'merged_data', 'pData', 'imputed')\n",
    "\n",
    "# Load data\n",
    "scores = pd.read_csv(SCORES_DIR + '/test_scores.csv', index_col=0)\n",
    "pdata = pd.read_csv(PDATA_DIR + '/test_pData_imputed.csv', index_col=0)\n",
    "\n",
    "# Match indices\n",
    "pdata.index = scores.index\n",
    "\n",
    "# Extract survival data\n",
    "times = pdata['MONTH_TO_BCR'].values\n",
    "events = pdata['BCR_STATUS'].astype(bool).values\n",
    "risk_scores = scores.values.flatten()\n",
    "\n",
    "# Calculate C-index\n",
    "cindex = concordance_index(times, -risk_scores, events)\n",
    "\n",
    "print(f\"C-Index: {cindex:.3f}\")"
   ],
   "id": "d42a4edf380af509",
   "outputs": [
    {
     "name": "stdout",
     "output_type": "stream",
     "text": [
      "C-Index der Scores: 0.777\n"
     ]
    }
   ],
   "execution_count": 3
  },
  {
   "metadata": {},
   "cell_type": "markdown",
   "source": "### Test Cohort 1",
   "id": "38ac5553bc807b15"
  },
  {
   "metadata": {
    "ExecuteTime": {
     "end_time": "2025-02-13T20:17:52.874949Z",
     "start_time": "2025-02-13T20:17:52.853806Z"
    }
   },
   "cell_type": "code",
   "source": [
    "PROJECT_ROOT = os.path.dirname(os.path.dirname(os.getcwd()))\n",
    "PROJECT_ROOT\n",
    "\n",
    "# Define paths\n",
    "SCORES_DIR = os.path.join(PROJECT_ROOT, 'PCaPrognostics','data', 'scores')\n",
    "PDATA_DIR = os.path.join(PROJECT_ROOT, 'PCaPrognostics', 'data', 'cohort_data', 'pData', 'imputed')\n",
    "\n",
    "# Load data\n",
    "scores = pd.read_csv(SCORES_DIR + '/test_scores_cohort1.csv', index_col=0)\n",
    "pdata = pd.read_csv(PDATA_DIR + '/test_pData_cohort1_imputed.csv', index_col=0)\n",
    "\n",
    "# Match indices\n",
    "pdata.index = scores.index\n",
    "\n",
    "# Extract survival data\n",
    "times = pdata['MONTH_TO_BCR'].values\n",
    "events = pdata['BCR_STATUS'].astype(bool).values\n",
    "risk_scores = scores.values.flatten()\n",
    "\n",
    "# Calculate C-index\n",
    "cindex = concordance_index(times, -risk_scores, events)\n",
    "\n",
    "print(f\"C-Index: {cindex:.3f}\")"
   ],
   "id": "42633e65c4d7a83d",
   "outputs": [
    {
     "name": "stdout",
     "output_type": "stream",
     "text": [
      "C-Index der Scores: 0.754\n"
     ]
    }
   ],
   "execution_count": 4
  },
  {
   "metadata": {},
   "cell_type": "markdown",
   "source": "### Test Cohort 2",
   "id": "a12e7f1512c77e6a"
  },
  {
   "metadata": {
    "ExecuteTime": {
     "end_time": "2025-02-13T20:17:56.035585Z",
     "start_time": "2025-02-13T20:17:56.019091Z"
    }
   },
   "cell_type": "code",
   "source": [
    "PROJECT_ROOT = os.path.dirname(os.path.dirname(os.getcwd()))\n",
    "PROJECT_ROOT\n",
    "\n",
    "# Define paths\n",
    "SCORES_DIR = os.path.join(PROJECT_ROOT, 'PCaPrognostics','data', 'scores')\n",
    "PDATA_DIR = os.path.join(PROJECT_ROOT, 'PCaPrognostics', 'data', 'cohort_data', 'pData', 'imputed')\n",
    "\n",
    "# Load data\n",
    "scores = pd.read_csv(SCORES_DIR + '/test_scores_cohort2.csv', index_col=0)\n",
    "pdata = pd.read_csv(PDATA_DIR + '/test_pData_cohort2_imputed.csv', index_col=0)\n",
    "\n",
    "# Match indices\n",
    "pdata.index = scores.index\n",
    "\n",
    "# Extract survival data\n",
    "times = pdata['MONTH_TO_BCR'].values\n",
    "events = pdata['BCR_STATUS'].astype(bool).values\n",
    "risk_scores = scores.values.flatten()\n",
    "\n",
    "# Calculate C-index\n",
    "cindex = concordance_index(times, -risk_scores, events)\n",
    "\n",
    "print(f\"C-Index: {cindex:.3f}\")"
   ],
   "id": "9680e270e4dfda44",
   "outputs": [
    {
     "name": "stdout",
     "output_type": "stream",
     "text": [
      "C-Index der Scores: 0.870\n"
     ]
    }
   ],
   "execution_count": 5
  },
  {
   "metadata": {},
   "cell_type": "markdown",
   "source": "### All Train Cohorts",
   "id": "ac6aed113b33ad8b"
  },
  {
   "metadata": {
    "ExecuteTime": {
     "end_time": "2025-02-13T20:29:44.327018Z",
     "start_time": "2025-02-13T20:29:44.293231Z"
    }
   },
   "cell_type": "code",
   "source": [
    "# Import required libraries\n",
    "import pandas as pd\n",
    "import numpy as np\n",
    "from lifelines.utils import concordance_index\n",
    "import os\n",
    "\n",
    "# Initialize results storage\n",
    "results = []\n",
    "\n",
    "# Define the directories\n",
    "scores_dir = os.path.join(PROJECT_ROOT, 'PCaPrognostics', 'data', 'scores', 'cohort_specific')\n",
    "pdata_dir = os.path.join(PROJECT_ROOT, 'PCaPrognostics', 'data', 'cohort_data', 'pData', 'imputed')\n",
    "\n",
    "# Loop through each pdata file\n",
    "for pdata_filename in os.listdir(pdata_dir):\n",
    "    if pdata_filename.endswith('.csv'):\n",
    "        # Get cohort name and construct score filename\n",
    "        cohort_name = pdata_filename.replace('.csv', '')\n",
    "        score_filename = cohort_name + '_scores.csv'\n",
    "        score_path = os.path.join(scores_dir, score_filename)\n",
    "\n",
    "\n",
    "        # Read both files\n",
    "        pdata = pd.read_csv(os.path.join(pdata_dir, pdata_filename))\n",
    "        scores_df = pd.read_csv(score_path)\n",
    "\n",
    "\n",
    "        # Extract survival data\n",
    "        times = pdata['MONTH_TO_BCR'].values\n",
    "        events = pdata['BCR_STATUS'].astype(bool).values\n",
    "        risk_scores = scores_df['risk_score'].values\n",
    "\n",
    "        # Calculate c-index\n",
    "        c_index = concordance_index(times, -risk_scores, events)\n",
    "\n",
    "        # Store results\n",
    "        results.append({\n",
    "            'cohort': cohort_name,\n",
    "            'c_index': c_index,\n",
    "            'n_patients': len(pdata)\n",
    "        })\n",
    "\n",
    "\n",
    "\n",
    "# Convert results to DataFrame\n",
    "results_df = pd.DataFrame(results)\n",
    "\n",
    "# Display results\n",
    "print(results_df)\n",
    "\n",
    "# Save results\n",
    "save_dir = os.path.join(PROJECT_ROOT, 'PCaPrognostics', 'results_modelling_splits')\n",
    "file_path = os.path.join(save_dir, 'splits_score_cindices.csv')\n",
    "#results_df.to_csv(results_df.to_csv(file_path, index=False), index=False)\n"
   ],
   "id": "9f253d9ec89d4919",
   "outputs": [
    {
     "name": "stdout",
     "output_type": "stream",
     "text": [
      "                        cohort   c_index  n_patients\n",
      "0            Belfast_2018_Jain  0.687273         248\n",
      "1         CPC_GENE_2017_Fraser  0.698545          73\n",
      "2          DKFZ_2018_Gerhauser  0.782862          82\n",
      "3          CancerMap_2017_Luca  0.688883         133\n",
      "4            MSKCC_2010_Taylor  0.695264         131\n",
      "5   test_pData_cohort2_imputed  0.869605         164\n",
      "6            Atlanta_2014_Long  0.650289         100\n",
      "7       CamCap_2016_Ross_Adams  0.749662         112\n",
      "8    Stockholm_2016_Ross_Adams  0.683429          92\n",
      "9   test_pData_cohort1_imputed  0.754160         332\n",
      "10               CPGEA_2020_Li  0.675168         120\n"
     ]
    }
   ],
   "execution_count": 16
  }
 ],
 "metadata": {
  "kernelspec": {
   "name": "python3",
   "language": "python",
   "display_name": "Python 3 (ipykernel)"
  }
 },
 "nbformat": 5,
 "nbformat_minor": 9
}
