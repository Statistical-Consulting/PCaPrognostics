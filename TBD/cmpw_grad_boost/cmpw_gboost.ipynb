{
 "cells": [
  {
   "cell_type": "code",
   "execution_count": 3,
   "metadata": {},
   "outputs": [],
   "source": [
    "import os\n",
    "import sys\n",
    "import pandas as pd\n",
    "import numpy as np\n",
    "from pathlib import Path\n",
    "import logging\n",
    "\n",
    "# Setup paths\n",
    "PROJECT_ROOT = os.path.dirname(os.path.dirname(os.getcwd()))\n",
    "if PROJECT_ROOT not in sys.path:\n",
    "    sys.path.append(PROJECT_ROOT)\n",
    "\n",
    "# Setup directories\n",
    "MODEL_DIR = os.path.join(os.getcwd(), 'model')\n",
    "RESULTS_DIR = os.path.join(os.getcwd(), 'results')\n",
    "os.makedirs(MODEL_DIR, exist_ok=True)\n",
    "os.makedirs(RESULTS_DIR, exist_ok=True)\n",
    "\n",
    "# Imports\n",
    "from preprocessing.data_container import DataContainer\n",
    "from utils.evaluation import cindex_score\n",
    "from models.modelling_process import ModellingProcess\n",
    "from sksurv.ensemble import ComponentwiseGradientBoostingSurvivalAnalysis\n",
    "from utils.evaluation import EarlyStoppingMonitor\n",
    "\n",
    "# Setup logging\n",
    "logging.basicConfig(\n",
    "    level=logging.INFO,\n",
    "    format='%(asctime)s - %(levelname)s - %(message)s'\n",
    ")\n",
    "logger = logging.getLogger(__name__)"
   ]
  },
  {
   "cell_type": "code",
   "execution_count": 8,
   "metadata": {},
   "outputs": [],
   "source": [
    "# set early stopping monitor \n",
    "\n",
    "# Data configuration\n",
    "DATA_CONFIG = {\n",
    "    'use_pca': False,\n",
    "    'pca_threshold': 0.95,\n",
    "    'gene_type': 'intersection',\n",
    "    'use_imputed': True,\n",
    "    'use_cohorts': False\n",
    "}\n",
    "\n",
    "# Model configuration\n",
    "MODEL_CONFIG = {\n",
    "    'params_cv': {\n",
    "        'model__n_estimators': [100, 250, 500],\n",
    "        'model__learning_rate': [1, 0.1, 0.01],\n",
    "        'model__subsample': [0.9], \n",
    "        'model__dropout_rate' : [0.0, 0.2, 0.5]\n",
    "    },\n",
    "    'refit': True, \n",
    "    'do_nested_resampling': True,\n",
    "    'path' : RESULTS_DIR, \n",
    "    'fname_cv' : 'results'}\n",
    "\n",
    "cgb_pipeline_steps = [('model', ComponentwiseGradientBoostingSurvivalAnalysis())]\n"
   ]
  },
  {
   "cell_type": "code",
   "execution_count": 5,
   "metadata": {},
   "outputs": [],
   "source": [
    "mp = ModellingProcess()"
   ]
  },
  {
   "cell_type": "code",
   "execution_count": 6,
   "metadata": {},
   "outputs": [
    {
     "name": "stderr",
     "output_type": "stream",
     "text": [
      "2024-11-23 10:40:11,606 - INFO - Loading data...\n",
      "2024-11-23 10:42:43,778 - INFO - Loaded data: 1091 samples, 13214 features\n"
     ]
    }
   ],
   "source": [
    "mp.prepare_data(DATA_CONFIG, PROJECT_ROOT)"
   ]
  },
  {
   "cell_type": "code",
   "execution_count": 9,
   "metadata": {},
   "outputs": [
    {
     "name": "stderr",
     "output_type": "stream",
     "text": [
      "2024-11-23 10:49:25,767 - INFO - No additional monitoring detected\n",
      "2024-11-23 10:49:25,767 - INFO - Start model training...\n",
      "2024-11-23 10:49:25,767 - INFO - Input data shape: X=(1091, 13214)\n",
      "2024-11-23 10:49:25,767 - INFO - Nested resampling...\n",
      "2024-11-23 10:49:25,767 - INFO - Starting nested resampling...\n",
      "2024-11-23 10:49:25,767 - INFO - Data shape: X=(1091, 13214), groups=9 unique\n",
      "2024-11-23 10:49:25,767 - INFO - \n",
      "Outer fold 1\n",
      "2024-11-23 10:49:25,811 - INFO - Test cohort: Atlanta_2014_Long\n"
     ]
    },
    {
     "name": "stdout",
     "output_type": "stream",
     "text": [
      "Fitting 8 folds for each of 27 candidates, totalling 216 fits\n"
     ]
    },
    {
     "ename": "",
     "evalue": "",
     "output_type": "error",
     "traceback": [
      "\u001b[1;31mThe Kernel crashed while executing code in the current cell or a previous cell. \n",
      "\u001b[1;31mPlease review the code in the cell(s) to identify a possible cause of the failure. \n",
      "\u001b[1;31mClick <a href='https://aka.ms/vscodeJupyterKernelCrash'>here</a> for more info. \n",
      "\u001b[1;31mView Jupyter <a href='command:jupyter.viewOutput'>log</a> for further details."
     ]
    }
   ],
   "source": [
    "nstd_res_result = mp.do_modelling(cgb_pipeline_steps, MODEL_CONFIG)"
   ]
  }
 ],
 "metadata": {
  "kernelspec": {
   "display_name": ".venv",
   "language": "python",
   "name": "python3"
  },
  "language_info": {
   "codemirror_mode": {
    "name": "ipython",
    "version": 3
   },
   "file_extension": ".py",
   "mimetype": "text/x-python",
   "name": "python",
   "nbconvert_exporter": "python",
   "pygments_lexer": "ipython3",
   "version": "3.12.0"
  }
 },
 "nbformat": 4,
 "nbformat_minor": 2
}
