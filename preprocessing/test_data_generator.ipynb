{
 "cells": [
  {
   "cell_type": "code",
   "id": "initial_id",
   "metadata": {
    "collapsed": true,
    "ExecuteTime": {
     "end_time": "2024-11-10T05:37:24.301675Z",
     "start_time": "2024-11-10T05:37:24.291586Z"
    }
   },
   "source": [
    "# test_data_generator.ipynb\n",
    "\n",
    "import pandas as pd\n",
    "import numpy as np\n",
    "import os\n",
    "from pathlib import Path\n",
    "\n",
    "# Get project root\n",
    "current_dir = Path(os.getcwd())\n",
    "project_root = current_dir.parent  # Gehe einen Ordner hoch\n",
    "\n",
    "# Setup absolute paths\n",
    "DATA_DIR = os.path.join(project_root, \"data\")\n",
    "COHORT_DATA_DIR = os.path.join(DATA_DIR, \"cohort_data\")\n",
    "MERGED_DATA_DIR = os.path.join(DATA_DIR, \"merged_data\")\n",
    "\n",
    "# Create directories\n",
    "for dir_path in [\n",
    "    os.path.join(COHORT_DATA_DIR, \"exprs\"),\n",
    "    os.path.join(COHORT_DATA_DIR, \"pData\", \"original\"),\n",
    "    os.path.join(COHORT_DATA_DIR, \"pData\", \"imputed\"),\n",
    "    os.path.join(MERGED_DATA_DIR, \"exprs\", \"common_genes\"),\n",
    "    os.path.join(MERGED_DATA_DIR, \"pData\", \"imputed\"),\n",
    "]:\n",
    "    os.makedirs(dir_path, exist_ok=True)\n",
    "\n",
    "# Generate consistent data\n",
    "np.random.seed(42)\n",
    "\n",
    "# Define cohorts and sizes\n",
    "cohorts = {\n",
    "    'Belfast_2018_Jain': 248,\n",
    "    'CPC_GENE_2017_Fraser': 73,\n",
    "    'DKFZ_2018_Gerhauser': 82,\n",
    "    'CancerMap_2017_Luca': 133,\n",
    "    'MSKCC_2010_Taylor': 131,\n",
    "    'Atlanta_2014_Long': 100,\n",
    "    'CamCap_2016_Ross_Adams': 112,\n",
    "    'Stockholm_2016_Ross_Adams': 92,\n",
    "    'CPGEA_2020_Li': 120\n",
    "}\n",
    "\n"
   ],
   "outputs": [],
   "execution_count": 5
  },
  {
   "metadata": {
    "ExecuteTime": {
     "end_time": "2024-11-10T05:37:27.309028Z",
     "start_time": "2024-11-10T05:37:27.301444Z"
    }
   },
   "cell_type": "code",
   "source": [
    "# Generate 100 gene names\n",
    "genes = [f'ENSG{str(i).zfill(11)}' for i in range(100)]\n",
    "\n",
    "def generate_expression_data(n_samples, n_genes=100):\n",
    "    \"\"\"Generate random expression data\"\"\"\n",
    "    return pd.DataFrame(\n",
    "        np.random.normal(0, 1, (n_samples, n_genes)),\n",
    "        columns=genes\n",
    "    )\n",
    "\n",
    "def generate_clinical_data(n_samples):\n",
    "    \"\"\"Generate random clinical data\"\"\"\n",
    "    return pd.DataFrame({\n",
    "        'AGE': np.random.uniform(45, 80, n_samples),\n",
    "        'CLIN_T_STAGE': np.random.choice(['T1', 'T1C', 'T2', 'T2A', 'T2B', 'T3'], n_samples),\n",
    "        'PATH_T_STAGE': np.random.choice(['T2', 'T2A', 'T2B', 'T3', 'T3A', 'T3B'], n_samples),\n",
    "        'GLEASON_SCORE': np.random.choice([6, 7, 8, 9], n_samples),\n",
    "        'GLEASON_SCORE_1': np.random.choice([3, 4, 5], n_samples),\n",
    "        'GLEASON_SCORE_2': np.random.choice([3, 4, 5], n_samples),\n",
    "        'PRE_OPERATIVE_PSA': np.random.uniform(0, 100, n_samples),\n",
    "        'MONTH_TO_BCR': np.random.uniform(0, 120, n_samples),\n",
    "        'BCR_STATUS': np.random.choice([0, 1], n_samples),\n",
    "        'MONTH_TO_CEP': np.random.uniform(0, 120, n_samples),\n",
    "        'CEP_STATUS': np.random.choice([0, 1], n_samples),\n",
    "    })\n",
    "\n"
   ],
   "id": "4a39988e7ebb05e3",
   "outputs": [],
   "execution_count": 6
  },
  {
   "metadata": {
    "ExecuteTime": {
     "end_time": "2024-11-10T05:37:29.532266Z",
     "start_time": "2024-11-10T05:37:29.343821Z"
    }
   },
   "cell_type": "code",
   "source": [
    "# Generate and save cohort data\n",
    "all_exprs = []\n",
    "all_pdata = []\n",
    "\n",
    "for cohort, n_samples in cohorts.items():\n",
    "    # Generate expression data\n",
    "    exprs = generate_expression_data(n_samples)\n",
    "    exprs.index = [f\"S{str(i).zfill(4)}\" for i in range(n_samples)]\n",
    "    exprs.to_csv(os.path.join(COHORT_DATA_DIR, \"exprs\", f\"{cohort}.csv\"))\n",
    "    \n",
    "    # Generate clinical data\n",
    "    pdata = generate_clinical_data(n_samples)\n",
    "    pdata.index = exprs.index\n",
    "    \n",
    "    # Save original and imputed (same for test data)\n",
    "    pdata.to_csv(os.path.join(COHORT_DATA_DIR, \"pData\", \"original\", f\"{cohort}.csv\"))\n",
    "    pdata.to_csv(os.path.join(COHORT_DATA_DIR, \"pData\", \"imputed\", f\"{cohort}.csv\"))\n",
    "    \n",
    "    # Store for merged data\n",
    "    exprs.index = [f\"{cohort}.{idx}\" for idx in exprs.index]\n",
    "    pdata.index = exprs.index\n",
    "    all_exprs.append(exprs)\n",
    "    all_pdata.append(pdata)\n",
    "\n"
   ],
   "id": "1ef5649b3727bac",
   "outputs": [],
   "execution_count": 7
  },
  {
   "metadata": {
    "ExecuteTime": {
     "end_time": "2024-11-10T05:37:31.459262Z",
     "start_time": "2024-11-10T05:37:31.087435Z"
    }
   },
   "cell_type": "code",
   "source": [
    "# Create merged data\n",
    "merged_exprs = pd.concat(all_exprs)\n",
    "merged_pdata = pd.concat(all_pdata)\n",
    "\n",
    "# Add TISSUE column to merged pdata\n",
    "merged_pdata['TISSUE'] = ['FFPE' if 'Atlanta' in idx else 'Fresh_frozen' for idx in merged_pdata.index]\n",
    "\n",
    "# Save merged data\n",
    "merged_exprs.to_csv(os.path.join(MERGED_DATA_DIR, \"exprs\", \"common_genes\", \"common_genes_knn_imputed.csv\"))\n",
    "merged_pdata.to_csv(os.path.join(MERGED_DATA_DIR, \"pData\", \"imputed\", \"merged_imputed_pData.csv\"))\n",
    "\n",
    "print(\"Generated test data files with 100 genes:\")\n",
    "print(\"\\nCohort-wise files:\")\n",
    "for cohort in cohorts:\n",
    "    print(f\"- {cohort}.csv (exprs and pData)\")\n",
    "print(\"\\nMerged files:\")\n",
    "print(\"- common_genes_knn_imputed.csv\")\n",
    "print(\"- merged_imputed_pData.csv\")"
   ],
   "id": "4266025669434399",
   "outputs": [
    {
     "name": "stdout",
     "output_type": "stream",
     "text": [
      "Generated test data files with 100 genes:\n",
      "\n",
      "Cohort-wise files:\n",
      "- Belfast_2018_Jain.csv (exprs and pData)\n",
      "- CPC_GENE_2017_Fraser.csv (exprs and pData)\n",
      "- DKFZ_2018_Gerhauser.csv (exprs and pData)\n",
      "- CancerMap_2017_Luca.csv (exprs and pData)\n",
      "- MSKCC_2010_Taylor.csv (exprs and pData)\n",
      "- Atlanta_2014_Long.csv (exprs and pData)\n",
      "- CamCap_2016_Ross_Adams.csv (exprs and pData)\n",
      "- Stockholm_2016_Ross_Adams.csv (exprs and pData)\n",
      "- CPGEA_2020_Li.csv (exprs and pData)\n",
      "\n",
      "Merged files:\n",
      "- common_genes_knn_imputed.csv\n",
      "- merged_imputed_pData.csv\n"
     ]
    }
   ],
   "execution_count": 8
  }
 ],
 "metadata": {
  "kernelspec": {
   "display_name": "Python 3",
   "language": "python",
   "name": "python3"
  },
  "language_info": {
   "codemirror_mode": {
    "name": "ipython",
    "version": 2
   },
   "file_extension": ".py",
   "mimetype": "text/x-python",
   "name": "python",
   "nbconvert_exporter": "python",
   "pygments_lexer": "ipython2",
   "version": "2.7.6"
  }
 },
 "nbformat": 4,
 "nbformat_minor": 5
}
